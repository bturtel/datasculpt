{
 "cells": [
  {
   "cell_type": "markdown",
   "metadata": {},
   "source": [
    "### TODO\n",
    "\n",
    "Core Features\n",
    "- Handle missing values in structured outputs\n",
    "- Test other APIs - use env variables in yaml\n",
    "- Consider shipping JUST the sculptors as a library\n",
    "- Why is it making up fields when I use Deepinfra?\n",
    "\n",
    "Helper Improvements - maybe ship separately\n",
    "- Test helpers for datasources\n",
    "- String together steps\n",
    "- Clean up visualizer\n",
    "- Delete extra files"
   ]
  },
  {
   "cell_type": "code",
   "execution_count": 3,
   "metadata": {},
   "outputs": [
    {
     "name": "stdout",
     "output_type": "stream",
     "text": [
      "The autoreload extension is already loaded. To reload it, use:\n",
      "  %reload_ext autoreload\n"
     ]
    }
   ],
   "source": [
    "%load_ext autoreload\n",
    "%autoreload 2\n",
    "\n",
    "import os\n",
    "import toml\n",
    "\n",
    "secrets = toml.load(\"secrets.toml\")\n",
    "os.environ[\"OPENAI_API_KEY\"] = secrets[\"openai\"][\"api_key\"]\n",
    "os.environ[\"DEEPINFRA_API_KEY\"] = secrets[\"deepinfra\"][\"api_key\"]\n"
   ]
  },
  {
   "cell_type": "code",
   "execution_count": null,
   "metadata": {},
   "outputs": [],
   "source": [
    "from sculptor import Sculptor\n",
    "from sculptor import SculptorPipeline\n",
    "pipeline = SculptorPipeline.from_config('pipeline_config.yaml')\n",
    "results = pipeline.process(your_data)"
   ]
  },
  {
   "cell_type": "code",
   "execution_count": 2,
   "metadata": {},
   "outputs": [
    {
     "name": "stdout",
     "output_type": "stream",
     "text": [
      "\n",
      "Step 1/2\n"
     ]
    },
    {
     "name": "stderr",
     "output_type": "stream",
     "text": [
      "Processing items: 100%|██████████| 11/11 [00:03<00:00,  3.66it/s]\n"
     ]
    },
    {
     "name": "stdout",
     "output_type": "stream",
     "text": [
      "\n",
      "Step 2/2\n"
     ]
    },
    {
     "name": "stderr",
     "output_type": "stream",
     "text": [
      "Processing items: 100%|██████████| 8/8 [00:02<00:00,  3.25it/s]\n"
     ]
    },
    {
     "data": {
      "text/html": [
       "<div>\n",
       "<style scoped>\n",
       "    .dataframe tbody tr th:only-of-type {\n",
       "        vertical-align: middle;\n",
       "    }\n",
       "\n",
       "    .dataframe tbody tr th {\n",
       "        vertical-align: top;\n",
       "    }\n",
       "\n",
       "    .dataframe thead th {\n",
       "        text-align: right;\n",
       "    }\n",
       "</style>\n",
       "<table border=\"1\" class=\"dataframe\">\n",
       "  <thead>\n",
       "    <tr style=\"text-align: right;\">\n",
       "      <th></th>\n",
       "      <th>text</th>\n",
       "      <th>is_valid_sample</th>\n",
       "      <th>explanation</th>\n",
       "      <th>name</th>\n",
       "      <th>age</th>\n",
       "      <th>city</th>\n",
       "      <th>occupation</th>\n",
       "      <th>interests</th>\n",
       "      <th>is_married</th>\n",
       "      <th>num_children</th>\n",
       "      <th>net_worth</th>\n",
       "      <th>first_letter</th>\n",
       "    </tr>\n",
       "  </thead>\n",
       "  <tbody>\n",
       "    <tr>\n",
       "      <th>0</th>\n",
       "      <td>Alice is 30 years old, lives in New York, and ...</td>\n",
       "      <td>True</td>\n",
       "      <td>The text contains demographic information such...</td>\n",
       "      <td>Alice</td>\n",
       "      <td>30</td>\n",
       "      <td>New York</td>\n",
       "      <td>software engineer</td>\n",
       "      <td>[hiking, reading]</td>\n",
       "      <td>False</td>\n",
       "      <td>1</td>\n",
       "      <td>1200000</td>\n",
       "      <td>A</td>\n",
       "    </tr>\n",
       "    <tr>\n",
       "      <th>1</th>\n",
       "      <td>Bob, 25, is a teacher in London. He's an avid ...</td>\n",
       "      <td>True</td>\n",
       "      <td>The text contains demographic information such...</td>\n",
       "      <td>Bob</td>\n",
       "      <td>25</td>\n",
       "      <td>London</td>\n",
       "      <td>teacher</td>\n",
       "      <td>[cycling]</td>\n",
       "      <td>True</td>\n",
       "      <td>2</td>\n",
       "      <td>500000</td>\n",
       "      <td>B</td>\n",
       "    </tr>\n",
       "    <tr>\n",
       "      <th>2</th>\n",
       "      <td>Charlie is a 40-year-old data scientist from C...</td>\n",
       "      <td>True</td>\n",
       "      <td>The text contains demographic information such...</td>\n",
       "      <td>Charlie</td>\n",
       "      <td>40</td>\n",
       "      <td>Chicago</td>\n",
       "      <td>data scientist</td>\n",
       "      <td>[skiing, cooking, photography]</td>\n",
       "      <td>True</td>\n",
       "      <td>1</td>\n",
       "      <td>800000</td>\n",
       "      <td>C</td>\n",
       "    </tr>\n",
       "    <tr>\n",
       "      <th>3</th>\n",
       "      <td>David, a 35-year-old architect, resides in San...</td>\n",
       "      <td>True</td>\n",
       "      <td>The text contains demographic information such...</td>\n",
       "      <td>David</td>\n",
       "      <td>35</td>\n",
       "      <td>San Francisco</td>\n",
       "      <td>architect</td>\n",
       "      <td>[rock climbing]</td>\n",
       "      <td>False</td>\n",
       "      <td>0</td>\n",
       "      <td>1500000</td>\n",
       "      <td>D</td>\n",
       "    </tr>\n",
       "    <tr>\n",
       "      <th>4</th>\n",
       "      <td>Emily is a 28-year-old nurse in Seattle. She l...</td>\n",
       "      <td>True</td>\n",
       "      <td>The text contains demographic information such...</td>\n",
       "      <td>Emily</td>\n",
       "      <td>28</td>\n",
       "      <td>Seattle</td>\n",
       "      <td>nurse</td>\n",
       "      <td>[traveling, trying new foods]</td>\n",
       "      <td>False</td>\n",
       "      <td>0</td>\n",
       "      <td>400000</td>\n",
       "      <td>E</td>\n",
       "    </tr>\n",
       "    <tr>\n",
       "      <th>5</th>\n",
       "      <td>Frank is a 50-year-old lawyer living in Boston...</td>\n",
       "      <td>True</td>\n",
       "      <td>The text contains demographic information such...</td>\n",
       "      <td>Frank</td>\n",
       "      <td>50</td>\n",
       "      <td>Boston</td>\n",
       "      <td>lawyer</td>\n",
       "      <td>[golfing, fishing]</td>\n",
       "      <td>True</td>\n",
       "      <td>3</td>\n",
       "      <td>3200000</td>\n",
       "      <td>F</td>\n",
       "    </tr>\n",
       "    <tr>\n",
       "      <th>6</th>\n",
       "      <td>Grace, a 22-year-old student in Austin, is pas...</td>\n",
       "      <td>True</td>\n",
       "      <td>The text contains demographic information such...</td>\n",
       "      <td>Grace</td>\n",
       "      <td>22</td>\n",
       "      <td>Austin</td>\n",
       "      <td>student</td>\n",
       "      <td>[music, volunteering]</td>\n",
       "      <td>False</td>\n",
       "      <td>0</td>\n",
       "      <td>0</td>\n",
       "      <td>G</td>\n",
       "    </tr>\n",
       "    <tr>\n",
       "      <th>7</th>\n",
       "      <td>Katrina, a 28-year-old art expert in NYC.</td>\n",
       "      <td>True</td>\n",
       "      <td>The text contains demographic information such...</td>\n",
       "      <td>Katrina</td>\n",
       "      <td>28</td>\n",
       "      <td>NYC</td>\n",
       "      <td>art expert</td>\n",
       "      <td>[]</td>\n",
       "      <td>False</td>\n",
       "      <td>0</td>\n",
       "      <td>0</td>\n",
       "      <td>K</td>\n",
       "    </tr>\n",
       "  </tbody>\n",
       "</table>\n",
       "</div>"
      ],
      "text/plain": [
       "                                                text  is_valid_sample  \\\n",
       "0  Alice is 30 years old, lives in New York, and ...             True   \n",
       "1  Bob, 25, is a teacher in London. He's an avid ...             True   \n",
       "2  Charlie is a 40-year-old data scientist from C...             True   \n",
       "3  David, a 35-year-old architect, resides in San...             True   \n",
       "4  Emily is a 28-year-old nurse in Seattle. She l...             True   \n",
       "5  Frank is a 50-year-old lawyer living in Boston...             True   \n",
       "6  Grace, a 22-year-old student in Austin, is pas...             True   \n",
       "7          Katrina, a 28-year-old art expert in NYC.             True   \n",
       "\n",
       "                                         explanation     name  age  \\\n",
       "0  The text contains demographic information such...    Alice   30   \n",
       "1  The text contains demographic information such...      Bob   25   \n",
       "2  The text contains demographic information such...  Charlie   40   \n",
       "3  The text contains demographic information such...    David   35   \n",
       "4  The text contains demographic information such...    Emily   28   \n",
       "5  The text contains demographic information such...    Frank   50   \n",
       "6  The text contains demographic information such...    Grace   22   \n",
       "7  The text contains demographic information such...  Katrina   28   \n",
       "\n",
       "            city         occupation                       interests  \\\n",
       "0       New York  software engineer               [hiking, reading]   \n",
       "1         London            teacher                       [cycling]   \n",
       "2        Chicago     data scientist  [skiing, cooking, photography]   \n",
       "3  San Francisco          architect                 [rock climbing]   \n",
       "4        Seattle              nurse   [traveling, trying new foods]   \n",
       "5         Boston             lawyer              [golfing, fishing]   \n",
       "6         Austin            student           [music, volunteering]   \n",
       "7            NYC         art expert                              []   \n",
       "\n",
       "   is_married  num_children  net_worth first_letter  \n",
       "0       False             1    1200000            A  \n",
       "1        True             2     500000            B  \n",
       "2        True             1     800000            C  \n",
       "3       False             0    1500000            D  \n",
       "4       False             0     400000            E  \n",
       "5        True             3    3200000            F  \n",
       "6       False             0          0            G  \n",
       "7       False             0          0            K  "
      ]
     },
     "execution_count": 2,
     "metadata": {},
     "output_type": "execute_result"
    }
   ],
   "source": [
    "import pandas as pd\n",
    "from sculptor import Sculptor\n",
    "from sculptor import SculptorPipeline\n",
    "from helpers.data_sources import CSVDataSource\n",
    "\n",
    "# 1. Create our sculptors\n",
    "relevance_sculptor = Sculptor(\n",
    "    schema={\n",
    "        \"is_valid_sample\": {\"type\": bool, \"description\": \"True only if this text contains demographic information.\"},\n",
    "        \"explanation\": {\"type\": str, \"description\": \"Explain why this sample is or is not valid.\"}\n",
    "    },\n",
    "    instructions=\"Determine if the following text contains demographic information about a person.\",\n",
    "    template=\"Text: {text}\"\n",
    ")\n",
    "\n",
    "demo_sculptor = Sculptor.from_config(\"sample_data/demosculpt.yaml\")\n",
    "demo_sculptor.add(\"first_letter\", str, \"First letter of the persons first name\")\n",
    "\n",
    "# 2. Create and configure the pipeline\n",
    "pipeline = (SculptorPipeline()\n",
    "    .add(relevance_sculptor, lambda x: x['is_valid_sample'])  # Filter on is_valid_sample\n",
    "    .add(demo_sculptor))\n",
    "\n",
    "# 3. Load and process the data\n",
    "csv_source = CSVDataSource(\"sample_data/people.csv\")\n",
    "df = csv_source.get_data()\n",
    "\n",
    "# 4. Run the pipeline (will preserve all columns by default)\n",
    "results = pipeline.process(\n",
    "    df.to_dict('records'),\n",
    "    n_workers=4,  # Parallel processing\n",
    "    show_progress=True\n",
    ")\n",
    "\n",
    "# 5. Convert back to DataFrame\n",
    "extracted_df = pd.DataFrame(results)\n",
    "\n",
    "# Display results\n",
    "extracted_df.head(20)"
   ]
  },
  {
   "cell_type": "code",
   "execution_count": 31,
   "metadata": {},
   "outputs": [
    {
     "data": {
      "text/html": [
       "<div>\n",
       "<style scoped>\n",
       "    .dataframe tbody tr th:only-of-type {\n",
       "        vertical-align: middle;\n",
       "    }\n",
       "\n",
       "    .dataframe tbody tr th {\n",
       "        vertical-align: top;\n",
       "    }\n",
       "\n",
       "    .dataframe thead th {\n",
       "        text-align: right;\n",
       "    }\n",
       "</style>\n",
       "<table border=\"1\" class=\"dataframe\">\n",
       "  <thead>\n",
       "    <tr style=\"text-align: right;\">\n",
       "      <th></th>\n",
       "      <th>text</th>\n",
       "      <th>name</th>\n",
       "      <th>age</th>\n",
       "      <th>city</th>\n",
       "      <th>occupation</th>\n",
       "      <th>interests</th>\n",
       "      <th>is_married</th>\n",
       "      <th>num_children</th>\n",
       "      <th>net_worth</th>\n",
       "      <th>first_letter</th>\n",
       "    </tr>\n",
       "  </thead>\n",
       "  <tbody>\n",
       "    <tr>\n",
       "      <th>0</th>\n",
       "      <td>Alice is 30 years old, lives in New York, and ...</td>\n",
       "      <td>Alice</td>\n",
       "      <td>30</td>\n",
       "      <td>New York</td>\n",
       "      <td>software engineer</td>\n",
       "      <td>[hiking, reading]</td>\n",
       "      <td>False</td>\n",
       "      <td>1</td>\n",
       "      <td>1200000</td>\n",
       "      <td>A</td>\n",
       "    </tr>\n",
       "    <tr>\n",
       "      <th>1</th>\n",
       "      <td>Bob, 25, is a teacher in London. He's an avid ...</td>\n",
       "      <td>Bob</td>\n",
       "      <td>25</td>\n",
       "      <td>London</td>\n",
       "      <td>teacher</td>\n",
       "      <td>[cycling]</td>\n",
       "      <td>True</td>\n",
       "      <td>2</td>\n",
       "      <td>500000</td>\n",
       "      <td>B</td>\n",
       "    </tr>\n",
       "    <tr>\n",
       "      <th>3</th>\n",
       "      <td>Charlie is a 40-year-old data scientist from C...</td>\n",
       "      <td>Charlie</td>\n",
       "      <td>40</td>\n",
       "      <td>Chicago</td>\n",
       "      <td>data scientist</td>\n",
       "      <td>[skiing, cooking, photography]</td>\n",
       "      <td>True</td>\n",
       "      <td>1</td>\n",
       "      <td>800000</td>\n",
       "      <td>C</td>\n",
       "    </tr>\n",
       "    <tr>\n",
       "      <th>5</th>\n",
       "      <td>David, a 35-year-old architect, resides in San...</td>\n",
       "      <td>David</td>\n",
       "      <td>35</td>\n",
       "      <td>San Francisco</td>\n",
       "      <td>architect</td>\n",
       "      <td>[rock climbing]</td>\n",
       "      <td>False</td>\n",
       "      <td>0</td>\n",
       "      <td>1500000</td>\n",
       "      <td>D</td>\n",
       "    </tr>\n",
       "    <tr>\n",
       "      <th>6</th>\n",
       "      <td>Emily is a 28-year-old nurse in Seattle. She l...</td>\n",
       "      <td>Emily</td>\n",
       "      <td>28</td>\n",
       "      <td>Seattle</td>\n",
       "      <td>nurse</td>\n",
       "      <td>[traveling, trying new foods]</td>\n",
       "      <td>False</td>\n",
       "      <td>0</td>\n",
       "      <td>400000</td>\n",
       "      <td>E</td>\n",
       "    </tr>\n",
       "    <tr>\n",
       "      <th>8</th>\n",
       "      <td>Frank is a 50-year-old lawyer living in Boston...</td>\n",
       "      <td>Frank</td>\n",
       "      <td>50</td>\n",
       "      <td>Boston</td>\n",
       "      <td>lawyer</td>\n",
       "      <td>[golfing, fishing]</td>\n",
       "      <td>True</td>\n",
       "      <td>3</td>\n",
       "      <td>3200000</td>\n",
       "      <td>F</td>\n",
       "    </tr>\n",
       "    <tr>\n",
       "      <th>9</th>\n",
       "      <td>Grace, a 22-year-old student in Austin, is pas...</td>\n",
       "      <td>Grace</td>\n",
       "      <td>22</td>\n",
       "      <td>Austin</td>\n",
       "      <td>student</td>\n",
       "      <td>[music, volunteering]</td>\n",
       "      <td>False</td>\n",
       "      <td>0</td>\n",
       "      <td>0</td>\n",
       "      <td>G</td>\n",
       "    </tr>\n",
       "    <tr>\n",
       "      <th>10</th>\n",
       "      <td>Katrina, a 28-year-old art expert in NYC.</td>\n",
       "      <td>Katrina</td>\n",
       "      <td>28</td>\n",
       "      <td>NYC</td>\n",
       "      <td>art expert</td>\n",
       "      <td>[]</td>\n",
       "      <td>False</td>\n",
       "      <td>0</td>\n",
       "      <td>0</td>\n",
       "      <td>K</td>\n",
       "    </tr>\n",
       "  </tbody>\n",
       "</table>\n",
       "</div>"
      ],
      "text/plain": [
       "                                                 text     name  age  \\\n",
       "0   Alice is 30 years old, lives in New York, and ...    Alice   30   \n",
       "1   Bob, 25, is a teacher in London. He's an avid ...      Bob   25   \n",
       "3   Charlie is a 40-year-old data scientist from C...  Charlie   40   \n",
       "5   David, a 35-year-old architect, resides in San...    David   35   \n",
       "6   Emily is a 28-year-old nurse in Seattle. She l...    Emily   28   \n",
       "8   Frank is a 50-year-old lawyer living in Boston...    Frank   50   \n",
       "9   Grace, a 22-year-old student in Austin, is pas...    Grace   22   \n",
       "10          Katrina, a 28-year-old art expert in NYC.  Katrina   28   \n",
       "\n",
       "             city         occupation                       interests  \\\n",
       "0        New York  software engineer               [hiking, reading]   \n",
       "1          London            teacher                       [cycling]   \n",
       "3         Chicago     data scientist  [skiing, cooking, photography]   \n",
       "5   San Francisco          architect                 [rock climbing]   \n",
       "6         Seattle              nurse   [traveling, trying new foods]   \n",
       "8          Boston             lawyer              [golfing, fishing]   \n",
       "9          Austin            student           [music, volunteering]   \n",
       "10            NYC         art expert                              []   \n",
       "\n",
       "    is_married  num_children  net_worth first_letter  \n",
       "0        False             1    1200000            A  \n",
       "1         True             2     500000            B  \n",
       "3         True             1     800000            C  \n",
       "5        False             0    1500000            D  \n",
       "6        False             0     400000            E  \n",
       "8         True             3    3200000            F  \n",
       "9        False             0          0            G  \n",
       "10       False             0          0            K  "
      ]
     },
     "execution_count": 31,
     "metadata": {},
     "output_type": "execute_result"
    }
   ],
   "source": [
    "import pandas as pd\n",
    "from sculptor import Sculptor\n",
    "from helpers.data_sources import CSVDataSource\n",
    "\n",
    "# 1. Create a Sculptor for relevance checking - using extraction_schema\n",
    "relevance_sculptor = Sculptor(\n",
    "    schema={\"is_valid_sample\": {\"type\": bool, \"description\": \"True only if this text contains demographic information.\",},\n",
    "            \"explanation\": {\"type\": str,\"description\": \"Explain why this sample is or is not valid.\",},},\n",
    "    instructions=\"Determine if the following text contains demographic information about a person.\",\n",
    "    template=\"Text: {text}\",\n",
    ")\n",
    "\n",
    "# 2. Create a Sculptor for data extraction - using add()\n",
    "demo_sculptor = Sculptor.from_config(\"sample_data/demosculpt.yaml\")\n",
    "demo_sculptor.add(\"first_letter\", str, \"First letter of the persons first name\")  # You can add fields like this\n",
    "\n",
    "csv_source = CSVDataSource(\"sample_data/people.csv\")\n",
    "df = csv_source.get_data()\n",
    "\n",
    "# 3. Apply the relevance sculptor\n",
    "df[\"relevance_data\"] = df.apply(lambda row: relevance_sculptor.sculpt(row), axis=1)\n",
    "df[\"is_valid_sample\"] = df[\"relevance_data\"].apply(lambda x: x.get(\"is_valid_sample\"))\n",
    "df[\"explanation\"] = df[\"relevance_data\"].apply(lambda x: x.get(\"explanation\"))\n",
    "df.drop(columns=[\"relevance_data\"], inplace=True)  # Drop the intermediate column\n",
    "\n",
    "# 4. Filter based on relevance\n",
    "relevant_df = df[df[\"is_valid_sample\"] == True].copy()\n",
    "\n",
    "# 5. Apply the data extraction sculptor\n",
    "relevant_df[\"extracted_data\"] = relevant_df.apply(lambda row: demo_sculptor.sculpt(row), axis=1)\n",
    "\n",
    "# 6. Expand the extracted data into separate columns\n",
    "extracted_df = pd.concat([relevant_df, relevant_df[\"extracted_data\"].apply(pd.Series)], axis=1)\n",
    "extracted_df.drop(columns=[\"extracted_data\", \"is_valid_sample\", \"explanation\"], inplace=True)\n",
    "\n",
    "extracted_df.head(20)"
   ]
  },
  {
   "cell_type": "code",
   "execution_count": 19,
   "metadata": {},
   "outputs": [
    {
     "data": {
      "text/html": [
       "<div>\n",
       "<style scoped>\n",
       "    .dataframe tbody tr th:only-of-type {\n",
       "        vertical-align: middle;\n",
       "    }\n",
       "\n",
       "    .dataframe tbody tr th {\n",
       "        vertical-align: top;\n",
       "    }\n",
       "\n",
       "    .dataframe thead th {\n",
       "        text-align: right;\n",
       "    }\n",
       "</style>\n",
       "<table border=\"1\" class=\"dataframe\">\n",
       "  <thead>\n",
       "    <tr style=\"text-align: right;\">\n",
       "      <th></th>\n",
       "      <th>text</th>\n",
       "      <th>name</th>\n",
       "      <th>age</th>\n",
       "      <th>city</th>\n",
       "      <th>occupation</th>\n",
       "      <th>interests</th>\n",
       "      <th>is_married</th>\n",
       "      <th>num_children</th>\n",
       "      <th>net_worth</th>\n",
       "    </tr>\n",
       "  </thead>\n",
       "  <tbody>\n",
       "    <tr>\n",
       "      <th>0</th>\n",
       "      <td>Alice is 30 years old, lives in New York, and ...</td>\n",
       "      <td>Alice</td>\n",
       "      <td>30</td>\n",
       "      <td>New York</td>\n",
       "      <td>software engineer</td>\n",
       "      <td>[hiking, reading]</td>\n",
       "      <td>False</td>\n",
       "      <td>1</td>\n",
       "      <td>1200000</td>\n",
       "    </tr>\n",
       "    <tr>\n",
       "      <th>1</th>\n",
       "      <td>Bob, 25, is a teacher in London. He's an avid ...</td>\n",
       "      <td>Bob</td>\n",
       "      <td>25</td>\n",
       "      <td>London</td>\n",
       "      <td>teacher</td>\n",
       "      <td>[cycling]</td>\n",
       "      <td>True</td>\n",
       "      <td>2</td>\n",
       "      <td>500000</td>\n",
       "    </tr>\n",
       "    <tr>\n",
       "      <th>3</th>\n",
       "      <td>Charlie is a 40-year-old data scientist from C...</td>\n",
       "      <td>Charlie</td>\n",
       "      <td>40</td>\n",
       "      <td>Chicago</td>\n",
       "      <td>data scientist</td>\n",
       "      <td>[skiing, cooking, photography]</td>\n",
       "      <td>True</td>\n",
       "      <td>1</td>\n",
       "      <td>800000</td>\n",
       "    </tr>\n",
       "    <tr>\n",
       "      <th>5</th>\n",
       "      <td>David, a 35-year-old architect, resides in San...</td>\n",
       "      <td>David</td>\n",
       "      <td>35</td>\n",
       "      <td>San Francisco</td>\n",
       "      <td>architect</td>\n",
       "      <td>[rock climbing]</td>\n",
       "      <td>False</td>\n",
       "      <td>0</td>\n",
       "      <td>1500000</td>\n",
       "    </tr>\n",
       "    <tr>\n",
       "      <th>6</th>\n",
       "      <td>Emily is a 28-year-old nurse in Seattle. She l...</td>\n",
       "      <td>Emily</td>\n",
       "      <td>28</td>\n",
       "      <td>Seattle</td>\n",
       "      <td>nurse</td>\n",
       "      <td>[traveling, trying new foods]</td>\n",
       "      <td>False</td>\n",
       "      <td>0</td>\n",
       "      <td>400000</td>\n",
       "    </tr>\n",
       "    <tr>\n",
       "      <th>8</th>\n",
       "      <td>Frank is a 50-year-old lawyer living in Boston...</td>\n",
       "      <td>Frank</td>\n",
       "      <td>50</td>\n",
       "      <td>Boston</td>\n",
       "      <td>lawyer</td>\n",
       "      <td>[golfing, fishing]</td>\n",
       "      <td>True</td>\n",
       "      <td>3</td>\n",
       "      <td>3200000</td>\n",
       "    </tr>\n",
       "    <tr>\n",
       "      <th>9</th>\n",
       "      <td>Grace, a 22-year-old student in Austin, is pas...</td>\n",
       "      <td>Grace</td>\n",
       "      <td>22</td>\n",
       "      <td>Austin</td>\n",
       "      <td>student</td>\n",
       "      <td>[music, volunteering]</td>\n",
       "      <td>False</td>\n",
       "      <td>0</td>\n",
       "      <td>0</td>\n",
       "    </tr>\n",
       "    <tr>\n",
       "      <th>10</th>\n",
       "      <td>Katrina, a 28-year-old art expert in NYC.</td>\n",
       "      <td>Katrina</td>\n",
       "      <td>28</td>\n",
       "      <td>NYC</td>\n",
       "      <td>art expert</td>\n",
       "      <td>[]</td>\n",
       "      <td>False</td>\n",
       "      <td>0</td>\n",
       "      <td>0</td>\n",
       "    </tr>\n",
       "  </tbody>\n",
       "</table>\n",
       "</div>"
      ],
      "text/plain": [
       "                                                 text     name  age  \\\n",
       "0   Alice is 30 years old, lives in New York, and ...    Alice   30   \n",
       "1   Bob, 25, is a teacher in London. He's an avid ...      Bob   25   \n",
       "3   Charlie is a 40-year-old data scientist from C...  Charlie   40   \n",
       "5   David, a 35-year-old architect, resides in San...    David   35   \n",
       "6   Emily is a 28-year-old nurse in Seattle. She l...    Emily   28   \n",
       "8   Frank is a 50-year-old lawyer living in Boston...    Frank   50   \n",
       "9   Grace, a 22-year-old student in Austin, is pas...    Grace   22   \n",
       "10          Katrina, a 28-year-old art expert in NYC.  Katrina   28   \n",
       "\n",
       "             city         occupation                       interests  \\\n",
       "0        New York  software engineer               [hiking, reading]   \n",
       "1          London            teacher                       [cycling]   \n",
       "3         Chicago     data scientist  [skiing, cooking, photography]   \n",
       "5   San Francisco          architect                 [rock climbing]   \n",
       "6         Seattle              nurse   [traveling, trying new foods]   \n",
       "8          Boston             lawyer              [golfing, fishing]   \n",
       "9          Austin            student           [music, volunteering]   \n",
       "10            NYC         art expert                              []   \n",
       "\n",
       "    is_married  num_children  net_worth  \n",
       "0        False             1    1200000  \n",
       "1         True             2     500000  \n",
       "3         True             1     800000  \n",
       "5        False             0    1500000  \n",
       "6        False             0     400000  \n",
       "8         True             3    3200000  \n",
       "9        False             0          0  \n",
       "10       False             0          0  "
      ]
     },
     "execution_count": 19,
     "metadata": {},
     "output_type": "execute_result"
    }
   ],
   "source": [
    "extracted_df"
   ]
  },
  {
   "cell_type": "code",
   "execution_count": null,
   "metadata": {},
   "outputs": [],
   "source": [
    "import pandas as pd\n",
    "from sculptor import Sculptor\n",
    "from sculptor.helpers.data_sources import CSVDataSource, RedditDataSource\n",
    "import praw\n",
    "\n",
    "# Create a Sculptor instance\n",
    "sculptor = Sculptor(\n",
    "    extraction_schema={\n",
    "        \"name\": {\"type\": \"string\", \"description\": \"The entity's name\"},\n",
    "        \"summary\": {\"type\": \"string\", \"description\": \"A summary\"}\n",
    "    },\n",
    "    template=\"Entity: {text}\"\n",
    ")\n",
    "\n",
    "# Get data from a CSV using the helper\n",
    "csv_source = CSVDataSource(\"my_data.csv\", sep=\",\")\n",
    "df_csv = csv_source.get_data()\n",
    "\n",
    "# Get data from Reddit (you'll need to set up your PRAW Reddit client)\n",
    "reddit = praw.Reddit(client_id=\"YOUR_CLIENT_ID\", client_secret=\"YOUR_CLIENT_SECRET\", user_agent=\"YOUR_USER_AGENT\")\n",
    "reddit_source = RedditDataSource(query=\"artificial intelligence\", subreddits=[\"machinelearning\"], reddit_client=reddit)\n",
    "df_reddit = reddit_source.get_data()\n",
    "\n",
    "# Apply Sculptor to the DataFrames\n",
    "df_csv['extracted'] = df_csv.apply(lambda row: sculptor.sculpt(row), axis=1)\n",
    "df_reddit['extracted'] = df_reddit.apply(lambda row: sculptor.sculpt(row), axis=1)\n",
    "\n",
    "print(df_csv)\n",
    "print(df_reddit)"
   ]
  },
  {
   "cell_type": "markdown",
   "metadata": {},
   "source": [
    "# Test full AI Therapy Pipeline"
   ]
  },
  {
   "cell_type": "code",
   "execution_count": 4,
   "metadata": {},
   "outputs": [
    {
     "name": "stdout",
     "output_type": "stream",
     "text": [
      "The autoreload extension is already loaded. To reload it, use:\n",
      "  %reload_ext autoreload\n"
     ]
    }
   ],
   "source": [
    "%load_ext autoreload\n",
    "%autoreload 2\n",
    "\n",
    "import os\n",
    "import toml\n",
    "import praw\n",
    "import pandas as pd\n",
    "from sculptor import Sculptor\n",
    "from sculptor import SculptorPipeline\n",
    "from helpers.data_sources import RedditDataSource\n",
    "\n",
    "secrets = toml.load(\"secrets.toml\")\n",
    "os.environ[\"OPENAI_API_KEY\"] = secrets[\"openai\"][\"api_key\"]\n",
    "os.environ[\"DEEPINFRA_API_KEY\"] = secrets[\"deepinfra\"][\"api_key\"]"
   ]
  },
  {
   "cell_type": "code",
   "execution_count": 2,
   "metadata": {},
   "outputs": [],
   "source": [
    "reddit = praw.Reddit(\n",
    "            client_id=secrets[\"reddit\"][\"client_id\"],\n",
    "            client_secret=secrets[\"reddit\"][\"client_secret\"],\n",
    "            user_agent=secrets[\"reddit\"][\"user_agent\"]\n",
    "        )\n",
    "\n",
    "reddit_src1 = RedditDataSource(\n",
    "    reddit_client=reddit,\n",
    "    query=\"(AI OR chatbot OR GPT) AND (mental health OR therapy)\",\n",
    "    include_comments=False,\n",
    "    limit=10\n",
    ")\n",
    "reddit_src2 = RedditDataSource(\n",
    "    reddit_client=reddit,\n",
    "    query=\"(AI OR chatbot OR GPT)\",\n",
    "    subreddits=[\"ADHD\", \"anxiety\"],\n",
    "    include_comments=False,\n",
    "    limit=10\n",
    ")\n",
    "\n",
    "dfs = [reddit_src1.get_data(), reddit_src2.get_data()]\n",
    "df = pd.concat(dfs, ignore_index=True).drop_duplicates(subset='id')"
   ]
  },
  {
   "cell_type": "code",
   "execution_count": 10,
   "metadata": {},
   "outputs": [
    {
     "name": "stdout",
     "output_type": "stream",
     "text": [
      "\n",
      "Step 1/2\n"
     ]
    },
    {
     "name": "stderr",
     "output_type": "stream",
     "text": [
      "Processing items:   5%|▌         | 1/20 [00:03<01:02,  3.27s/it]"
     ]
    },
    {
     "name": "stdout",
     "output_type": "stream",
     "text": [
      "LLM Output: {\n",
      "    \"relevant_sample\": true,\n",
      "    \"relevant_sample_explanation\": \"The user explicitly describes their personal experience of using Chat GPT for mental health support, sharing how it helped them build confidence, reframe negative thoughts, and make progress in a short amount of time. They provide specific details about their interactions with Chat GPT, such as using the voice feature for daily conversations and receiving guidance on overcoming self-esteem issues.\"\n",
      "}\n"
     ]
    },
    {
     "name": "stderr",
     "output_type": "stream",
     "text": [
      "Processing items:  10%|█         | 2/20 [00:05<00:52,  2.89s/it]"
     ]
    },
    {
     "name": "stdout",
     "output_type": "stream",
     "text": [
      "LLM Output: {\"relevant_sample\": false, \"relevant_sample_explanation\": \"The post title and text do not indicate a personal experience of using AI for mental health, coaching, or emotional support. Instead, it appears to be a comparative discussion between AI models and mental disabilities, lacking a first-hand account of AI usage for mental health purposes.\"}\n"
     ]
    },
    {
     "name": "stderr",
     "output_type": "stream",
     "text": [
      "Processing items:  15%|█▌        | 3/20 [00:10<01:01,  3.60s/it]"
     ]
    },
    {
     "name": "stdout",
     "output_type": "stream",
     "text": [
      "LLM Output: {\"relevant_sample\": true, \"relevant_sample_explanation\": \"The user shares a clear, first-hand experience of using ChatGPT for mental health support, describing how it provided valuable advice and perspectives that helped them make progress with their issues, and explicitly states that it 'feels like it understands me better than all the people I ever talked to about my problems'.\"}\n"
     ]
    },
    {
     "name": "stderr",
     "output_type": "stream",
     "text": [
      "Processing items:  20%|██        | 4/20 [00:13<00:52,  3.27s/it]"
     ]
    },
    {
     "name": "stdout",
     "output_type": "stream",
     "text": [
      "LLM Output: {\n",
      "    \"relevant_sample\": false,\n",
      "    \"relevant_sample_explanation\": \"The post discusses a data breach involving a US-based AI healthcare firm, but it does not share a personal experience of using AI for mental health, coaching, or emotional support. The focus is on a privacy risk rather than an individual's experience with AI in mental health.\"\n",
      "}\n"
     ]
    },
    {
     "name": "stderr",
     "output_type": "stream",
     "text": [
      "Processing items:  25%|██▌       | 5/20 [00:15<00:46,  3.12s/it]"
     ]
    },
    {
     "name": "stdout",
     "output_type": "stream",
     "text": [
      "LLM Output: {\"relevant_sample\": false, \"relevant_sample_explanation\": \"The post does not mention the use of AI or chatbots for mental health, coaching, or emotional support. It is a personal story about a family conflict related to a wedding and past bullying, but does not involve AI in any way.\"}\n"
     ]
    },
    {
     "name": "stderr",
     "output_type": "stream",
     "text": [
      "Processing items:  30%|███       | 6/20 [00:18<00:39,  2.79s/it]"
     ]
    },
    {
     "name": "stdout",
     "output_type": "stream",
     "text": [
      "LLM Output: {\"relevant_sample\": false, \"relevant_sample_explanation\": \"The post title and text do not describe a personal experience of using AI for mental health, coaching, or emotional support. Instead, the title appears to be a humorous statement about an AI, and the text is a warning about texting and driving, unrelated to AI usage for mental health purposes.\"}\n"
     ]
    },
    {
     "name": "stderr",
     "output_type": "stream",
     "text": [
      "Processing items:  35%|███▌      | 7/20 [00:19<00:30,  2.32s/it]"
     ]
    },
    {
     "name": "stdout",
     "output_type": "stream",
     "text": [
      "LLM Output: {\"relevant_sample\": false, \"relevant_sample_explanation\": \"The post discusses the potential of AI in video generation, comparing it to advancements in text generation, but does not share a personal experience of using AI for mental health, coaching, or emotional support.\"}\n"
     ]
    },
    {
     "name": "stderr",
     "output_type": "stream",
     "text": [
      "Processing items:  40%|████      | 8/20 [00:21<00:27,  2.27s/it]"
     ]
    },
    {
     "name": "stdout",
     "output_type": "stream",
     "text": [
      "LLM Output: {\"relevant_sample\": false, \"relevant_sample_explanation\": \"The post does not mention using AI or chatbots for mental health, coaching, or emotional support, and does not describe a personal experience related to these topics.\"}\n"
     ]
    },
    {
     "name": "stderr",
     "output_type": "stream",
     "text": [
      "Processing items:  45%|████▌     | 9/20 [00:24<00:25,  2.32s/it]"
     ]
    },
    {
     "name": "stdout",
     "output_type": "stream",
     "text": [
      "LLM Output: {\n",
      "    \"relevant_sample\": false,\n",
      "    \"relevant_sample_explanation\": \"The post does not mention a personal experience of using AI for mental health, coaching, or emotional support. It appears to be a news article about a lawsuit against Sam Altman, with no relevance to the use of AI in mental health.\"\n",
      "}\n"
     ]
    },
    {
     "name": "stderr",
     "output_type": "stream",
     "text": [
      "Processing items:  50%|█████     | 10/20 [00:26<00:22,  2.27s/it]"
     ]
    },
    {
     "name": "stdout",
     "output_type": "stream",
     "text": [
      "LLM Output: {\"relevant_sample\": false, \"relevant_sample_explanation\": \"The post lacks a clear, first-hand experience of using AI or chatbots for mental health, support, coaching, or similar. The text 'mentality!!!' is too vague and does not provide any personal experience or description of using AI tools.\"}\n"
     ]
    },
    {
     "name": "stderr",
     "output_type": "stream",
     "text": [
      "Processing items:  55%|█████▌    | 11/20 [00:29<00:23,  2.60s/it]"
     ]
    },
    {
     "name": "stdout",
     "output_type": "stream",
     "text": [
      "LLM Output: {\n",
      "    \"relevant_sample\": false,\n",
      "    \"relevant_sample_explanation\": \"The post does not share a personal experience of using AI for mental health, coaching, or emotional support. Instead, it discusses the author's discovery that a book on ADHD was likely generated by ChatGPT and warns others about it. The post is more focused on criticizing AI-generated content than sharing a personal experience with AI in mental health.\"\n",
      "}\n"
     ]
    },
    {
     "name": "stderr",
     "output_type": "stream",
     "text": [
      "Processing items:  60%|██████    | 12/20 [00:32<00:20,  2.58s/it]"
     ]
    },
    {
     "name": "stdout",
     "output_type": "stream",
     "text": [
      "LLM Output: {\n",
      "    \"relevant_sample\": false,\n",
      "    \"relevant_sample_explanation\": \"The user shares a personal experience of using ChatGPT, but it's primarily for work and building/training bots, not specifically for mental health, emotional support, or coaching. Although the post is in the ADHD subreddit, the focus is on the user's enthusiasm for ChatGPT rather than using it for ADHD management or support.\"\n",
      "}\n"
     ]
    },
    {
     "name": "stderr",
     "output_type": "stream",
     "text": [
      "Processing items:  65%|██████▌   | 13/20 [00:35<00:19,  2.79s/it]"
     ]
    },
    {
     "name": "stdout",
     "output_type": "stream",
     "text": [
      "LLM Output: {\n",
      "    \"relevant_sample\": true,\n",
      "    \"relevant_sample_explanation\": \"The user shares their personal experience and struggles with ADHD, specifically describing their difficulties with executive functioning skills and their desire for an AI assistant to support them. They also mention trying to use chat GPT but facing limitations, demonstrating a clear first-hand experience with AI tools for mental health and support.\"\n",
      "}\n"
     ]
    },
    {
     "name": "stderr",
     "output_type": "stream",
     "text": [
      "Processing items:  70%|███████   | 14/20 [00:37<00:14,  2.46s/it]"
     ]
    },
    {
     "name": "stdout",
     "output_type": "stream",
     "text": [
      "LLM Output: {\"relevant_sample\": false, \"relevant_sample_explanation\": \"The post discusses scientific research on the genetic basis of ADHD but does not share a personal experience of using AI for mental health, coaching, or emotional support.\"}\n"
     ]
    },
    {
     "name": "stderr",
     "output_type": "stream",
     "text": [
      "Processing items:  75%|███████▌  | 15/20 [00:40<00:13,  2.74s/it]"
     ]
    },
    {
     "name": "stdout",
     "output_type": "stream",
     "text": [
      "LLM Output: {\n",
      "    \"relevant_sample\": true,\n",
      "    \"relevant_sample_explanation\": \"The user explicitly describes a personal experience of using ChatGPT as a tool for managing their emotions and regulating their ADHD, sharing a specific 'hack' they discovered and how it has helped them in their daily life, including handling conflicts and breaking emotional spirals.\"\n",
      "}\n"
     ]
    },
    {
     "name": "stderr",
     "output_type": "stream",
     "text": [
      "Processing items:  80%|████████  | 16/20 [00:43<00:11,  2.96s/it]"
     ]
    },
    {
     "name": "stdout",
     "output_type": "stream",
     "text": [
      "LLM Output: {\n",
      "    \"relevant_sample\": true,\n",
      "    \"relevant_sample_explanation\": \"The user explicitly describes their personal experience of using chatGPT to help organize their thoughts, specifically mentioning how it aids their 'scatter-brain' and helps with breaking down ideas into actionable steps, which is a clear first-hand experience of using AI for mental health and productivity support.\"\n",
      "}\n"
     ]
    },
    {
     "name": "stderr",
     "output_type": "stream",
     "text": [
      "Processing items:  85%|████████▌ | 17/20 [00:46<00:08,  2.99s/it]"
     ]
    },
    {
     "name": "stdout",
     "output_type": "stream",
     "text": [
      "LLM Output: {\n",
      "    \"relevant_sample\": true,\n",
      "    \"relevant_sample_explanation\": \"The user shares a personal experience of using ChatGPT for roleplay related to psychology, which helped them create a plan to tackle one of their phobias and improve their daily planning. This demonstrates a clear, first-hand experience of using AI for mental health and wellbeing.\"\n",
      "}\n"
     ]
    },
    {
     "name": "stderr",
     "output_type": "stream",
     "text": [
      "Processing items:  90%|█████████ | 18/20 [00:50<00:06,  3.16s/it]"
     ]
    },
    {
     "name": "stdout",
     "output_type": "stream",
     "text": [
      "LLM Output: {\"relevant_sample\": false, \"relevant_sample_explanation\": \"The user is seeking a tool to help with writing math equations due to the repetitive nature of the task, which they find tedious. While the post is from the ADHD subreddit, the user does not explicitly describe a personal experience of using AI for mental health, coaching, or emotional support, but rather seeks assistance with a specific task.\"}\n"
     ]
    },
    {
     "name": "stderr",
     "output_type": "stream",
     "text": [
      "Processing items:  95%|█████████▌| 19/20 [00:55<00:03,  3.63s/it]"
     ]
    },
    {
     "name": "stdout",
     "output_type": "stream",
     "text": [
      "LLM Output: {\n",
      "    \"relevant_sample\": false,\n",
      "    \"relevant_sample_explanation\": \"The user is seeking advice and recommendations for apps or AI resources to help with task completion and organization due to ADHD, but does not share a personal experience of using AI for mental health, coaching, or emotional support. They mention a hypothetical interest in something like ChatGPT that automates tasks, but this is a request for information rather than a description of their own experience.\"\n",
      "}\n"
     ]
    },
    {
     "name": "stderr",
     "output_type": "stream",
     "text": [
      "Processing items: 100%|██████████| 20/20 [00:58<00:00,  2.93s/it]\n"
     ]
    },
    {
     "name": "stdout",
     "output_type": "stream",
     "text": [
      "LLM Output: {\"relevant_sample\": false, \"relevant_sample_explanation\": \"The user is asking for advice on using AI to generate an informational PDF for a trip, but does not share a personal experience of using AI for mental health, coaching, or emotional support. The post is about using AI for a practical task, not related to mental health or wellness.\"}\n",
      "Filtered to 6 items\n",
      "\n",
      "Step 2/2\n"
     ]
    },
    {
     "name": "stderr",
     "output_type": "stream",
     "text": [
      "Processing items:  17%|█▋        | 1/6 [00:11<00:58, 11.65s/it]"
     ]
    },
    {
     "name": "stdout",
     "output_type": "stream",
     "text": [
      "LLM Output: {\n",
      "    \"overall_sentiment\": 9,\n",
      "    \"benefits\": [\"increased self-esteem\", \"improved confidence\", \"better emotional regulation\"],\n",
      "    \"downsides\": null,\n",
      "    \"specific_use_cases\": [\"CBT\", \"reframing negative thoughts\", \"building confidence\", \"journaling\"],\n",
      "    \"mentioned_conditions\": [\"low self-esteem\", \"depression\", \"anxiety\"],\n",
      "    \"provider_status\": \"previously seen provider\",\n",
      "    \"issues_with_human_providers\": [\"slow progress in therapy\"],\n",
      "    \"analysis_notes\": \"The user credits Chat GPT with helping them identify and overcome negative thought patterns, build confidence, and develop a more positive self-image. They express frustration with slow progress in traditional therapy, but found success with AI-powered support.\"\n",
      "}\n"
     ]
    },
    {
     "name": "stderr",
     "output_type": "stream",
     "text": [
      "Processing items:  33%|███▎      | 2/6 [00:24<00:50, 12.63s/it]"
     ]
    },
    {
     "name": "stdout",
     "output_type": "stream",
     "text": [
      "LLM Output: {\n",
      "    \"overall_sentiment\": 9,\n",
      "    \"benefits\": [\"good advice\", \"new perspectives\", \"feeling understood\", \"progress with mental health\"],\n",
      "    \"downsides\": [\"initial skepticism\"],\n",
      "    \"specific_use_cases\": [\"venting\", \"journaling\", \"problem-solving\"],\n",
      "    \"mentioned_conditions\": [\"broken mind\", \"being stuck\"],\n",
      "    \"provider_status\": \"previously seen provider\",\n",
      "    \"issues_with_human_providers\": [\"didn't work for me\"],\n",
      "    \"analysis_notes\": \"The user is surprised by the effectiveness of using ChatGPT for mental health support, finding it to provide good advice and new perspectives. They feel understood by the AI, which is helping them make progress with their mental health.\"\n",
      "}\n"
     ]
    },
    {
     "name": "stderr",
     "output_type": "stream",
     "text": [
      "Processing items:  50%|█████     | 3/6 [00:35<00:34, 11.64s/it]"
     ]
    },
    {
     "name": "stdout",
     "output_type": "stream",
     "text": [
      "LLM Output: {\n",
      "    \"overall_sentiment\": 8,\n",
      "    \"benefits\": [\"organization\", \"reminders\", \"prioritization\"],\n",
      "    \"downsides\": [\"ineffective training\", \"lack of memory\"],\n",
      "    \"specific_use_cases\": [\"executive functioning support\", \"task management\"],\n",
      "    \"conditions\": [\"ADHD\"],\n",
      "    \"provider_status\": \"not mentioned\",\n",
      "    \"issues_with_human_providers\": \"not mentioned\",\n",
      "    \"analysis_notes\": \"The user is seeking an AI assistant to help with executive functioning skills, specifically with task management, prioritization, and reminders, due to struggles with ADHD.\"\n",
      "}\n"
     ]
    },
    {
     "name": "stderr",
     "output_type": "stream",
     "text": [
      "Processing items:  67%|██████▋   | 4/6 [00:42<00:19,  9.65s/it]"
     ]
    },
    {
     "name": "stdout",
     "output_type": "stream",
     "text": [
      "LLM Output: {\n",
      "    \"overall_sentiment\": 9,\n",
      "    \"benefits\": [\"emotional regulation\", \"safe space for venting\", \"reality check\", \"practical suggestions\"],\n",
      "    \"downsides\": null,\n",
      "    \"specific_use_cases\": [\"venting\", \"journaling\", \"emotional regulation\"],\n",
      "    \"mentioned_conditions\": [\"RSD\", \"ADHD\"],\n",
      "    \"provider_status\": null,\n",
      "    \"issues_with_human_providers\": null,\n",
      "    \"analysis_notes\": \"User finds ChatGPT helpful for managing emotions and regulating responses during conflicts, using a creative 'hack' of writing fake AITA posts.\"\n",
      "}\n"
     ]
    },
    {
     "name": "stderr",
     "output_type": "stream",
     "text": [
      "Processing items:  83%|████████▎ | 5/6 [00:51<00:09,  9.51s/it]"
     ]
    },
    {
     "name": "stdout",
     "output_type": "stream",
     "text": [
      "LLM Output: {\n",
      "    \"overall_sentiment\": 9,\n",
      "    \"benefits\": [\"organization\", \"clarification\", \"actionable steps\", \"progress tracking\", \"memory aid\"],\n",
      "    \"downsides\": null,\n",
      "    \"specific_use_cases\": [\"brainstorming\", \"idea organization\", \"task planning\", \"journaling\"],\n",
      "    \"mentioned_conditions\": [\"scatter-brain\"],\n",
      "    \"provider_status\": null,\n",
      "    \"issues_with_human_providers\": null,\n",
      "    \"analysis_notes\": \"The user utilizes chatGPT to organize their thoughts, turning ideas into actionable steps, and tracking progress. This helps alleviate feelings of lack of accomplishment and provides a memory aid for future reference.\"\n",
      "}\n"
     ]
    },
    {
     "name": "stderr",
     "output_type": "stream",
     "text": [
      "Processing items: 100%|██████████| 6/6 [01:03<00:00, 10.59s/it]"
     ]
    },
    {
     "name": "stdout",
     "output_type": "stream",
     "text": [
      "LLM Output: {\n",
      "    \"overall_sentiment\": 9,\n",
      "    \"benefits\": [\"improved daily planning\", \"detailed plan to tackle phobia\"],\n",
      "    \"downsides\": null,\n",
      "    \"specific_use_cases\": [\"roleplay\", \"planning\", \"phobia management\"],\n",
      "    \"mentioned_conditions\": [\"phobia\"],\n",
      "    \"provider_status\": null,\n",
      "    \"issues_with_human_providers\": null,\n",
      "    \"analysis_notes\": \"User found AI tool (ChatGPT) helpful for managing phobia and improving daily planning, in conjunction with another tool (goblin.tools).\"\n",
      "}\n"
     ]
    },
    {
     "name": "stderr",
     "output_type": "stream",
     "text": [
      "\n"
     ]
    }
   ],
   "source": [
    "pipeline = SculptorPipeline.from_config('examples/ai_therapy.yaml')\n",
    "results = pipeline.process(df)"
   ]
  },
  {
   "cell_type": "code",
   "execution_count": 8,
   "metadata": {},
   "outputs": [
    {
     "data": {
      "text/plain": [
       "{'sentiment': {'type': 'integer',\n",
       "  'description': 'Sentiment towards AI for mental health (1-10, 10 most positive)',\n",
       "  'items': None,\n",
       "  'enum': None},\n",
       " 'benefits': {'type': 'array',\n",
       "  'description': 'Keywords for benefits: non_judgemental, affordable, accessible, etc',\n",
       "  'items': 'string',\n",
       "  'enum': None},\n",
       " 'downsides': {'type': 'array',\n",
       "  'description': 'Keywords for downsides: repetitive, shallow, unreliable, etc',\n",
       "  'items': 'string',\n",
       "  'enum': None},\n",
       " 'use_cases': {'type': 'array',\n",
       "  'description': 'How AI is used: reflection, venting, CBT, journaling, etc',\n",
       "  'items': 'string',\n",
       "  'enum': None},\n",
       " 'conditions': {'type': 'array',\n",
       "  'description': 'Conditions mentioned: ADHD, depression, anxiety, etc',\n",
       "  'items': 'string',\n",
       "  'enum': None},\n",
       " 'seeing_provider': {'type': 'boolean',\n",
       "  'description': 'Currently seeing a mental health provider (True or False)',\n",
       "  'items': None,\n",
       "  'enum': None},\n",
       " 'previous_provider': {'type': 'boolean',\n",
       "  'description': 'Has previously seen a mental health provider (True or False)',\n",
       "  'items': None,\n",
       "  'enum': None},\n",
       " 'provider_problems': {'type': 'array',\n",
       "  'description': 'Issues with human providers: expensive, unavailable, etc',\n",
       "  'items': 'string',\n",
       "  'enum': None},\n",
       " 'analysis_notes': {'type': 'string',\n",
       "  'description': 'Additional analysis and reasoning',\n",
       "  'items': None,\n",
       "  'enum': None}}"
      ]
     },
     "execution_count": 8,
     "metadata": {},
     "output_type": "execute_result"
    }
   ],
   "source": [
    "pipeline.steps[1][0].schema"
   ]
  },
  {
   "cell_type": "code",
   "execution_count": 11,
   "metadata": {},
   "outputs": [
    {
     "data": {
      "text/html": [
       "<div>\n",
       "<style scoped>\n",
       "    .dataframe tbody tr th:only-of-type {\n",
       "        vertical-align: middle;\n",
       "    }\n",
       "\n",
       "    .dataframe tbody tr th {\n",
       "        vertical-align: top;\n",
       "    }\n",
       "\n",
       "    .dataframe thead th {\n",
       "        text-align: right;\n",
       "    }\n",
       "</style>\n",
       "<table border=\"1\" class=\"dataframe\">\n",
       "  <thead>\n",
       "    <tr style=\"text-align: right;\">\n",
       "      <th></th>\n",
       "      <th>id</th>\n",
       "      <th>text</th>\n",
       "      <th>title</th>\n",
       "      <th>context_text</th>\n",
       "      <th>url</th>\n",
       "      <th>subreddit</th>\n",
       "      <th>score</th>\n",
       "      <th>created_utc</th>\n",
       "      <th>is_comment</th>\n",
       "      <th>comment_id</th>\n",
       "      <th>...</th>\n",
       "      <th>relevant_sample_explanation</th>\n",
       "      <th>overall_sentiment</th>\n",
       "      <th>benefits</th>\n",
       "      <th>downsides</th>\n",
       "      <th>specific_use_cases</th>\n",
       "      <th>mentioned_conditions</th>\n",
       "      <th>provider_status</th>\n",
       "      <th>issues_with_human_providers</th>\n",
       "      <th>analysis_notes</th>\n",
       "      <th>conditions</th>\n",
       "    </tr>\n",
       "  </thead>\n",
       "  <tbody>\n",
       "    <tr>\n",
       "      <th>0</th>\n",
       "      <td>1fajq7r_post</td>\n",
       "      <td>I've been desperately trying to figure out wha...</td>\n",
       "      <td>Chat GPT Transforms My Mental Health In 2 Weeks</td>\n",
       "      <td></td>\n",
       "      <td>https://reddit.com/r/ChatGPT/comments/1fajq7r/...</td>\n",
       "      <td>ChatGPT</td>\n",
       "      <td>775</td>\n",
       "      <td>2024-09-06 16:40:03</td>\n",
       "      <td>False</td>\n",
       "      <td>None</td>\n",
       "      <td>...</td>\n",
       "      <td>The user explicitly describes their personal e...</td>\n",
       "      <td>9</td>\n",
       "      <td>[increased self-esteem, improved confidence, b...</td>\n",
       "      <td>None</td>\n",
       "      <td>[CBT, reframing negative thoughts, building co...</td>\n",
       "      <td>[low self-esteem, depression, anxiety]</td>\n",
       "      <td>previously seen provider</td>\n",
       "      <td>[slow progress in therapy]</td>\n",
       "      <td>The user credits Chat GPT with helping them id...</td>\n",
       "      <td>NaN</td>\n",
       "    </tr>\n",
       "    <tr>\n",
       "      <th>1</th>\n",
       "      <td>1gmmujy_post</td>\n",
       "      <td>Hey!\\n\\nYou probably heard about people using ...</td>\n",
       "      <td>Using ChatGPT as a tool to improve your mental...</td>\n",
       "      <td></td>\n",
       "      <td>https://reddit.com/r/DecidingToBeBetter/commen...</td>\n",
       "      <td>DecidingToBeBetter</td>\n",
       "      <td>756</td>\n",
       "      <td>2024-11-08 16:40:52</td>\n",
       "      <td>False</td>\n",
       "      <td>None</td>\n",
       "      <td>...</td>\n",
       "      <td>The user shares a clear, first-hand experience...</td>\n",
       "      <td>9</td>\n",
       "      <td>[good advice, new perspectives, feeling unders...</td>\n",
       "      <td>[initial skepticism]</td>\n",
       "      <td>[venting, journaling, problem-solving]</td>\n",
       "      <td>[broken mind, being stuck]</td>\n",
       "      <td>previously seen provider</td>\n",
       "      <td>[didn't work for me]</td>\n",
       "      <td>The user is surprised by the effectiveness of ...</td>\n",
       "      <td>NaN</td>\n",
       "    </tr>\n",
       "    <tr>\n",
       "      <th>2</th>\n",
       "      <td>1bhxtuf_post</td>\n",
       "      <td>For me specifically, I am looking for somethin...</td>\n",
       "      <td>What are the best ai assistants or ai tools fo...</td>\n",
       "      <td></td>\n",
       "      <td>https://reddit.com/r/ADHD/comments/1bhxtuf/wha...</td>\n",
       "      <td>ADHD</td>\n",
       "      <td>24</td>\n",
       "      <td>2024-03-18 18:23:40</td>\n",
       "      <td>False</td>\n",
       "      <td>None</td>\n",
       "      <td>...</td>\n",
       "      <td>The user shares their personal experience and ...</td>\n",
       "      <td>8</td>\n",
       "      <td>[organization, reminders, prioritization]</td>\n",
       "      <td>[ineffective training, lack of memory]</td>\n",
       "      <td>[executive functioning support, task management]</td>\n",
       "      <td>NaN</td>\n",
       "      <td>not mentioned</td>\n",
       "      <td>not mentioned</td>\n",
       "      <td>The user is seeking an AI assistant to help wi...</td>\n",
       "      <td>[ADHD]</td>\n",
       "    </tr>\n",
       "    <tr>\n",
       "      <th>3</th>\n",
       "      <td>1hjkwj8_post</td>\n",
       "      <td>I feel like my RSD plays a huge role in my rel...</td>\n",
       "      <td>ChatGPT Hack</td>\n",
       "      <td></td>\n",
       "      <td>https://reddit.com/r/ADHD/comments/1hjkwj8/cha...</td>\n",
       "      <td>ADHD</td>\n",
       "      <td>11</td>\n",
       "      <td>2024-12-21 22:31:38</td>\n",
       "      <td>False</td>\n",
       "      <td>None</td>\n",
       "      <td>...</td>\n",
       "      <td>The user explicitly describes a personal exper...</td>\n",
       "      <td>9</td>\n",
       "      <td>[emotional regulation, safe space for venting,...</td>\n",
       "      <td>None</td>\n",
       "      <td>[venting, journaling, emotional regulation]</td>\n",
       "      <td>[RSD, ADHD]</td>\n",
       "      <td>None</td>\n",
       "      <td>None</td>\n",
       "      <td>User finds ChatGPT helpful for managing emotio...</td>\n",
       "      <td>NaN</td>\n",
       "    </tr>\n",
       "    <tr>\n",
       "      <th>4</th>\n",
       "      <td>1h2iv07_post</td>\n",
       "      <td>This is from a comment I made on some tech pos...</td>\n",
       "      <td>Using “AI” to organize my scatter Brain thoughts</td>\n",
       "      <td></td>\n",
       "      <td>https://reddit.com/r/ADHD/comments/1h2iv07/usi...</td>\n",
       "      <td>ADHD</td>\n",
       "      <td>0</td>\n",
       "      <td>2024-11-29 10:22:13</td>\n",
       "      <td>False</td>\n",
       "      <td>None</td>\n",
       "      <td>...</td>\n",
       "      <td>The user explicitly describes their personal e...</td>\n",
       "      <td>9</td>\n",
       "      <td>[organization, clarification, actionable steps...</td>\n",
       "      <td>None</td>\n",
       "      <td>[brainstorming, idea organization, task planni...</td>\n",
       "      <td>[scatter-brain]</td>\n",
       "      <td>None</td>\n",
       "      <td>None</td>\n",
       "      <td>The user utilizes chatGPT to organize their th...</td>\n",
       "      <td>NaN</td>\n",
       "    </tr>\n",
       "  </tbody>\n",
       "</table>\n",
       "<p>5 rows × 21 columns</p>\n",
       "</div>"
      ],
      "text/plain": [
       "             id                                               text  \\\n",
       "0  1fajq7r_post  I've been desperately trying to figure out wha...   \n",
       "1  1gmmujy_post  Hey!\\n\\nYou probably heard about people using ...   \n",
       "2  1bhxtuf_post  For me specifically, I am looking for somethin...   \n",
       "3  1hjkwj8_post  I feel like my RSD plays a huge role in my rel...   \n",
       "4  1h2iv07_post  This is from a comment I made on some tech pos...   \n",
       "\n",
       "                                               title context_text  \\\n",
       "0    Chat GPT Transforms My Mental Health In 2 Weeks                \n",
       "1  Using ChatGPT as a tool to improve your mental...                \n",
       "2  What are the best ai assistants or ai tools fo...                \n",
       "3                                       ChatGPT Hack                \n",
       "4   Using “AI” to organize my scatter Brain thoughts                \n",
       "\n",
       "                                                 url           subreddit  \\\n",
       "0  https://reddit.com/r/ChatGPT/comments/1fajq7r/...             ChatGPT   \n",
       "1  https://reddit.com/r/DecidingToBeBetter/commen...  DecidingToBeBetter   \n",
       "2  https://reddit.com/r/ADHD/comments/1bhxtuf/wha...                ADHD   \n",
       "3  https://reddit.com/r/ADHD/comments/1hjkwj8/cha...                ADHD   \n",
       "4  https://reddit.com/r/ADHD/comments/1h2iv07/usi...                ADHD   \n",
       "\n",
       "   score         created_utc  is_comment comment_id  ...  \\\n",
       "0    775 2024-09-06 16:40:03       False       None  ...   \n",
       "1    756 2024-11-08 16:40:52       False       None  ...   \n",
       "2     24 2024-03-18 18:23:40       False       None  ...   \n",
       "3     11 2024-12-21 22:31:38       False       None  ...   \n",
       "4      0 2024-11-29 10:22:13       False       None  ...   \n",
       "\n",
       "                         relevant_sample_explanation overall_sentiment  \\\n",
       "0  The user explicitly describes their personal e...                 9   \n",
       "1  The user shares a clear, first-hand experience...                 9   \n",
       "2  The user shares their personal experience and ...                 8   \n",
       "3  The user explicitly describes a personal exper...                 9   \n",
       "4  The user explicitly describes their personal e...                 9   \n",
       "\n",
       "                                            benefits  \\\n",
       "0  [increased self-esteem, improved confidence, b...   \n",
       "1  [good advice, new perspectives, feeling unders...   \n",
       "2          [organization, reminders, prioritization]   \n",
       "3  [emotional regulation, safe space for venting,...   \n",
       "4  [organization, clarification, actionable steps...   \n",
       "\n",
       "                                downsides  \\\n",
       "0                                    None   \n",
       "1                    [initial skepticism]   \n",
       "2  [ineffective training, lack of memory]   \n",
       "3                                    None   \n",
       "4                                    None   \n",
       "\n",
       "                                  specific_use_cases  \\\n",
       "0  [CBT, reframing negative thoughts, building co...   \n",
       "1             [venting, journaling, problem-solving]   \n",
       "2   [executive functioning support, task management]   \n",
       "3        [venting, journaling, emotional regulation]   \n",
       "4  [brainstorming, idea organization, task planni...   \n",
       "\n",
       "                     mentioned_conditions           provider_status  \\\n",
       "0  [low self-esteem, depression, anxiety]  previously seen provider   \n",
       "1              [broken mind, being stuck]  previously seen provider   \n",
       "2                                     NaN             not mentioned   \n",
       "3                             [RSD, ADHD]                      None   \n",
       "4                         [scatter-brain]                      None   \n",
       "\n",
       "  issues_with_human_providers  \\\n",
       "0  [slow progress in therapy]   \n",
       "1        [didn't work for me]   \n",
       "2               not mentioned   \n",
       "3                        None   \n",
       "4                        None   \n",
       "\n",
       "                                      analysis_notes conditions  \n",
       "0  The user credits Chat GPT with helping them id...        NaN  \n",
       "1  The user is surprised by the effectiveness of ...        NaN  \n",
       "2  The user is seeking an AI assistant to help wi...     [ADHD]  \n",
       "3  User finds ChatGPT helpful for managing emotio...        NaN  \n",
       "4  The user utilizes chatGPT to organize their th...        NaN  \n",
       "\n",
       "[5 rows x 21 columns]"
      ]
     },
     "execution_count": 11,
     "metadata": {},
     "output_type": "execute_result"
    }
   ],
   "source": [
    "results_df = pd.DataFrame(results)\n",
    "results_df.head()\n"
   ]
  },
  {
   "cell_type": "markdown",
   "metadata": {},
   "source": [
    "# Old"
   ]
  },
  {
   "cell_type": "code",
   "execution_count": 7,
   "metadata": {},
   "outputs": [],
   "source": [
    "CONFIG_TAG = \"ai_therapy\"\n",
    "CONFIG_FILE = f\"configs/{CONFIG_TAG}.toml\""
   ]
  },
  {
   "cell_type": "code",
   "execution_count": 8,
   "metadata": {},
   "outputs": [],
   "source": [
    "import toml\n",
    "import pandas as pd\n",
    "from openai import OpenAI\n",
    "from helpers.datasource import RedditDataSource, HackerNewsDataSource\n",
    "\n",
    "from helpers.processor import Processor, FILTER_PROMPT\n",
    "import helpers.visualizer as visualizer\n",
    "\n",
    "secrets = toml.load(\"secrets.toml\")\n",
    "config = toml.load(CONFIG_FILE)\n",
    "\n",
    "ANALYSIS_USE_CASE = config[\"use_case\"]\n",
    "FIELDS = config[\"fields\"]\n",
    "\n",
    "DEEPINFRA_CONFIG = secrets.get(\"deepinfra\", {})\n",
    "DEEPINFRA_LLM = OpenAI(\n",
    "  api_key=DEEPINFRA_CONFIG.get(\"api_key\"),\n",
    "  base_url=DEEPINFRA_CONFIG.get(\"base_url\"), \n",
    ")\n",
    "\n",
    "OPENAI_CONFIG = secrets.get(\"openai\", {})\n",
    "OPENAI_LLM = OpenAI(\n",
    "  api_key=OPENAI_CONFIG.get(\"api_key\"),\n",
    "  base_url=OPENAI_CONFIG.get(\"base_url\"), \n",
    ")\n",
    "\n",
    "processor = Processor(\n",
    "    use_case_description=ANALYSIS_USE_CASE,\n",
    "    filter_prompt=FILTER_PROMPT,\n",
    "    extraction_schema=FIELDS,\n",
    "    filter_llm_client=DEEPINFRA_LLM,\n",
    "    filter_model=\"meta-llama/Llama-3.3-70B-Instruct-Turbo\",  # Cheaper model for filtering\n",
    "    extract_llm_client=DEEPINFRA_LLM,\n",
    "    extract_model=\"meta-llama/Meta-Llama-3.1-405B-Instruct\",  # More accurate model for extraction\n",
    ")"
   ]
  },
  {
   "cell_type": "code",
   "execution_count": 3,
   "metadata": {},
   "outputs": [],
   "source": [
    "data_sources = []\n",
    "\n",
    "for ds_conf in config[\"data_sources\"]:\n",
    "    ds_type = ds_conf.pop(\"type\", None)\n",
    "    if ds_type == \"reddit\":\n",
    "        data_sources.append(RedditDataSource(**ds_conf))\n",
    "    elif ds_type == \"hackernews\":\n",
    "        data_sources.append(HackerNewsDataSource(**ds_conf))\n",
    "    else:\n",
    "        print(f\"Unknown data source type: {ds_type}\")"
   ]
  },
  {
   "cell_type": "code",
   "execution_count": 4,
   "metadata": {},
   "outputs": [],
   "source": [
    "dfs = [source.get_data() for source in data_sources]\n",
    "df = pd.concat(dfs, ignore_index=True).drop_duplicates(subset='id')"
   ]
  },
  {
   "cell_type": "code",
   "execution_count": null,
   "metadata": {},
   "outputs": [],
   "source": [
    "# df_filtered = processor.filter_data(df.sample(n=100, random_state=42))  # For testing with a small random sample\n",
    "df_filtered = processor.filter_data(df)  # 1st level filtering\n",
    "df_extracted = processor.extract_fields(df_filtered)  # Extraction of structured data\n",
    "samples = df_extracted[df_extracted['relevant_sample'] == True]  # 2nd level filtering\n",
    "print(f\"Samples: initial={len(df)}, after 1st filter={len(df_filtered[df_filtered['is_relevant']==True])}, final={len(samples)}\")"
   ]
  },
  {
   "cell_type": "code",
   "execution_count": null,
   "metadata": {},
   "outputs": [],
   "source": [
    "# # Backup dataframes to output files\n",
    "# df.to_json(f\"out/{CONFIG_TAG}.json\", orient='records', date_format='iso')\n",
    "# df_filtered.to_json(f\"out/{CONFIG_TAG}-filtered.json\", orient='records', date_format='iso') \n",
    "# samples.to_json(f\"out/{CONFIG_TAG}-samples.json\", orient='records', date_format='iso')"
   ]
  },
  {
   "cell_type": "code",
   "execution_count": null,
   "metadata": {},
   "outputs": [],
   "source": [
    "# Simple plots are created automatically by vizualizer\n",
    "viz = visualizer.Visualization(samples, FIELDS)\n",
    "viz.plot_all_fields(show_examples=True)\n",
    "viz.show_samples(n=3, extra_fields=['sentiment','use_cases'])\n",
    "viz.plot_by_time('created_utc', \"Posts Over Time\")\n",
    "# viz.plot_group_comparison('subreddit', 'sentiment', agg='mean')\n",
    "# viz.plot_correlation(['sentiment'])"
   ]
  }
 ],
 "metadata": {
  "kernelspec": {
   "display_name": "venv",
   "language": "python",
   "name": "python3"
  },
  "language_info": {
   "codemirror_mode": {
    "name": "ipython",
    "version": 3
   },
   "file_extension": ".py",
   "mimetype": "text/x-python",
   "name": "python",
   "nbconvert_exporter": "python",
   "pygments_lexer": "ipython3",
   "version": "3.13.1"
  }
 },
 "nbformat": 4,
 "nbformat_minor": 2
}
