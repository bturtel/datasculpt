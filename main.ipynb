{
 "cells": [
  {
   "cell_type": "code",
   "execution_count": 4,
   "metadata": {},
   "outputs": [],
   "source": [
    "import toml\n",
    "import pandas as pd\n",
    "from openai import OpenAI\n",
    "from datasource import RedditDataSource\n",
    "from processor import Processor\n",
    "\n",
    "# Load secrets and set up OpenAI clients\n",
    "secrets = toml.load(\"secrets.toml\")\n",
    "openai_key = secrets[\"OPEN_AI_KEY\"]\n",
    "\n",
    "filter_llm_client = OpenAI(api_key=openai_key)\n",
    "extract_llm_client = OpenAI(api_key=openai_key)\n",
    "\n",
    "ANALYSIS_USE_CASE = \"\"\"\n",
    "We are analyzing Reddit posts to understand how people are using AI and chatbots for mental health...\n",
    "(Your original text as needed)\n",
    "\"\"\"\n",
    "\n",
    "FIELDS = {\n",
    "    \"relevant_sample\": {\"type\": \"boolean\", \"description\": \"...\"},\n",
    "    \"relevant_sample_explanation\": {\"type\": \"string\", \"description\": \"...\"},\n",
    "    \"sentiment\": {\"type\": \"integer\", \"description\": \"...\"},\n",
    "    \"benefits\": {\"type\": \"array\", \"items\": {\"type\":\"string\"}, \"description\":\"...\"},\n",
    "    \"downsides\": {\"type\": \"array\", \"items\": {\"type\":\"string\"}, \"description\":\"...\"},\n",
    "    \"use_cases\": {\"type\": \"array\", \"items\": {\"type\":\"string\"}, \"description\":\"...\"},\n",
    "    \"conditions\": {\"type\": \"array\", \"items\": {\"type\":\"string\"}, \"description\":\"...\"},\n",
    "    \"seeing_provider\": {\"type\": \"boolean\", \"description\":\"...\"},\n",
    "    \"previous_provider\": {\"type\": \"boolean\", \"description\":\"...\"},\n",
    "    \"provider_problems\": {\"type\": \"array\", \"items\":{\"type\":\"string\"}, \"description\":\"...\"},\n",
    "    \"fields_explanation\": {\"type\":\"string\", \"description\":\"...\"}\n",
    "}\n",
    "\n",
    "FILTER_PROMPT = \"Is this text relevant to the described use case? Answer 'Yes' or 'No' and explain briefly.\"\n"
   ]
  },
  {
   "cell_type": "code",
   "execution_count": 5,
   "metadata": {},
   "outputs": [],
   "source": [
    "processor = Processor(\n",
    "    use_case_description=ANALYSIS_USE_CASE,\n",
    "    filter_prompt=FILTER_PROMPT,\n",
    "    extraction_schema=FIELDS,\n",
    "    filter_llm_client=filter_llm_client,\n",
    "    extract_llm_client=extract_llm_client,\n",
    "    filter_model=\"gpt-4o-mini\",  # Cheaper model for filtering\n",
    "    extract_model=\"gpt-4o-mini\"       # More accurate model for extraction\n",
    ")"
   ]
  },
  {
   "cell_type": "code",
   "execution_count": 6,
   "metadata": {},
   "outputs": [
    {
     "ename": "TypeError",
     "evalue": "RedditDataSource.__init__() missing 2 required positional arguments: 'subreddits' and 'reddit_client'",
     "output_type": "error",
     "traceback": [
      "\u001b[0;31m---------------------------------------------------------------------------\u001b[0m",
      "\u001b[0;31mTypeError\u001b[0m                                 Traceback (most recent call last)",
      "Cell \u001b[0;32mIn[6], line 1\u001b[0m\n\u001b[0;32m----> 1\u001b[0m data_source \u001b[38;5;241m=\u001b[39m \u001b[43mRedditDataSource\u001b[49m\u001b[43m(\u001b[49m\n\u001b[1;32m      2\u001b[0m \u001b[43m    \u001b[49m\u001b[43mquery\u001b[49m\u001b[38;5;241;43m=\u001b[39;49m\u001b[38;5;124;43m\"\u001b[39;49m\u001b[38;5;124;43m(AI OR chatbot OR GPT) AND (mental health OR therapy)\u001b[39;49m\u001b[38;5;124;43m\"\u001b[39;49m\u001b[43m,\u001b[49m\n\u001b[1;32m      3\u001b[0m \u001b[43m    \u001b[49m\u001b[43mlimit\u001b[49m\u001b[38;5;241;43m=\u001b[39;49m\u001b[38;5;241;43m20\u001b[39;49m\u001b[43m,\u001b[49m\n\u001b[1;32m      4\u001b[0m \u001b[43m    \u001b[49m\u001b[43minclude_comments\u001b[49m\u001b[38;5;241;43m=\u001b[39;49m\u001b[38;5;28;43;01mTrue\u001b[39;49;00m\n\u001b[1;32m      5\u001b[0m \u001b[43m)\u001b[49m\n\u001b[1;32m      6\u001b[0m df \u001b[38;5;241m=\u001b[39m data_source\u001b[38;5;241m.\u001b[39mget_data()\n",
      "\u001b[0;31mTypeError\u001b[0m: RedditDataSource.__init__() missing 2 required positional arguments: 'subreddits' and 'reddit_client'"
     ]
    }
   ],
   "source": [
    "data_source = RedditDataSource(\n",
    "    query=\"(AI OR chatbot OR GPT) AND (mental health OR therapy)\",\n",
    "    limit=20,\n",
    "    include_comments=True\n",
    ")\n",
    "df = data_source.get_data()"
   ]
  },
  {
   "cell_type": "code",
   "execution_count": null,
   "metadata": {},
   "outputs": [],
   "source": [
    "\n",
    "\n",
    "\n",
    "# Load data from Reddit, no subreddits specified so defaults to 'all'\n",
    "\n",
    "\n",
    "# If you wanted multiple sources:\n",
    "# data_source2 = RedditDataSource(query=\"(AI OR chatbot OR GPT)\", limit=10, include_comments=False, subreddits=[\"ADHD\",\"anxiety\"])\n",
    "# df2 = data_source2.get_data()\n",
    "# df = pd.concat([df, df2], ignore_index=True).drop_duplicates(subset='id')\n",
    "\n",
    "# Filter data\n",
    "df_filtered = processor.filter_data(df)\n",
    "\n",
    "# Extract fields\n",
    "df_extracted = processor.extract_fields(df_filtered)\n",
    "\n",
    "df_extracted.head()\n",
    "\n",
    "# After this, you can visualize, group, etc. outside of the processor.\n",
    "# For example, to plot sentiment distribution:\n",
    "# import plotly.express as px\n",
    "# df_relevant = df_extracted[df_extracted[\"is_relevant\"] == True]\n",
    "# if \"sentiment\" in df_relevant.columns and df_relevant[\"sentiment\"].notnull().any():\n",
    "#     fig = px.histogram(df_relevant, x=\"sentiment\", title=\"Sentiment distribution\")\n",
    "#     fig.show()\n"
   ]
  }
 ],
 "metadata": {
  "kernelspec": {
   "display_name": "venv",
   "language": "python",
   "name": "python3"
  },
  "language_info": {
   "codemirror_mode": {
    "name": "ipython",
    "version": 3
   },
   "file_extension": ".py",
   "mimetype": "text/x-python",
   "name": "python",
   "nbconvert_exporter": "python",
   "pygments_lexer": "ipython3",
   "version": "3.11.3"
  }
 },
 "nbformat": 4,
 "nbformat_minor": 2
}
