{
 "cells": [
  {
   "cell_type": "code",
   "execution_count": 5,
   "metadata": {},
   "outputs": [],
   "source": [
    "CONFIG_FILE = \"configs/ivf.toml\"\n",
    "\n",
    "# TODO: Do a first pass to get examples and fields automatically"
   ]
  },
  {
   "cell_type": "code",
   "execution_count": null,
   "metadata": {},
   "outputs": [],
   "source": [
    "import toml\n",
    "import pandas as pd\n",
    "from openai import OpenAI\n",
    "from datasource import RedditDataSource\n",
    "from processor import Processor, FILTER_PROMPT\n",
    "import visualizer\n",
    "from importlib import reload\n",
    "\n",
    "config = toml.load(CONFIG_FILE)\n",
    "ANALYSIS_USE_CASE = config[\"use_case\"]\n",
    "FIELDS = config[\"fields\"]\n",
    "\n",
    "secrets = toml.load(\"secrets.toml\")\n",
    "\n",
    "DEEPINFRA = \"deepinfra\"\n",
    "DEEPINFRA_LLM = OpenAI(\n",
    "  api_key=secrets.get(DEEPINFRA, {}).get(\"api_key\"),\n",
    "  base_url=secrets.get(DEEPINFRA, {}).get(\"base_url\"), \n",
    ")\n",
    "\n",
    "OPENAI = \"openai\"\n",
    "OPENAI_LLM = OpenAI(\n",
    "  api_key=secrets.get(OPENAI, {}).get(\"api_key\"),\n",
    "  base_url=secrets.get(OPENAI, {}).get(\"base_url\"), \n",
    ")\n",
    "\n",
    "processor = Processor(\n",
    "    use_case_description=ANALYSIS_USE_CASE,\n",
    "    filter_prompt=FILTER_PROMPT,\n",
    "    extraction_schema=FIELDS,\n",
    "    filter_llm_client=DEEPINFRA_LLM,\n",
    "    filter_model=\"meta-llama/Llama-3.3-70B-Instruct-Turbo\",  # Cheaper model for filtering\n",
    "    extract_llm_client=DEEPINFRA_LLM,\n",
    "    extract_model=\"meta-llama/Meta-Llama-3.1-405B-Instruct\",      # More accurate model for extraction\n",
    ")"
   ]
  },
  {
   "cell_type": "code",
   "execution_count": 6,
   "metadata": {},
   "outputs": [],
   "source": [
    "data_sources = []\n",
    "for ds_conf in config[\"data_sources\"]:\n",
    "    ds_type = ds_conf.pop(\"type\", None)\n",
    "    if ds_type == \"reddit\":\n",
    "        data_sources.append(RedditDataSource(**ds_conf))\n",
    "    else:\n",
    "        print(f\"Unknown data source type: {ds_type}\")"
   ]
  },
  {
   "cell_type": "code",
   "execution_count": 7,
   "metadata": {},
   "outputs": [],
   "source": [
    "dfs = [source.get_data() for source in data_sources]\n",
    "df = pd.concat(dfs, ignore_index=True).drop_duplicates(subset='id')"
   ]
  },
  {
   "cell_type": "code",
   "execution_count": null,
   "metadata": {},
   "outputs": [],
   "source": [
    "# df_filtered = processor.filter_data(df.sample(n=100, random_state=42))  # For testing only\n",
    "df_filtered = processor.filter_data(df)  # 1st level filtering\n",
    "df_extracted = processor.extract_fields(df_filtered)  # Extraction of structured data\n",
    "samples = df_extracted[df_extracted['relevant_sample'] == True]  # 2nd level filtering\n",
    "print(f\"Samples: initial={len(df)}, after 1st filter={len(df_filtered[df_filtered['is_relevant']==True])}, final={len(samples)}\")\n",
    "\n",
    "# # Save dataframes to output files\n",
    "# df.to_json(\"out/ivf-raw.json\", orient='records', date_format='iso')\n",
    "# df_filtered.to_json(\"out/ivf-filtered.json\", orient='records', date_format='iso') \n",
    "# samples.to_json(\"out/ivf-samples.json\", orient='records', date_format='iso')\n"
   ]
  },
  {
   "cell_type": "code",
   "execution_count": null,
   "metadata": {},
   "outputs": [],
   "source": [
    "reload(visualizer)\n",
    "viz = visualizer.Visualization(samples, FIELDS)\n",
    "viz.plot_all_fields(show_examples=True)\n",
    "viz.show_samples(n=3, extra_fields=['sentiment','use_cases'])\n",
    "viz.plot_by_time('created_utc', \"Posts Over Time\")\n",
    "viz.plot_group_comparison('subreddit', 'sentiment', agg='mean')\n",
    "viz.plot_correlation(['sentiment'])  "
   ]
  },
  {
   "cell_type": "markdown",
   "metadata": {},
   "source": [
    "# Art Basel"
   ]
  },
  {
   "cell_type": "code",
   "execution_count": 3,
   "metadata": {},
   "outputs": [],
   "source": [
    "import toml\n",
    "import pandas as pd\n",
    "from openai import OpenAI\n",
    "from datasource import RedditDataSource\n",
    "from processor import Processor, FILTER_PROMPT\n",
    "import visualizer\n",
    "from importlib import reload"
   ]
  },
  {
   "cell_type": "code",
   "execution_count": 39,
   "metadata": {},
   "outputs": [],
   "source": [
    "data_source = RedditDataSource(query=\"'Untitled Art'\", include_comments=False)\n",
    "df = data_source.get_data()"
   ]
  },
  {
   "cell_type": "code",
   "execution_count": null,
   "metadata": {},
   "outputs": [],
   "source": [
    "df['subreddit'].value_counts()"
   ]
  },
  {
   "cell_type": "code",
   "execution_count": null,
   "metadata": {},
   "outputs": [],
   "source": [
    "import plotly.express as px\n",
    "counts = df['subreddit'].value_counts().head(20)  # Just top 10 for clarity\n",
    "fig = px.bar(x=counts.index, y=counts.values, \n",
    "             title='Top Subreddits',\n",
    "             labels={'x': 'Subreddit', 'y': 'Number of Posts'})\n",
    "fig.show()"
   ]
  }
 ],
 "metadata": {
  "kernelspec": {
   "display_name": "venv",
   "language": "python",
   "name": "python3"
  },
  "language_info": {
   "codemirror_mode": {
    "name": "ipython",
    "version": 3
   },
   "file_extension": ".py",
   "mimetype": "text/x-python",
   "name": "python",
   "nbconvert_exporter": "python",
   "pygments_lexer": "ipython3",
   "version": "3.11.3"
  }
 },
 "nbformat": 4,
 "nbformat_minor": 2
}
