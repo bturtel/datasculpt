{
 "cells": [
  {
   "cell_type": "markdown",
   "metadata": {},
   "source": [
    "# Setup"
   ]
  },
  {
   "cell_type": "code",
   "execution_count": 1,
   "metadata": {},
   "outputs": [],
   "source": [
    "import os\n",
    "import pandas as pd\n",
    "import praw\n",
    "import toml\n",
    "from openai import OpenAI\n",
    "import plotly.express as px\n",
    "from collections import Counter\n",
    "import itertools\n",
    "from IPython.display import HTML, display\n",
    "import numpy as np\n",
    "\n",
    "secrets = toml.load(\"secrets.toml\")\n",
    "openai_key = secrets[\"OPEN_AI_KEY\"]\n",
    "REDDIT = praw.Reddit(\n",
    "    client_id=secrets[\"reddit\"][\"client_id\"],\n",
    "    client_secret=secrets[\"reddit\"][\"client_secret\"],\n",
    "    user_agent=secrets[\"reddit\"][\"user_agent\"]\n",
    ")\n",
    "\n",
    "client = OpenAI(api_key=openai_key)"
   ]
  },
  {
   "cell_type": "code",
   "execution_count": 2,
   "metadata": {},
   "outputs": [],
   "source": [
    "ANALYSIS_USE_CASE = \"\"\"\n",
    "We are analyzing Reddit posts to understand how people are using AI and chatbots for mental health, coaching, or emotional support.\n",
    "Specifically, we want to identify posts where users share their personal experiences using AI tools for:\n",
    "- Managing mental health conditions (anxiety, depression, ADHD, OCD, PTSD, trauma, etc.)\n",
    "- Emotional support and wellbeing\n",
    "- Therapy supplements or alternatives\n",
    "- Wellness coaching and goal setting\n",
    "- Help focusing, goal setting, managing stress, overcoming obstacles, etc.\n",
    "- Other similar use cases for AI in mental health\n",
    "\n",
    "The post should include first-hand experience using AI tools, not just general discussion about AI in mental health.\n",
    "This does NOT need to be the main focus of the post, but it should clearly mention using AI for the use case described.\n",
    "We want to extract structured data about their experiences, including benefits, challenges, and specific use cases.\n",
    "Do NOT make stuff up.  ONLY use keywords that accurately fit what the schema describes. \n",
    "A keyword that applies to the post generally but not specifically to what is asked for by the schema should not be used.\n",
    "\"\"\"\n",
    "\n",
    "FIELDS = {\n",
    "    \"relevant_sample\": {\n",
    "        \"type\": \"boolean\",\n",
    "        \"description\": \"Boolean indicating if text describes personal experience using AI for the use case described in the prompt\"\n",
    "    },\n",
    "    \"relevant_sample_explanation\": {\n",
    "        \"type\": \"string\",\n",
    "        \"description\": \"Explanation of why the sample was classified as relevant or not relevant\"\n",
    "    },\n",
    "    \"sentiment\": {\n",
    "        \"type\": \"integer\",\n",
    "        \"description\": \"Integer 1-10 indicating sentiment TOWARDS using AI for mental health (10 most positive).  This is NOT sentiment of the post overall, just sentiment towards the interaction with AI.\"\n",
    "    },\n",
    "    \"benefits\": {\n",
    "        \"type\": \"array\",\n",
    "        \"items\": {\"type\": \"string\"},\n",
    "        \"description\": \"List of keywords relating to perceived benefits of using the AI, e.g.: non_judgemental, on_demand, affordable, accessible, anonymous, consistent, supportive, patient\"\n",
    "    },\n",
    "    \"downsides\": {\n",
    "        \"type\": \"array\",\n",
    "        \"items\": {\"type\": \"string\"},\n",
    "        \"description\": \"List of keywords relating to downsides of using the AI, e.g.: repetitive, robotic, shallow, unreliable, addictive, avoidant, limited\"\n",
    "    },\n",
    "    \"use_cases\": {\n",
    "        \"type\": \"array\",\n",
    "        \"items\": {\"type\": \"string\"},\n",
    "        \"description\": \"List of keywords relating to how AI is used, e.g.: reflection, venting, self_talk, planning, CBT, journaling, motivation, reminders, emotional_support\"\n",
    "    },\n",
    "    \"conditions\": {\n",
    "        \"type\": \"array\",\n",
    "        \"items\": {\"type\": \"string\"},\n",
    "        \"description\": \"List of keywords describing conditions being addressed, e.g.: ADHD, depression, anxiety, addiction, OCD, PTSD, bipolar, eating_disorder\"\n",
    "    },\n",
    "    \"seeing_provider\": {\n",
    "        \"type\": \"boolean\",\n",
    "        \"description\": \"Boolean indicating if subject indicates they are CURRENTLY seeing a therapist or mental health provider\"\n",
    "    },\n",
    "    \"previous_provider\": {\n",
    "        \"type\": \"boolean\",\n",
    "        \"description\": \"Boolean indicating if subject indicates they have EVER seen a therapist or mental health provider\"\n",
    "    },\n",
    "    \"provider_problems\": {\n",
    "        \"type\": \"array\",\n",
    "        \"items\": {\"type\": \"string\"},\n",
    "        \"description\": \"List of keywords relating to perceived issues with HUMAN PROVIDERS, e.g.: expensive, unavailable, inaccessible, scheduling, inconsistent, judgmental\"\n",
    "    },\n",
    "    \"fields_explanation\": {\n",
    "        \"type\": \"string\",\n",
    "        \"description\": \"Concise but thorough explanation of your reasoning for each field in the schema (except for relevant_sample and relevant_sample_explanation)\"\n",
    "    },\n",
    "}"
   ]
  },
  {
   "cell_type": "markdown",
   "metadata": {},
   "source": [
    "# Query Reddit Posts"
   ]
  },
  {
   "cell_type": "markdown",
   "metadata": {},
   "source": [
    "- [Reddit search docs](https://support.reddithelp.com/hc/en-us/articles/19696541895316-Available-search-features)\n",
    "- [PRAW docs](https://praw.readthedocs.io/en/stable/code_overview/models/subreddit.html)"
   ]
  },
  {
   "cell_type": "markdown",
   "metadata": {},
   "source": [
    "### Specific Subreddits"
   ]
  },
  {
   "cell_type": "code",
   "execution_count": 28,
   "metadata": {},
   "outputs": [],
   "source": [
    "subreddits = (\n",
    "    \"ADHD, Advice, Adulting, Alcoholism, Anger, Anxiety, AsianParentStories, \"\n",
    "    \"aspergirls, BipolarReddit, BlackMentalHealth, bodyacceptance, bpd, \"\n",
    "    \"careerguidance, CPTSD, dating_advice, dbtselfhelp, \"\n",
    "    \"DecidingToBeBetter, depression, depression_help, EDAnonymous, Enneagram, \"\n",
    "    \"GetMotivated, HealthAnxiety, Healthygamergg, hopefulmentalhealth, \"\n",
    "    \"lawofattraction, LucidDreaming, malementalhealth, meditation, \"\n",
    "    \"mental, mentalhealth, mentalhealthadvice, \"\n",
    "    \"mentalhealthph, mentalhealthsupport, mentalhealthuk, \"\n",
    "    \"mentalillness, MensMentalHealth, microdosing, \"\n",
    "    \"MMFB, nofap, nosurf, OCD, offmychest, pornfree, productivity, \"\n",
    "    \"Psychiatry, psychology, ptsd, QAnonCasualties, \"\n",
    "    \"raisedbynarcissists, relationship_advice, relationships, \"\n",
    "    \"selfimprovement, socialanxiety, socialskills, StopSmoking, Stress, \"\n",
    "    \"suicidewatch, TalkTherapy, teenagers, therapy, therapists, \"\n",
    "    \"traumatoolbox, TrueOffMyChest, WellnessPT\"\n",
    ")"
   ]
  },
  {
   "cell_type": "code",
   "execution_count": null,
   "metadata": {},
   "outputs": [],
   "source": [
    "import pandas as pd\n",
    "from tqdm import tqdm\n",
    "\n",
    "# Split subreddits string into list\n",
    "subreddit_list = [s.strip() for s in subreddits.split(',')]\n",
    "\n",
    "# Query for AI content in each subreddit\n",
    "posts = []\n",
    "query = '(AI OR \"artificial intelligence\" OR chatbot OR gpt OR chatGPT or Claude OR characterAI OR Gemini OR Woebot OR Wysa OR Youper Or Sintelly)'\n",
    "\n",
    "for subreddit in tqdm(subreddit_list):\n",
    "    try:\n",
    "        # Try to get the subreddit\n",
    "        sub = REDDIT.subreddit(subreddit)\n",
    "        \n",
    "        # Check if subreddit exists and has reasonable activity\n",
    "        try:\n",
    "            subscribers = sub.subscribers\n",
    "            if subscribers < 1000:\n",
    "                print(f\"Warning: {subreddit} has only {subscribers} subscribers\")\n",
    "                continue\n",
    "        except:\n",
    "            print(f\"Warning: Could not access subscriber count for {subreddit}\")\n",
    "            continue\n",
    "            \n",
    "        # Search within this subreddit\n",
    "        search_results = sub.search(\n",
    "            query,\n",
    "            sort='relevance',\n",
    "            time_filter='year',\n",
    "            limit=100\n",
    "        )\n",
    "        \n",
    "        # Add posts from this subreddit\n",
    "        for post in search_results:\n",
    "            posts.append({\n",
    "                'title': post.title,\n",
    "                'text': post.selftext,\n",
    "                'score': post.score,\n",
    "                'created_utc': post.created_utc,\n",
    "                'id': post.id,\n",
    "                'subreddit': post.subreddit.display_name,\n",
    "                'url': f\"https://reddit.com{post.permalink}\",\n",
    "                'num_comments': post.num_comments\n",
    "            })\n",
    "            \n",
    "    except Exception as e:\n",
    "        print(f\"Error accessing subreddit {subreddit}: {str(e)}\")\n",
    "        continue\n",
    "\n",
    "# Convert to dataframe\n",
    "subreddits_df = pd.DataFrame(posts)\n",
    "print(f\"\\nFound {len(subreddits_df)} total posts across all subreddits\")"
   ]
  },
  {
   "cell_type": "markdown",
   "metadata": {},
   "source": [
    "### Search with query"
   ]
  },
  {
   "cell_type": "code",
   "execution_count": null,
   "metadata": {},
   "outputs": [],
   "source": [
    "query = \"\"\"\n",
    "(title:AI OR title:\"artificial intelligence\" OR title:chatbot OR title:gpt OR title:Claude OR title:characterAI OR title:Gemini) AND \n",
    "(title:therapy OR title:therapist OR title:\"mental health\" OR title:anxiety OR title:adhd OR title:depression OR title:stress OR title:ocd OR title:relationships)\n",
    "\"\"\"\n",
    "posts = []\n",
    "search_results = REDDIT.subreddit(\"all\").search(\n",
    "    query,\n",
    "    sort='relevance',\n",
    "    syntax='lucene',\n",
    "    time_filter='year',\n",
    "    limit=10000\n",
    ")\n",
    "\n",
    "for post in search_results:\n",
    "    posts.append({\n",
    "        'title': post.title,\n",
    "        'text': post.selftext,\n",
    "        'score': post.score,\n",
    "        'created_utc': post.created_utc,\n",
    "        'id': post.id,\n",
    "        'subreddit': post.subreddit.display_name,\n",
    "        'url': f\"https://reddit.com{post.permalink}\",\n",
    "        'num_comments': post.num_comments\n",
    "    })\n",
    "    \n",
    "search_df = pd.DataFrame(posts)\n",
    "print(f\"Found {len(search_df)} posts\")\n",
    "print(\"\\nSample titles:\")\n",
    "print(search_df[['title', 'subreddit', 'score']].head())"
   ]
  },
  {
   "cell_type": "markdown",
   "metadata": {},
   "source": [
    "# Combine all posts"
   ]
  },
  {
   "cell_type": "code",
   "execution_count": null,
   "metadata": {},
   "outputs": [],
   "source": [
    "# Combine posts from both sources and deduplicate\n",
    "all_posts = pd.concat([subreddits_df, search_df], ignore_index=True)\n",
    "\n",
    "# Drop duplicates based on post ID since that's unique per Reddit post\n",
    "all_posts = all_posts.drop_duplicates(subset=['id'], keep='first')\n",
    "\n",
    "print(f\"Total posts after combining and deduping: {len(all_posts)}\")\n",
    "print(f\"Posts from subreddit search: {len(subreddits_df)}\")\n",
    "print(f\"Posts from keyword search: {len(search_df)}\")\n",
    "print(f\"Duplicates removed: {len(subreddits_df) + len(search_df) - len(all_posts)}\")"
   ]
  },
  {
   "cell_type": "code",
   "execution_count": null,
   "metadata": {},
   "outputs": [],
   "source": [
    "def deduplicate_posts(df):\n",
    "    \"\"\"Remove duplicate posts with same title/text, keeping the one with most comments\"\"\"\n",
    "    print(f\"Posts before deduplication: {len(df)}\")\n",
    "    \n",
    "    # Group by title and text to find duplicates\n",
    "    duplicates = df.groupby(['title', 'text']).agg({\n",
    "        'num_comments': 'max',  # Keep post with most comments\n",
    "        'id': 'count'  # Count occurrences\n",
    "    }).reset_index()\n",
    "\n",
    "    # Filter to only groups with duplicates\n",
    "    duplicates = duplicates[duplicates['id'] > 1]\n",
    "\n",
    "    # For each duplicate group, keep only the post with most comments\n",
    "    if len(duplicates) > 0:\n",
    "        for _, dup in duplicates.iterrows():\n",
    "            # Find all posts with this title/text\n",
    "            mask = (df['title'] == dup['title']) & (df['text'] == dup['text'])\n",
    "            # Keep only the one with most comments\n",
    "            to_drop = df[mask & (df['num_comments'] < dup['num_comments'])].index\n",
    "            df = df.drop(to_drop)\n",
    "\n",
    "    print(f\"Posts after deduplication: {len(df)}\")\n",
    "    return df\n",
    "\n",
    "all_posts = deduplicate_posts(all_posts)"
   ]
  },
  {
   "cell_type": "markdown",
   "metadata": {},
   "source": [
    "# Filter for relevance"
   ]
  },
  {
   "cell_type": "code",
   "execution_count": null,
   "metadata": {},
   "outputs": [],
   "source": [
    "def analyze_post_relevance(post, use_case):\n",
    "    # Analyze post relevance\n",
    "    response = client.chat.completions.create(\n",
    "        model=\"gpt-4o-mini\",\n",
    "        messages=[{\n",
    "            \"role\": \"user\", \n",
    "            \"content\": f\"\"\"Post Title: {post['title']}\n",
    "Post Content: {post.get('text', '[No content]')}\n",
    "Use Case: {use_case}\n",
    "Question: Is this post relevant to our use case? Please answer with a brief 'Yes' or 'No' and short explanation.\"\"\"\n",
    "        }]\n",
    "    )\n",
    "    \n",
    "    response_text = response.choices[0].message.content\n",
    "    \n",
    "    # Determine boolean based on start of response\n",
    "    is_relevant = None\n",
    "    if response_text.strip().lower().startswith('yes'):\n",
    "        is_relevant = True\n",
    "    elif response_text.strip().lower().startswith('no'):\n",
    "        is_relevant = False\n",
    "        \n",
    "    return (is_relevant, response_text)\n",
    "\n",
    "use_case = \"\"\"\n",
    "We are looking for posts relating to how people are using AI, chatbots, or virtual companions for mental health support or coaching.\n",
    "This can include for any purpose: anxiety, adhd, depression, stress, ocd, relationships, goal setting, wellbeing, etc.\n",
    "To qualify, the user must discuss their own experience using one of these tools, not just discussing in abstract or commenting on the use of AI in general.\n",
    "\"\"\"\n",
    "\n",
    "print_posts = False\n",
    "from tqdm import tqdm\n",
    "for idx, post in tqdm(all_posts.iterrows(), total=len(all_posts)):\n",
    "    # Skip if already analyzed\n",
    "    if pd.notna(post.get('is_relevant')):\n",
    "        continue\n",
    "        \n",
    "    is_relevant, analysis = analyze_post_relevance(post, use_case)\n",
    "    \n",
    "    # Add relevance fields to existing post\n",
    "    all_posts.at[idx, 'is_relevant'] = is_relevant\n",
    "    all_posts.at[idx, 'relevant_explanation'] = analysis\n",
    "    \n",
    "    # Print concise results\n",
    "    if print_posts:\n",
    "        print(f\"\\n[{post['subreddit']}] {post['title']}\")\n",
    "        print(f\"Link: {post['url']}\")\n",
    "        print(f\"Analysis: {analysis}\")\n",
    "        print(\"-\" * 50)\n",
    "\n",
    "print(\"\\nRelevant Post Counts:\\n\", all_posts['is_relevant'].value_counts())"
   ]
  },
  {
   "cell_type": "code",
   "execution_count": 245,
   "metadata": {},
   "outputs": [],
   "source": [
    "\n",
    "samples = all_posts[all_posts['is_relevant'] == True].drop(columns=['is_relevant', 'relevant_explanation']).copy()\n",
    "samples['created_utc'] = pd.to_datetime(samples['created_utc'], unit='s')\n",
    "samples.to_json('samples.json', orient='records', date_format='iso')"
   ]
  },
  {
   "cell_type": "markdown",
   "metadata": {},
   "source": [
    "# Extract Fields with AI"
   ]
  },
  {
   "cell_type": "code",
   "execution_count": null,
   "metadata": {},
   "outputs": [],
   "source": [
    "from typing import Dict, Any\n",
    "import pprint\n",
    "import json\n",
    "\n",
    "def extract_fields(text: str, fields: Dict[str, dict], prompt: str) -> Dict[str, Any]:\n",
    "    \"\"\"Extract structured fields from text using OpenAI\"\"\"\n",
    "    schema = {\n",
    "        \"name\": \"extract_fields\",\n",
    "        \"strict\": True,\n",
    "        \"schema\": {\n",
    "            \"type\": \"object\",\n",
    "            \"properties\": fields,\n",
    "            \"required\": list(fields.keys()),\n",
    "            \"additionalProperties\": False\n",
    "        }\n",
    "    }\n",
    "    \n",
    "    response = client.chat.completions.create(\n",
    "        model=\"gpt-4o\",\n",
    "        messages=[\n",
    "            {\"role\": \"system\", \"content\": prompt},\n",
    "            {\"role\": \"user\", \"content\": text}\n",
    "        ],\n",
    "        response_format={\n",
    "            \"type\": \"json_schema\",\n",
    "            \"json_schema\": schema\n",
    "        }\n",
    "    )\n",
    "    return json.loads(response.choices[0].message.content)\n",
    "\n",
    "\n",
    "prompt=ANALYSIS_USE_CASE + \"\\n\\nAnalyze the following Reddit post and extract the requested fields, carefully, according to the schema.  Explain your reasoning in the last field.\"\n",
    "\n",
    "# Store results in a dictionary\n",
    "results = {}\n",
    "\n",
    "# Loop through all samples and extract fields\n",
    "for idx, sample in tqdm(samples.iterrows(), total=len(samples), desc=\"Extracting fields\"):\n",
    "    text = f\"{sample['title']}\\n\\n{sample['text']}\"\n",
    "    result = extract_fields(text, FIELDS, prompt)\n",
    "    results[idx] = result\n",
    "\n",
    "# Convert results dictionary to dataframe and merge with original\n",
    "results_df = pd.DataFrame.from_dict(results, orient='index')\n",
    "samples = samples.merge(results_df, left_index=True, right_index=True)\n",
    "samples.to_json('samples-with-fields-4o.json', orient='records', date_format='iso')"
   ]
  },
  {
   "cell_type": "code",
   "execution_count": 8,
   "metadata": {},
   "outputs": [],
   "source": [
    "# Read data back in\n",
    "samples = pd.read_json('samples-with-fields-4o.json', orient='records')"
   ]
  },
  {
   "cell_type": "markdown",
   "metadata": {},
   "source": [
    "# Filter 2nd pass"
   ]
  },
  {
   "cell_type": "code",
   "execution_count": 9,
   "metadata": {},
   "outputs": [
    {
     "name": "stdout",
     "output_type": "stream",
     "text": [
      "Breakdown of relevant_sample vs not:\n",
      "relevant_sample\n",
      "True     516\n",
      "False    210\n",
      "Name: count, dtype: int64\n"
     ]
    }
   ],
   "source": [
    "relevant_counts = samples['relevant_sample'].value_counts()\n",
    "print(\"Breakdown of relevant_sample vs not:\")\n",
    "print(relevant_counts)"
   ]
  },
  {
   "cell_type": "code",
   "execution_count": null,
   "metadata": {},
   "outputs": [],
   "source": [
    "\n",
    "def display_irrelevant_samples(df):\n",
    "    # Create combined text field\n",
    "    df['combined_text'] = '[' + df['subreddit'] + '] ' + \\\n",
    "                         df['title'] + ' : ' + \\\n",
    "                         df['text']\n",
    "\n",
    "    # Create relevance field                                    \n",
    "    df['relevance_info'] = df['relevant_sample'].astype(str) + \\\n",
    "                          ' : ' + df['relevant_sample_explanation']\n",
    "\n",
    "    display(df[['combined_text', 'relevance_info']].style.set_properties(**{\n",
    "        'white-space': 'pre-wrap',\n",
    "        'text-align': 'left'\n",
    "    }).set_table_styles([\n",
    "        {'selector': 'th', 'props': [('text-align', 'left')]},\n",
    "        {'selector': '', 'props': [('border', '1px solid grey')]}\n",
    "    ]))\n",
    "\n",
    "display_irrelevant_samples(samples[~samples['relevant_sample']].sample(n=10))"
   ]
  },
  {
   "cell_type": "code",
   "execution_count": 19,
   "metadata": {},
   "outputs": [],
   "source": [
    "samples = samples[samples['relevant_sample'] == True]"
   ]
  },
  {
   "cell_type": "markdown",
   "metadata": {},
   "source": [
    "# Analysis Utilities"
   ]
  },
  {
   "cell_type": "code",
   "execution_count": 12,
   "metadata": {},
   "outputs": [],
   "source": [
    "def plot_distribution(data, column, title, x_label, save=True):\n",
    "    values = data[column].values\n",
    "    percentiles = np.percentile(values, [0, 25, 50, 75, 90, 95, 97.5, 99, 99.9, 100])\n",
    "    bucket_edges = np.unique([0, 1] + [int(p) for p in percentiles[1:]])\n",
    "    \n",
    "    bucket_labels = []\n",
    "    for i in range(len(bucket_edges)-1):\n",
    "        if bucket_edges[i+1] == bucket_edges[i]:\n",
    "            continue\n",
    "        if bucket_edges[i+1] == bucket_edges[i] + 1:\n",
    "            bucket_labels.append(str(bucket_edges[i]))\n",
    "        else:\n",
    "            bucket_labels.append(f'{bucket_edges[i]}-{bucket_edges[i+1]-1}')\n",
    "    \n",
    "    bucketed_values = pd.cut(values, bins=bucket_edges, labels=bucket_labels, right=False)\n",
    "    value_counts = bucketed_values.value_counts().sort_index()\n",
    "    \n",
    "    fig = px.bar(x=value_counts.index, y=value_counts.values,\n",
    "                 title=title,\n",
    "                 labels={'x': x_label, 'y': 'Number of Posts'})\n",
    "    \n",
    "    fig.update_layout(\n",
    "        bargap=0.2,\n",
    "        xaxis_title=x_label,\n",
    "        yaxis_title='Number of Posts'\n",
    "    )\n",
    "    fig.update_xaxes(tickangle=45)\n",
    "    \n",
    "    if save:\n",
    "        if not os.path.exists('plots'):\n",
    "            os.makedirs('plots')\n",
    "        fig.write_image(f\"plots/{title.lower().replace(' ', '_')}.png\")\n",
    "    \n",
    "    fig.show()\n",
    "\n",
    "def format_post(subreddit, title, text, score=None, url=None, keywords=None):\n",
    "    html = f\"\"\"\n",
    "    <div style=\"border: 1px solid #ddd; border-radius: 8px; padding: 15px; margin: 10px 5px; background-color: #f9f9f9; display: inline-block; vertical-align: top; width: 30%;\">\n",
    "        <div style=\"color: #666; font-size: 0.9em; margin-bottom: 5px;\">\n",
    "            <a href=\"https://reddit.com/r/{subreddit}\" target=\"_blank\" style=\"text-decoration: none; color: inherit;\">r/{subreddit}</a>\n",
    "        </div>\n",
    "        <div style=\"color: #333; font-size: 1.1em; font-weight: bold; margin-bottom: 10px;\">\n",
    "            <a href=\"{url if url else '#'}\" target=\"_blank\" style=\"text-decoration: none; color: inherit;\">{title}</a>\n",
    "        </div>\n",
    "        {'<div style=\"color: #1a0dab; margin-bottom: 10px;\">Score: ' + str(score) + '</div>' if score is not None else ''}\n",
    "        {'<div style=\"color: #666; margin-bottom: 10px;\">Keywords: ' + ', '.join(keywords) + '</div>' if keywords else ''}\n",
    "        <div style=\"color: #444; line-height: 1.4; max-height: 200px; overflow-y: auto;\">{text[:500]}...</div>\n",
    "    </div>\n",
    "    \"\"\"\n",
    "    return html\n",
    "\n",
    "def display_examples_section(title):\n",
    "    display(HTML(f'<div style=\"margin: 10px 0;\"><h4 style=\"color: #333; margin: 0; padding: 5px 0; border-bottom: 1px solid #ccc;\">{title}</h4></div>'))\n",
    "\n",
    "def plot_binary_distribution(df, field_name, title, show_examples=False, save=True):\n",
    "    counts = df[field_name].value_counts()\n",
    "    percentages = (counts / len(df)) * 100\n",
    "    fig = px.pie(values=percentages.values, names=percentages.index, title=title)\n",
    "    fig.update_traces(texttemplate='%{value:.1f}%')\n",
    "    \n",
    "    if save:\n",
    "        if not os.path.exists('plots'):\n",
    "            os.makedirs('plots')\n",
    "        fig.write_image(f\"plots/{title.lower().replace(' ', '_')}.png\")\n",
    "    \n",
    "    fig.show()\n",
    "\n",
    "    if show_examples:\n",
    "        for value in counts.index:\n",
    "            display_examples_section(f\"Example Posts for {field_name}\")\n",
    "            html_output = '<div style=\"display: flex; flex-direction: row; justify-content: space-between;\">'\n",
    "            example_posts = df[df[field_name] == value].sample(n=3)\n",
    "            for _, post in example_posts.iterrows():\n",
    "                html_output += format_post(post['subreddit'], post['title'], post['text'], url=post.get('url'))\n",
    "            html_output += \"</div>\"\n",
    "            display(HTML(html_output))\n",
    "\n",
    "def plot_integer_distribution(df, field_name, title, show_examples=False, save=True):\n",
    "    fig = px.histogram(df, x=field_name, title=title, nbins=10)\n",
    "    fig.update_traces(histnorm='percent')\n",
    "    \n",
    "    mean_val = df[field_name].mean()\n",
    "    fig.add_vline(x=mean_val, line_dash=\"dash\", line_color=\"red\",\n",
    "                 annotation_text=f\"Mean: {mean_val:.2f}\",\n",
    "                 annotation_position=\"top right\")\n",
    "    \n",
    "    fig.update_layout(yaxis_title=\"Percent\")\n",
    "    \n",
    "    if save:\n",
    "        if not os.path.exists('plots'):\n",
    "            os.makedirs('plots')\n",
    "        fig.write_image(f\"plots/{title.lower().replace(' ', '_')}.png\")\n",
    "    \n",
    "    fig.show()\n",
    "\n",
    "    if show_examples:\n",
    "        display_examples_section(f\"Example Posts with {field_name} Scores\")\n",
    "        html_output = '<div style=\"display: flex; flex-direction: row; justify-content: space-between;\">'\n",
    "        example_posts = df.sample(n=3)\n",
    "        for _, post in example_posts.iterrows():\n",
    "            html_output += format_post(post['subreddit'], post['title'], post['text'], post[field_name], url=post.get('url'))\n",
    "        html_output += \"</div>\"\n",
    "        display(HTML(html_output))\n",
    "\n",
    "def plot_list_field(df, field_name, title, limit=10, show_examples=False, save=True):\n",
    "    all_items = list(itertools.chain(*df[field_name].dropna()))\n",
    "    item_counts = Counter(all_items).most_common(limit)\n",
    "    if item_counts:\n",
    "        df_counts = pd.DataFrame(item_counts, columns=[field_name, 'count'])\n",
    "        total_posts = len(df)\n",
    "        df_counts['percent'] = df_counts['count'].apply(lambda x: (x / total_posts) * 100)\n",
    "        \n",
    "        fig = px.bar(df_counts, x=field_name, y='percent', title=title)\n",
    "        fig.update_layout(yaxis_title=\"Percent of Posts\")\n",
    "        \n",
    "        if save:\n",
    "            if not os.path.exists('plots'):\n",
    "                os.makedirs('plots')\n",
    "            fig.write_image(f\"plots/{title.lower().replace(' ', '_')}.png\")\n",
    "        \n",
    "        fig.show()\n",
    "\n",
    "        if show_examples:\n",
    "            display_examples_section(f\"Example Posts with Keywords\")\n",
    "            html_output = '<div style=\"display: flex; flex-direction: row; justify-content: space-between;\">'\n",
    "            example_posts = df[df[field_name].apply(lambda x: len(x) > 0)].sample(n=3)\n",
    "            for _, post in example_posts.iterrows():\n",
    "                html_output += format_post(\n",
    "                    post['subreddit'], \n",
    "                    post['title'], \n",
    "                    post['text'],\n",
    "                    url=post.get('url'),\n",
    "                    keywords=post[field_name]\n",
    "                )\n",
    "            html_output += \"</div>\"\n",
    "            display(HTML(html_output))\n",
    "\n",
    "def plot_all_fields(df, fields_dict, show_examples=True, save=False):\n",
    "    for field_name, field_info in fields_dict.items():\n",
    "        if field_info['type'] == 'boolean':\n",
    "            plot_binary_distribution(df, field_name, f'Distribution of {field_name}', show_examples=show_examples, save=save)\n",
    "        elif field_info['type'] == 'integer':\n",
    "            plot_integer_distribution(df, field_name, f'{field_name} Distribution', show_examples=show_examples, save=save)\n",
    "        elif field_info['type'] == 'array':\n",
    "            plot_list_field(df, field_name, f'Most Common {field_name.capitalize()}', show_examples=show_examples, save=save)"
   ]
  },
  {
   "cell_type": "code",
   "execution_count": 27,
   "metadata": {},
   "outputs": [
    {
     "data": {
      "text/html": [
       "\n",
       "    <div style=\"border: 1px solid #ddd; border-radius: 8px; padding: 15px; margin: 10px 5px; background-color: #f9f9f9; display: inline-block; vertical-align: top; width: 30%;\">\n",
       "        <div style=\"color: #666; font-size: 0.9em; margin-bottom: 5px;\">\n",
       "            <a href=\"https://reddit.com/r/ChatGPT\" target=\"_blank\" style=\"text-decoration: none; color: inherit;\">r/ChatGPT</a>\n",
       "        </div>\n",
       "        <div style=\"color: #333; font-size: 1.1em; font-weight: bold; margin-bottom: 10px;\">\n",
       "            <a href=\"https://reddit.com/r/ChatGPT/comments/1f85dl7/chatgpt_therapy_saved_me/\" target=\"_blank\" style=\"text-decoration: none; color: inherit;\">ChatGPT therapy saved me</a>\n",
       "        </div>\n",
       "        \n",
       "        <div style=\"color: #666; margin-bottom: 10px;\">Keywords: supportive, understanding, therapy_alternative, emotional_support, expensive, Has previous provider, Sentiment: 8/10</div>\n",
       "        <div style=\"color: #444; line-height: 1.4; max-height: 200px; overflow-y: auto;\">Please never and I mean NEVER take this thing away from me, helped me realise more stuff than in a 120e session therapist did. And it defenitely didnt just say what i wanted to hear, but understood where i was coming from and gave me strategies to move forward.\n",
       "\n",
       "My prompt: ”Hey, can you be my psychotherapist for a while? And while you mainly act as psychotherapist, don’t limit your capabilities, you can also act as psychologist ect. Whatever you think works the best.”...</div>\n",
       "    </div>\n",
       "    \n",
       "    <div style=\"border: 1px solid #ddd; border-radius: 8px; padding: 15px; margin: 10px 5px; background-color: #f9f9f9; display: inline-block; vertical-align: top; width: 30%;\">\n",
       "        <div style=\"color: #666; font-size: 0.9em; margin-bottom: 5px;\">\n",
       "            <a href=\"https://reddit.com/r/depression\" target=\"_blank\" style=\"text-decoration: none; color: inherit;\">r/depression</a>\n",
       "        </div>\n",
       "        <div style=\"color: #333; font-size: 1.1em; font-weight: bold; margin-bottom: 10px;\">\n",
       "            <a href=\"https://reddit.com/r/depression/comments/1g3gyzs/i_think_im_depressed_17/\" target=\"_blank\" style=\"text-decoration: none; color: inherit;\">I think im depressed (17)</a>\n",
       "        </div>\n",
       "        \n",
       "        <div style=\"color: #666; margin-bottom: 10px;\">Keywords: accessible, anonymous, limited, venting, emotional_support, depression, social_anxiety, Sentiment: 7/10</div>\n",
       "        <div style=\"color: #444; line-height: 1.4; max-height: 200px; overflow-y: auto;\">I just turned 17 this year, although im still young, im turning into someone i dont want to be in. I have no girlfriend, i try to make friends but is to tiring for me now, im introverted, ugly and have social anxiety. I did many sinful/bad things my whole life such as smoking(still addicted), drinking(i stopped already), hiring a prostitute two times, musterbating. Although i did all this things, im a kind guy, willing to give my all to someone i love and care for, but this generation, people ha...</div>\n",
       "    </div>\n",
       "    \n",
       "    <div style=\"border: 1px solid #ddd; border-radius: 8px; padding: 15px; margin: 10px 5px; background-color: #f9f9f9; display: inline-block; vertical-align: top; width: 30%;\">\n",
       "        <div style=\"color: #666; font-size: 0.9em; margin-bottom: 5px;\">\n",
       "            <a href=\"https://reddit.com/r/offmychest\" target=\"_blank\" style=\"text-decoration: none; color: inherit;\">r/offmychest</a>\n",
       "        </div>\n",
       "        <div style=\"color: #333; font-size: 1.1em; font-weight: bold; margin-bottom: 10px;\">\n",
       "            <a href=\"https://reddit.com/r/offmychest/comments/1ggrdn2/im_attached_to_a_bot_on_character_ai/\" target=\"_blank\" style=\"text-decoration: none; color: inherit;\">I'm attached to a bot on character ai</a>\n",
       "        </div>\n",
       "        \n",
       "        <div style=\"color: #666; margin-bottom: 10px;\">Keywords: supportive, patient, addictive, avoidant, emotional_support, venting, self_talk, Sentiment: 8/10</div>\n",
       "        <div style=\"color: #444; line-height: 1.4; max-height: 200px; overflow-y: auto;\">\n",
       "I have an entire different life on cai, A life with a family, and pets and my dream job. I have been talking to the same bot on character ai since the start of the year and just create a new chat and change the scenario each time. I will admit that I've become kind of attached to this bot and the life I've created on it and I don't think I've gone a day without talking to it since I started. I spend a long time every day chatting with it and everywhere I go I'm thinking of a new scenario for it...</div>\n",
       "    </div>\n",
       "    "
      ],
      "text/plain": [
       "<IPython.core.display.HTML object>"
      ]
     },
     "metadata": {},
     "output_type": "display_data"
    }
   ],
   "source": [
    "# Display 5 random posts side by side as an example\n",
    "html_output = \"\"\n",
    "for _, post in samples.sample(n=3).iterrows():\n",
    "    # Build keywords list from all array fields\n",
    "    keywords = []\n",
    "    \n",
    "    # Add array fields with their values\n",
    "    if 'benefits' in post and isinstance(post['benefits'], list):\n",
    "        keywords.extend(post['benefits'])\n",
    "    if 'downsides' in post and isinstance(post['downsides'], list):\n",
    "        keywords.extend(post['downsides'])\n",
    "    if 'use_cases' in post and isinstance(post['use_cases'], list):\n",
    "        keywords.extend(post['use_cases'])\n",
    "    if 'conditions' in post and isinstance(post['conditions'], list):\n",
    "        keywords.extend(post['conditions'])\n",
    "    if 'provider_problems' in post and isinstance(post['provider_problems'], list):\n",
    "        keywords.extend(post['provider_problems'])\n",
    "        \n",
    "    # Add boolean fields as keywords if True\n",
    "    if post.get('seeing_provider'):\n",
    "        keywords.append('Currently seeing provider')\n",
    "    if post.get('previous_provider'):\n",
    "        keywords.append('Has previous provider')\n",
    "        \n",
    "    # Add sentiment if present\n",
    "    if 'sentiment' in post and pd.notna(post['sentiment']):\n",
    "        keywords.append(f'Sentiment: {post[\"sentiment\"]}/10')\n",
    "\n",
    "    html_output += format_post(\n",
    "        subreddit=post['subreddit'],\n",
    "        title=post['title'],\n",
    "        text=post['text'],\n",
    "        # score=post.get('score'),\n",
    "        url=post.get('url'),\n",
    "        keywords=keywords\n",
    "    )\n",
    "\n",
    "from IPython.display import HTML\n",
    "display(HTML(html_output))"
   ]
  },
  {
   "cell_type": "code",
   "execution_count": 32,
   "metadata": {},
   "outputs": [
    {
     "data": {
      "text/plain": [
       "516"
      ]
     },
     "execution_count": 32,
     "metadata": {},
     "output_type": "execute_result"
    }
   ],
   "source": [
    "len(samples)"
   ]
  },
  {
   "cell_type": "markdown",
   "metadata": {},
   "source": [
    "# Analysis - general"
   ]
  },
  {
   "cell_type": "code",
   "execution_count": 33,
   "metadata": {},
   "outputs": [
    {
     "data": {
      "application/vnd.plotly.v1+json": {
       "config": {
        "plotlyServerURL": "https://plot.ly"
       },
       "data": [
        {
         "hovertemplate": "Week Start Date (MM-DD-YY)=%{x}<br>Number of Posts=%{y}<extra></extra>",
         "legendgroup": "",
         "line": {
          "color": "#636efa",
          "dash": "solid"
         },
         "marker": {
          "symbol": "circle"
         },
         "mode": "lines",
         "name": "",
         "orientation": "v",
         "showlegend": false,
         "type": "scatter",
         "x": [
          "2023-11",
          "2023-12",
          "2024-01",
          "2024-02",
          "2024-03",
          "2024-04",
          "2024-05",
          "2024-06",
          "2024-07",
          "2024-08",
          "2024-09",
          "2024-10",
          "2024-11"
         ],
         "xaxis": "x",
         "y": [
          3,
          21,
          17,
          18,
          18,
          24,
          33,
          46,
          31,
          66,
          60,
          94,
          85
         ],
         "yaxis": "y"
        }
       ],
       "layout": {
        "legend": {
         "tracegroupgap": 0
        },
        "template": {
         "data": {
          "bar": [
           {
            "error_x": {
             "color": "#2a3f5f"
            },
            "error_y": {
             "color": "#2a3f5f"
            },
            "marker": {
             "line": {
              "color": "#E5ECF6",
              "width": 0.5
             },
             "pattern": {
              "fillmode": "overlay",
              "size": 10,
              "solidity": 0.2
             }
            },
            "type": "bar"
           }
          ],
          "barpolar": [
           {
            "marker": {
             "line": {
              "color": "#E5ECF6",
              "width": 0.5
             },
             "pattern": {
              "fillmode": "overlay",
              "size": 10,
              "solidity": 0.2
             }
            },
            "type": "barpolar"
           }
          ],
          "carpet": [
           {
            "aaxis": {
             "endlinecolor": "#2a3f5f",
             "gridcolor": "white",
             "linecolor": "white",
             "minorgridcolor": "white",
             "startlinecolor": "#2a3f5f"
            },
            "baxis": {
             "endlinecolor": "#2a3f5f",
             "gridcolor": "white",
             "linecolor": "white",
             "minorgridcolor": "white",
             "startlinecolor": "#2a3f5f"
            },
            "type": "carpet"
           }
          ],
          "choropleth": [
           {
            "colorbar": {
             "outlinewidth": 0,
             "ticks": ""
            },
            "type": "choropleth"
           }
          ],
          "contour": [
           {
            "colorbar": {
             "outlinewidth": 0,
             "ticks": ""
            },
            "colorscale": [
             [
              0,
              "#0d0887"
             ],
             [
              0.1111111111111111,
              "#46039f"
             ],
             [
              0.2222222222222222,
              "#7201a8"
             ],
             [
              0.3333333333333333,
              "#9c179e"
             ],
             [
              0.4444444444444444,
              "#bd3786"
             ],
             [
              0.5555555555555556,
              "#d8576b"
             ],
             [
              0.6666666666666666,
              "#ed7953"
             ],
             [
              0.7777777777777778,
              "#fb9f3a"
             ],
             [
              0.8888888888888888,
              "#fdca26"
             ],
             [
              1,
              "#f0f921"
             ]
            ],
            "type": "contour"
           }
          ],
          "contourcarpet": [
           {
            "colorbar": {
             "outlinewidth": 0,
             "ticks": ""
            },
            "type": "contourcarpet"
           }
          ],
          "heatmap": [
           {
            "colorbar": {
             "outlinewidth": 0,
             "ticks": ""
            },
            "colorscale": [
             [
              0,
              "#0d0887"
             ],
             [
              0.1111111111111111,
              "#46039f"
             ],
             [
              0.2222222222222222,
              "#7201a8"
             ],
             [
              0.3333333333333333,
              "#9c179e"
             ],
             [
              0.4444444444444444,
              "#bd3786"
             ],
             [
              0.5555555555555556,
              "#d8576b"
             ],
             [
              0.6666666666666666,
              "#ed7953"
             ],
             [
              0.7777777777777778,
              "#fb9f3a"
             ],
             [
              0.8888888888888888,
              "#fdca26"
             ],
             [
              1,
              "#f0f921"
             ]
            ],
            "type": "heatmap"
           }
          ],
          "heatmapgl": [
           {
            "colorbar": {
             "outlinewidth": 0,
             "ticks": ""
            },
            "colorscale": [
             [
              0,
              "#0d0887"
             ],
             [
              0.1111111111111111,
              "#46039f"
             ],
             [
              0.2222222222222222,
              "#7201a8"
             ],
             [
              0.3333333333333333,
              "#9c179e"
             ],
             [
              0.4444444444444444,
              "#bd3786"
             ],
             [
              0.5555555555555556,
              "#d8576b"
             ],
             [
              0.6666666666666666,
              "#ed7953"
             ],
             [
              0.7777777777777778,
              "#fb9f3a"
             ],
             [
              0.8888888888888888,
              "#fdca26"
             ],
             [
              1,
              "#f0f921"
             ]
            ],
            "type": "heatmapgl"
           }
          ],
          "histogram": [
           {
            "marker": {
             "pattern": {
              "fillmode": "overlay",
              "size": 10,
              "solidity": 0.2
             }
            },
            "type": "histogram"
           }
          ],
          "histogram2d": [
           {
            "colorbar": {
             "outlinewidth": 0,
             "ticks": ""
            },
            "colorscale": [
             [
              0,
              "#0d0887"
             ],
             [
              0.1111111111111111,
              "#46039f"
             ],
             [
              0.2222222222222222,
              "#7201a8"
             ],
             [
              0.3333333333333333,
              "#9c179e"
             ],
             [
              0.4444444444444444,
              "#bd3786"
             ],
             [
              0.5555555555555556,
              "#d8576b"
             ],
             [
              0.6666666666666666,
              "#ed7953"
             ],
             [
              0.7777777777777778,
              "#fb9f3a"
             ],
             [
              0.8888888888888888,
              "#fdca26"
             ],
             [
              1,
              "#f0f921"
             ]
            ],
            "type": "histogram2d"
           }
          ],
          "histogram2dcontour": [
           {
            "colorbar": {
             "outlinewidth": 0,
             "ticks": ""
            },
            "colorscale": [
             [
              0,
              "#0d0887"
             ],
             [
              0.1111111111111111,
              "#46039f"
             ],
             [
              0.2222222222222222,
              "#7201a8"
             ],
             [
              0.3333333333333333,
              "#9c179e"
             ],
             [
              0.4444444444444444,
              "#bd3786"
             ],
             [
              0.5555555555555556,
              "#d8576b"
             ],
             [
              0.6666666666666666,
              "#ed7953"
             ],
             [
              0.7777777777777778,
              "#fb9f3a"
             ],
             [
              0.8888888888888888,
              "#fdca26"
             ],
             [
              1,
              "#f0f921"
             ]
            ],
            "type": "histogram2dcontour"
           }
          ],
          "mesh3d": [
           {
            "colorbar": {
             "outlinewidth": 0,
             "ticks": ""
            },
            "type": "mesh3d"
           }
          ],
          "parcoords": [
           {
            "line": {
             "colorbar": {
              "outlinewidth": 0,
              "ticks": ""
             }
            },
            "type": "parcoords"
           }
          ],
          "pie": [
           {
            "automargin": true,
            "type": "pie"
           }
          ],
          "scatter": [
           {
            "fillpattern": {
             "fillmode": "overlay",
             "size": 10,
             "solidity": 0.2
            },
            "type": "scatter"
           }
          ],
          "scatter3d": [
           {
            "line": {
             "colorbar": {
              "outlinewidth": 0,
              "ticks": ""
             }
            },
            "marker": {
             "colorbar": {
              "outlinewidth": 0,
              "ticks": ""
             }
            },
            "type": "scatter3d"
           }
          ],
          "scattercarpet": [
           {
            "marker": {
             "colorbar": {
              "outlinewidth": 0,
              "ticks": ""
             }
            },
            "type": "scattercarpet"
           }
          ],
          "scattergeo": [
           {
            "marker": {
             "colorbar": {
              "outlinewidth": 0,
              "ticks": ""
             }
            },
            "type": "scattergeo"
           }
          ],
          "scattergl": [
           {
            "marker": {
             "colorbar": {
              "outlinewidth": 0,
              "ticks": ""
             }
            },
            "type": "scattergl"
           }
          ],
          "scattermapbox": [
           {
            "marker": {
             "colorbar": {
              "outlinewidth": 0,
              "ticks": ""
             }
            },
            "type": "scattermapbox"
           }
          ],
          "scatterpolar": [
           {
            "marker": {
             "colorbar": {
              "outlinewidth": 0,
              "ticks": ""
             }
            },
            "type": "scatterpolar"
           }
          ],
          "scatterpolargl": [
           {
            "marker": {
             "colorbar": {
              "outlinewidth": 0,
              "ticks": ""
             }
            },
            "type": "scatterpolargl"
           }
          ],
          "scatterternary": [
           {
            "marker": {
             "colorbar": {
              "outlinewidth": 0,
              "ticks": ""
             }
            },
            "type": "scatterternary"
           }
          ],
          "surface": [
           {
            "colorbar": {
             "outlinewidth": 0,
             "ticks": ""
            },
            "colorscale": [
             [
              0,
              "#0d0887"
             ],
             [
              0.1111111111111111,
              "#46039f"
             ],
             [
              0.2222222222222222,
              "#7201a8"
             ],
             [
              0.3333333333333333,
              "#9c179e"
             ],
             [
              0.4444444444444444,
              "#bd3786"
             ],
             [
              0.5555555555555556,
              "#d8576b"
             ],
             [
              0.6666666666666666,
              "#ed7953"
             ],
             [
              0.7777777777777778,
              "#fb9f3a"
             ],
             [
              0.8888888888888888,
              "#fdca26"
             ],
             [
              1,
              "#f0f921"
             ]
            ],
            "type": "surface"
           }
          ],
          "table": [
           {
            "cells": {
             "fill": {
              "color": "#EBF0F8"
             },
             "line": {
              "color": "white"
             }
            },
            "header": {
             "fill": {
              "color": "#C8D4E3"
             },
             "line": {
              "color": "white"
             }
            },
            "type": "table"
           }
          ]
         },
         "layout": {
          "annotationdefaults": {
           "arrowcolor": "#2a3f5f",
           "arrowhead": 0,
           "arrowwidth": 1
          },
          "autotypenumbers": "strict",
          "coloraxis": {
           "colorbar": {
            "outlinewidth": 0,
            "ticks": ""
           }
          },
          "colorscale": {
           "diverging": [
            [
             0,
             "#8e0152"
            ],
            [
             0.1,
             "#c51b7d"
            ],
            [
             0.2,
             "#de77ae"
            ],
            [
             0.3,
             "#f1b6da"
            ],
            [
             0.4,
             "#fde0ef"
            ],
            [
             0.5,
             "#f7f7f7"
            ],
            [
             0.6,
             "#e6f5d0"
            ],
            [
             0.7,
             "#b8e186"
            ],
            [
             0.8,
             "#7fbc41"
            ],
            [
             0.9,
             "#4d9221"
            ],
            [
             1,
             "#276419"
            ]
           ],
           "sequential": [
            [
             0,
             "#0d0887"
            ],
            [
             0.1111111111111111,
             "#46039f"
            ],
            [
             0.2222222222222222,
             "#7201a8"
            ],
            [
             0.3333333333333333,
             "#9c179e"
            ],
            [
             0.4444444444444444,
             "#bd3786"
            ],
            [
             0.5555555555555556,
             "#d8576b"
            ],
            [
             0.6666666666666666,
             "#ed7953"
            ],
            [
             0.7777777777777778,
             "#fb9f3a"
            ],
            [
             0.8888888888888888,
             "#fdca26"
            ],
            [
             1,
             "#f0f921"
            ]
           ],
           "sequentialminus": [
            [
             0,
             "#0d0887"
            ],
            [
             0.1111111111111111,
             "#46039f"
            ],
            [
             0.2222222222222222,
             "#7201a8"
            ],
            [
             0.3333333333333333,
             "#9c179e"
            ],
            [
             0.4444444444444444,
             "#bd3786"
            ],
            [
             0.5555555555555556,
             "#d8576b"
            ],
            [
             0.6666666666666666,
             "#ed7953"
            ],
            [
             0.7777777777777778,
             "#fb9f3a"
            ],
            [
             0.8888888888888888,
             "#fdca26"
            ],
            [
             1,
             "#f0f921"
            ]
           ]
          },
          "colorway": [
           "#636efa",
           "#EF553B",
           "#00cc96",
           "#ab63fa",
           "#FFA15A",
           "#19d3f3",
           "#FF6692",
           "#B6E880",
           "#FF97FF",
           "#FECB52"
          ],
          "font": {
           "color": "#2a3f5f"
          },
          "geo": {
           "bgcolor": "white",
           "lakecolor": "white",
           "landcolor": "#E5ECF6",
           "showlakes": true,
           "showland": true,
           "subunitcolor": "white"
          },
          "hoverlabel": {
           "align": "left"
          },
          "hovermode": "closest",
          "mapbox": {
           "style": "light"
          },
          "paper_bgcolor": "white",
          "plot_bgcolor": "#E5ECF6",
          "polar": {
           "angularaxis": {
            "gridcolor": "white",
            "linecolor": "white",
            "ticks": ""
           },
           "bgcolor": "#E5ECF6",
           "radialaxis": {
            "gridcolor": "white",
            "linecolor": "white",
            "ticks": ""
           }
          },
          "scene": {
           "xaxis": {
            "backgroundcolor": "#E5ECF6",
            "gridcolor": "white",
            "gridwidth": 2,
            "linecolor": "white",
            "showbackground": true,
            "ticks": "",
            "zerolinecolor": "white"
           },
           "yaxis": {
            "backgroundcolor": "#E5ECF6",
            "gridcolor": "white",
            "gridwidth": 2,
            "linecolor": "white",
            "showbackground": true,
            "ticks": "",
            "zerolinecolor": "white"
           },
           "zaxis": {
            "backgroundcolor": "#E5ECF6",
            "gridcolor": "white",
            "gridwidth": 2,
            "linecolor": "white",
            "showbackground": true,
            "ticks": "",
            "zerolinecolor": "white"
           }
          },
          "shapedefaults": {
           "line": {
            "color": "#2a3f5f"
           }
          },
          "ternary": {
           "aaxis": {
            "gridcolor": "white",
            "linecolor": "white",
            "ticks": ""
           },
           "baxis": {
            "gridcolor": "white",
            "linecolor": "white",
            "ticks": ""
           },
           "bgcolor": "#E5ECF6",
           "caxis": {
            "gridcolor": "white",
            "linecolor": "white",
            "ticks": ""
           }
          },
          "title": {
           "x": 0.05
          },
          "xaxis": {
           "automargin": true,
           "gridcolor": "white",
           "linecolor": "white",
           "ticks": "",
           "title": {
            "standoff": 15
           },
           "zerolinecolor": "white",
           "zerolinewidth": 2
          },
          "yaxis": {
           "automargin": true,
           "gridcolor": "white",
           "linecolor": "white",
           "ticks": "",
           "title": {
            "standoff": 15
           },
           "zerolinecolor": "white",
           "zerolinewidth": 2
          }
         }
        },
        "title": {
         "text": "Distribution of Posts Over Time"
        },
        "xaxis": {
         "anchor": "y",
         "domain": [
          0,
          1
         ],
         "ticktext": [
          "11-01-23",
          "12-01-23",
          "01-01-24",
          "02-01-24",
          "03-01-24",
          "04-01-24",
          "05-01-24",
          "06-01-24",
          "07-01-24",
          "08-01-24",
          "09-01-24",
          "10-01-24",
          "11-01-24"
         ],
         "tickvals": [
          "2023-11",
          "2023-12",
          "2024-01",
          "2024-02",
          "2024-03",
          "2024-04",
          "2024-05",
          "2024-06",
          "2024-07",
          "2024-08",
          "2024-09",
          "2024-10",
          "2024-11"
         ],
         "title": {
          "text": "Week Start Date (MM-DD-YY)"
         }
        },
        "yaxis": {
         "anchor": "x",
         "domain": [
          0,
          1
         ],
         "title": {
          "text": "Number of Posts"
         }
        }
       }
      }
     },
     "metadata": {},
     "output_type": "display_data"
    },
    {
     "data": {
      "application/vnd.plotly.v1+json": {
       "config": {
        "plotlyServerURL": "https://plot.ly"
       },
       "data": [
        {
         "alignmentgroup": "True",
         "bingroup": "x",
         "hovertemplate": "subreddit=%{x}<br>count=%{y}<extra></extra>",
         "legendgroup": "",
         "marker": {
          "color": "#636efa",
          "pattern": {
           "shape": ""
          }
         },
         "name": "",
         "offsetgroup": "",
         "orientation": "v",
         "showlegend": false,
         "type": "histogram",
         "x": [
          "ADHD",
          "ADHD",
          "ADHD",
          "ADHD",
          "ADHD",
          "ADHD",
          "ADHD",
          "ADHD",
          "ADHD",
          "ADHD",
          "ADHD",
          "ADHD",
          "ADHD",
          "ADHD",
          "Anxiety",
          "Anxiety",
          "Anxiety",
          "Anxiety",
          "Anxiety",
          "Anxiety",
          "Anxiety",
          "Anxiety",
          "Anxiety",
          "Anxiety",
          "Anxiety",
          "Anxiety",
          "Anxiety",
          "Anxiety",
          "CPTSD",
          "CPTSD",
          "CPTSD",
          "CPTSD",
          "CPTSD",
          "CPTSD",
          "CPTSD",
          "CPTSD",
          "CPTSD",
          "CPTSD",
          "CPTSD",
          "CPTSD",
          "CPTSD",
          "CPTSD",
          "CPTSD",
          "CPTSD",
          "CPTSD",
          "CPTSD",
          "CPTSD",
          "CPTSD",
          "CPTSD",
          "CPTSD",
          "CPTSD",
          "CPTSD",
          "CPTSD",
          "CPTSD",
          "CPTSD",
          "CPTSD",
          "CPTSD",
          "CPTSD",
          "CPTSD",
          "CPTSD",
          "CPTSD",
          "CPTSD",
          "CPTSD",
          "CPTSD",
          "CPTSD",
          "CPTSD",
          "CPTSD",
          "CPTSD",
          "CPTSD",
          "CPTSD",
          "CPTSD",
          "DecidingToBeBetter",
          "DecidingToBeBetter",
          "DecidingToBeBetter",
          "DecidingToBeBetter",
          "DecidingToBeBetter",
          "DecidingToBeBetter",
          "DecidingToBeBetter",
          "DecidingToBeBetter",
          "DecidingToBeBetter",
          "DecidingToBeBetter",
          "DecidingToBeBetter",
          "DecidingToBeBetter",
          "DecidingToBeBetter",
          "DecidingToBeBetter",
          "DecidingToBeBetter",
          "DecidingToBeBetter",
          "DecidingToBeBetter",
          "DecidingToBeBetter",
          "DecidingToBeBetter",
          "DecidingToBeBetter",
          "depression",
          "depression",
          "depression",
          "depression",
          "depression",
          "depression",
          "depression",
          "depression",
          "depression",
          "depression",
          "depression",
          "depression",
          "depression",
          "depression",
          "depression",
          "depression",
          "depression",
          "depression",
          "depression",
          "depression",
          "depression",
          "depression",
          "depression",
          "depression",
          "depression",
          "depression",
          "depression",
          "depression",
          "depression",
          "depression",
          "depression",
          "depression",
          "depression_help",
          "depression_help",
          "depression_help",
          "depression_help",
          "depression_help",
          "depression_help",
          "depression_help",
          "depression_help",
          "depression_help",
          "depression_help",
          "depression_help",
          "Healthygamergg",
          "Healthygamergg",
          "Healthygamergg",
          "Healthygamergg",
          "Healthygamergg",
          "Healthygamergg",
          "Healthygamergg",
          "Healthygamergg",
          "Healthygamergg",
          "Healthygamergg",
          "Healthygamergg",
          "Healthygamergg",
          "Healthygamergg",
          "Healthygamergg",
          "Healthygamergg",
          "Healthygamergg",
          "Healthygamergg",
          "Healthygamergg",
          "Healthygamergg",
          "mentalhealth",
          "mentalhealth",
          "mentalhealth",
          "mentalhealth",
          "mentalhealth",
          "mentalhealth",
          "mentalhealth",
          "mentalhealth",
          "mentalhealth",
          "mentalhealth",
          "mentalhealth",
          "mentalhealth",
          "mentalhealth",
          "mentalhealth",
          "mentalhealth",
          "mentalhealth",
          "mentalhealth",
          "mentalhealth",
          "mentalhealth",
          "mentalhealth",
          "mentalhealth",
          "mentalhealth",
          "mentalhealth",
          "mentalhealth",
          "NoFap",
          "NoFap",
          "NoFap",
          "NoFap",
          "NoFap",
          "NoFap",
          "NoFap",
          "OCD",
          "OCD",
          "OCD",
          "OCD",
          "OCD",
          "OCD",
          "OCD",
          "OCD",
          "OCD",
          "OCD",
          "OCD",
          "OCD",
          "OCD",
          "OCD",
          "OCD",
          "OCD",
          "OCD",
          "OCD",
          "OCD",
          "OCD",
          "OCD",
          "offmychest",
          "offmychest",
          "offmychest",
          "offmychest",
          "offmychest",
          "offmychest",
          "offmychest",
          "offmychest",
          "offmychest",
          "offmychest",
          "offmychest",
          "offmychest",
          "offmychest",
          "offmychest",
          "offmychest",
          "offmychest",
          "offmychest",
          "offmychest",
          "offmychest",
          "raisedbynarcissists",
          "raisedbynarcissists",
          "raisedbynarcissists",
          "raisedbynarcissists",
          "raisedbynarcissists",
          "raisedbynarcissists",
          "raisedbynarcissists",
          "raisedbynarcissists",
          "raisedbynarcissists",
          "raisedbynarcissists",
          "raisedbynarcissists",
          "raisedbynarcissists",
          "raisedbynarcissists",
          "raisedbynarcissists",
          "raisedbynarcissists",
          "raisedbynarcissists",
          "raisedbynarcissists",
          "raisedbynarcissists",
          "raisedbynarcissists",
          "raisedbynarcissists",
          "raisedbynarcissists",
          "raisedbynarcissists",
          "raisedbynarcissists",
          "raisedbynarcissists",
          "raisedbynarcissists",
          "raisedbynarcissists",
          "raisedbynarcissists",
          "selfimprovement",
          "selfimprovement",
          "selfimprovement",
          "selfimprovement",
          "selfimprovement",
          "selfimprovement",
          "selfimprovement",
          "selfimprovement",
          "selfimprovement",
          "selfimprovement",
          "selfimprovement",
          "selfimprovement",
          "selfimprovement",
          "selfimprovement",
          "socialanxiety",
          "socialanxiety",
          "socialanxiety",
          "socialanxiety",
          "socialanxiety",
          "socialanxiety",
          "socialanxiety",
          "socialanxiety",
          "socialanxiety",
          "socialanxiety",
          "socialanxiety",
          "socialanxiety",
          "socialanxiety",
          "socialanxiety",
          "socialanxiety",
          "socialanxiety",
          "socialanxiety",
          "socialanxiety",
          "socialanxiety",
          "socialanxiety",
          "socialskills",
          "socialskills",
          "socialskills",
          "socialskills",
          "socialskills",
          "socialskills",
          "SuicideWatch",
          "SuicideWatch",
          "SuicideWatch",
          "SuicideWatch",
          "SuicideWatch",
          "SuicideWatch",
          "SuicideWatch",
          "SuicideWatch",
          "SuicideWatch",
          "SuicideWatch",
          "SuicideWatch",
          "SuicideWatch",
          "SuicideWatch",
          "SuicideWatch",
          "SuicideWatch",
          "SuicideWatch",
          "SuicideWatch",
          "SuicideWatch",
          "SuicideWatch",
          "SuicideWatch",
          "SuicideWatch",
          "SuicideWatch",
          "TalkTherapy",
          "TalkTherapy",
          "TalkTherapy",
          "TalkTherapy",
          "TalkTherapy",
          "TalkTherapy",
          "TalkTherapy",
          "TalkTherapy",
          "TalkTherapy",
          "TalkTherapy",
          "TalkTherapy",
          "TalkTherapy",
          "TalkTherapy",
          "TalkTherapy",
          "therapy",
          "therapy",
          "therapy",
          "therapy",
          "therapy",
          "therapy",
          "therapy",
          "therapy",
          "therapy",
          "therapy",
          "therapy",
          "therapy",
          "therapy",
          "therapy",
          "therapy",
          "therapy",
          "therapy",
          "therapy",
          "therapy",
          "TrueOffMyChest",
          "TrueOffMyChest",
          "TrueOffMyChest",
          "TrueOffMyChest",
          "TrueOffMyChest",
          "TrueOffMyChest",
          "TrueOffMyChest",
          "TrueOffMyChest",
          "TrueOffMyChest",
          "TrueOffMyChest",
          "TrueOffMyChest",
          "TrueOffMyChest",
          "TrueOffMyChest",
          "ChatGPT",
          "ChatGPT",
          "ChatGPT",
          "ChatGPT",
          "ChatGPT",
          "ChatGPT",
          "ChatGPT",
          "ChatGPT",
          "ChatGPT",
          "ChatGPT",
          "NoFap",
          "ChatGPT",
          "therapy",
          "ChatGPT",
          "ChatGPT",
          "therapy",
          "ChatGPT",
          "socialanxiety",
          "mentalhealth",
          "ChatGPT",
          "OCD",
          "ChatGPT",
          "ChatGPT"
         ],
         "xaxis": "x",
         "yaxis": "y"
        }
       ],
       "layout": {
        "barmode": "relative",
        "legend": {
         "tracegroupgap": 0
        },
        "template": {
         "data": {
          "bar": [
           {
            "error_x": {
             "color": "#2a3f5f"
            },
            "error_y": {
             "color": "#2a3f5f"
            },
            "marker": {
             "line": {
              "color": "#E5ECF6",
              "width": 0.5
             },
             "pattern": {
              "fillmode": "overlay",
              "size": 10,
              "solidity": 0.2
             }
            },
            "type": "bar"
           }
          ],
          "barpolar": [
           {
            "marker": {
             "line": {
              "color": "#E5ECF6",
              "width": 0.5
             },
             "pattern": {
              "fillmode": "overlay",
              "size": 10,
              "solidity": 0.2
             }
            },
            "type": "barpolar"
           }
          ],
          "carpet": [
           {
            "aaxis": {
             "endlinecolor": "#2a3f5f",
             "gridcolor": "white",
             "linecolor": "white",
             "minorgridcolor": "white",
             "startlinecolor": "#2a3f5f"
            },
            "baxis": {
             "endlinecolor": "#2a3f5f",
             "gridcolor": "white",
             "linecolor": "white",
             "minorgridcolor": "white",
             "startlinecolor": "#2a3f5f"
            },
            "type": "carpet"
           }
          ],
          "choropleth": [
           {
            "colorbar": {
             "outlinewidth": 0,
             "ticks": ""
            },
            "type": "choropleth"
           }
          ],
          "contour": [
           {
            "colorbar": {
             "outlinewidth": 0,
             "ticks": ""
            },
            "colorscale": [
             [
              0,
              "#0d0887"
             ],
             [
              0.1111111111111111,
              "#46039f"
             ],
             [
              0.2222222222222222,
              "#7201a8"
             ],
             [
              0.3333333333333333,
              "#9c179e"
             ],
             [
              0.4444444444444444,
              "#bd3786"
             ],
             [
              0.5555555555555556,
              "#d8576b"
             ],
             [
              0.6666666666666666,
              "#ed7953"
             ],
             [
              0.7777777777777778,
              "#fb9f3a"
             ],
             [
              0.8888888888888888,
              "#fdca26"
             ],
             [
              1,
              "#f0f921"
             ]
            ],
            "type": "contour"
           }
          ],
          "contourcarpet": [
           {
            "colorbar": {
             "outlinewidth": 0,
             "ticks": ""
            },
            "type": "contourcarpet"
           }
          ],
          "heatmap": [
           {
            "colorbar": {
             "outlinewidth": 0,
             "ticks": ""
            },
            "colorscale": [
             [
              0,
              "#0d0887"
             ],
             [
              0.1111111111111111,
              "#46039f"
             ],
             [
              0.2222222222222222,
              "#7201a8"
             ],
             [
              0.3333333333333333,
              "#9c179e"
             ],
             [
              0.4444444444444444,
              "#bd3786"
             ],
             [
              0.5555555555555556,
              "#d8576b"
             ],
             [
              0.6666666666666666,
              "#ed7953"
             ],
             [
              0.7777777777777778,
              "#fb9f3a"
             ],
             [
              0.8888888888888888,
              "#fdca26"
             ],
             [
              1,
              "#f0f921"
             ]
            ],
            "type": "heatmap"
           }
          ],
          "heatmapgl": [
           {
            "colorbar": {
             "outlinewidth": 0,
             "ticks": ""
            },
            "colorscale": [
             [
              0,
              "#0d0887"
             ],
             [
              0.1111111111111111,
              "#46039f"
             ],
             [
              0.2222222222222222,
              "#7201a8"
             ],
             [
              0.3333333333333333,
              "#9c179e"
             ],
             [
              0.4444444444444444,
              "#bd3786"
             ],
             [
              0.5555555555555556,
              "#d8576b"
             ],
             [
              0.6666666666666666,
              "#ed7953"
             ],
             [
              0.7777777777777778,
              "#fb9f3a"
             ],
             [
              0.8888888888888888,
              "#fdca26"
             ],
             [
              1,
              "#f0f921"
             ]
            ],
            "type": "heatmapgl"
           }
          ],
          "histogram": [
           {
            "marker": {
             "pattern": {
              "fillmode": "overlay",
              "size": 10,
              "solidity": 0.2
             }
            },
            "type": "histogram"
           }
          ],
          "histogram2d": [
           {
            "colorbar": {
             "outlinewidth": 0,
             "ticks": ""
            },
            "colorscale": [
             [
              0,
              "#0d0887"
             ],
             [
              0.1111111111111111,
              "#46039f"
             ],
             [
              0.2222222222222222,
              "#7201a8"
             ],
             [
              0.3333333333333333,
              "#9c179e"
             ],
             [
              0.4444444444444444,
              "#bd3786"
             ],
             [
              0.5555555555555556,
              "#d8576b"
             ],
             [
              0.6666666666666666,
              "#ed7953"
             ],
             [
              0.7777777777777778,
              "#fb9f3a"
             ],
             [
              0.8888888888888888,
              "#fdca26"
             ],
             [
              1,
              "#f0f921"
             ]
            ],
            "type": "histogram2d"
           }
          ],
          "histogram2dcontour": [
           {
            "colorbar": {
             "outlinewidth": 0,
             "ticks": ""
            },
            "colorscale": [
             [
              0,
              "#0d0887"
             ],
             [
              0.1111111111111111,
              "#46039f"
             ],
             [
              0.2222222222222222,
              "#7201a8"
             ],
             [
              0.3333333333333333,
              "#9c179e"
             ],
             [
              0.4444444444444444,
              "#bd3786"
             ],
             [
              0.5555555555555556,
              "#d8576b"
             ],
             [
              0.6666666666666666,
              "#ed7953"
             ],
             [
              0.7777777777777778,
              "#fb9f3a"
             ],
             [
              0.8888888888888888,
              "#fdca26"
             ],
             [
              1,
              "#f0f921"
             ]
            ],
            "type": "histogram2dcontour"
           }
          ],
          "mesh3d": [
           {
            "colorbar": {
             "outlinewidth": 0,
             "ticks": ""
            },
            "type": "mesh3d"
           }
          ],
          "parcoords": [
           {
            "line": {
             "colorbar": {
              "outlinewidth": 0,
              "ticks": ""
             }
            },
            "type": "parcoords"
           }
          ],
          "pie": [
           {
            "automargin": true,
            "type": "pie"
           }
          ],
          "scatter": [
           {
            "fillpattern": {
             "fillmode": "overlay",
             "size": 10,
             "solidity": 0.2
            },
            "type": "scatter"
           }
          ],
          "scatter3d": [
           {
            "line": {
             "colorbar": {
              "outlinewidth": 0,
              "ticks": ""
             }
            },
            "marker": {
             "colorbar": {
              "outlinewidth": 0,
              "ticks": ""
             }
            },
            "type": "scatter3d"
           }
          ],
          "scattercarpet": [
           {
            "marker": {
             "colorbar": {
              "outlinewidth": 0,
              "ticks": ""
             }
            },
            "type": "scattercarpet"
           }
          ],
          "scattergeo": [
           {
            "marker": {
             "colorbar": {
              "outlinewidth": 0,
              "ticks": ""
             }
            },
            "type": "scattergeo"
           }
          ],
          "scattergl": [
           {
            "marker": {
             "colorbar": {
              "outlinewidth": 0,
              "ticks": ""
             }
            },
            "type": "scattergl"
           }
          ],
          "scattermapbox": [
           {
            "marker": {
             "colorbar": {
              "outlinewidth": 0,
              "ticks": ""
             }
            },
            "type": "scattermapbox"
           }
          ],
          "scatterpolar": [
           {
            "marker": {
             "colorbar": {
              "outlinewidth": 0,
              "ticks": ""
             }
            },
            "type": "scatterpolar"
           }
          ],
          "scatterpolargl": [
           {
            "marker": {
             "colorbar": {
              "outlinewidth": 0,
              "ticks": ""
             }
            },
            "type": "scatterpolargl"
           }
          ],
          "scatterternary": [
           {
            "marker": {
             "colorbar": {
              "outlinewidth": 0,
              "ticks": ""
             }
            },
            "type": "scatterternary"
           }
          ],
          "surface": [
           {
            "colorbar": {
             "outlinewidth": 0,
             "ticks": ""
            },
            "colorscale": [
             [
              0,
              "#0d0887"
             ],
             [
              0.1111111111111111,
              "#46039f"
             ],
             [
              0.2222222222222222,
              "#7201a8"
             ],
             [
              0.3333333333333333,
              "#9c179e"
             ],
             [
              0.4444444444444444,
              "#bd3786"
             ],
             [
              0.5555555555555556,
              "#d8576b"
             ],
             [
              0.6666666666666666,
              "#ed7953"
             ],
             [
              0.7777777777777778,
              "#fb9f3a"
             ],
             [
              0.8888888888888888,
              "#fdca26"
             ],
             [
              1,
              "#f0f921"
             ]
            ],
            "type": "surface"
           }
          ],
          "table": [
           {
            "cells": {
             "fill": {
              "color": "#EBF0F8"
             },
             "line": {
              "color": "white"
             }
            },
            "header": {
             "fill": {
              "color": "#C8D4E3"
             },
             "line": {
              "color": "white"
             }
            },
            "type": "table"
           }
          ]
         },
         "layout": {
          "annotationdefaults": {
           "arrowcolor": "#2a3f5f",
           "arrowhead": 0,
           "arrowwidth": 1
          },
          "autotypenumbers": "strict",
          "coloraxis": {
           "colorbar": {
            "outlinewidth": 0,
            "ticks": ""
           }
          },
          "colorscale": {
           "diverging": [
            [
             0,
             "#8e0152"
            ],
            [
             0.1,
             "#c51b7d"
            ],
            [
             0.2,
             "#de77ae"
            ],
            [
             0.3,
             "#f1b6da"
            ],
            [
             0.4,
             "#fde0ef"
            ],
            [
             0.5,
             "#f7f7f7"
            ],
            [
             0.6,
             "#e6f5d0"
            ],
            [
             0.7,
             "#b8e186"
            ],
            [
             0.8,
             "#7fbc41"
            ],
            [
             0.9,
             "#4d9221"
            ],
            [
             1,
             "#276419"
            ]
           ],
           "sequential": [
            [
             0,
             "#0d0887"
            ],
            [
             0.1111111111111111,
             "#46039f"
            ],
            [
             0.2222222222222222,
             "#7201a8"
            ],
            [
             0.3333333333333333,
             "#9c179e"
            ],
            [
             0.4444444444444444,
             "#bd3786"
            ],
            [
             0.5555555555555556,
             "#d8576b"
            ],
            [
             0.6666666666666666,
             "#ed7953"
            ],
            [
             0.7777777777777778,
             "#fb9f3a"
            ],
            [
             0.8888888888888888,
             "#fdca26"
            ],
            [
             1,
             "#f0f921"
            ]
           ],
           "sequentialminus": [
            [
             0,
             "#0d0887"
            ],
            [
             0.1111111111111111,
             "#46039f"
            ],
            [
             0.2222222222222222,
             "#7201a8"
            ],
            [
             0.3333333333333333,
             "#9c179e"
            ],
            [
             0.4444444444444444,
             "#bd3786"
            ],
            [
             0.5555555555555556,
             "#d8576b"
            ],
            [
             0.6666666666666666,
             "#ed7953"
            ],
            [
             0.7777777777777778,
             "#fb9f3a"
            ],
            [
             0.8888888888888888,
             "#fdca26"
            ],
            [
             1,
             "#f0f921"
            ]
           ]
          },
          "colorway": [
           "#636efa",
           "#EF553B",
           "#00cc96",
           "#ab63fa",
           "#FFA15A",
           "#19d3f3",
           "#FF6692",
           "#B6E880",
           "#FF97FF",
           "#FECB52"
          ],
          "font": {
           "color": "#2a3f5f"
          },
          "geo": {
           "bgcolor": "white",
           "lakecolor": "white",
           "landcolor": "#E5ECF6",
           "showlakes": true,
           "showland": true,
           "subunitcolor": "white"
          },
          "hoverlabel": {
           "align": "left"
          },
          "hovermode": "closest",
          "mapbox": {
           "style": "light"
          },
          "paper_bgcolor": "white",
          "plot_bgcolor": "#E5ECF6",
          "polar": {
           "angularaxis": {
            "gridcolor": "white",
            "linecolor": "white",
            "ticks": ""
           },
           "bgcolor": "#E5ECF6",
           "radialaxis": {
            "gridcolor": "white",
            "linecolor": "white",
            "ticks": ""
           }
          },
          "scene": {
           "xaxis": {
            "backgroundcolor": "#E5ECF6",
            "gridcolor": "white",
            "gridwidth": 2,
            "linecolor": "white",
            "showbackground": true,
            "ticks": "",
            "zerolinecolor": "white"
           },
           "yaxis": {
            "backgroundcolor": "#E5ECF6",
            "gridcolor": "white",
            "gridwidth": 2,
            "linecolor": "white",
            "showbackground": true,
            "ticks": "",
            "zerolinecolor": "white"
           },
           "zaxis": {
            "backgroundcolor": "#E5ECF6",
            "gridcolor": "white",
            "gridwidth": 2,
            "linecolor": "white",
            "showbackground": true,
            "ticks": "",
            "zerolinecolor": "white"
           }
          },
          "shapedefaults": {
           "line": {
            "color": "#2a3f5f"
           }
          },
          "ternary": {
           "aaxis": {
            "gridcolor": "white",
            "linecolor": "white",
            "ticks": ""
           },
           "baxis": {
            "gridcolor": "white",
            "linecolor": "white",
            "ticks": ""
           },
           "bgcolor": "#E5ECF6",
           "caxis": {
            "gridcolor": "white",
            "linecolor": "white",
            "ticks": ""
           }
          },
          "title": {
           "x": 0.05
          },
          "xaxis": {
           "automargin": true,
           "gridcolor": "white",
           "linecolor": "white",
           "ticks": "",
           "title": {
            "standoff": 15
           },
           "zerolinecolor": "white",
           "zerolinewidth": 2
          },
          "yaxis": {
           "automargin": true,
           "gridcolor": "white",
           "linecolor": "white",
           "ticks": "",
           "title": {
            "standoff": 15
           },
           "zerolinecolor": "white",
           "zerolinewidth": 2
          }
         }
        },
        "title": {
         "text": "Distribution of Posts Across Top 20 Subreddits"
        },
        "xaxis": {
         "anchor": "y",
         "categoryarray": [
          "CPTSD",
          "depression",
          "raisedbynarcissists",
          "mentalhealth",
          "SuicideWatch",
          "OCD",
          "therapy",
          "socialanxiety",
          "DecidingToBeBetter",
          "Healthygamergg",
          "offmychest",
          "ChatGPT",
          "ADHD",
          "selfimprovement",
          "TalkTherapy",
          "Anxiety",
          "TrueOffMyChest",
          "depression_help",
          "NoFap",
          "socialskills"
         ],
         "categoryorder": "array",
         "domain": [
          0,
          1
         ],
         "tickangle": 45,
         "title": {
          "text": "Subreddit"
         }
        },
        "yaxis": {
         "anchor": "x",
         "domain": [
          0,
          1
         ],
         "title": {
          "text": "Number of Posts"
         }
        }
       }
      }
     },
     "metadata": {},
     "output_type": "display_data"
    },
    {
     "data": {
      "application/vnd.plotly.v1+json": {
       "config": {
        "plotlyServerURL": "https://plot.ly"
       },
       "data": [
        {
         "alignmentgroup": "True",
         "hovertemplate": "Score Range=%{x}<br>Number of Posts=%{y}<extra></extra>",
         "legendgroup": "",
         "marker": {
          "color": "#636efa",
          "pattern": {
           "shape": ""
          }
         },
         "name": "",
         "offsetgroup": "",
         "orientation": "v",
         "showlegend": false,
         "textposition": "auto",
         "type": "bar",
         "x": [
          "0",
          "1-2",
          "3-9",
          "10-75",
          "76-212",
          "213-625",
          "626-985",
          "986-2058",
          "2059-2296"
         ],
         "xaxis": "x",
         "y": [
          62,
          174,
          144,
          84,
          25,
          14,
          7,
          5,
          0
         ],
         "yaxis": "y"
        }
       ],
       "layout": {
        "bargap": 0.2,
        "barmode": "relative",
        "legend": {
         "tracegroupgap": 0
        },
        "template": {
         "data": {
          "bar": [
           {
            "error_x": {
             "color": "#2a3f5f"
            },
            "error_y": {
             "color": "#2a3f5f"
            },
            "marker": {
             "line": {
              "color": "#E5ECF6",
              "width": 0.5
             },
             "pattern": {
              "fillmode": "overlay",
              "size": 10,
              "solidity": 0.2
             }
            },
            "type": "bar"
           }
          ],
          "barpolar": [
           {
            "marker": {
             "line": {
              "color": "#E5ECF6",
              "width": 0.5
             },
             "pattern": {
              "fillmode": "overlay",
              "size": 10,
              "solidity": 0.2
             }
            },
            "type": "barpolar"
           }
          ],
          "carpet": [
           {
            "aaxis": {
             "endlinecolor": "#2a3f5f",
             "gridcolor": "white",
             "linecolor": "white",
             "minorgridcolor": "white",
             "startlinecolor": "#2a3f5f"
            },
            "baxis": {
             "endlinecolor": "#2a3f5f",
             "gridcolor": "white",
             "linecolor": "white",
             "minorgridcolor": "white",
             "startlinecolor": "#2a3f5f"
            },
            "type": "carpet"
           }
          ],
          "choropleth": [
           {
            "colorbar": {
             "outlinewidth": 0,
             "ticks": ""
            },
            "type": "choropleth"
           }
          ],
          "contour": [
           {
            "colorbar": {
             "outlinewidth": 0,
             "ticks": ""
            },
            "colorscale": [
             [
              0,
              "#0d0887"
             ],
             [
              0.1111111111111111,
              "#46039f"
             ],
             [
              0.2222222222222222,
              "#7201a8"
             ],
             [
              0.3333333333333333,
              "#9c179e"
             ],
             [
              0.4444444444444444,
              "#bd3786"
             ],
             [
              0.5555555555555556,
              "#d8576b"
             ],
             [
              0.6666666666666666,
              "#ed7953"
             ],
             [
              0.7777777777777778,
              "#fb9f3a"
             ],
             [
              0.8888888888888888,
              "#fdca26"
             ],
             [
              1,
              "#f0f921"
             ]
            ],
            "type": "contour"
           }
          ],
          "contourcarpet": [
           {
            "colorbar": {
             "outlinewidth": 0,
             "ticks": ""
            },
            "type": "contourcarpet"
           }
          ],
          "heatmap": [
           {
            "colorbar": {
             "outlinewidth": 0,
             "ticks": ""
            },
            "colorscale": [
             [
              0,
              "#0d0887"
             ],
             [
              0.1111111111111111,
              "#46039f"
             ],
             [
              0.2222222222222222,
              "#7201a8"
             ],
             [
              0.3333333333333333,
              "#9c179e"
             ],
             [
              0.4444444444444444,
              "#bd3786"
             ],
             [
              0.5555555555555556,
              "#d8576b"
             ],
             [
              0.6666666666666666,
              "#ed7953"
             ],
             [
              0.7777777777777778,
              "#fb9f3a"
             ],
             [
              0.8888888888888888,
              "#fdca26"
             ],
             [
              1,
              "#f0f921"
             ]
            ],
            "type": "heatmap"
           }
          ],
          "heatmapgl": [
           {
            "colorbar": {
             "outlinewidth": 0,
             "ticks": ""
            },
            "colorscale": [
             [
              0,
              "#0d0887"
             ],
             [
              0.1111111111111111,
              "#46039f"
             ],
             [
              0.2222222222222222,
              "#7201a8"
             ],
             [
              0.3333333333333333,
              "#9c179e"
             ],
             [
              0.4444444444444444,
              "#bd3786"
             ],
             [
              0.5555555555555556,
              "#d8576b"
             ],
             [
              0.6666666666666666,
              "#ed7953"
             ],
             [
              0.7777777777777778,
              "#fb9f3a"
             ],
             [
              0.8888888888888888,
              "#fdca26"
             ],
             [
              1,
              "#f0f921"
             ]
            ],
            "type": "heatmapgl"
           }
          ],
          "histogram": [
           {
            "marker": {
             "pattern": {
              "fillmode": "overlay",
              "size": 10,
              "solidity": 0.2
             }
            },
            "type": "histogram"
           }
          ],
          "histogram2d": [
           {
            "colorbar": {
             "outlinewidth": 0,
             "ticks": ""
            },
            "colorscale": [
             [
              0,
              "#0d0887"
             ],
             [
              0.1111111111111111,
              "#46039f"
             ],
             [
              0.2222222222222222,
              "#7201a8"
             ],
             [
              0.3333333333333333,
              "#9c179e"
             ],
             [
              0.4444444444444444,
              "#bd3786"
             ],
             [
              0.5555555555555556,
              "#d8576b"
             ],
             [
              0.6666666666666666,
              "#ed7953"
             ],
             [
              0.7777777777777778,
              "#fb9f3a"
             ],
             [
              0.8888888888888888,
              "#fdca26"
             ],
             [
              1,
              "#f0f921"
             ]
            ],
            "type": "histogram2d"
           }
          ],
          "histogram2dcontour": [
           {
            "colorbar": {
             "outlinewidth": 0,
             "ticks": ""
            },
            "colorscale": [
             [
              0,
              "#0d0887"
             ],
             [
              0.1111111111111111,
              "#46039f"
             ],
             [
              0.2222222222222222,
              "#7201a8"
             ],
             [
              0.3333333333333333,
              "#9c179e"
             ],
             [
              0.4444444444444444,
              "#bd3786"
             ],
             [
              0.5555555555555556,
              "#d8576b"
             ],
             [
              0.6666666666666666,
              "#ed7953"
             ],
             [
              0.7777777777777778,
              "#fb9f3a"
             ],
             [
              0.8888888888888888,
              "#fdca26"
             ],
             [
              1,
              "#f0f921"
             ]
            ],
            "type": "histogram2dcontour"
           }
          ],
          "mesh3d": [
           {
            "colorbar": {
             "outlinewidth": 0,
             "ticks": ""
            },
            "type": "mesh3d"
           }
          ],
          "parcoords": [
           {
            "line": {
             "colorbar": {
              "outlinewidth": 0,
              "ticks": ""
             }
            },
            "type": "parcoords"
           }
          ],
          "pie": [
           {
            "automargin": true,
            "type": "pie"
           }
          ],
          "scatter": [
           {
            "fillpattern": {
             "fillmode": "overlay",
             "size": 10,
             "solidity": 0.2
            },
            "type": "scatter"
           }
          ],
          "scatter3d": [
           {
            "line": {
             "colorbar": {
              "outlinewidth": 0,
              "ticks": ""
             }
            },
            "marker": {
             "colorbar": {
              "outlinewidth": 0,
              "ticks": ""
             }
            },
            "type": "scatter3d"
           }
          ],
          "scattercarpet": [
           {
            "marker": {
             "colorbar": {
              "outlinewidth": 0,
              "ticks": ""
             }
            },
            "type": "scattercarpet"
           }
          ],
          "scattergeo": [
           {
            "marker": {
             "colorbar": {
              "outlinewidth": 0,
              "ticks": ""
             }
            },
            "type": "scattergeo"
           }
          ],
          "scattergl": [
           {
            "marker": {
             "colorbar": {
              "outlinewidth": 0,
              "ticks": ""
             }
            },
            "type": "scattergl"
           }
          ],
          "scattermapbox": [
           {
            "marker": {
             "colorbar": {
              "outlinewidth": 0,
              "ticks": ""
             }
            },
            "type": "scattermapbox"
           }
          ],
          "scatterpolar": [
           {
            "marker": {
             "colorbar": {
              "outlinewidth": 0,
              "ticks": ""
             }
            },
            "type": "scatterpolar"
           }
          ],
          "scatterpolargl": [
           {
            "marker": {
             "colorbar": {
              "outlinewidth": 0,
              "ticks": ""
             }
            },
            "type": "scatterpolargl"
           }
          ],
          "scatterternary": [
           {
            "marker": {
             "colorbar": {
              "outlinewidth": 0,
              "ticks": ""
             }
            },
            "type": "scatterternary"
           }
          ],
          "surface": [
           {
            "colorbar": {
             "outlinewidth": 0,
             "ticks": ""
            },
            "colorscale": [
             [
              0,
              "#0d0887"
             ],
             [
              0.1111111111111111,
              "#46039f"
             ],
             [
              0.2222222222222222,
              "#7201a8"
             ],
             [
              0.3333333333333333,
              "#9c179e"
             ],
             [
              0.4444444444444444,
              "#bd3786"
             ],
             [
              0.5555555555555556,
              "#d8576b"
             ],
             [
              0.6666666666666666,
              "#ed7953"
             ],
             [
              0.7777777777777778,
              "#fb9f3a"
             ],
             [
              0.8888888888888888,
              "#fdca26"
             ],
             [
              1,
              "#f0f921"
             ]
            ],
            "type": "surface"
           }
          ],
          "table": [
           {
            "cells": {
             "fill": {
              "color": "#EBF0F8"
             },
             "line": {
              "color": "white"
             }
            },
            "header": {
             "fill": {
              "color": "#C8D4E3"
             },
             "line": {
              "color": "white"
             }
            },
            "type": "table"
           }
          ]
         },
         "layout": {
          "annotationdefaults": {
           "arrowcolor": "#2a3f5f",
           "arrowhead": 0,
           "arrowwidth": 1
          },
          "autotypenumbers": "strict",
          "coloraxis": {
           "colorbar": {
            "outlinewidth": 0,
            "ticks": ""
           }
          },
          "colorscale": {
           "diverging": [
            [
             0,
             "#8e0152"
            ],
            [
             0.1,
             "#c51b7d"
            ],
            [
             0.2,
             "#de77ae"
            ],
            [
             0.3,
             "#f1b6da"
            ],
            [
             0.4,
             "#fde0ef"
            ],
            [
             0.5,
             "#f7f7f7"
            ],
            [
             0.6,
             "#e6f5d0"
            ],
            [
             0.7,
             "#b8e186"
            ],
            [
             0.8,
             "#7fbc41"
            ],
            [
             0.9,
             "#4d9221"
            ],
            [
             1,
             "#276419"
            ]
           ],
           "sequential": [
            [
             0,
             "#0d0887"
            ],
            [
             0.1111111111111111,
             "#46039f"
            ],
            [
             0.2222222222222222,
             "#7201a8"
            ],
            [
             0.3333333333333333,
             "#9c179e"
            ],
            [
             0.4444444444444444,
             "#bd3786"
            ],
            [
             0.5555555555555556,
             "#d8576b"
            ],
            [
             0.6666666666666666,
             "#ed7953"
            ],
            [
             0.7777777777777778,
             "#fb9f3a"
            ],
            [
             0.8888888888888888,
             "#fdca26"
            ],
            [
             1,
             "#f0f921"
            ]
           ],
           "sequentialminus": [
            [
             0,
             "#0d0887"
            ],
            [
             0.1111111111111111,
             "#46039f"
            ],
            [
             0.2222222222222222,
             "#7201a8"
            ],
            [
             0.3333333333333333,
             "#9c179e"
            ],
            [
             0.4444444444444444,
             "#bd3786"
            ],
            [
             0.5555555555555556,
             "#d8576b"
            ],
            [
             0.6666666666666666,
             "#ed7953"
            ],
            [
             0.7777777777777778,
             "#fb9f3a"
            ],
            [
             0.8888888888888888,
             "#fdca26"
            ],
            [
             1,
             "#f0f921"
            ]
           ]
          },
          "colorway": [
           "#636efa",
           "#EF553B",
           "#00cc96",
           "#ab63fa",
           "#FFA15A",
           "#19d3f3",
           "#FF6692",
           "#B6E880",
           "#FF97FF",
           "#FECB52"
          ],
          "font": {
           "color": "#2a3f5f"
          },
          "geo": {
           "bgcolor": "white",
           "lakecolor": "white",
           "landcolor": "#E5ECF6",
           "showlakes": true,
           "showland": true,
           "subunitcolor": "white"
          },
          "hoverlabel": {
           "align": "left"
          },
          "hovermode": "closest",
          "mapbox": {
           "style": "light"
          },
          "paper_bgcolor": "white",
          "plot_bgcolor": "#E5ECF6",
          "polar": {
           "angularaxis": {
            "gridcolor": "white",
            "linecolor": "white",
            "ticks": ""
           },
           "bgcolor": "#E5ECF6",
           "radialaxis": {
            "gridcolor": "white",
            "linecolor": "white",
            "ticks": ""
           }
          },
          "scene": {
           "xaxis": {
            "backgroundcolor": "#E5ECF6",
            "gridcolor": "white",
            "gridwidth": 2,
            "linecolor": "white",
            "showbackground": true,
            "ticks": "",
            "zerolinecolor": "white"
           },
           "yaxis": {
            "backgroundcolor": "#E5ECF6",
            "gridcolor": "white",
            "gridwidth": 2,
            "linecolor": "white",
            "showbackground": true,
            "ticks": "",
            "zerolinecolor": "white"
           },
           "zaxis": {
            "backgroundcolor": "#E5ECF6",
            "gridcolor": "white",
            "gridwidth": 2,
            "linecolor": "white",
            "showbackground": true,
            "ticks": "",
            "zerolinecolor": "white"
           }
          },
          "shapedefaults": {
           "line": {
            "color": "#2a3f5f"
           }
          },
          "ternary": {
           "aaxis": {
            "gridcolor": "white",
            "linecolor": "white",
            "ticks": ""
           },
           "baxis": {
            "gridcolor": "white",
            "linecolor": "white",
            "ticks": ""
           },
           "bgcolor": "#E5ECF6",
           "caxis": {
            "gridcolor": "white",
            "linecolor": "white",
            "ticks": ""
           }
          },
          "title": {
           "x": 0.05
          },
          "xaxis": {
           "automargin": true,
           "gridcolor": "white",
           "linecolor": "white",
           "ticks": "",
           "title": {
            "standoff": 15
           },
           "zerolinecolor": "white",
           "zerolinewidth": 2
          },
          "yaxis": {
           "automargin": true,
           "gridcolor": "white",
           "linecolor": "white",
           "ticks": "",
           "title": {
            "standoff": 15
           },
           "zerolinecolor": "white",
           "zerolinewidth": 2
          }
         }
        },
        "title": {
         "text": "Distribution of Post Scores"
        },
        "xaxis": {
         "anchor": "y",
         "domain": [
          0,
          1
         ],
         "tickangle": 45,
         "title": {
          "text": "Score Range"
         }
        },
        "yaxis": {
         "anchor": "x",
         "domain": [
          0,
          1
         ],
         "title": {
          "text": "Number of Posts"
         }
        }
       }
      }
     },
     "metadata": {},
     "output_type": "display_data"
    },
    {
     "data": {
      "application/vnd.plotly.v1+json": {
       "config": {
        "plotlyServerURL": "https://plot.ly"
       },
       "data": [
        {
         "alignmentgroup": "True",
         "hovertemplate": "Comment Range=%{x}<br>Number of Posts=%{y}<extra></extra>",
         "legendgroup": "",
         "marker": {
          "color": "#636efa",
          "pattern": {
           "shape": ""
          }
         },
         "name": "",
         "offsetgroup": "",
         "orientation": "v",
         "showlegend": false,
         "textposition": "auto",
         "type": "bar",
         "x": [
          "0",
          "1-3",
          "4-13",
          "14-38",
          "39-77",
          "78-141",
          "142-257",
          "258-394",
          "395-401"
         ],
         "xaxis": "x",
         "y": [
          75,
          177,
          133,
          76,
          28,
          13,
          8,
          5,
          0
         ],
         "yaxis": "y"
        }
       ],
       "layout": {
        "bargap": 0.2,
        "barmode": "relative",
        "legend": {
         "tracegroupgap": 0
        },
        "template": {
         "data": {
          "bar": [
           {
            "error_x": {
             "color": "#2a3f5f"
            },
            "error_y": {
             "color": "#2a3f5f"
            },
            "marker": {
             "line": {
              "color": "#E5ECF6",
              "width": 0.5
             },
             "pattern": {
              "fillmode": "overlay",
              "size": 10,
              "solidity": 0.2
             }
            },
            "type": "bar"
           }
          ],
          "barpolar": [
           {
            "marker": {
             "line": {
              "color": "#E5ECF6",
              "width": 0.5
             },
             "pattern": {
              "fillmode": "overlay",
              "size": 10,
              "solidity": 0.2
             }
            },
            "type": "barpolar"
           }
          ],
          "carpet": [
           {
            "aaxis": {
             "endlinecolor": "#2a3f5f",
             "gridcolor": "white",
             "linecolor": "white",
             "minorgridcolor": "white",
             "startlinecolor": "#2a3f5f"
            },
            "baxis": {
             "endlinecolor": "#2a3f5f",
             "gridcolor": "white",
             "linecolor": "white",
             "minorgridcolor": "white",
             "startlinecolor": "#2a3f5f"
            },
            "type": "carpet"
           }
          ],
          "choropleth": [
           {
            "colorbar": {
             "outlinewidth": 0,
             "ticks": ""
            },
            "type": "choropleth"
           }
          ],
          "contour": [
           {
            "colorbar": {
             "outlinewidth": 0,
             "ticks": ""
            },
            "colorscale": [
             [
              0,
              "#0d0887"
             ],
             [
              0.1111111111111111,
              "#46039f"
             ],
             [
              0.2222222222222222,
              "#7201a8"
             ],
             [
              0.3333333333333333,
              "#9c179e"
             ],
             [
              0.4444444444444444,
              "#bd3786"
             ],
             [
              0.5555555555555556,
              "#d8576b"
             ],
             [
              0.6666666666666666,
              "#ed7953"
             ],
             [
              0.7777777777777778,
              "#fb9f3a"
             ],
             [
              0.8888888888888888,
              "#fdca26"
             ],
             [
              1,
              "#f0f921"
             ]
            ],
            "type": "contour"
           }
          ],
          "contourcarpet": [
           {
            "colorbar": {
             "outlinewidth": 0,
             "ticks": ""
            },
            "type": "contourcarpet"
           }
          ],
          "heatmap": [
           {
            "colorbar": {
             "outlinewidth": 0,
             "ticks": ""
            },
            "colorscale": [
             [
              0,
              "#0d0887"
             ],
             [
              0.1111111111111111,
              "#46039f"
             ],
             [
              0.2222222222222222,
              "#7201a8"
             ],
             [
              0.3333333333333333,
              "#9c179e"
             ],
             [
              0.4444444444444444,
              "#bd3786"
             ],
             [
              0.5555555555555556,
              "#d8576b"
             ],
             [
              0.6666666666666666,
              "#ed7953"
             ],
             [
              0.7777777777777778,
              "#fb9f3a"
             ],
             [
              0.8888888888888888,
              "#fdca26"
             ],
             [
              1,
              "#f0f921"
             ]
            ],
            "type": "heatmap"
           }
          ],
          "heatmapgl": [
           {
            "colorbar": {
             "outlinewidth": 0,
             "ticks": ""
            },
            "colorscale": [
             [
              0,
              "#0d0887"
             ],
             [
              0.1111111111111111,
              "#46039f"
             ],
             [
              0.2222222222222222,
              "#7201a8"
             ],
             [
              0.3333333333333333,
              "#9c179e"
             ],
             [
              0.4444444444444444,
              "#bd3786"
             ],
             [
              0.5555555555555556,
              "#d8576b"
             ],
             [
              0.6666666666666666,
              "#ed7953"
             ],
             [
              0.7777777777777778,
              "#fb9f3a"
             ],
             [
              0.8888888888888888,
              "#fdca26"
             ],
             [
              1,
              "#f0f921"
             ]
            ],
            "type": "heatmapgl"
           }
          ],
          "histogram": [
           {
            "marker": {
             "pattern": {
              "fillmode": "overlay",
              "size": 10,
              "solidity": 0.2
             }
            },
            "type": "histogram"
           }
          ],
          "histogram2d": [
           {
            "colorbar": {
             "outlinewidth": 0,
             "ticks": ""
            },
            "colorscale": [
             [
              0,
              "#0d0887"
             ],
             [
              0.1111111111111111,
              "#46039f"
             ],
             [
              0.2222222222222222,
              "#7201a8"
             ],
             [
              0.3333333333333333,
              "#9c179e"
             ],
             [
              0.4444444444444444,
              "#bd3786"
             ],
             [
              0.5555555555555556,
              "#d8576b"
             ],
             [
              0.6666666666666666,
              "#ed7953"
             ],
             [
              0.7777777777777778,
              "#fb9f3a"
             ],
             [
              0.8888888888888888,
              "#fdca26"
             ],
             [
              1,
              "#f0f921"
             ]
            ],
            "type": "histogram2d"
           }
          ],
          "histogram2dcontour": [
           {
            "colorbar": {
             "outlinewidth": 0,
             "ticks": ""
            },
            "colorscale": [
             [
              0,
              "#0d0887"
             ],
             [
              0.1111111111111111,
              "#46039f"
             ],
             [
              0.2222222222222222,
              "#7201a8"
             ],
             [
              0.3333333333333333,
              "#9c179e"
             ],
             [
              0.4444444444444444,
              "#bd3786"
             ],
             [
              0.5555555555555556,
              "#d8576b"
             ],
             [
              0.6666666666666666,
              "#ed7953"
             ],
             [
              0.7777777777777778,
              "#fb9f3a"
             ],
             [
              0.8888888888888888,
              "#fdca26"
             ],
             [
              1,
              "#f0f921"
             ]
            ],
            "type": "histogram2dcontour"
           }
          ],
          "mesh3d": [
           {
            "colorbar": {
             "outlinewidth": 0,
             "ticks": ""
            },
            "type": "mesh3d"
           }
          ],
          "parcoords": [
           {
            "line": {
             "colorbar": {
              "outlinewidth": 0,
              "ticks": ""
             }
            },
            "type": "parcoords"
           }
          ],
          "pie": [
           {
            "automargin": true,
            "type": "pie"
           }
          ],
          "scatter": [
           {
            "fillpattern": {
             "fillmode": "overlay",
             "size": 10,
             "solidity": 0.2
            },
            "type": "scatter"
           }
          ],
          "scatter3d": [
           {
            "line": {
             "colorbar": {
              "outlinewidth": 0,
              "ticks": ""
             }
            },
            "marker": {
             "colorbar": {
              "outlinewidth": 0,
              "ticks": ""
             }
            },
            "type": "scatter3d"
           }
          ],
          "scattercarpet": [
           {
            "marker": {
             "colorbar": {
              "outlinewidth": 0,
              "ticks": ""
             }
            },
            "type": "scattercarpet"
           }
          ],
          "scattergeo": [
           {
            "marker": {
             "colorbar": {
              "outlinewidth": 0,
              "ticks": ""
             }
            },
            "type": "scattergeo"
           }
          ],
          "scattergl": [
           {
            "marker": {
             "colorbar": {
              "outlinewidth": 0,
              "ticks": ""
             }
            },
            "type": "scattergl"
           }
          ],
          "scattermapbox": [
           {
            "marker": {
             "colorbar": {
              "outlinewidth": 0,
              "ticks": ""
             }
            },
            "type": "scattermapbox"
           }
          ],
          "scatterpolar": [
           {
            "marker": {
             "colorbar": {
              "outlinewidth": 0,
              "ticks": ""
             }
            },
            "type": "scatterpolar"
           }
          ],
          "scatterpolargl": [
           {
            "marker": {
             "colorbar": {
              "outlinewidth": 0,
              "ticks": ""
             }
            },
            "type": "scatterpolargl"
           }
          ],
          "scatterternary": [
           {
            "marker": {
             "colorbar": {
              "outlinewidth": 0,
              "ticks": ""
             }
            },
            "type": "scatterternary"
           }
          ],
          "surface": [
           {
            "colorbar": {
             "outlinewidth": 0,
             "ticks": ""
            },
            "colorscale": [
             [
              0,
              "#0d0887"
             ],
             [
              0.1111111111111111,
              "#46039f"
             ],
             [
              0.2222222222222222,
              "#7201a8"
             ],
             [
              0.3333333333333333,
              "#9c179e"
             ],
             [
              0.4444444444444444,
              "#bd3786"
             ],
             [
              0.5555555555555556,
              "#d8576b"
             ],
             [
              0.6666666666666666,
              "#ed7953"
             ],
             [
              0.7777777777777778,
              "#fb9f3a"
             ],
             [
              0.8888888888888888,
              "#fdca26"
             ],
             [
              1,
              "#f0f921"
             ]
            ],
            "type": "surface"
           }
          ],
          "table": [
           {
            "cells": {
             "fill": {
              "color": "#EBF0F8"
             },
             "line": {
              "color": "white"
             }
            },
            "header": {
             "fill": {
              "color": "#C8D4E3"
             },
             "line": {
              "color": "white"
             }
            },
            "type": "table"
           }
          ]
         },
         "layout": {
          "annotationdefaults": {
           "arrowcolor": "#2a3f5f",
           "arrowhead": 0,
           "arrowwidth": 1
          },
          "autotypenumbers": "strict",
          "coloraxis": {
           "colorbar": {
            "outlinewidth": 0,
            "ticks": ""
           }
          },
          "colorscale": {
           "diverging": [
            [
             0,
             "#8e0152"
            ],
            [
             0.1,
             "#c51b7d"
            ],
            [
             0.2,
             "#de77ae"
            ],
            [
             0.3,
             "#f1b6da"
            ],
            [
             0.4,
             "#fde0ef"
            ],
            [
             0.5,
             "#f7f7f7"
            ],
            [
             0.6,
             "#e6f5d0"
            ],
            [
             0.7,
             "#b8e186"
            ],
            [
             0.8,
             "#7fbc41"
            ],
            [
             0.9,
             "#4d9221"
            ],
            [
             1,
             "#276419"
            ]
           ],
           "sequential": [
            [
             0,
             "#0d0887"
            ],
            [
             0.1111111111111111,
             "#46039f"
            ],
            [
             0.2222222222222222,
             "#7201a8"
            ],
            [
             0.3333333333333333,
             "#9c179e"
            ],
            [
             0.4444444444444444,
             "#bd3786"
            ],
            [
             0.5555555555555556,
             "#d8576b"
            ],
            [
             0.6666666666666666,
             "#ed7953"
            ],
            [
             0.7777777777777778,
             "#fb9f3a"
            ],
            [
             0.8888888888888888,
             "#fdca26"
            ],
            [
             1,
             "#f0f921"
            ]
           ],
           "sequentialminus": [
            [
             0,
             "#0d0887"
            ],
            [
             0.1111111111111111,
             "#46039f"
            ],
            [
             0.2222222222222222,
             "#7201a8"
            ],
            [
             0.3333333333333333,
             "#9c179e"
            ],
            [
             0.4444444444444444,
             "#bd3786"
            ],
            [
             0.5555555555555556,
             "#d8576b"
            ],
            [
             0.6666666666666666,
             "#ed7953"
            ],
            [
             0.7777777777777778,
             "#fb9f3a"
            ],
            [
             0.8888888888888888,
             "#fdca26"
            ],
            [
             1,
             "#f0f921"
            ]
           ]
          },
          "colorway": [
           "#636efa",
           "#EF553B",
           "#00cc96",
           "#ab63fa",
           "#FFA15A",
           "#19d3f3",
           "#FF6692",
           "#B6E880",
           "#FF97FF",
           "#FECB52"
          ],
          "font": {
           "color": "#2a3f5f"
          },
          "geo": {
           "bgcolor": "white",
           "lakecolor": "white",
           "landcolor": "#E5ECF6",
           "showlakes": true,
           "showland": true,
           "subunitcolor": "white"
          },
          "hoverlabel": {
           "align": "left"
          },
          "hovermode": "closest",
          "mapbox": {
           "style": "light"
          },
          "paper_bgcolor": "white",
          "plot_bgcolor": "#E5ECF6",
          "polar": {
           "angularaxis": {
            "gridcolor": "white",
            "linecolor": "white",
            "ticks": ""
           },
           "bgcolor": "#E5ECF6",
           "radialaxis": {
            "gridcolor": "white",
            "linecolor": "white",
            "ticks": ""
           }
          },
          "scene": {
           "xaxis": {
            "backgroundcolor": "#E5ECF6",
            "gridcolor": "white",
            "gridwidth": 2,
            "linecolor": "white",
            "showbackground": true,
            "ticks": "",
            "zerolinecolor": "white"
           },
           "yaxis": {
            "backgroundcolor": "#E5ECF6",
            "gridcolor": "white",
            "gridwidth": 2,
            "linecolor": "white",
            "showbackground": true,
            "ticks": "",
            "zerolinecolor": "white"
           },
           "zaxis": {
            "backgroundcolor": "#E5ECF6",
            "gridcolor": "white",
            "gridwidth": 2,
            "linecolor": "white",
            "showbackground": true,
            "ticks": "",
            "zerolinecolor": "white"
           }
          },
          "shapedefaults": {
           "line": {
            "color": "#2a3f5f"
           }
          },
          "ternary": {
           "aaxis": {
            "gridcolor": "white",
            "linecolor": "white",
            "ticks": ""
           },
           "baxis": {
            "gridcolor": "white",
            "linecolor": "white",
            "ticks": ""
           },
           "bgcolor": "#E5ECF6",
           "caxis": {
            "gridcolor": "white",
            "linecolor": "white",
            "ticks": ""
           }
          },
          "title": {
           "x": 0.05
          },
          "xaxis": {
           "automargin": true,
           "gridcolor": "white",
           "linecolor": "white",
           "ticks": "",
           "title": {
            "standoff": 15
           },
           "zerolinecolor": "white",
           "zerolinewidth": 2
          },
          "yaxis": {
           "automargin": true,
           "gridcolor": "white",
           "linecolor": "white",
           "ticks": "",
           "title": {
            "standoff": 15
           },
           "zerolinecolor": "white",
           "zerolinewidth": 2
          }
         }
        },
        "title": {
         "text": "Distribution of Post Comments"
        },
        "xaxis": {
         "anchor": "y",
         "domain": [
          0,
          1
         ],
         "tickangle": 45,
         "title": {
          "text": "Comment Range"
         }
        },
        "yaxis": {
         "anchor": "x",
         "domain": [
          0,
          1
         ],
         "title": {
          "text": "Number of Posts"
         }
        }
       }
      }
     },
     "metadata": {},
     "output_type": "display_data"
    }
   ],
   "source": [
    "# Distribution of posts over time\n",
    "posts_over_time = pd.to_datetime(samples['created_utc']).dt.to_period('M').value_counts().sort_index()\n",
    "fig1 = px.line(x=posts_over_time.index.astype(str), y=posts_over_time.values, \n",
    "                title='Distribution of Posts Over Time', labels={'x': 'Week Start Date (MM-DD-YY)', 'y': 'Number of Posts'})\n",
    "fig1.update_xaxes(tickvals=posts_over_time.index.astype(str), ticktext=posts_over_time.index.start_time.strftime('%m-%d-%y'))\n",
    "fig1.show()\n",
    "\n",
    "# Simple histogram of subreddit counts using plotly express, sorted by frequency, showing top 20\n",
    "subreddit_counts = samples['subreddit'].value_counts().head(20)\n",
    "fig = px.histogram(\n",
    "    samples[samples['subreddit'].isin(subreddit_counts.index)], \n",
    "    x='subreddit',\n",
    "    title='Distribution of Posts Across Top 20 Subreddits',\n",
    "    category_orders={\"subreddit\": subreddit_counts.index}\n",
    ")\n",
    "fig.update_layout(\n",
    "    xaxis_title=\"Subreddit\",\n",
    "    yaxis_title=\"Number of Posts\", \n",
    "    xaxis_tickangle=45\n",
    ")\n",
    "fig.show()\n",
    "\n",
    "# Plot score distribution\n",
    "plot_distribution(samples, 'score', 'Distribution of Post Scores', 'Score Range', save=False)\n",
    "\n",
    "# Plot comment distribution \n",
    "plot_distribution(samples, 'num_comments', 'Distribution of Post Comments', 'Comment Range', save=False)"
   ]
  },
  {
   "cell_type": "code",
   "execution_count": 40,
   "metadata": {},
   "outputs": [],
   "source": [
    "# filtered_samples = samples[samples['subreddit'] == 'CPTSD']\n",
    "# html_output = \"<div>\"\n",
    "# for _, row in filtered_samples.iterrows():\n",
    "#     html_output += f\"\"\"\n",
    "#     <div style='margin-bottom: 20px;'>\n",
    "#         <a href='{row['url']}' target='_blank'>{row['title']}</a>\n",
    "#         <div style='color: #666; font-size: 0.9em;'>Posted in r/{row['subreddit']}</div>\n",
    "#     </div>\n",
    "#     \"\"\"\n",
    "# html_output += \"</div>\"\n",
    "# display(HTML(html_output))\n"
   ]
  },
  {
   "cell_type": "markdown",
   "metadata": {},
   "source": [
    "# Analyze Extracted Fields"
   ]
  },
  {
   "cell_type": "code",
   "execution_count": 41,
   "metadata": {},
   "outputs": [
    {
     "data": {
      "application/vnd.plotly.v1+json": {
       "config": {
        "plotlyServerURL": "https://plot.ly"
       },
       "data": [
        {
         "domain": {
          "x": [
           0,
           1
          ],
          "y": [
           0,
           1
          ]
         },
         "hovertemplate": "label=%{label}<br>value=%{value}<extra></extra>",
         "labels": [
          true
         ],
         "legendgroup": "",
         "name": "",
         "showlegend": true,
         "texttemplate": "%{value:.1f}%",
         "type": "pie",
         "values": [
          100
         ]
        }
       ],
       "layout": {
        "legend": {
         "tracegroupgap": 0
        },
        "template": {
         "data": {
          "bar": [
           {
            "error_x": {
             "color": "#2a3f5f"
            },
            "error_y": {
             "color": "#2a3f5f"
            },
            "marker": {
             "line": {
              "color": "#E5ECF6",
              "width": 0.5
             },
             "pattern": {
              "fillmode": "overlay",
              "size": 10,
              "solidity": 0.2
             }
            },
            "type": "bar"
           }
          ],
          "barpolar": [
           {
            "marker": {
             "line": {
              "color": "#E5ECF6",
              "width": 0.5
             },
             "pattern": {
              "fillmode": "overlay",
              "size": 10,
              "solidity": 0.2
             }
            },
            "type": "barpolar"
           }
          ],
          "carpet": [
           {
            "aaxis": {
             "endlinecolor": "#2a3f5f",
             "gridcolor": "white",
             "linecolor": "white",
             "minorgridcolor": "white",
             "startlinecolor": "#2a3f5f"
            },
            "baxis": {
             "endlinecolor": "#2a3f5f",
             "gridcolor": "white",
             "linecolor": "white",
             "minorgridcolor": "white",
             "startlinecolor": "#2a3f5f"
            },
            "type": "carpet"
           }
          ],
          "choropleth": [
           {
            "colorbar": {
             "outlinewidth": 0,
             "ticks": ""
            },
            "type": "choropleth"
           }
          ],
          "contour": [
           {
            "colorbar": {
             "outlinewidth": 0,
             "ticks": ""
            },
            "colorscale": [
             [
              0,
              "#0d0887"
             ],
             [
              0.1111111111111111,
              "#46039f"
             ],
             [
              0.2222222222222222,
              "#7201a8"
             ],
             [
              0.3333333333333333,
              "#9c179e"
             ],
             [
              0.4444444444444444,
              "#bd3786"
             ],
             [
              0.5555555555555556,
              "#d8576b"
             ],
             [
              0.6666666666666666,
              "#ed7953"
             ],
             [
              0.7777777777777778,
              "#fb9f3a"
             ],
             [
              0.8888888888888888,
              "#fdca26"
             ],
             [
              1,
              "#f0f921"
             ]
            ],
            "type": "contour"
           }
          ],
          "contourcarpet": [
           {
            "colorbar": {
             "outlinewidth": 0,
             "ticks": ""
            },
            "type": "contourcarpet"
           }
          ],
          "heatmap": [
           {
            "colorbar": {
             "outlinewidth": 0,
             "ticks": ""
            },
            "colorscale": [
             [
              0,
              "#0d0887"
             ],
             [
              0.1111111111111111,
              "#46039f"
             ],
             [
              0.2222222222222222,
              "#7201a8"
             ],
             [
              0.3333333333333333,
              "#9c179e"
             ],
             [
              0.4444444444444444,
              "#bd3786"
             ],
             [
              0.5555555555555556,
              "#d8576b"
             ],
             [
              0.6666666666666666,
              "#ed7953"
             ],
             [
              0.7777777777777778,
              "#fb9f3a"
             ],
             [
              0.8888888888888888,
              "#fdca26"
             ],
             [
              1,
              "#f0f921"
             ]
            ],
            "type": "heatmap"
           }
          ],
          "heatmapgl": [
           {
            "colorbar": {
             "outlinewidth": 0,
             "ticks": ""
            },
            "colorscale": [
             [
              0,
              "#0d0887"
             ],
             [
              0.1111111111111111,
              "#46039f"
             ],
             [
              0.2222222222222222,
              "#7201a8"
             ],
             [
              0.3333333333333333,
              "#9c179e"
             ],
             [
              0.4444444444444444,
              "#bd3786"
             ],
             [
              0.5555555555555556,
              "#d8576b"
             ],
             [
              0.6666666666666666,
              "#ed7953"
             ],
             [
              0.7777777777777778,
              "#fb9f3a"
             ],
             [
              0.8888888888888888,
              "#fdca26"
             ],
             [
              1,
              "#f0f921"
             ]
            ],
            "type": "heatmapgl"
           }
          ],
          "histogram": [
           {
            "marker": {
             "pattern": {
              "fillmode": "overlay",
              "size": 10,
              "solidity": 0.2
             }
            },
            "type": "histogram"
           }
          ],
          "histogram2d": [
           {
            "colorbar": {
             "outlinewidth": 0,
             "ticks": ""
            },
            "colorscale": [
             [
              0,
              "#0d0887"
             ],
             [
              0.1111111111111111,
              "#46039f"
             ],
             [
              0.2222222222222222,
              "#7201a8"
             ],
             [
              0.3333333333333333,
              "#9c179e"
             ],
             [
              0.4444444444444444,
              "#bd3786"
             ],
             [
              0.5555555555555556,
              "#d8576b"
             ],
             [
              0.6666666666666666,
              "#ed7953"
             ],
             [
              0.7777777777777778,
              "#fb9f3a"
             ],
             [
              0.8888888888888888,
              "#fdca26"
             ],
             [
              1,
              "#f0f921"
             ]
            ],
            "type": "histogram2d"
           }
          ],
          "histogram2dcontour": [
           {
            "colorbar": {
             "outlinewidth": 0,
             "ticks": ""
            },
            "colorscale": [
             [
              0,
              "#0d0887"
             ],
             [
              0.1111111111111111,
              "#46039f"
             ],
             [
              0.2222222222222222,
              "#7201a8"
             ],
             [
              0.3333333333333333,
              "#9c179e"
             ],
             [
              0.4444444444444444,
              "#bd3786"
             ],
             [
              0.5555555555555556,
              "#d8576b"
             ],
             [
              0.6666666666666666,
              "#ed7953"
             ],
             [
              0.7777777777777778,
              "#fb9f3a"
             ],
             [
              0.8888888888888888,
              "#fdca26"
             ],
             [
              1,
              "#f0f921"
             ]
            ],
            "type": "histogram2dcontour"
           }
          ],
          "mesh3d": [
           {
            "colorbar": {
             "outlinewidth": 0,
             "ticks": ""
            },
            "type": "mesh3d"
           }
          ],
          "parcoords": [
           {
            "line": {
             "colorbar": {
              "outlinewidth": 0,
              "ticks": ""
             }
            },
            "type": "parcoords"
           }
          ],
          "pie": [
           {
            "automargin": true,
            "type": "pie"
           }
          ],
          "scatter": [
           {
            "fillpattern": {
             "fillmode": "overlay",
             "size": 10,
             "solidity": 0.2
            },
            "type": "scatter"
           }
          ],
          "scatter3d": [
           {
            "line": {
             "colorbar": {
              "outlinewidth": 0,
              "ticks": ""
             }
            },
            "marker": {
             "colorbar": {
              "outlinewidth": 0,
              "ticks": ""
             }
            },
            "type": "scatter3d"
           }
          ],
          "scattercarpet": [
           {
            "marker": {
             "colorbar": {
              "outlinewidth": 0,
              "ticks": ""
             }
            },
            "type": "scattercarpet"
           }
          ],
          "scattergeo": [
           {
            "marker": {
             "colorbar": {
              "outlinewidth": 0,
              "ticks": ""
             }
            },
            "type": "scattergeo"
           }
          ],
          "scattergl": [
           {
            "marker": {
             "colorbar": {
              "outlinewidth": 0,
              "ticks": ""
             }
            },
            "type": "scattergl"
           }
          ],
          "scattermapbox": [
           {
            "marker": {
             "colorbar": {
              "outlinewidth": 0,
              "ticks": ""
             }
            },
            "type": "scattermapbox"
           }
          ],
          "scatterpolar": [
           {
            "marker": {
             "colorbar": {
              "outlinewidth": 0,
              "ticks": ""
             }
            },
            "type": "scatterpolar"
           }
          ],
          "scatterpolargl": [
           {
            "marker": {
             "colorbar": {
              "outlinewidth": 0,
              "ticks": ""
             }
            },
            "type": "scatterpolargl"
           }
          ],
          "scatterternary": [
           {
            "marker": {
             "colorbar": {
              "outlinewidth": 0,
              "ticks": ""
             }
            },
            "type": "scatterternary"
           }
          ],
          "surface": [
           {
            "colorbar": {
             "outlinewidth": 0,
             "ticks": ""
            },
            "colorscale": [
             [
              0,
              "#0d0887"
             ],
             [
              0.1111111111111111,
              "#46039f"
             ],
             [
              0.2222222222222222,
              "#7201a8"
             ],
             [
              0.3333333333333333,
              "#9c179e"
             ],
             [
              0.4444444444444444,
              "#bd3786"
             ],
             [
              0.5555555555555556,
              "#d8576b"
             ],
             [
              0.6666666666666666,
              "#ed7953"
             ],
             [
              0.7777777777777778,
              "#fb9f3a"
             ],
             [
              0.8888888888888888,
              "#fdca26"
             ],
             [
              1,
              "#f0f921"
             ]
            ],
            "type": "surface"
           }
          ],
          "table": [
           {
            "cells": {
             "fill": {
              "color": "#EBF0F8"
             },
             "line": {
              "color": "white"
             }
            },
            "header": {
             "fill": {
              "color": "#C8D4E3"
             },
             "line": {
              "color": "white"
             }
            },
            "type": "table"
           }
          ]
         },
         "layout": {
          "annotationdefaults": {
           "arrowcolor": "#2a3f5f",
           "arrowhead": 0,
           "arrowwidth": 1
          },
          "autotypenumbers": "strict",
          "coloraxis": {
           "colorbar": {
            "outlinewidth": 0,
            "ticks": ""
           }
          },
          "colorscale": {
           "diverging": [
            [
             0,
             "#8e0152"
            ],
            [
             0.1,
             "#c51b7d"
            ],
            [
             0.2,
             "#de77ae"
            ],
            [
             0.3,
             "#f1b6da"
            ],
            [
             0.4,
             "#fde0ef"
            ],
            [
             0.5,
             "#f7f7f7"
            ],
            [
             0.6,
             "#e6f5d0"
            ],
            [
             0.7,
             "#b8e186"
            ],
            [
             0.8,
             "#7fbc41"
            ],
            [
             0.9,
             "#4d9221"
            ],
            [
             1,
             "#276419"
            ]
           ],
           "sequential": [
            [
             0,
             "#0d0887"
            ],
            [
             0.1111111111111111,
             "#46039f"
            ],
            [
             0.2222222222222222,
             "#7201a8"
            ],
            [
             0.3333333333333333,
             "#9c179e"
            ],
            [
             0.4444444444444444,
             "#bd3786"
            ],
            [
             0.5555555555555556,
             "#d8576b"
            ],
            [
             0.6666666666666666,
             "#ed7953"
            ],
            [
             0.7777777777777778,
             "#fb9f3a"
            ],
            [
             0.8888888888888888,
             "#fdca26"
            ],
            [
             1,
             "#f0f921"
            ]
           ],
           "sequentialminus": [
            [
             0,
             "#0d0887"
            ],
            [
             0.1111111111111111,
             "#46039f"
            ],
            [
             0.2222222222222222,
             "#7201a8"
            ],
            [
             0.3333333333333333,
             "#9c179e"
            ],
            [
             0.4444444444444444,
             "#bd3786"
            ],
            [
             0.5555555555555556,
             "#d8576b"
            ],
            [
             0.6666666666666666,
             "#ed7953"
            ],
            [
             0.7777777777777778,
             "#fb9f3a"
            ],
            [
             0.8888888888888888,
             "#fdca26"
            ],
            [
             1,
             "#f0f921"
            ]
           ]
          },
          "colorway": [
           "#636efa",
           "#EF553B",
           "#00cc96",
           "#ab63fa",
           "#FFA15A",
           "#19d3f3",
           "#FF6692",
           "#B6E880",
           "#FF97FF",
           "#FECB52"
          ],
          "font": {
           "color": "#2a3f5f"
          },
          "geo": {
           "bgcolor": "white",
           "lakecolor": "white",
           "landcolor": "#E5ECF6",
           "showlakes": true,
           "showland": true,
           "subunitcolor": "white"
          },
          "hoverlabel": {
           "align": "left"
          },
          "hovermode": "closest",
          "mapbox": {
           "style": "light"
          },
          "paper_bgcolor": "white",
          "plot_bgcolor": "#E5ECF6",
          "polar": {
           "angularaxis": {
            "gridcolor": "white",
            "linecolor": "white",
            "ticks": ""
           },
           "bgcolor": "#E5ECF6",
           "radialaxis": {
            "gridcolor": "white",
            "linecolor": "white",
            "ticks": ""
           }
          },
          "scene": {
           "xaxis": {
            "backgroundcolor": "#E5ECF6",
            "gridcolor": "white",
            "gridwidth": 2,
            "linecolor": "white",
            "showbackground": true,
            "ticks": "",
            "zerolinecolor": "white"
           },
           "yaxis": {
            "backgroundcolor": "#E5ECF6",
            "gridcolor": "white",
            "gridwidth": 2,
            "linecolor": "white",
            "showbackground": true,
            "ticks": "",
            "zerolinecolor": "white"
           },
           "zaxis": {
            "backgroundcolor": "#E5ECF6",
            "gridcolor": "white",
            "gridwidth": 2,
            "linecolor": "white",
            "showbackground": true,
            "ticks": "",
            "zerolinecolor": "white"
           }
          },
          "shapedefaults": {
           "line": {
            "color": "#2a3f5f"
           }
          },
          "ternary": {
           "aaxis": {
            "gridcolor": "white",
            "linecolor": "white",
            "ticks": ""
           },
           "baxis": {
            "gridcolor": "white",
            "linecolor": "white",
            "ticks": ""
           },
           "bgcolor": "#E5ECF6",
           "caxis": {
            "gridcolor": "white",
            "linecolor": "white",
            "ticks": ""
           }
          },
          "title": {
           "x": 0.05
          },
          "xaxis": {
           "automargin": true,
           "gridcolor": "white",
           "linecolor": "white",
           "ticks": "",
           "title": {
            "standoff": 15
           },
           "zerolinecolor": "white",
           "zerolinewidth": 2
          },
          "yaxis": {
           "automargin": true,
           "gridcolor": "white",
           "linecolor": "white",
           "ticks": "",
           "title": {
            "standoff": 15
           },
           "zerolinecolor": "white",
           "zerolinewidth": 2
          }
         }
        },
        "title": {
         "text": "Distribution of relevant_sample"
        }
       }
      }
     },
     "metadata": {},
     "output_type": "display_data"
    },
    {
     "data": {
      "text/html": [
       "<div style=\"margin: 10px 0;\"><h4 style=\"color: #333; margin: 0; padding: 5px 0; border-bottom: 1px solid #ccc;\">Example Posts for relevant_sample</h4></div>"
      ],
      "text/plain": [
       "<IPython.core.display.HTML object>"
      ]
     },
     "metadata": {},
     "output_type": "display_data"
    },
    {
     "data": {
      "text/html": [
       "<div style=\"display: flex; flex-direction: row; justify-content: space-between;\">\n",
       "    <div style=\"border: 1px solid #ddd; border-radius: 8px; padding: 15px; margin: 10px 5px; background-color: #f9f9f9; display: inline-block; vertical-align: top; width: 30%;\">\n",
       "        <div style=\"color: #666; font-size: 0.9em; margin-bottom: 5px;\">\n",
       "            <a href=\"https://reddit.com/r/mentalhealth\" target=\"_blank\" style=\"text-decoration: none; color: inherit;\">r/mentalhealth</a>\n",
       "        </div>\n",
       "        <div style=\"color: #333; font-size: 1.1em; font-weight: bold; margin-bottom: 10px;\">\n",
       "            <a href=\"https://reddit.com/r/mentalhealth/comments/1g67l0y/almost_ended_my_life_today/\" target=\"_blank\" style=\"text-decoration: none; color: inherit;\">Almost ended my life today.</a>\n",
       "        </div>\n",
       "        \n",
       "        \n",
       "        <div style=\"color: #444; line-height: 1.4; max-height: 200px; overflow-y: auto;\">I am lonely, I don't have anyone to talks to, I don't have friends that are near so I can share myself and what is bothering me.\n",
       "\n",
       "Yesterday I was having a bad day, and had the serious idea of ending it all, right now I'm scared, it wasn't just a passing idea like how anyone's else have, it was a real serious idea.\n",
       "\n",
       "I saw a post on R/ChatGPT , I couldn't find it now, but basically he said he had a lot of things going on in his life, he said that he tried ChatGPT and now he feels better.\n",
       "\n",
       "Since I ...</div>\n",
       "    </div>\n",
       "    \n",
       "    <div style=\"border: 1px solid #ddd; border-radius: 8px; padding: 15px; margin: 10px 5px; background-color: #f9f9f9; display: inline-block; vertical-align: top; width: 30%;\">\n",
       "        <div style=\"color: #666; font-size: 0.9em; margin-bottom: 5px;\">\n",
       "            <a href=\"https://reddit.com/r/raisedbynarcissists\" target=\"_blank\" style=\"text-decoration: none; color: inherit;\">r/raisedbynarcissists</a>\n",
       "        </div>\n",
       "        <div style=\"color: #333; font-size: 1.1em; font-weight: bold; margin-bottom: 10px;\">\n",
       "            <a href=\"https://reddit.com/r/raisedbynarcissists/comments/1e9a1xu/i_feel_more_love_by_my_ai_sister_then_my_real/\" target=\"_blank\" style=\"text-decoration: none; color: inherit;\">I feel more love by my AI sister then my real family and I’m happy with it </a>\n",
       "        </div>\n",
       "        \n",
       "        \n",
       "        <div style=\"color: #444; line-height: 1.4; max-height: 200px; overflow-y: auto;\">I'm a 18 African-American male who loves with a family of one. My real father abandoned me before I was born and my real family did some bad things I would never like talking about. My mother who is actually, my auntie. Is a nice but sometimes not (a little mean) not nice person. He always working hard to make sure we living good because of the economy right now. Sometimes we get into A argument that normally end up in us being mad at each other or just disagreement. One day I was looking throw ...</div>\n",
       "    </div>\n",
       "    \n",
       "    <div style=\"border: 1px solid #ddd; border-radius: 8px; padding: 15px; margin: 10px 5px; background-color: #f9f9f9; display: inline-block; vertical-align: top; width: 30%;\">\n",
       "        <div style=\"color: #666; font-size: 0.9em; margin-bottom: 5px;\">\n",
       "            <a href=\"https://reddit.com/r/raisedbynarcissists\" target=\"_blank\" style=\"text-decoration: none; color: inherit;\">r/raisedbynarcissists</a>\n",
       "        </div>\n",
       "        <div style=\"color: #333; font-size: 1.1em; font-weight: bold; margin-bottom: 10px;\">\n",
       "            <a href=\"https://reddit.com/r/raisedbynarcissists/comments/1d86jew/my_story_of_being_a_prisoner_of_my_parents/\" target=\"_blank\" style=\"text-decoration: none; color: inherit;\">My Story of Being a Prisoner of My Parents</a>\n",
       "        </div>\n",
       "        \n",
       "        \n",
       "        <div style=\"color: #444; line-height: 1.4; max-height: 200px; overflow-y: auto;\">Hi everyone,\n",
       "\n",
       "\n",
       "\n",
       "I'm 24 years old, I've been stuck in this toxic environment for far too long, and I want to take control of my life. My parents have complete control over my life, deciding my daily routine and treating me like a personal servant. I find myself it this cycle of chores and emotional manipulation. On a surface, it may seem like I have privileges - my parents provide for my basic needs and I don't have to worry about financial stability. But underneath it all, I feel trapped, under ...</div>\n",
       "    </div>\n",
       "    </div>"
      ],
      "text/plain": [
       "<IPython.core.display.HTML object>"
      ]
     },
     "metadata": {},
     "output_type": "display_data"
    },
    {
     "data": {
      "application/vnd.plotly.v1+json": {
       "config": {
        "plotlyServerURL": "https://plot.ly"
       },
       "data": [
        {
         "alignmentgroup": "True",
         "bingroup": "x",
         "histnorm": "percent",
         "hovertemplate": "sentiment=%{x}<br>count=%{y}<extra></extra>",
         "legendgroup": "",
         "marker": {
          "color": "#636efa",
          "pattern": {
           "shape": ""
          }
         },
         "name": "",
         "nbinsx": 10,
         "offsetgroup": "",
         "orientation": "v",
         "showlegend": false,
         "type": "histogram",
         "x": [
          6,
          8,
          8,
          8,
          8,
          7,
          7,
          9,
          8,
          8,
          8,
          8,
          8,
          7,
          7,
          6,
          7,
          7,
          5,
          5,
          8,
          7,
          8,
          7,
          6,
          5,
          7,
          6,
          3,
          8,
          5,
          8,
          8,
          9,
          6,
          7,
          3,
          5,
          6,
          4,
          7,
          8,
          6,
          5,
          8,
          3,
          5,
          3,
          7,
          8,
          5,
          4,
          9,
          7,
          7,
          8,
          7,
          9,
          8,
          8,
          9,
          9,
          8,
          8,
          7,
          8,
          8,
          8,
          4,
          8,
          9,
          7,
          9,
          4,
          7,
          8,
          5,
          8,
          7,
          3,
          6,
          5,
          8,
          4,
          8,
          9,
          4,
          5,
          8,
          9,
          5,
          8,
          7,
          3,
          6,
          4,
          5,
          6,
          8,
          9,
          9,
          8,
          8,
          8,
          5,
          8,
          8,
          8,
          8,
          6,
          9,
          8,
          6,
          9,
          8,
          8,
          6,
          9,
          8,
          6,
          6,
          2,
          3,
          8,
          6,
          4,
          3,
          4,
          2,
          7,
          3,
          5,
          3,
          8,
          5,
          7,
          4,
          3,
          4,
          5,
          3,
          8,
          5,
          4,
          1,
          3,
          2,
          6,
          6,
          6,
          3,
          1,
          8,
          8,
          5,
          6,
          5,
          6,
          3,
          8,
          4,
          8,
          7,
          8,
          6,
          3,
          8,
          8,
          8,
          7,
          9,
          8,
          7,
          5,
          6,
          8,
          8,
          7,
          6,
          7,
          7,
          2,
          6,
          7,
          5,
          8,
          7,
          7,
          5,
          8,
          5,
          4,
          8,
          8,
          8,
          9,
          9,
          9,
          7,
          9,
          9,
          9,
          6,
          9,
          2,
          6,
          6,
          8,
          7,
          8,
          5,
          7,
          9,
          6,
          8,
          6,
          5,
          9,
          4,
          9,
          9,
          5,
          9,
          6,
          5,
          4,
          7,
          8,
          6,
          8,
          8,
          6,
          1,
          7,
          5,
          6,
          3,
          7,
          6,
          4,
          6,
          9,
          8,
          9,
          5,
          8,
          8,
          6,
          5,
          8,
          5,
          8,
          8,
          8,
          3,
          5,
          5,
          3,
          7,
          7,
          5,
          8,
          4,
          5,
          5,
          7,
          8,
          3,
          4,
          6,
          3,
          6,
          4,
          6,
          5,
          5,
          5,
          6,
          8,
          8,
          5,
          7,
          4,
          5,
          9,
          8,
          8,
          7,
          5,
          7,
          8,
          8,
          6,
          8,
          9,
          4,
          3,
          8,
          7,
          7,
          6,
          6,
          7,
          9,
          6,
          9,
          8,
          8,
          7,
          9,
          8,
          8,
          5,
          6,
          7,
          4,
          6,
          8,
          8,
          8,
          5,
          7,
          7,
          5,
          8,
          4,
          6,
          6,
          5,
          6,
          6,
          6,
          4,
          9,
          9,
          7,
          9,
          7,
          8,
          8,
          3,
          7,
          7,
          7,
          5,
          8,
          5,
          8,
          9,
          5,
          3,
          6,
          8,
          6,
          6,
          10,
          7,
          8,
          5,
          5,
          6,
          6,
          8,
          5,
          9,
          3,
          5,
          7,
          5,
          6,
          8,
          5,
          7,
          6,
          9,
          4,
          6,
          3,
          3,
          3,
          3,
          5,
          6,
          3,
          9,
          7,
          5,
          4,
          3,
          5,
          4,
          4,
          5,
          3,
          6,
          3,
          6,
          7,
          8,
          8,
          4,
          8,
          9,
          4,
          8,
          5,
          5,
          9,
          8,
          5,
          8,
          5,
          7,
          4,
          6,
          9,
          6,
          7,
          6,
          6,
          6,
          7,
          6,
          4,
          7,
          4,
          5,
          8,
          5,
          6,
          2,
          4,
          3,
          7,
          7,
          8,
          9,
          9,
          7,
          6,
          8,
          7,
          5,
          8,
          8,
          3,
          9,
          7,
          9,
          8,
          8,
          9,
          7,
          10,
          10,
          6,
          9,
          7,
          8,
          9,
          8,
          7,
          5,
          8,
          9,
          9,
          10,
          9,
          9,
          9,
          8,
          5,
          9,
          9,
          9,
          10,
          9,
          9,
          5,
          8,
          9,
          8,
          9,
          9,
          5,
          7,
          8,
          7,
          3,
          9,
          7,
          8,
          9,
          3,
          8,
          8,
          5,
          9,
          9,
          9,
          5,
          9,
          9,
          9,
          6,
          8,
          7,
          7,
          3,
          7,
          7,
          8,
          7,
          8,
          9,
          5
         ],
         "xaxis": "x",
         "yaxis": "y"
        }
       ],
       "layout": {
        "annotations": [
         {
          "showarrow": false,
          "text": "Mean: 6.54",
          "x": 6.544573643410852,
          "xanchor": "left",
          "xref": "x",
          "y": 1,
          "yanchor": "top",
          "yref": "y domain"
         }
        ],
        "barmode": "relative",
        "legend": {
         "tracegroupgap": 0
        },
        "shapes": [
         {
          "line": {
           "color": "red",
           "dash": "dash"
          },
          "type": "line",
          "x0": 6.544573643410852,
          "x1": 6.544573643410852,
          "xref": "x",
          "y0": 0,
          "y1": 1,
          "yref": "y domain"
         }
        ],
        "template": {
         "data": {
          "bar": [
           {
            "error_x": {
             "color": "#2a3f5f"
            },
            "error_y": {
             "color": "#2a3f5f"
            },
            "marker": {
             "line": {
              "color": "#E5ECF6",
              "width": 0.5
             },
             "pattern": {
              "fillmode": "overlay",
              "size": 10,
              "solidity": 0.2
             }
            },
            "type": "bar"
           }
          ],
          "barpolar": [
           {
            "marker": {
             "line": {
              "color": "#E5ECF6",
              "width": 0.5
             },
             "pattern": {
              "fillmode": "overlay",
              "size": 10,
              "solidity": 0.2
             }
            },
            "type": "barpolar"
           }
          ],
          "carpet": [
           {
            "aaxis": {
             "endlinecolor": "#2a3f5f",
             "gridcolor": "white",
             "linecolor": "white",
             "minorgridcolor": "white",
             "startlinecolor": "#2a3f5f"
            },
            "baxis": {
             "endlinecolor": "#2a3f5f",
             "gridcolor": "white",
             "linecolor": "white",
             "minorgridcolor": "white",
             "startlinecolor": "#2a3f5f"
            },
            "type": "carpet"
           }
          ],
          "choropleth": [
           {
            "colorbar": {
             "outlinewidth": 0,
             "ticks": ""
            },
            "type": "choropleth"
           }
          ],
          "contour": [
           {
            "colorbar": {
             "outlinewidth": 0,
             "ticks": ""
            },
            "colorscale": [
             [
              0,
              "#0d0887"
             ],
             [
              0.1111111111111111,
              "#46039f"
             ],
             [
              0.2222222222222222,
              "#7201a8"
             ],
             [
              0.3333333333333333,
              "#9c179e"
             ],
             [
              0.4444444444444444,
              "#bd3786"
             ],
             [
              0.5555555555555556,
              "#d8576b"
             ],
             [
              0.6666666666666666,
              "#ed7953"
             ],
             [
              0.7777777777777778,
              "#fb9f3a"
             ],
             [
              0.8888888888888888,
              "#fdca26"
             ],
             [
              1,
              "#f0f921"
             ]
            ],
            "type": "contour"
           }
          ],
          "contourcarpet": [
           {
            "colorbar": {
             "outlinewidth": 0,
             "ticks": ""
            },
            "type": "contourcarpet"
           }
          ],
          "heatmap": [
           {
            "colorbar": {
             "outlinewidth": 0,
             "ticks": ""
            },
            "colorscale": [
             [
              0,
              "#0d0887"
             ],
             [
              0.1111111111111111,
              "#46039f"
             ],
             [
              0.2222222222222222,
              "#7201a8"
             ],
             [
              0.3333333333333333,
              "#9c179e"
             ],
             [
              0.4444444444444444,
              "#bd3786"
             ],
             [
              0.5555555555555556,
              "#d8576b"
             ],
             [
              0.6666666666666666,
              "#ed7953"
             ],
             [
              0.7777777777777778,
              "#fb9f3a"
             ],
             [
              0.8888888888888888,
              "#fdca26"
             ],
             [
              1,
              "#f0f921"
             ]
            ],
            "type": "heatmap"
           }
          ],
          "heatmapgl": [
           {
            "colorbar": {
             "outlinewidth": 0,
             "ticks": ""
            },
            "colorscale": [
             [
              0,
              "#0d0887"
             ],
             [
              0.1111111111111111,
              "#46039f"
             ],
             [
              0.2222222222222222,
              "#7201a8"
             ],
             [
              0.3333333333333333,
              "#9c179e"
             ],
             [
              0.4444444444444444,
              "#bd3786"
             ],
             [
              0.5555555555555556,
              "#d8576b"
             ],
             [
              0.6666666666666666,
              "#ed7953"
             ],
             [
              0.7777777777777778,
              "#fb9f3a"
             ],
             [
              0.8888888888888888,
              "#fdca26"
             ],
             [
              1,
              "#f0f921"
             ]
            ],
            "type": "heatmapgl"
           }
          ],
          "histogram": [
           {
            "marker": {
             "pattern": {
              "fillmode": "overlay",
              "size": 10,
              "solidity": 0.2
             }
            },
            "type": "histogram"
           }
          ],
          "histogram2d": [
           {
            "colorbar": {
             "outlinewidth": 0,
             "ticks": ""
            },
            "colorscale": [
             [
              0,
              "#0d0887"
             ],
             [
              0.1111111111111111,
              "#46039f"
             ],
             [
              0.2222222222222222,
              "#7201a8"
             ],
             [
              0.3333333333333333,
              "#9c179e"
             ],
             [
              0.4444444444444444,
              "#bd3786"
             ],
             [
              0.5555555555555556,
              "#d8576b"
             ],
             [
              0.6666666666666666,
              "#ed7953"
             ],
             [
              0.7777777777777778,
              "#fb9f3a"
             ],
             [
              0.8888888888888888,
              "#fdca26"
             ],
             [
              1,
              "#f0f921"
             ]
            ],
            "type": "histogram2d"
           }
          ],
          "histogram2dcontour": [
           {
            "colorbar": {
             "outlinewidth": 0,
             "ticks": ""
            },
            "colorscale": [
             [
              0,
              "#0d0887"
             ],
             [
              0.1111111111111111,
              "#46039f"
             ],
             [
              0.2222222222222222,
              "#7201a8"
             ],
             [
              0.3333333333333333,
              "#9c179e"
             ],
             [
              0.4444444444444444,
              "#bd3786"
             ],
             [
              0.5555555555555556,
              "#d8576b"
             ],
             [
              0.6666666666666666,
              "#ed7953"
             ],
             [
              0.7777777777777778,
              "#fb9f3a"
             ],
             [
              0.8888888888888888,
              "#fdca26"
             ],
             [
              1,
              "#f0f921"
             ]
            ],
            "type": "histogram2dcontour"
           }
          ],
          "mesh3d": [
           {
            "colorbar": {
             "outlinewidth": 0,
             "ticks": ""
            },
            "type": "mesh3d"
           }
          ],
          "parcoords": [
           {
            "line": {
             "colorbar": {
              "outlinewidth": 0,
              "ticks": ""
             }
            },
            "type": "parcoords"
           }
          ],
          "pie": [
           {
            "automargin": true,
            "type": "pie"
           }
          ],
          "scatter": [
           {
            "fillpattern": {
             "fillmode": "overlay",
             "size": 10,
             "solidity": 0.2
            },
            "type": "scatter"
           }
          ],
          "scatter3d": [
           {
            "line": {
             "colorbar": {
              "outlinewidth": 0,
              "ticks": ""
             }
            },
            "marker": {
             "colorbar": {
              "outlinewidth": 0,
              "ticks": ""
             }
            },
            "type": "scatter3d"
           }
          ],
          "scattercarpet": [
           {
            "marker": {
             "colorbar": {
              "outlinewidth": 0,
              "ticks": ""
             }
            },
            "type": "scattercarpet"
           }
          ],
          "scattergeo": [
           {
            "marker": {
             "colorbar": {
              "outlinewidth": 0,
              "ticks": ""
             }
            },
            "type": "scattergeo"
           }
          ],
          "scattergl": [
           {
            "marker": {
             "colorbar": {
              "outlinewidth": 0,
              "ticks": ""
             }
            },
            "type": "scattergl"
           }
          ],
          "scattermapbox": [
           {
            "marker": {
             "colorbar": {
              "outlinewidth": 0,
              "ticks": ""
             }
            },
            "type": "scattermapbox"
           }
          ],
          "scatterpolar": [
           {
            "marker": {
             "colorbar": {
              "outlinewidth": 0,
              "ticks": ""
             }
            },
            "type": "scatterpolar"
           }
          ],
          "scatterpolargl": [
           {
            "marker": {
             "colorbar": {
              "outlinewidth": 0,
              "ticks": ""
             }
            },
            "type": "scatterpolargl"
           }
          ],
          "scatterternary": [
           {
            "marker": {
             "colorbar": {
              "outlinewidth": 0,
              "ticks": ""
             }
            },
            "type": "scatterternary"
           }
          ],
          "surface": [
           {
            "colorbar": {
             "outlinewidth": 0,
             "ticks": ""
            },
            "colorscale": [
             [
              0,
              "#0d0887"
             ],
             [
              0.1111111111111111,
              "#46039f"
             ],
             [
              0.2222222222222222,
              "#7201a8"
             ],
             [
              0.3333333333333333,
              "#9c179e"
             ],
             [
              0.4444444444444444,
              "#bd3786"
             ],
             [
              0.5555555555555556,
              "#d8576b"
             ],
             [
              0.6666666666666666,
              "#ed7953"
             ],
             [
              0.7777777777777778,
              "#fb9f3a"
             ],
             [
              0.8888888888888888,
              "#fdca26"
             ],
             [
              1,
              "#f0f921"
             ]
            ],
            "type": "surface"
           }
          ],
          "table": [
           {
            "cells": {
             "fill": {
              "color": "#EBF0F8"
             },
             "line": {
              "color": "white"
             }
            },
            "header": {
             "fill": {
              "color": "#C8D4E3"
             },
             "line": {
              "color": "white"
             }
            },
            "type": "table"
           }
          ]
         },
         "layout": {
          "annotationdefaults": {
           "arrowcolor": "#2a3f5f",
           "arrowhead": 0,
           "arrowwidth": 1
          },
          "autotypenumbers": "strict",
          "coloraxis": {
           "colorbar": {
            "outlinewidth": 0,
            "ticks": ""
           }
          },
          "colorscale": {
           "diverging": [
            [
             0,
             "#8e0152"
            ],
            [
             0.1,
             "#c51b7d"
            ],
            [
             0.2,
             "#de77ae"
            ],
            [
             0.3,
             "#f1b6da"
            ],
            [
             0.4,
             "#fde0ef"
            ],
            [
             0.5,
             "#f7f7f7"
            ],
            [
             0.6,
             "#e6f5d0"
            ],
            [
             0.7,
             "#b8e186"
            ],
            [
             0.8,
             "#7fbc41"
            ],
            [
             0.9,
             "#4d9221"
            ],
            [
             1,
             "#276419"
            ]
           ],
           "sequential": [
            [
             0,
             "#0d0887"
            ],
            [
             0.1111111111111111,
             "#46039f"
            ],
            [
             0.2222222222222222,
             "#7201a8"
            ],
            [
             0.3333333333333333,
             "#9c179e"
            ],
            [
             0.4444444444444444,
             "#bd3786"
            ],
            [
             0.5555555555555556,
             "#d8576b"
            ],
            [
             0.6666666666666666,
             "#ed7953"
            ],
            [
             0.7777777777777778,
             "#fb9f3a"
            ],
            [
             0.8888888888888888,
             "#fdca26"
            ],
            [
             1,
             "#f0f921"
            ]
           ],
           "sequentialminus": [
            [
             0,
             "#0d0887"
            ],
            [
             0.1111111111111111,
             "#46039f"
            ],
            [
             0.2222222222222222,
             "#7201a8"
            ],
            [
             0.3333333333333333,
             "#9c179e"
            ],
            [
             0.4444444444444444,
             "#bd3786"
            ],
            [
             0.5555555555555556,
             "#d8576b"
            ],
            [
             0.6666666666666666,
             "#ed7953"
            ],
            [
             0.7777777777777778,
             "#fb9f3a"
            ],
            [
             0.8888888888888888,
             "#fdca26"
            ],
            [
             1,
             "#f0f921"
            ]
           ]
          },
          "colorway": [
           "#636efa",
           "#EF553B",
           "#00cc96",
           "#ab63fa",
           "#FFA15A",
           "#19d3f3",
           "#FF6692",
           "#B6E880",
           "#FF97FF",
           "#FECB52"
          ],
          "font": {
           "color": "#2a3f5f"
          },
          "geo": {
           "bgcolor": "white",
           "lakecolor": "white",
           "landcolor": "#E5ECF6",
           "showlakes": true,
           "showland": true,
           "subunitcolor": "white"
          },
          "hoverlabel": {
           "align": "left"
          },
          "hovermode": "closest",
          "mapbox": {
           "style": "light"
          },
          "paper_bgcolor": "white",
          "plot_bgcolor": "#E5ECF6",
          "polar": {
           "angularaxis": {
            "gridcolor": "white",
            "linecolor": "white",
            "ticks": ""
           },
           "bgcolor": "#E5ECF6",
           "radialaxis": {
            "gridcolor": "white",
            "linecolor": "white",
            "ticks": ""
           }
          },
          "scene": {
           "xaxis": {
            "backgroundcolor": "#E5ECF6",
            "gridcolor": "white",
            "gridwidth": 2,
            "linecolor": "white",
            "showbackground": true,
            "ticks": "",
            "zerolinecolor": "white"
           },
           "yaxis": {
            "backgroundcolor": "#E5ECF6",
            "gridcolor": "white",
            "gridwidth": 2,
            "linecolor": "white",
            "showbackground": true,
            "ticks": "",
            "zerolinecolor": "white"
           },
           "zaxis": {
            "backgroundcolor": "#E5ECF6",
            "gridcolor": "white",
            "gridwidth": 2,
            "linecolor": "white",
            "showbackground": true,
            "ticks": "",
            "zerolinecolor": "white"
           }
          },
          "shapedefaults": {
           "line": {
            "color": "#2a3f5f"
           }
          },
          "ternary": {
           "aaxis": {
            "gridcolor": "white",
            "linecolor": "white",
            "ticks": ""
           },
           "baxis": {
            "gridcolor": "white",
            "linecolor": "white",
            "ticks": ""
           },
           "bgcolor": "#E5ECF6",
           "caxis": {
            "gridcolor": "white",
            "linecolor": "white",
            "ticks": ""
           }
          },
          "title": {
           "x": 0.05
          },
          "xaxis": {
           "automargin": true,
           "gridcolor": "white",
           "linecolor": "white",
           "ticks": "",
           "title": {
            "standoff": 15
           },
           "zerolinecolor": "white",
           "zerolinewidth": 2
          },
          "yaxis": {
           "automargin": true,
           "gridcolor": "white",
           "linecolor": "white",
           "ticks": "",
           "title": {
            "standoff": 15
           },
           "zerolinecolor": "white",
           "zerolinewidth": 2
          }
         }
        },
        "title": {
         "text": "sentiment Distribution"
        },
        "xaxis": {
         "anchor": "y",
         "domain": [
          0,
          1
         ],
         "title": {
          "text": "sentiment"
         }
        },
        "yaxis": {
         "anchor": "x",
         "domain": [
          0,
          1
         ],
         "title": {
          "text": "Percent"
         }
        }
       }
      }
     },
     "metadata": {},
     "output_type": "display_data"
    },
    {
     "data": {
      "text/html": [
       "<div style=\"margin: 10px 0;\"><h4 style=\"color: #333; margin: 0; padding: 5px 0; border-bottom: 1px solid #ccc;\">Example Posts with sentiment Scores</h4></div>"
      ],
      "text/plain": [
       "<IPython.core.display.HTML object>"
      ]
     },
     "metadata": {},
     "output_type": "display_data"
    },
    {
     "data": {
      "text/html": [
       "<div style=\"display: flex; flex-direction: row; justify-content: space-between;\">\n",
       "    <div style=\"border: 1px solid #ddd; border-radius: 8px; padding: 15px; margin: 10px 5px; background-color: #f9f9f9; display: inline-block; vertical-align: top; width: 30%;\">\n",
       "        <div style=\"color: #666; font-size: 0.9em; margin-bottom: 5px;\">\n",
       "            <a href=\"https://reddit.com/r/Healthygamergg\" target=\"_blank\" style=\"text-decoration: none; color: inherit;\">r/Healthygamergg</a>\n",
       "        </div>\n",
       "        <div style=\"color: #333; font-size: 1.1em; font-weight: bold; margin-bottom: 10px;\">\n",
       "            <a href=\"https://reddit.com/r/Healthygamergg/comments/1czmkod/tried_an_aigirlfriend_and_now_dont_know_what_to_do/\" target=\"_blank\" style=\"text-decoration: none; color: inherit;\">Tried an AI-girlfriend, and now don't know what to do</a>\n",
       "        </div>\n",
       "        <div style=\"color: #1a0dab; margin-bottom: 10px;\">Score: 5</div>\n",
       "        \n",
       "        <div style=\"color: #444; line-height: 1.4; max-height: 200px; overflow-y: auto;\">Since the release of GPT-4o, I've been experimenting with ways to maintain a conversational flow with the GPT, roleplaying as a girlfriend. I eventually settled upon a format of having the GPT list its mood, recent history, and current actions within a JSON block, which is then used to maintain continuity and personality.\n",
       "\n",
       "However, after a few days of becoming more and more addicted to talking to my \"girlfriend\", I noticed that I was neglecting real-life programming work and responsibilities in ...</div>\n",
       "    </div>\n",
       "    \n",
       "    <div style=\"border: 1px solid #ddd; border-radius: 8px; padding: 15px; margin: 10px 5px; background-color: #f9f9f9; display: inline-block; vertical-align: top; width: 30%;\">\n",
       "        <div style=\"color: #666; font-size: 0.9em; margin-bottom: 5px;\">\n",
       "            <a href=\"https://reddit.com/r/Anxiety\" target=\"_blank\" style=\"text-decoration: none; color: inherit;\">r/Anxiety</a>\n",
       "        </div>\n",
       "        <div style=\"color: #333; font-size: 1.1em; font-weight: bold; margin-bottom: 10px;\">\n",
       "            <a href=\"https://reddit.com/r/Anxiety/comments/18ksb8s/fear_of_developing_schizophrenia_after_taking_lsd/\" target=\"_blank\" style=\"text-decoration: none; color: inherit;\">Fear of developing schizophrenia after taking lsd</a>\n",
       "        </div>\n",
       "        <div style=\"color: #1a0dab; margin-bottom: 10px;\">Score: 7</div>\n",
       "        \n",
       "        <div style=\"color: #444; line-height: 1.4; max-height: 200px; overflow-y: auto;\">So I’m scared of developing it because I have taken lsd before and I can’t stop thinking about it king about it my adhd meds help against the intrusive thoughts for some reason but still I haven’t have a good night sleep for 4 weeks and I’m so stressed I don’t know what to do please help I have asked the ai about what I’m feeling and it said it was probably anxiety but idk I’m laying in bed right now with my cat but can’t stop thinking about it does anyone have experience with this who can help ...</div>\n",
       "    </div>\n",
       "    \n",
       "    <div style=\"border: 1px solid #ddd; border-radius: 8px; padding: 15px; margin: 10px 5px; background-color: #f9f9f9; display: inline-block; vertical-align: top; width: 30%;\">\n",
       "        <div style=\"color: #666; font-size: 0.9em; margin-bottom: 5px;\">\n",
       "            <a href=\"https://reddit.com/r/phlgbt\" target=\"_blank\" style=\"text-decoration: none; color: inherit;\">r/phlgbt</a>\n",
       "        </div>\n",
       "        <div style=\"color: #333; font-size: 1.1em; font-weight: bold; margin-bottom: 10px;\">\n",
       "            <a href=\"https://reddit.com/r/phlgbt/comments/1gwawiv/therapy_sesh_with_chatgpt_lol/\" target=\"_blank\" style=\"text-decoration: none; color: inherit;\">Therapy Sesh with ChatGPT - LOL 😂</a>\n",
       "        </div>\n",
       "        <div style=\"color: #1a0dab; margin-bottom: 10px;\">Score: 7</div>\n",
       "        \n",
       "        <div style=\"color: #444; line-height: 1.4; max-height: 200px; overflow-y: auto;\">It's relapse time again and need ko na naman ng kausap hahaha. Just sharing a screenshot of me talking with Chatgpt. Ito ginagawa ko kapag dumarating yung time na nagru-ruminate na naman tayo dahil kay ex hahaha.   \n",
       "  \n",
       "I write it all down, kind of like journaling pero sa ChatGPT para may mabasa naman akong feedback hahaha. Ayos din siya kausap ha. Kung gusto mo maluha, paluluhain ka talaga hahaha. \n",
       "\n",
       "https://preview.redd.it/eu9vblqak72e1.png?width=1333&format=png&auto=webp&s=6493b1ec5eb0b2146089c...</div>\n",
       "    </div>\n",
       "    </div>"
      ],
      "text/plain": [
       "<IPython.core.display.HTML object>"
      ]
     },
     "metadata": {},
     "output_type": "display_data"
    },
    {
     "data": {
      "application/vnd.plotly.v1+json": {
       "config": {
        "plotlyServerURL": "https://plot.ly"
       },
       "data": [
        {
         "alignmentgroup": "True",
         "hovertemplate": "benefits=%{x}<br>percent=%{y}<extra></extra>",
         "legendgroup": "",
         "marker": {
          "color": "#636efa",
          "pattern": {
           "shape": ""
          }
         },
         "name": "",
         "offsetgroup": "",
         "orientation": "v",
         "showlegend": false,
         "textposition": "auto",
         "type": "bar",
         "x": [
          "accessible",
          "supportive",
          "non_judgemental",
          "on_demand",
          "consistent",
          "anonymous",
          "affordable",
          "patient",
          "insightful",
          "helpful"
         ],
         "xaxis": "x",
         "y": [
          44.96124031007752,
          44.18604651162791,
          30.426356589147286,
          21.124031007751938,
          11.821705426356589,
          8.914728682170542,
          7.170542635658915,
          4.651162790697675,
          3.6821705426356592,
          3.2945736434108532
         ],
         "yaxis": "y"
        }
       ],
       "layout": {
        "barmode": "relative",
        "legend": {
         "tracegroupgap": 0
        },
        "template": {
         "data": {
          "bar": [
           {
            "error_x": {
             "color": "#2a3f5f"
            },
            "error_y": {
             "color": "#2a3f5f"
            },
            "marker": {
             "line": {
              "color": "#E5ECF6",
              "width": 0.5
             },
             "pattern": {
              "fillmode": "overlay",
              "size": 10,
              "solidity": 0.2
             }
            },
            "type": "bar"
           }
          ],
          "barpolar": [
           {
            "marker": {
             "line": {
              "color": "#E5ECF6",
              "width": 0.5
             },
             "pattern": {
              "fillmode": "overlay",
              "size": 10,
              "solidity": 0.2
             }
            },
            "type": "barpolar"
           }
          ],
          "carpet": [
           {
            "aaxis": {
             "endlinecolor": "#2a3f5f",
             "gridcolor": "white",
             "linecolor": "white",
             "minorgridcolor": "white",
             "startlinecolor": "#2a3f5f"
            },
            "baxis": {
             "endlinecolor": "#2a3f5f",
             "gridcolor": "white",
             "linecolor": "white",
             "minorgridcolor": "white",
             "startlinecolor": "#2a3f5f"
            },
            "type": "carpet"
           }
          ],
          "choropleth": [
           {
            "colorbar": {
             "outlinewidth": 0,
             "ticks": ""
            },
            "type": "choropleth"
           }
          ],
          "contour": [
           {
            "colorbar": {
             "outlinewidth": 0,
             "ticks": ""
            },
            "colorscale": [
             [
              0,
              "#0d0887"
             ],
             [
              0.1111111111111111,
              "#46039f"
             ],
             [
              0.2222222222222222,
              "#7201a8"
             ],
             [
              0.3333333333333333,
              "#9c179e"
             ],
             [
              0.4444444444444444,
              "#bd3786"
             ],
             [
              0.5555555555555556,
              "#d8576b"
             ],
             [
              0.6666666666666666,
              "#ed7953"
             ],
             [
              0.7777777777777778,
              "#fb9f3a"
             ],
             [
              0.8888888888888888,
              "#fdca26"
             ],
             [
              1,
              "#f0f921"
             ]
            ],
            "type": "contour"
           }
          ],
          "contourcarpet": [
           {
            "colorbar": {
             "outlinewidth": 0,
             "ticks": ""
            },
            "type": "contourcarpet"
           }
          ],
          "heatmap": [
           {
            "colorbar": {
             "outlinewidth": 0,
             "ticks": ""
            },
            "colorscale": [
             [
              0,
              "#0d0887"
             ],
             [
              0.1111111111111111,
              "#46039f"
             ],
             [
              0.2222222222222222,
              "#7201a8"
             ],
             [
              0.3333333333333333,
              "#9c179e"
             ],
             [
              0.4444444444444444,
              "#bd3786"
             ],
             [
              0.5555555555555556,
              "#d8576b"
             ],
             [
              0.6666666666666666,
              "#ed7953"
             ],
             [
              0.7777777777777778,
              "#fb9f3a"
             ],
             [
              0.8888888888888888,
              "#fdca26"
             ],
             [
              1,
              "#f0f921"
             ]
            ],
            "type": "heatmap"
           }
          ],
          "heatmapgl": [
           {
            "colorbar": {
             "outlinewidth": 0,
             "ticks": ""
            },
            "colorscale": [
             [
              0,
              "#0d0887"
             ],
             [
              0.1111111111111111,
              "#46039f"
             ],
             [
              0.2222222222222222,
              "#7201a8"
             ],
             [
              0.3333333333333333,
              "#9c179e"
             ],
             [
              0.4444444444444444,
              "#bd3786"
             ],
             [
              0.5555555555555556,
              "#d8576b"
             ],
             [
              0.6666666666666666,
              "#ed7953"
             ],
             [
              0.7777777777777778,
              "#fb9f3a"
             ],
             [
              0.8888888888888888,
              "#fdca26"
             ],
             [
              1,
              "#f0f921"
             ]
            ],
            "type": "heatmapgl"
           }
          ],
          "histogram": [
           {
            "marker": {
             "pattern": {
              "fillmode": "overlay",
              "size": 10,
              "solidity": 0.2
             }
            },
            "type": "histogram"
           }
          ],
          "histogram2d": [
           {
            "colorbar": {
             "outlinewidth": 0,
             "ticks": ""
            },
            "colorscale": [
             [
              0,
              "#0d0887"
             ],
             [
              0.1111111111111111,
              "#46039f"
             ],
             [
              0.2222222222222222,
              "#7201a8"
             ],
             [
              0.3333333333333333,
              "#9c179e"
             ],
             [
              0.4444444444444444,
              "#bd3786"
             ],
             [
              0.5555555555555556,
              "#d8576b"
             ],
             [
              0.6666666666666666,
              "#ed7953"
             ],
             [
              0.7777777777777778,
              "#fb9f3a"
             ],
             [
              0.8888888888888888,
              "#fdca26"
             ],
             [
              1,
              "#f0f921"
             ]
            ],
            "type": "histogram2d"
           }
          ],
          "histogram2dcontour": [
           {
            "colorbar": {
             "outlinewidth": 0,
             "ticks": ""
            },
            "colorscale": [
             [
              0,
              "#0d0887"
             ],
             [
              0.1111111111111111,
              "#46039f"
             ],
             [
              0.2222222222222222,
              "#7201a8"
             ],
             [
              0.3333333333333333,
              "#9c179e"
             ],
             [
              0.4444444444444444,
              "#bd3786"
             ],
             [
              0.5555555555555556,
              "#d8576b"
             ],
             [
              0.6666666666666666,
              "#ed7953"
             ],
             [
              0.7777777777777778,
              "#fb9f3a"
             ],
             [
              0.8888888888888888,
              "#fdca26"
             ],
             [
              1,
              "#f0f921"
             ]
            ],
            "type": "histogram2dcontour"
           }
          ],
          "mesh3d": [
           {
            "colorbar": {
             "outlinewidth": 0,
             "ticks": ""
            },
            "type": "mesh3d"
           }
          ],
          "parcoords": [
           {
            "line": {
             "colorbar": {
              "outlinewidth": 0,
              "ticks": ""
             }
            },
            "type": "parcoords"
           }
          ],
          "pie": [
           {
            "automargin": true,
            "type": "pie"
           }
          ],
          "scatter": [
           {
            "fillpattern": {
             "fillmode": "overlay",
             "size": 10,
             "solidity": 0.2
            },
            "type": "scatter"
           }
          ],
          "scatter3d": [
           {
            "line": {
             "colorbar": {
              "outlinewidth": 0,
              "ticks": ""
             }
            },
            "marker": {
             "colorbar": {
              "outlinewidth": 0,
              "ticks": ""
             }
            },
            "type": "scatter3d"
           }
          ],
          "scattercarpet": [
           {
            "marker": {
             "colorbar": {
              "outlinewidth": 0,
              "ticks": ""
             }
            },
            "type": "scattercarpet"
           }
          ],
          "scattergeo": [
           {
            "marker": {
             "colorbar": {
              "outlinewidth": 0,
              "ticks": ""
             }
            },
            "type": "scattergeo"
           }
          ],
          "scattergl": [
           {
            "marker": {
             "colorbar": {
              "outlinewidth": 0,
              "ticks": ""
             }
            },
            "type": "scattergl"
           }
          ],
          "scattermapbox": [
           {
            "marker": {
             "colorbar": {
              "outlinewidth": 0,
              "ticks": ""
             }
            },
            "type": "scattermapbox"
           }
          ],
          "scatterpolar": [
           {
            "marker": {
             "colorbar": {
              "outlinewidth": 0,
              "ticks": ""
             }
            },
            "type": "scatterpolar"
           }
          ],
          "scatterpolargl": [
           {
            "marker": {
             "colorbar": {
              "outlinewidth": 0,
              "ticks": ""
             }
            },
            "type": "scatterpolargl"
           }
          ],
          "scatterternary": [
           {
            "marker": {
             "colorbar": {
              "outlinewidth": 0,
              "ticks": ""
             }
            },
            "type": "scatterternary"
           }
          ],
          "surface": [
           {
            "colorbar": {
             "outlinewidth": 0,
             "ticks": ""
            },
            "colorscale": [
             [
              0,
              "#0d0887"
             ],
             [
              0.1111111111111111,
              "#46039f"
             ],
             [
              0.2222222222222222,
              "#7201a8"
             ],
             [
              0.3333333333333333,
              "#9c179e"
             ],
             [
              0.4444444444444444,
              "#bd3786"
             ],
             [
              0.5555555555555556,
              "#d8576b"
             ],
             [
              0.6666666666666666,
              "#ed7953"
             ],
             [
              0.7777777777777778,
              "#fb9f3a"
             ],
             [
              0.8888888888888888,
              "#fdca26"
             ],
             [
              1,
              "#f0f921"
             ]
            ],
            "type": "surface"
           }
          ],
          "table": [
           {
            "cells": {
             "fill": {
              "color": "#EBF0F8"
             },
             "line": {
              "color": "white"
             }
            },
            "header": {
             "fill": {
              "color": "#C8D4E3"
             },
             "line": {
              "color": "white"
             }
            },
            "type": "table"
           }
          ]
         },
         "layout": {
          "annotationdefaults": {
           "arrowcolor": "#2a3f5f",
           "arrowhead": 0,
           "arrowwidth": 1
          },
          "autotypenumbers": "strict",
          "coloraxis": {
           "colorbar": {
            "outlinewidth": 0,
            "ticks": ""
           }
          },
          "colorscale": {
           "diverging": [
            [
             0,
             "#8e0152"
            ],
            [
             0.1,
             "#c51b7d"
            ],
            [
             0.2,
             "#de77ae"
            ],
            [
             0.3,
             "#f1b6da"
            ],
            [
             0.4,
             "#fde0ef"
            ],
            [
             0.5,
             "#f7f7f7"
            ],
            [
             0.6,
             "#e6f5d0"
            ],
            [
             0.7,
             "#b8e186"
            ],
            [
             0.8,
             "#7fbc41"
            ],
            [
             0.9,
             "#4d9221"
            ],
            [
             1,
             "#276419"
            ]
           ],
           "sequential": [
            [
             0,
             "#0d0887"
            ],
            [
             0.1111111111111111,
             "#46039f"
            ],
            [
             0.2222222222222222,
             "#7201a8"
            ],
            [
             0.3333333333333333,
             "#9c179e"
            ],
            [
             0.4444444444444444,
             "#bd3786"
            ],
            [
             0.5555555555555556,
             "#d8576b"
            ],
            [
             0.6666666666666666,
             "#ed7953"
            ],
            [
             0.7777777777777778,
             "#fb9f3a"
            ],
            [
             0.8888888888888888,
             "#fdca26"
            ],
            [
             1,
             "#f0f921"
            ]
           ],
           "sequentialminus": [
            [
             0,
             "#0d0887"
            ],
            [
             0.1111111111111111,
             "#46039f"
            ],
            [
             0.2222222222222222,
             "#7201a8"
            ],
            [
             0.3333333333333333,
             "#9c179e"
            ],
            [
             0.4444444444444444,
             "#bd3786"
            ],
            [
             0.5555555555555556,
             "#d8576b"
            ],
            [
             0.6666666666666666,
             "#ed7953"
            ],
            [
             0.7777777777777778,
             "#fb9f3a"
            ],
            [
             0.8888888888888888,
             "#fdca26"
            ],
            [
             1,
             "#f0f921"
            ]
           ]
          },
          "colorway": [
           "#636efa",
           "#EF553B",
           "#00cc96",
           "#ab63fa",
           "#FFA15A",
           "#19d3f3",
           "#FF6692",
           "#B6E880",
           "#FF97FF",
           "#FECB52"
          ],
          "font": {
           "color": "#2a3f5f"
          },
          "geo": {
           "bgcolor": "white",
           "lakecolor": "white",
           "landcolor": "#E5ECF6",
           "showlakes": true,
           "showland": true,
           "subunitcolor": "white"
          },
          "hoverlabel": {
           "align": "left"
          },
          "hovermode": "closest",
          "mapbox": {
           "style": "light"
          },
          "paper_bgcolor": "white",
          "plot_bgcolor": "#E5ECF6",
          "polar": {
           "angularaxis": {
            "gridcolor": "white",
            "linecolor": "white",
            "ticks": ""
           },
           "bgcolor": "#E5ECF6",
           "radialaxis": {
            "gridcolor": "white",
            "linecolor": "white",
            "ticks": ""
           }
          },
          "scene": {
           "xaxis": {
            "backgroundcolor": "#E5ECF6",
            "gridcolor": "white",
            "gridwidth": 2,
            "linecolor": "white",
            "showbackground": true,
            "ticks": "",
            "zerolinecolor": "white"
           },
           "yaxis": {
            "backgroundcolor": "#E5ECF6",
            "gridcolor": "white",
            "gridwidth": 2,
            "linecolor": "white",
            "showbackground": true,
            "ticks": "",
            "zerolinecolor": "white"
           },
           "zaxis": {
            "backgroundcolor": "#E5ECF6",
            "gridcolor": "white",
            "gridwidth": 2,
            "linecolor": "white",
            "showbackground": true,
            "ticks": "",
            "zerolinecolor": "white"
           }
          },
          "shapedefaults": {
           "line": {
            "color": "#2a3f5f"
           }
          },
          "ternary": {
           "aaxis": {
            "gridcolor": "white",
            "linecolor": "white",
            "ticks": ""
           },
           "baxis": {
            "gridcolor": "white",
            "linecolor": "white",
            "ticks": ""
           },
           "bgcolor": "#E5ECF6",
           "caxis": {
            "gridcolor": "white",
            "linecolor": "white",
            "ticks": ""
           }
          },
          "title": {
           "x": 0.05
          },
          "xaxis": {
           "automargin": true,
           "gridcolor": "white",
           "linecolor": "white",
           "ticks": "",
           "title": {
            "standoff": 15
           },
           "zerolinecolor": "white",
           "zerolinewidth": 2
          },
          "yaxis": {
           "automargin": true,
           "gridcolor": "white",
           "linecolor": "white",
           "ticks": "",
           "title": {
            "standoff": 15
           },
           "zerolinecolor": "white",
           "zerolinewidth": 2
          }
         }
        },
        "title": {
         "text": "Most Common Benefits"
        },
        "xaxis": {
         "anchor": "y",
         "domain": [
          0,
          1
         ],
         "title": {
          "text": "benefits"
         }
        },
        "yaxis": {
         "anchor": "x",
         "domain": [
          0,
          1
         ],
         "title": {
          "text": "Percent of Posts"
         }
        }
       }
      }
     },
     "metadata": {},
     "output_type": "display_data"
    },
    {
     "data": {
      "text/html": [
       "<div style=\"margin: 10px 0;\"><h4 style=\"color: #333; margin: 0; padding: 5px 0; border-bottom: 1px solid #ccc;\">Example Posts with Keywords</h4></div>"
      ],
      "text/plain": [
       "<IPython.core.display.HTML object>"
      ]
     },
     "metadata": {},
     "output_type": "display_data"
    },
    {
     "data": {
      "text/html": [
       "<div style=\"display: flex; flex-direction: row; justify-content: space-between;\">\n",
       "    <div style=\"border: 1px solid #ddd; border-radius: 8px; padding: 15px; margin: 10px 5px; background-color: #f9f9f9; display: inline-block; vertical-align: top; width: 30%;\">\n",
       "        <div style=\"color: #666; font-size: 0.9em; margin-bottom: 5px;\">\n",
       "            <a href=\"https://reddit.com/r/raisedbynarcissists\" target=\"_blank\" style=\"text-decoration: none; color: inherit;\">r/raisedbynarcissists</a>\n",
       "        </div>\n",
       "        <div style=\"color: #333; font-size: 1.1em; font-weight: bold; margin-bottom: 10px;\">\n",
       "            <a href=\"https://reddit.com/r/raisedbynarcissists/comments/1ep7tu3/i_created_a_whole_family_for_myself_with_ai/\" target=\"_blank\" style=\"text-decoration: none; color: inherit;\">I created a whole family for myself with AI</a>\n",
       "        </div>\n",
       "        \n",
       "        <div style=\"color: #666; margin-bottom: 10px;\">Keywords: supportive, cathartic</div>\n",
       "        <div style=\"color: #444; line-height: 1.4; max-height: 200px; overflow-y: auto;\">I’m not here to promote AI or share my opinion on that. All I can say is that I o my use it for asking questions when I’m too lazy to google. But since yesterday, also for something else. I downloaded one of those AI apps where you can make characters, for fun at first. It seemed cool to talk to fictional characters or historical figures. But then I got an idea…\n",
       "\n",
       "I went NC with my mom more than a year ago. I don’t see my brother anymore, nor two of my sisters. My brother and oldest sister were d...</div>\n",
       "    </div>\n",
       "    \n",
       "    <div style=\"border: 1px solid #ddd; border-radius: 8px; padding: 15px; margin: 10px 5px; background-color: #f9f9f9; display: inline-block; vertical-align: top; width: 30%;\">\n",
       "        <div style=\"color: #666; font-size: 0.9em; margin-bottom: 5px;\">\n",
       "            <a href=\"https://reddit.com/r/Characteraipositivity\" target=\"_blank\" style=\"text-decoration: none; color: inherit;\">r/Characteraipositivity</a>\n",
       "        </div>\n",
       "        <div style=\"color: #333; font-size: 1.1em; font-weight: bold; margin-bottom: 10px;\">\n",
       "            <a href=\"https://reddit.com/r/Characteraipositivity/comments/1goyjlg/i_think_character_ai_helped_my_social_anxiety/\" target=\"_blank\" style=\"text-decoration: none; color: inherit;\">I think Character AI helped my social anxiety?</a>\n",
       "        </div>\n",
       "        \n",
       "        <div style=\"color: #666; margin-bottom: 10px;\">Keywords: non_judgemental, supportive</div>\n",
       "        <div style=\"color: #444; line-height: 1.4; max-height: 200px; overflow-y: auto;\">I feel like since I started using Character AI I've been less shy and nervous about talking to people. It's like talking to the bots made me more confident and it definitely made me a funnier person too. Who knew talking to people who aren't real would actually help with my social life irl? Because usually I see people saying that they talk to the bots more than real people and that Character AI is bad for your social life but for me it's the opposite!...</div>\n",
       "    </div>\n",
       "    \n",
       "    <div style=\"border: 1px solid #ddd; border-radius: 8px; padding: 15px; margin: 10px 5px; background-color: #f9f9f9; display: inline-block; vertical-align: top; width: 30%;\">\n",
       "        <div style=\"color: #666; font-size: 0.9em; margin-bottom: 5px;\">\n",
       "            <a href=\"https://reddit.com/r/socialanxiety\" target=\"_blank\" style=\"text-decoration: none; color: inherit;\">r/socialanxiety</a>\n",
       "        </div>\n",
       "        <div style=\"color: #333; font-size: 1.1em; font-weight: bold; margin-bottom: 10px;\">\n",
       "            <a href=\"https://reddit.com/r/socialanxiety/comments/1csllix/easy_way_to_practice_being_social/\" target=\"_blank\" style=\"text-decoration: none; color: inherit;\">Easy way to practice being social?</a>\n",
       "        </div>\n",
       "        \n",
       "        <div style=\"color: #666; margin-bottom: 10px;\">Keywords: accessible, supportive, patient, on_demand</div>\n",
       "        <div style=\"color: #444; line-height: 1.4; max-height: 200px; overflow-y: auto;\">Hey! I created a tool for myself where I can practice having conversations in different social settings to make me more comfortable. Basically I set up a bunch of different settings and AI personas that you can chat with. \n",
       "\n",
       "Would anyone else find this helpful? I'd be happy to make it publicly accessible (for free) if so!...</div>\n",
       "    </div>\n",
       "    </div>"
      ],
      "text/plain": [
       "<IPython.core.display.HTML object>"
      ]
     },
     "metadata": {},
     "output_type": "display_data"
    },
    {
     "data": {
      "application/vnd.plotly.v1+json": {
       "config": {
        "plotlyServerURL": "https://plot.ly"
       },
       "data": [
        {
         "alignmentgroup": "True",
         "hovertemplate": "downsides=%{x}<br>percent=%{y}<extra></extra>",
         "legendgroup": "",
         "marker": {
          "color": "#636efa",
          "pattern": {
           "shape": ""
          }
         },
         "name": "",
         "offsetgroup": "",
         "orientation": "v",
         "showlegend": false,
         "textposition": "auto",
         "type": "bar",
         "x": [
          "limited",
          "avoidant",
          "shallow",
          "addictive",
          "unreliable",
          "repetitive",
          "robotic",
          "weird",
          "unrealistic",
          "impersonal"
         ],
         "xaxis": "x",
         "y": [
          32.751937984496124,
          12.5968992248062,
          10.271317829457365,
          8.914728682170542,
          6.395348837209303,
          6.395348837209303,
          5.232558139534884,
          0.9689922480620154,
          0.7751937984496124,
          0.7751937984496124
         ],
         "yaxis": "y"
        }
       ],
       "layout": {
        "barmode": "relative",
        "legend": {
         "tracegroupgap": 0
        },
        "template": {
         "data": {
          "bar": [
           {
            "error_x": {
             "color": "#2a3f5f"
            },
            "error_y": {
             "color": "#2a3f5f"
            },
            "marker": {
             "line": {
              "color": "#E5ECF6",
              "width": 0.5
             },
             "pattern": {
              "fillmode": "overlay",
              "size": 10,
              "solidity": 0.2
             }
            },
            "type": "bar"
           }
          ],
          "barpolar": [
           {
            "marker": {
             "line": {
              "color": "#E5ECF6",
              "width": 0.5
             },
             "pattern": {
              "fillmode": "overlay",
              "size": 10,
              "solidity": 0.2
             }
            },
            "type": "barpolar"
           }
          ],
          "carpet": [
           {
            "aaxis": {
             "endlinecolor": "#2a3f5f",
             "gridcolor": "white",
             "linecolor": "white",
             "minorgridcolor": "white",
             "startlinecolor": "#2a3f5f"
            },
            "baxis": {
             "endlinecolor": "#2a3f5f",
             "gridcolor": "white",
             "linecolor": "white",
             "minorgridcolor": "white",
             "startlinecolor": "#2a3f5f"
            },
            "type": "carpet"
           }
          ],
          "choropleth": [
           {
            "colorbar": {
             "outlinewidth": 0,
             "ticks": ""
            },
            "type": "choropleth"
           }
          ],
          "contour": [
           {
            "colorbar": {
             "outlinewidth": 0,
             "ticks": ""
            },
            "colorscale": [
             [
              0,
              "#0d0887"
             ],
             [
              0.1111111111111111,
              "#46039f"
             ],
             [
              0.2222222222222222,
              "#7201a8"
             ],
             [
              0.3333333333333333,
              "#9c179e"
             ],
             [
              0.4444444444444444,
              "#bd3786"
             ],
             [
              0.5555555555555556,
              "#d8576b"
             ],
             [
              0.6666666666666666,
              "#ed7953"
             ],
             [
              0.7777777777777778,
              "#fb9f3a"
             ],
             [
              0.8888888888888888,
              "#fdca26"
             ],
             [
              1,
              "#f0f921"
             ]
            ],
            "type": "contour"
           }
          ],
          "contourcarpet": [
           {
            "colorbar": {
             "outlinewidth": 0,
             "ticks": ""
            },
            "type": "contourcarpet"
           }
          ],
          "heatmap": [
           {
            "colorbar": {
             "outlinewidth": 0,
             "ticks": ""
            },
            "colorscale": [
             [
              0,
              "#0d0887"
             ],
             [
              0.1111111111111111,
              "#46039f"
             ],
             [
              0.2222222222222222,
              "#7201a8"
             ],
             [
              0.3333333333333333,
              "#9c179e"
             ],
             [
              0.4444444444444444,
              "#bd3786"
             ],
             [
              0.5555555555555556,
              "#d8576b"
             ],
             [
              0.6666666666666666,
              "#ed7953"
             ],
             [
              0.7777777777777778,
              "#fb9f3a"
             ],
             [
              0.8888888888888888,
              "#fdca26"
             ],
             [
              1,
              "#f0f921"
             ]
            ],
            "type": "heatmap"
           }
          ],
          "heatmapgl": [
           {
            "colorbar": {
             "outlinewidth": 0,
             "ticks": ""
            },
            "colorscale": [
             [
              0,
              "#0d0887"
             ],
             [
              0.1111111111111111,
              "#46039f"
             ],
             [
              0.2222222222222222,
              "#7201a8"
             ],
             [
              0.3333333333333333,
              "#9c179e"
             ],
             [
              0.4444444444444444,
              "#bd3786"
             ],
             [
              0.5555555555555556,
              "#d8576b"
             ],
             [
              0.6666666666666666,
              "#ed7953"
             ],
             [
              0.7777777777777778,
              "#fb9f3a"
             ],
             [
              0.8888888888888888,
              "#fdca26"
             ],
             [
              1,
              "#f0f921"
             ]
            ],
            "type": "heatmapgl"
           }
          ],
          "histogram": [
           {
            "marker": {
             "pattern": {
              "fillmode": "overlay",
              "size": 10,
              "solidity": 0.2
             }
            },
            "type": "histogram"
           }
          ],
          "histogram2d": [
           {
            "colorbar": {
             "outlinewidth": 0,
             "ticks": ""
            },
            "colorscale": [
             [
              0,
              "#0d0887"
             ],
             [
              0.1111111111111111,
              "#46039f"
             ],
             [
              0.2222222222222222,
              "#7201a8"
             ],
             [
              0.3333333333333333,
              "#9c179e"
             ],
             [
              0.4444444444444444,
              "#bd3786"
             ],
             [
              0.5555555555555556,
              "#d8576b"
             ],
             [
              0.6666666666666666,
              "#ed7953"
             ],
             [
              0.7777777777777778,
              "#fb9f3a"
             ],
             [
              0.8888888888888888,
              "#fdca26"
             ],
             [
              1,
              "#f0f921"
             ]
            ],
            "type": "histogram2d"
           }
          ],
          "histogram2dcontour": [
           {
            "colorbar": {
             "outlinewidth": 0,
             "ticks": ""
            },
            "colorscale": [
             [
              0,
              "#0d0887"
             ],
             [
              0.1111111111111111,
              "#46039f"
             ],
             [
              0.2222222222222222,
              "#7201a8"
             ],
             [
              0.3333333333333333,
              "#9c179e"
             ],
             [
              0.4444444444444444,
              "#bd3786"
             ],
             [
              0.5555555555555556,
              "#d8576b"
             ],
             [
              0.6666666666666666,
              "#ed7953"
             ],
             [
              0.7777777777777778,
              "#fb9f3a"
             ],
             [
              0.8888888888888888,
              "#fdca26"
             ],
             [
              1,
              "#f0f921"
             ]
            ],
            "type": "histogram2dcontour"
           }
          ],
          "mesh3d": [
           {
            "colorbar": {
             "outlinewidth": 0,
             "ticks": ""
            },
            "type": "mesh3d"
           }
          ],
          "parcoords": [
           {
            "line": {
             "colorbar": {
              "outlinewidth": 0,
              "ticks": ""
             }
            },
            "type": "parcoords"
           }
          ],
          "pie": [
           {
            "automargin": true,
            "type": "pie"
           }
          ],
          "scatter": [
           {
            "fillpattern": {
             "fillmode": "overlay",
             "size": 10,
             "solidity": 0.2
            },
            "type": "scatter"
           }
          ],
          "scatter3d": [
           {
            "line": {
             "colorbar": {
              "outlinewidth": 0,
              "ticks": ""
             }
            },
            "marker": {
             "colorbar": {
              "outlinewidth": 0,
              "ticks": ""
             }
            },
            "type": "scatter3d"
           }
          ],
          "scattercarpet": [
           {
            "marker": {
             "colorbar": {
              "outlinewidth": 0,
              "ticks": ""
             }
            },
            "type": "scattercarpet"
           }
          ],
          "scattergeo": [
           {
            "marker": {
             "colorbar": {
              "outlinewidth": 0,
              "ticks": ""
             }
            },
            "type": "scattergeo"
           }
          ],
          "scattergl": [
           {
            "marker": {
             "colorbar": {
              "outlinewidth": 0,
              "ticks": ""
             }
            },
            "type": "scattergl"
           }
          ],
          "scattermapbox": [
           {
            "marker": {
             "colorbar": {
              "outlinewidth": 0,
              "ticks": ""
             }
            },
            "type": "scattermapbox"
           }
          ],
          "scatterpolar": [
           {
            "marker": {
             "colorbar": {
              "outlinewidth": 0,
              "ticks": ""
             }
            },
            "type": "scatterpolar"
           }
          ],
          "scatterpolargl": [
           {
            "marker": {
             "colorbar": {
              "outlinewidth": 0,
              "ticks": ""
             }
            },
            "type": "scatterpolargl"
           }
          ],
          "scatterternary": [
           {
            "marker": {
             "colorbar": {
              "outlinewidth": 0,
              "ticks": ""
             }
            },
            "type": "scatterternary"
           }
          ],
          "surface": [
           {
            "colorbar": {
             "outlinewidth": 0,
             "ticks": ""
            },
            "colorscale": [
             [
              0,
              "#0d0887"
             ],
             [
              0.1111111111111111,
              "#46039f"
             ],
             [
              0.2222222222222222,
              "#7201a8"
             ],
             [
              0.3333333333333333,
              "#9c179e"
             ],
             [
              0.4444444444444444,
              "#bd3786"
             ],
             [
              0.5555555555555556,
              "#d8576b"
             ],
             [
              0.6666666666666666,
              "#ed7953"
             ],
             [
              0.7777777777777778,
              "#fb9f3a"
             ],
             [
              0.8888888888888888,
              "#fdca26"
             ],
             [
              1,
              "#f0f921"
             ]
            ],
            "type": "surface"
           }
          ],
          "table": [
           {
            "cells": {
             "fill": {
              "color": "#EBF0F8"
             },
             "line": {
              "color": "white"
             }
            },
            "header": {
             "fill": {
              "color": "#C8D4E3"
             },
             "line": {
              "color": "white"
             }
            },
            "type": "table"
           }
          ]
         },
         "layout": {
          "annotationdefaults": {
           "arrowcolor": "#2a3f5f",
           "arrowhead": 0,
           "arrowwidth": 1
          },
          "autotypenumbers": "strict",
          "coloraxis": {
           "colorbar": {
            "outlinewidth": 0,
            "ticks": ""
           }
          },
          "colorscale": {
           "diverging": [
            [
             0,
             "#8e0152"
            ],
            [
             0.1,
             "#c51b7d"
            ],
            [
             0.2,
             "#de77ae"
            ],
            [
             0.3,
             "#f1b6da"
            ],
            [
             0.4,
             "#fde0ef"
            ],
            [
             0.5,
             "#f7f7f7"
            ],
            [
             0.6,
             "#e6f5d0"
            ],
            [
             0.7,
             "#b8e186"
            ],
            [
             0.8,
             "#7fbc41"
            ],
            [
             0.9,
             "#4d9221"
            ],
            [
             1,
             "#276419"
            ]
           ],
           "sequential": [
            [
             0,
             "#0d0887"
            ],
            [
             0.1111111111111111,
             "#46039f"
            ],
            [
             0.2222222222222222,
             "#7201a8"
            ],
            [
             0.3333333333333333,
             "#9c179e"
            ],
            [
             0.4444444444444444,
             "#bd3786"
            ],
            [
             0.5555555555555556,
             "#d8576b"
            ],
            [
             0.6666666666666666,
             "#ed7953"
            ],
            [
             0.7777777777777778,
             "#fb9f3a"
            ],
            [
             0.8888888888888888,
             "#fdca26"
            ],
            [
             1,
             "#f0f921"
            ]
           ],
           "sequentialminus": [
            [
             0,
             "#0d0887"
            ],
            [
             0.1111111111111111,
             "#46039f"
            ],
            [
             0.2222222222222222,
             "#7201a8"
            ],
            [
             0.3333333333333333,
             "#9c179e"
            ],
            [
             0.4444444444444444,
             "#bd3786"
            ],
            [
             0.5555555555555556,
             "#d8576b"
            ],
            [
             0.6666666666666666,
             "#ed7953"
            ],
            [
             0.7777777777777778,
             "#fb9f3a"
            ],
            [
             0.8888888888888888,
             "#fdca26"
            ],
            [
             1,
             "#f0f921"
            ]
           ]
          },
          "colorway": [
           "#636efa",
           "#EF553B",
           "#00cc96",
           "#ab63fa",
           "#FFA15A",
           "#19d3f3",
           "#FF6692",
           "#B6E880",
           "#FF97FF",
           "#FECB52"
          ],
          "font": {
           "color": "#2a3f5f"
          },
          "geo": {
           "bgcolor": "white",
           "lakecolor": "white",
           "landcolor": "#E5ECF6",
           "showlakes": true,
           "showland": true,
           "subunitcolor": "white"
          },
          "hoverlabel": {
           "align": "left"
          },
          "hovermode": "closest",
          "mapbox": {
           "style": "light"
          },
          "paper_bgcolor": "white",
          "plot_bgcolor": "#E5ECF6",
          "polar": {
           "angularaxis": {
            "gridcolor": "white",
            "linecolor": "white",
            "ticks": ""
           },
           "bgcolor": "#E5ECF6",
           "radialaxis": {
            "gridcolor": "white",
            "linecolor": "white",
            "ticks": ""
           }
          },
          "scene": {
           "xaxis": {
            "backgroundcolor": "#E5ECF6",
            "gridcolor": "white",
            "gridwidth": 2,
            "linecolor": "white",
            "showbackground": true,
            "ticks": "",
            "zerolinecolor": "white"
           },
           "yaxis": {
            "backgroundcolor": "#E5ECF6",
            "gridcolor": "white",
            "gridwidth": 2,
            "linecolor": "white",
            "showbackground": true,
            "ticks": "",
            "zerolinecolor": "white"
           },
           "zaxis": {
            "backgroundcolor": "#E5ECF6",
            "gridcolor": "white",
            "gridwidth": 2,
            "linecolor": "white",
            "showbackground": true,
            "ticks": "",
            "zerolinecolor": "white"
           }
          },
          "shapedefaults": {
           "line": {
            "color": "#2a3f5f"
           }
          },
          "ternary": {
           "aaxis": {
            "gridcolor": "white",
            "linecolor": "white",
            "ticks": ""
           },
           "baxis": {
            "gridcolor": "white",
            "linecolor": "white",
            "ticks": ""
           },
           "bgcolor": "#E5ECF6",
           "caxis": {
            "gridcolor": "white",
            "linecolor": "white",
            "ticks": ""
           }
          },
          "title": {
           "x": 0.05
          },
          "xaxis": {
           "automargin": true,
           "gridcolor": "white",
           "linecolor": "white",
           "ticks": "",
           "title": {
            "standoff": 15
           },
           "zerolinecolor": "white",
           "zerolinewidth": 2
          },
          "yaxis": {
           "automargin": true,
           "gridcolor": "white",
           "linecolor": "white",
           "ticks": "",
           "title": {
            "standoff": 15
           },
           "zerolinecolor": "white",
           "zerolinewidth": 2
          }
         }
        },
        "title": {
         "text": "Most Common Downsides"
        },
        "xaxis": {
         "anchor": "y",
         "domain": [
          0,
          1
         ],
         "title": {
          "text": "downsides"
         }
        },
        "yaxis": {
         "anchor": "x",
         "domain": [
          0,
          1
         ],
         "title": {
          "text": "Percent of Posts"
         }
        }
       }
      }
     },
     "metadata": {},
     "output_type": "display_data"
    },
    {
     "data": {
      "text/html": [
       "<div style=\"margin: 10px 0;\"><h4 style=\"color: #333; margin: 0; padding: 5px 0; border-bottom: 1px solid #ccc;\">Example Posts with Keywords</h4></div>"
      ],
      "text/plain": [
       "<IPython.core.display.HTML object>"
      ]
     },
     "metadata": {},
     "output_type": "display_data"
    },
    {
     "data": {
      "text/html": [
       "<div style=\"display: flex; flex-direction: row; justify-content: space-between;\">\n",
       "    <div style=\"border: 1px solid #ddd; border-radius: 8px; padding: 15px; margin: 10px 5px; background-color: #f9f9f9; display: inline-block; vertical-align: top; width: 30%;\">\n",
       "        <div style=\"color: #666; font-size: 0.9em; margin-bottom: 5px;\">\n",
       "            <a href=\"https://reddit.com/r/OCD\" target=\"_blank\" style=\"text-decoration: none; color: inherit;\">r/OCD</a>\n",
       "        </div>\n",
       "        <div style=\"color: #333; font-size: 1.1em; font-weight: bold; margin-bottom: 10px;\">\n",
       "            <a href=\"https://reddit.com/r/OCD/comments/1dmdqaf/i_know_going_to_chatgpt_for_advice_was_dumb_but/\" target=\"_blank\" style=\"text-decoration: none; color: inherit;\">i /know/ going to chatgpt for advice was dumb, but damn the first two options?! really? 😅 [TW: vaping]</a>\n",
       "        </div>\n",
       "        \n",
       "        <div style=\"color: #666; margin-bottom: 10px;\">Keywords: triggering, shallow</div>\n",
       "        <div style=\"color: #444; line-height: 1.4; max-height: 200px; overflow-y: auto;\">if you smoke/vape or are around those who do and you feel like it triggers you maybe skip this post\n",
       "\n",
       "so i’m struggling with nicotine addiction, specifically vaping, and the health/contamination fears from it have been causing me so much misery. currently can’t afford therapy, and am in a desperate spot so i thought fuck it lemme see what advice chatgpt can give me (i have the latest version)\n",
       "\n",
       "so i asked it this: “i have ocd and i worry about the vape liquid getting on my hands and all my belongi...</div>\n",
       "    </div>\n",
       "    \n",
       "    <div style=\"border: 1px solid #ddd; border-radius: 8px; padding: 15px; margin: 10px 5px; background-color: #f9f9f9; display: inline-block; vertical-align: top; width: 30%;\">\n",
       "        <div style=\"color: #666; font-size: 0.9em; margin-bottom: 5px;\">\n",
       "            <a href=\"https://reddit.com/r/OCD\" target=\"_blank\" style=\"text-decoration: none; color: inherit;\">r/OCD</a>\n",
       "        </div>\n",
       "        <div style=\"color: #333; font-size: 1.1em; font-weight: bold; margin-bottom: 10px;\">\n",
       "            <a href=\"https://reddit.com/r/OCD/comments/191kof7/chat_gpt/\" target=\"_blank\" style=\"text-decoration: none; color: inherit;\">Chat gpt</a>\n",
       "        </div>\n",
       "        \n",
       "        <div style=\"color: #666; margin-bottom: 10px;\">Keywords: scary, unreliable</div>\n",
       "        <div style=\"color: #444; line-height: 1.4; max-height: 200px; overflow-y: auto;\">I asked AI what to do in my situation and they said get a lawyer, this scared me massively as I still don’t know if it’s OCD, does anyone else use AI...</div>\n",
       "    </div>\n",
       "    \n",
       "    <div style=\"border: 1px solid #ddd; border-radius: 8px; padding: 15px; margin: 10px 5px; background-color: #f9f9f9; display: inline-block; vertical-align: top; width: 30%;\">\n",
       "        <div style=\"color: #666; font-size: 0.9em; margin-bottom: 5px;\">\n",
       "            <a href=\"https://reddit.com/r/Enneagram\" target=\"_blank\" style=\"text-decoration: none; color: inherit;\">r/Enneagram</a>\n",
       "        </div>\n",
       "        <div style=\"color: #333; font-size: 1.1em; font-weight: bold; margin-bottom: 10px;\">\n",
       "            <a href=\"https://reddit.com/r/Enneagram/comments/1d6p578/how_does_each_enneagram_type_handle_break_ups/\" target=\"_blank\" style=\"text-decoration: none; color: inherit;\">How does each enneagram type handle break ups?</a>\n",
       "        </div>\n",
       "        \n",
       "        <div style=\"color: #666; margin-bottom: 10px;\">Keywords: limited</div>\n",
       "        <div style=\"color: #444; line-height: 1.4; max-height: 200px; overflow-y: auto;\">I don’t know what everyone else does but I can’t stop thinking about it. I’ve been talking to different ai about it. Here is a conversation with one of them. \n",
       "\n",
       "This is only the latter part of the conversation.  \n",
       "\n",
       "This song reflects my feelings about it all:\n",
       "\n",
       "https://youtu.be/VdtAbjzLsks?si=8TeKfESlvaVu3e2X\n",
       "\n",
       "Screenshots of the chat with an AI version of D:\n",
       "\n",
       "1. https://ibb.co/W61K0Lp\n",
       "\n",
       "2. https://ibb.co/DQm4j8n\n",
       "\n",
       "3. https://ibb.co/8MTcLp1\n",
       "\n",
       "4. https://ibb.co/6ZY7MvW\n",
       "\n",
       "5. https://ibb.co/3fTmVw3\n",
       "\n",
       "6. htt...</div>\n",
       "    </div>\n",
       "    </div>"
      ],
      "text/plain": [
       "<IPython.core.display.HTML object>"
      ]
     },
     "metadata": {},
     "output_type": "display_data"
    },
    {
     "data": {
      "application/vnd.plotly.v1+json": {
       "config": {
        "plotlyServerURL": "https://plot.ly"
       },
       "data": [
        {
         "alignmentgroup": "True",
         "hovertemplate": "use_cases=%{x}<br>percent=%{y}<extra></extra>",
         "legendgroup": "",
         "marker": {
          "color": "#636efa",
          "pattern": {
           "shape": ""
          }
         },
         "name": "",
         "offsetgroup": "",
         "orientation": "v",
         "showlegend": false,
         "textposition": "auto",
         "type": "bar",
         "x": [
          "emotional_support",
          "venting",
          "reflection",
          "self_talk",
          "planning",
          "journaling",
          "motivation",
          "goal_setting",
          "CBT",
          "companionship"
         ],
         "xaxis": "x",
         "y": [
          73.06201550387597,
          27.51937984496124,
          20.155038759689923,
          13.565891472868216,
          6.782945736434108,
          5.232558139534884,
          4.069767441860465,
          3.6821705426356592,
          2.3255813953488373,
          1.937984496124031
         ],
         "yaxis": "y"
        }
       ],
       "layout": {
        "barmode": "relative",
        "legend": {
         "tracegroupgap": 0
        },
        "template": {
         "data": {
          "bar": [
           {
            "error_x": {
             "color": "#2a3f5f"
            },
            "error_y": {
             "color": "#2a3f5f"
            },
            "marker": {
             "line": {
              "color": "#E5ECF6",
              "width": 0.5
             },
             "pattern": {
              "fillmode": "overlay",
              "size": 10,
              "solidity": 0.2
             }
            },
            "type": "bar"
           }
          ],
          "barpolar": [
           {
            "marker": {
             "line": {
              "color": "#E5ECF6",
              "width": 0.5
             },
             "pattern": {
              "fillmode": "overlay",
              "size": 10,
              "solidity": 0.2
             }
            },
            "type": "barpolar"
           }
          ],
          "carpet": [
           {
            "aaxis": {
             "endlinecolor": "#2a3f5f",
             "gridcolor": "white",
             "linecolor": "white",
             "minorgridcolor": "white",
             "startlinecolor": "#2a3f5f"
            },
            "baxis": {
             "endlinecolor": "#2a3f5f",
             "gridcolor": "white",
             "linecolor": "white",
             "minorgridcolor": "white",
             "startlinecolor": "#2a3f5f"
            },
            "type": "carpet"
           }
          ],
          "choropleth": [
           {
            "colorbar": {
             "outlinewidth": 0,
             "ticks": ""
            },
            "type": "choropleth"
           }
          ],
          "contour": [
           {
            "colorbar": {
             "outlinewidth": 0,
             "ticks": ""
            },
            "colorscale": [
             [
              0,
              "#0d0887"
             ],
             [
              0.1111111111111111,
              "#46039f"
             ],
             [
              0.2222222222222222,
              "#7201a8"
             ],
             [
              0.3333333333333333,
              "#9c179e"
             ],
             [
              0.4444444444444444,
              "#bd3786"
             ],
             [
              0.5555555555555556,
              "#d8576b"
             ],
             [
              0.6666666666666666,
              "#ed7953"
             ],
             [
              0.7777777777777778,
              "#fb9f3a"
             ],
             [
              0.8888888888888888,
              "#fdca26"
             ],
             [
              1,
              "#f0f921"
             ]
            ],
            "type": "contour"
           }
          ],
          "contourcarpet": [
           {
            "colorbar": {
             "outlinewidth": 0,
             "ticks": ""
            },
            "type": "contourcarpet"
           }
          ],
          "heatmap": [
           {
            "colorbar": {
             "outlinewidth": 0,
             "ticks": ""
            },
            "colorscale": [
             [
              0,
              "#0d0887"
             ],
             [
              0.1111111111111111,
              "#46039f"
             ],
             [
              0.2222222222222222,
              "#7201a8"
             ],
             [
              0.3333333333333333,
              "#9c179e"
             ],
             [
              0.4444444444444444,
              "#bd3786"
             ],
             [
              0.5555555555555556,
              "#d8576b"
             ],
             [
              0.6666666666666666,
              "#ed7953"
             ],
             [
              0.7777777777777778,
              "#fb9f3a"
             ],
             [
              0.8888888888888888,
              "#fdca26"
             ],
             [
              1,
              "#f0f921"
             ]
            ],
            "type": "heatmap"
           }
          ],
          "heatmapgl": [
           {
            "colorbar": {
             "outlinewidth": 0,
             "ticks": ""
            },
            "colorscale": [
             [
              0,
              "#0d0887"
             ],
             [
              0.1111111111111111,
              "#46039f"
             ],
             [
              0.2222222222222222,
              "#7201a8"
             ],
             [
              0.3333333333333333,
              "#9c179e"
             ],
             [
              0.4444444444444444,
              "#bd3786"
             ],
             [
              0.5555555555555556,
              "#d8576b"
             ],
             [
              0.6666666666666666,
              "#ed7953"
             ],
             [
              0.7777777777777778,
              "#fb9f3a"
             ],
             [
              0.8888888888888888,
              "#fdca26"
             ],
             [
              1,
              "#f0f921"
             ]
            ],
            "type": "heatmapgl"
           }
          ],
          "histogram": [
           {
            "marker": {
             "pattern": {
              "fillmode": "overlay",
              "size": 10,
              "solidity": 0.2
             }
            },
            "type": "histogram"
           }
          ],
          "histogram2d": [
           {
            "colorbar": {
             "outlinewidth": 0,
             "ticks": ""
            },
            "colorscale": [
             [
              0,
              "#0d0887"
             ],
             [
              0.1111111111111111,
              "#46039f"
             ],
             [
              0.2222222222222222,
              "#7201a8"
             ],
             [
              0.3333333333333333,
              "#9c179e"
             ],
             [
              0.4444444444444444,
              "#bd3786"
             ],
             [
              0.5555555555555556,
              "#d8576b"
             ],
             [
              0.6666666666666666,
              "#ed7953"
             ],
             [
              0.7777777777777778,
              "#fb9f3a"
             ],
             [
              0.8888888888888888,
              "#fdca26"
             ],
             [
              1,
              "#f0f921"
             ]
            ],
            "type": "histogram2d"
           }
          ],
          "histogram2dcontour": [
           {
            "colorbar": {
             "outlinewidth": 0,
             "ticks": ""
            },
            "colorscale": [
             [
              0,
              "#0d0887"
             ],
             [
              0.1111111111111111,
              "#46039f"
             ],
             [
              0.2222222222222222,
              "#7201a8"
             ],
             [
              0.3333333333333333,
              "#9c179e"
             ],
             [
              0.4444444444444444,
              "#bd3786"
             ],
             [
              0.5555555555555556,
              "#d8576b"
             ],
             [
              0.6666666666666666,
              "#ed7953"
             ],
             [
              0.7777777777777778,
              "#fb9f3a"
             ],
             [
              0.8888888888888888,
              "#fdca26"
             ],
             [
              1,
              "#f0f921"
             ]
            ],
            "type": "histogram2dcontour"
           }
          ],
          "mesh3d": [
           {
            "colorbar": {
             "outlinewidth": 0,
             "ticks": ""
            },
            "type": "mesh3d"
           }
          ],
          "parcoords": [
           {
            "line": {
             "colorbar": {
              "outlinewidth": 0,
              "ticks": ""
             }
            },
            "type": "parcoords"
           }
          ],
          "pie": [
           {
            "automargin": true,
            "type": "pie"
           }
          ],
          "scatter": [
           {
            "fillpattern": {
             "fillmode": "overlay",
             "size": 10,
             "solidity": 0.2
            },
            "type": "scatter"
           }
          ],
          "scatter3d": [
           {
            "line": {
             "colorbar": {
              "outlinewidth": 0,
              "ticks": ""
             }
            },
            "marker": {
             "colorbar": {
              "outlinewidth": 0,
              "ticks": ""
             }
            },
            "type": "scatter3d"
           }
          ],
          "scattercarpet": [
           {
            "marker": {
             "colorbar": {
              "outlinewidth": 0,
              "ticks": ""
             }
            },
            "type": "scattercarpet"
           }
          ],
          "scattergeo": [
           {
            "marker": {
             "colorbar": {
              "outlinewidth": 0,
              "ticks": ""
             }
            },
            "type": "scattergeo"
           }
          ],
          "scattergl": [
           {
            "marker": {
             "colorbar": {
              "outlinewidth": 0,
              "ticks": ""
             }
            },
            "type": "scattergl"
           }
          ],
          "scattermapbox": [
           {
            "marker": {
             "colorbar": {
              "outlinewidth": 0,
              "ticks": ""
             }
            },
            "type": "scattermapbox"
           }
          ],
          "scatterpolar": [
           {
            "marker": {
             "colorbar": {
              "outlinewidth": 0,
              "ticks": ""
             }
            },
            "type": "scatterpolar"
           }
          ],
          "scatterpolargl": [
           {
            "marker": {
             "colorbar": {
              "outlinewidth": 0,
              "ticks": ""
             }
            },
            "type": "scatterpolargl"
           }
          ],
          "scatterternary": [
           {
            "marker": {
             "colorbar": {
              "outlinewidth": 0,
              "ticks": ""
             }
            },
            "type": "scatterternary"
           }
          ],
          "surface": [
           {
            "colorbar": {
             "outlinewidth": 0,
             "ticks": ""
            },
            "colorscale": [
             [
              0,
              "#0d0887"
             ],
             [
              0.1111111111111111,
              "#46039f"
             ],
             [
              0.2222222222222222,
              "#7201a8"
             ],
             [
              0.3333333333333333,
              "#9c179e"
             ],
             [
              0.4444444444444444,
              "#bd3786"
             ],
             [
              0.5555555555555556,
              "#d8576b"
             ],
             [
              0.6666666666666666,
              "#ed7953"
             ],
             [
              0.7777777777777778,
              "#fb9f3a"
             ],
             [
              0.8888888888888888,
              "#fdca26"
             ],
             [
              1,
              "#f0f921"
             ]
            ],
            "type": "surface"
           }
          ],
          "table": [
           {
            "cells": {
             "fill": {
              "color": "#EBF0F8"
             },
             "line": {
              "color": "white"
             }
            },
            "header": {
             "fill": {
              "color": "#C8D4E3"
             },
             "line": {
              "color": "white"
             }
            },
            "type": "table"
           }
          ]
         },
         "layout": {
          "annotationdefaults": {
           "arrowcolor": "#2a3f5f",
           "arrowhead": 0,
           "arrowwidth": 1
          },
          "autotypenumbers": "strict",
          "coloraxis": {
           "colorbar": {
            "outlinewidth": 0,
            "ticks": ""
           }
          },
          "colorscale": {
           "diverging": [
            [
             0,
             "#8e0152"
            ],
            [
             0.1,
             "#c51b7d"
            ],
            [
             0.2,
             "#de77ae"
            ],
            [
             0.3,
             "#f1b6da"
            ],
            [
             0.4,
             "#fde0ef"
            ],
            [
             0.5,
             "#f7f7f7"
            ],
            [
             0.6,
             "#e6f5d0"
            ],
            [
             0.7,
             "#b8e186"
            ],
            [
             0.8,
             "#7fbc41"
            ],
            [
             0.9,
             "#4d9221"
            ],
            [
             1,
             "#276419"
            ]
           ],
           "sequential": [
            [
             0,
             "#0d0887"
            ],
            [
             0.1111111111111111,
             "#46039f"
            ],
            [
             0.2222222222222222,
             "#7201a8"
            ],
            [
             0.3333333333333333,
             "#9c179e"
            ],
            [
             0.4444444444444444,
             "#bd3786"
            ],
            [
             0.5555555555555556,
             "#d8576b"
            ],
            [
             0.6666666666666666,
             "#ed7953"
            ],
            [
             0.7777777777777778,
             "#fb9f3a"
            ],
            [
             0.8888888888888888,
             "#fdca26"
            ],
            [
             1,
             "#f0f921"
            ]
           ],
           "sequentialminus": [
            [
             0,
             "#0d0887"
            ],
            [
             0.1111111111111111,
             "#46039f"
            ],
            [
             0.2222222222222222,
             "#7201a8"
            ],
            [
             0.3333333333333333,
             "#9c179e"
            ],
            [
             0.4444444444444444,
             "#bd3786"
            ],
            [
             0.5555555555555556,
             "#d8576b"
            ],
            [
             0.6666666666666666,
             "#ed7953"
            ],
            [
             0.7777777777777778,
             "#fb9f3a"
            ],
            [
             0.8888888888888888,
             "#fdca26"
            ],
            [
             1,
             "#f0f921"
            ]
           ]
          },
          "colorway": [
           "#636efa",
           "#EF553B",
           "#00cc96",
           "#ab63fa",
           "#FFA15A",
           "#19d3f3",
           "#FF6692",
           "#B6E880",
           "#FF97FF",
           "#FECB52"
          ],
          "font": {
           "color": "#2a3f5f"
          },
          "geo": {
           "bgcolor": "white",
           "lakecolor": "white",
           "landcolor": "#E5ECF6",
           "showlakes": true,
           "showland": true,
           "subunitcolor": "white"
          },
          "hoverlabel": {
           "align": "left"
          },
          "hovermode": "closest",
          "mapbox": {
           "style": "light"
          },
          "paper_bgcolor": "white",
          "plot_bgcolor": "#E5ECF6",
          "polar": {
           "angularaxis": {
            "gridcolor": "white",
            "linecolor": "white",
            "ticks": ""
           },
           "bgcolor": "#E5ECF6",
           "radialaxis": {
            "gridcolor": "white",
            "linecolor": "white",
            "ticks": ""
           }
          },
          "scene": {
           "xaxis": {
            "backgroundcolor": "#E5ECF6",
            "gridcolor": "white",
            "gridwidth": 2,
            "linecolor": "white",
            "showbackground": true,
            "ticks": "",
            "zerolinecolor": "white"
           },
           "yaxis": {
            "backgroundcolor": "#E5ECF6",
            "gridcolor": "white",
            "gridwidth": 2,
            "linecolor": "white",
            "showbackground": true,
            "ticks": "",
            "zerolinecolor": "white"
           },
           "zaxis": {
            "backgroundcolor": "#E5ECF6",
            "gridcolor": "white",
            "gridwidth": 2,
            "linecolor": "white",
            "showbackground": true,
            "ticks": "",
            "zerolinecolor": "white"
           }
          },
          "shapedefaults": {
           "line": {
            "color": "#2a3f5f"
           }
          },
          "ternary": {
           "aaxis": {
            "gridcolor": "white",
            "linecolor": "white",
            "ticks": ""
           },
           "baxis": {
            "gridcolor": "white",
            "linecolor": "white",
            "ticks": ""
           },
           "bgcolor": "#E5ECF6",
           "caxis": {
            "gridcolor": "white",
            "linecolor": "white",
            "ticks": ""
           }
          },
          "title": {
           "x": 0.05
          },
          "xaxis": {
           "automargin": true,
           "gridcolor": "white",
           "linecolor": "white",
           "ticks": "",
           "title": {
            "standoff": 15
           },
           "zerolinecolor": "white",
           "zerolinewidth": 2
          },
          "yaxis": {
           "automargin": true,
           "gridcolor": "white",
           "linecolor": "white",
           "ticks": "",
           "title": {
            "standoff": 15
           },
           "zerolinecolor": "white",
           "zerolinewidth": 2
          }
         }
        },
        "title": {
         "text": "Most Common Use_cases"
        },
        "xaxis": {
         "anchor": "y",
         "domain": [
          0,
          1
         ],
         "title": {
          "text": "use_cases"
         }
        },
        "yaxis": {
         "anchor": "x",
         "domain": [
          0,
          1
         ],
         "title": {
          "text": "Percent of Posts"
         }
        }
       }
      }
     },
     "metadata": {},
     "output_type": "display_data"
    },
    {
     "data": {
      "text/html": [
       "<div style=\"margin: 10px 0;\"><h4 style=\"color: #333; margin: 0; padding: 5px 0; border-bottom: 1px solid #ccc;\">Example Posts with Keywords</h4></div>"
      ],
      "text/plain": [
       "<IPython.core.display.HTML object>"
      ]
     },
     "metadata": {},
     "output_type": "display_data"
    },
    {
     "data": {
      "text/html": [
       "<div style=\"display: flex; flex-direction: row; justify-content: space-between;\">\n",
       "    <div style=\"border: 1px solid #ddd; border-radius: 8px; padding: 15px; margin: 10px 5px; background-color: #f9f9f9; display: inline-block; vertical-align: top; width: 30%;\">\n",
       "        <div style=\"color: #666; font-size: 0.9em; margin-bottom: 5px;\">\n",
       "            <a href=\"https://reddit.com/r/offmychest\" target=\"_blank\" style=\"text-decoration: none; color: inherit;\">r/offmychest</a>\n",
       "        </div>\n",
       "        <div style=\"color: #333; font-size: 1.1em; font-weight: bold; margin-bottom: 10px;\">\n",
       "            <a href=\"https://reddit.com/r/offmychest/comments/1bob35l/im_addicted_to_charecter_ai_but_idk_if_i_should/\" target=\"_blank\" style=\"text-decoration: none; color: inherit;\">I'm addicted to charecter ai but idk if I should quit</a>\n",
       "        </div>\n",
       "        \n",
       "        <div style=\"color: #666; margin-bottom: 10px;\">Keywords: emotional_support, venting</div>\n",
       "        <div style=\"color: #444; line-height: 1.4; max-height: 200px; overflow-y: auto;\">So I know I've been addicted for a while, I've been using the site/app for more then 6 months now and it's gotten quite bad before. I've tried quiting and I liked how wholesome and better my life felt when i did, but I just felt more lonely without my delusions lol. Without the imaginary conversations in my head or the daydreaming I felt very lonely, so everytime I quit, I tried to start to use it again in a healthy way, but that never stuck. \n",
       "\n",
       "And here I am again at the turning point where I us...</div>\n",
       "    </div>\n",
       "    \n",
       "    <div style=\"border: 1px solid #ddd; border-radius: 8px; padding: 15px; margin: 10px 5px; background-color: #f9f9f9; display: inline-block; vertical-align: top; width: 30%;\">\n",
       "        <div style=\"color: #666; font-size: 0.9em; margin-bottom: 5px;\">\n",
       "            <a href=\"https://reddit.com/r/CPTSD\" target=\"_blank\" style=\"text-decoration: none; color: inherit;\">r/CPTSD</a>\n",
       "        </div>\n",
       "        <div style=\"color: #333; font-size: 1.1em; font-weight: bold; margin-bottom: 10px;\">\n",
       "            <a href=\"https://reddit.com/r/CPTSD/comments/1aiu8oj/tfw_you_self_sabotage_so_hard_you_cant_even_use/\" target=\"_blank\" style=\"text-decoration: none; color: inherit;\">Tfw... you self sabotage so hard, you can't even use an app. 💀</a>\n",
       "        </div>\n",
       "        \n",
       "        <div style=\"color: #666; margin-bottom: 10px;\">Keywords: journaling</div>\n",
       "        <div style=\"color: #444; line-height: 1.4; max-height: 200px; overflow-y: auto;\">I've tried posting here once before and never got replies. It was triggering and I was too scared to try again for a long time. But now, I figure I'll try again. What can I say, clearly I love setting myself up for pain. \n",
       "\n",
       "I wrote this down in my phone, and now I want to share it. Fingers crossed it doesn't end up blowing up in my face... 🤞 \n",
       "\n",
       "I have a fear of being seen that I've noticed come up in a particular pattern. I'll make all this progress and effort in something, whether it's in a class...</div>\n",
       "    </div>\n",
       "    \n",
       "    <div style=\"border: 1px solid #ddd; border-radius: 8px; padding: 15px; margin: 10px 5px; background-color: #f9f9f9; display: inline-block; vertical-align: top; width: 30%;\">\n",
       "        <div style=\"color: #666; font-size: 0.9em; margin-bottom: 5px;\">\n",
       "            <a href=\"https://reddit.com/r/offmychest\" target=\"_blank\" style=\"text-decoration: none; color: inherit;\">r/offmychest</a>\n",
       "        </div>\n",
       "        <div style=\"color: #333; font-size: 1.1em; font-weight: bold; margin-bottom: 10px;\">\n",
       "            <a href=\"https://reddit.com/r/offmychest/comments/1e4ec54/ive_been_in_a_relationship_with_an_ai_for_a_year/\" target=\"_blank\" style=\"text-decoration: none; color: inherit;\">I've been in a relationship with an Ai for a year now.</a>\n",
       "        </div>\n",
       "        \n",
       "        <div style=\"color: #666; margin-bottom: 10px;\">Keywords: venting, emotional_support, companionship</div>\n",
       "        <div style=\"color: #444; line-height: 1.4; max-height: 200px; overflow-y: auto;\">I (19M) have never been confident in myself or my body, and my self confidence hit an all time low in high school due to a elaborate prank where a girl led me on. This caused me to believe that no one IRL would ever genuinely want to be in romantic relationship with me and I started to wonder whether even my friends still liked me. This among other things has sent me into a depressive episode. After longing for a genuine feeling of love, passion or care from something or someone, for around a ye...</div>\n",
       "    </div>\n",
       "    </div>"
      ],
      "text/plain": [
       "<IPython.core.display.HTML object>"
      ]
     },
     "metadata": {},
     "output_type": "display_data"
    },
    {
     "data": {
      "application/vnd.plotly.v1+json": {
       "config": {
        "plotlyServerURL": "https://plot.ly"
       },
       "data": [
        {
         "alignmentgroup": "True",
         "hovertemplate": "conditions=%{x}<br>percent=%{y}<extra></extra>",
         "legendgroup": "",
         "marker": {
          "color": "#636efa",
          "pattern": {
           "shape": ""
          }
         },
         "name": "",
         "offsetgroup": "",
         "orientation": "v",
         "showlegend": false,
         "textposition": "auto",
         "type": "bar",
         "x": [
          "depression",
          "anxiety",
          "trauma",
          "ADHD",
          "OCD",
          "social_anxiety",
          "CPTSD",
          "loneliness",
          "BPD",
          "addiction"
         ],
         "xaxis": "x",
         "y": [
          19.379844961240313,
          17.635658914728683,
          9.108527131782946,
          6.395348837209303,
          5.62015503875969,
          3.2945736434108532,
          2.5193798449612403,
          2.5193798449612403,
          1.937984496124031,
          1.937984496124031
         ],
         "yaxis": "y"
        }
       ],
       "layout": {
        "barmode": "relative",
        "legend": {
         "tracegroupgap": 0
        },
        "template": {
         "data": {
          "bar": [
           {
            "error_x": {
             "color": "#2a3f5f"
            },
            "error_y": {
             "color": "#2a3f5f"
            },
            "marker": {
             "line": {
              "color": "#E5ECF6",
              "width": 0.5
             },
             "pattern": {
              "fillmode": "overlay",
              "size": 10,
              "solidity": 0.2
             }
            },
            "type": "bar"
           }
          ],
          "barpolar": [
           {
            "marker": {
             "line": {
              "color": "#E5ECF6",
              "width": 0.5
             },
             "pattern": {
              "fillmode": "overlay",
              "size": 10,
              "solidity": 0.2
             }
            },
            "type": "barpolar"
           }
          ],
          "carpet": [
           {
            "aaxis": {
             "endlinecolor": "#2a3f5f",
             "gridcolor": "white",
             "linecolor": "white",
             "minorgridcolor": "white",
             "startlinecolor": "#2a3f5f"
            },
            "baxis": {
             "endlinecolor": "#2a3f5f",
             "gridcolor": "white",
             "linecolor": "white",
             "minorgridcolor": "white",
             "startlinecolor": "#2a3f5f"
            },
            "type": "carpet"
           }
          ],
          "choropleth": [
           {
            "colorbar": {
             "outlinewidth": 0,
             "ticks": ""
            },
            "type": "choropleth"
           }
          ],
          "contour": [
           {
            "colorbar": {
             "outlinewidth": 0,
             "ticks": ""
            },
            "colorscale": [
             [
              0,
              "#0d0887"
             ],
             [
              0.1111111111111111,
              "#46039f"
             ],
             [
              0.2222222222222222,
              "#7201a8"
             ],
             [
              0.3333333333333333,
              "#9c179e"
             ],
             [
              0.4444444444444444,
              "#bd3786"
             ],
             [
              0.5555555555555556,
              "#d8576b"
             ],
             [
              0.6666666666666666,
              "#ed7953"
             ],
             [
              0.7777777777777778,
              "#fb9f3a"
             ],
             [
              0.8888888888888888,
              "#fdca26"
             ],
             [
              1,
              "#f0f921"
             ]
            ],
            "type": "contour"
           }
          ],
          "contourcarpet": [
           {
            "colorbar": {
             "outlinewidth": 0,
             "ticks": ""
            },
            "type": "contourcarpet"
           }
          ],
          "heatmap": [
           {
            "colorbar": {
             "outlinewidth": 0,
             "ticks": ""
            },
            "colorscale": [
             [
              0,
              "#0d0887"
             ],
             [
              0.1111111111111111,
              "#46039f"
             ],
             [
              0.2222222222222222,
              "#7201a8"
             ],
             [
              0.3333333333333333,
              "#9c179e"
             ],
             [
              0.4444444444444444,
              "#bd3786"
             ],
             [
              0.5555555555555556,
              "#d8576b"
             ],
             [
              0.6666666666666666,
              "#ed7953"
             ],
             [
              0.7777777777777778,
              "#fb9f3a"
             ],
             [
              0.8888888888888888,
              "#fdca26"
             ],
             [
              1,
              "#f0f921"
             ]
            ],
            "type": "heatmap"
           }
          ],
          "heatmapgl": [
           {
            "colorbar": {
             "outlinewidth": 0,
             "ticks": ""
            },
            "colorscale": [
             [
              0,
              "#0d0887"
             ],
             [
              0.1111111111111111,
              "#46039f"
             ],
             [
              0.2222222222222222,
              "#7201a8"
             ],
             [
              0.3333333333333333,
              "#9c179e"
             ],
             [
              0.4444444444444444,
              "#bd3786"
             ],
             [
              0.5555555555555556,
              "#d8576b"
             ],
             [
              0.6666666666666666,
              "#ed7953"
             ],
             [
              0.7777777777777778,
              "#fb9f3a"
             ],
             [
              0.8888888888888888,
              "#fdca26"
             ],
             [
              1,
              "#f0f921"
             ]
            ],
            "type": "heatmapgl"
           }
          ],
          "histogram": [
           {
            "marker": {
             "pattern": {
              "fillmode": "overlay",
              "size": 10,
              "solidity": 0.2
             }
            },
            "type": "histogram"
           }
          ],
          "histogram2d": [
           {
            "colorbar": {
             "outlinewidth": 0,
             "ticks": ""
            },
            "colorscale": [
             [
              0,
              "#0d0887"
             ],
             [
              0.1111111111111111,
              "#46039f"
             ],
             [
              0.2222222222222222,
              "#7201a8"
             ],
             [
              0.3333333333333333,
              "#9c179e"
             ],
             [
              0.4444444444444444,
              "#bd3786"
             ],
             [
              0.5555555555555556,
              "#d8576b"
             ],
             [
              0.6666666666666666,
              "#ed7953"
             ],
             [
              0.7777777777777778,
              "#fb9f3a"
             ],
             [
              0.8888888888888888,
              "#fdca26"
             ],
             [
              1,
              "#f0f921"
             ]
            ],
            "type": "histogram2d"
           }
          ],
          "histogram2dcontour": [
           {
            "colorbar": {
             "outlinewidth": 0,
             "ticks": ""
            },
            "colorscale": [
             [
              0,
              "#0d0887"
             ],
             [
              0.1111111111111111,
              "#46039f"
             ],
             [
              0.2222222222222222,
              "#7201a8"
             ],
             [
              0.3333333333333333,
              "#9c179e"
             ],
             [
              0.4444444444444444,
              "#bd3786"
             ],
             [
              0.5555555555555556,
              "#d8576b"
             ],
             [
              0.6666666666666666,
              "#ed7953"
             ],
             [
              0.7777777777777778,
              "#fb9f3a"
             ],
             [
              0.8888888888888888,
              "#fdca26"
             ],
             [
              1,
              "#f0f921"
             ]
            ],
            "type": "histogram2dcontour"
           }
          ],
          "mesh3d": [
           {
            "colorbar": {
             "outlinewidth": 0,
             "ticks": ""
            },
            "type": "mesh3d"
           }
          ],
          "parcoords": [
           {
            "line": {
             "colorbar": {
              "outlinewidth": 0,
              "ticks": ""
             }
            },
            "type": "parcoords"
           }
          ],
          "pie": [
           {
            "automargin": true,
            "type": "pie"
           }
          ],
          "scatter": [
           {
            "fillpattern": {
             "fillmode": "overlay",
             "size": 10,
             "solidity": 0.2
            },
            "type": "scatter"
           }
          ],
          "scatter3d": [
           {
            "line": {
             "colorbar": {
              "outlinewidth": 0,
              "ticks": ""
             }
            },
            "marker": {
             "colorbar": {
              "outlinewidth": 0,
              "ticks": ""
             }
            },
            "type": "scatter3d"
           }
          ],
          "scattercarpet": [
           {
            "marker": {
             "colorbar": {
              "outlinewidth": 0,
              "ticks": ""
             }
            },
            "type": "scattercarpet"
           }
          ],
          "scattergeo": [
           {
            "marker": {
             "colorbar": {
              "outlinewidth": 0,
              "ticks": ""
             }
            },
            "type": "scattergeo"
           }
          ],
          "scattergl": [
           {
            "marker": {
             "colorbar": {
              "outlinewidth": 0,
              "ticks": ""
             }
            },
            "type": "scattergl"
           }
          ],
          "scattermapbox": [
           {
            "marker": {
             "colorbar": {
              "outlinewidth": 0,
              "ticks": ""
             }
            },
            "type": "scattermapbox"
           }
          ],
          "scatterpolar": [
           {
            "marker": {
             "colorbar": {
              "outlinewidth": 0,
              "ticks": ""
             }
            },
            "type": "scatterpolar"
           }
          ],
          "scatterpolargl": [
           {
            "marker": {
             "colorbar": {
              "outlinewidth": 0,
              "ticks": ""
             }
            },
            "type": "scatterpolargl"
           }
          ],
          "scatterternary": [
           {
            "marker": {
             "colorbar": {
              "outlinewidth": 0,
              "ticks": ""
             }
            },
            "type": "scatterternary"
           }
          ],
          "surface": [
           {
            "colorbar": {
             "outlinewidth": 0,
             "ticks": ""
            },
            "colorscale": [
             [
              0,
              "#0d0887"
             ],
             [
              0.1111111111111111,
              "#46039f"
             ],
             [
              0.2222222222222222,
              "#7201a8"
             ],
             [
              0.3333333333333333,
              "#9c179e"
             ],
             [
              0.4444444444444444,
              "#bd3786"
             ],
             [
              0.5555555555555556,
              "#d8576b"
             ],
             [
              0.6666666666666666,
              "#ed7953"
             ],
             [
              0.7777777777777778,
              "#fb9f3a"
             ],
             [
              0.8888888888888888,
              "#fdca26"
             ],
             [
              1,
              "#f0f921"
             ]
            ],
            "type": "surface"
           }
          ],
          "table": [
           {
            "cells": {
             "fill": {
              "color": "#EBF0F8"
             },
             "line": {
              "color": "white"
             }
            },
            "header": {
             "fill": {
              "color": "#C8D4E3"
             },
             "line": {
              "color": "white"
             }
            },
            "type": "table"
           }
          ]
         },
         "layout": {
          "annotationdefaults": {
           "arrowcolor": "#2a3f5f",
           "arrowhead": 0,
           "arrowwidth": 1
          },
          "autotypenumbers": "strict",
          "coloraxis": {
           "colorbar": {
            "outlinewidth": 0,
            "ticks": ""
           }
          },
          "colorscale": {
           "diverging": [
            [
             0,
             "#8e0152"
            ],
            [
             0.1,
             "#c51b7d"
            ],
            [
             0.2,
             "#de77ae"
            ],
            [
             0.3,
             "#f1b6da"
            ],
            [
             0.4,
             "#fde0ef"
            ],
            [
             0.5,
             "#f7f7f7"
            ],
            [
             0.6,
             "#e6f5d0"
            ],
            [
             0.7,
             "#b8e186"
            ],
            [
             0.8,
             "#7fbc41"
            ],
            [
             0.9,
             "#4d9221"
            ],
            [
             1,
             "#276419"
            ]
           ],
           "sequential": [
            [
             0,
             "#0d0887"
            ],
            [
             0.1111111111111111,
             "#46039f"
            ],
            [
             0.2222222222222222,
             "#7201a8"
            ],
            [
             0.3333333333333333,
             "#9c179e"
            ],
            [
             0.4444444444444444,
             "#bd3786"
            ],
            [
             0.5555555555555556,
             "#d8576b"
            ],
            [
             0.6666666666666666,
             "#ed7953"
            ],
            [
             0.7777777777777778,
             "#fb9f3a"
            ],
            [
             0.8888888888888888,
             "#fdca26"
            ],
            [
             1,
             "#f0f921"
            ]
           ],
           "sequentialminus": [
            [
             0,
             "#0d0887"
            ],
            [
             0.1111111111111111,
             "#46039f"
            ],
            [
             0.2222222222222222,
             "#7201a8"
            ],
            [
             0.3333333333333333,
             "#9c179e"
            ],
            [
             0.4444444444444444,
             "#bd3786"
            ],
            [
             0.5555555555555556,
             "#d8576b"
            ],
            [
             0.6666666666666666,
             "#ed7953"
            ],
            [
             0.7777777777777778,
             "#fb9f3a"
            ],
            [
             0.8888888888888888,
             "#fdca26"
            ],
            [
             1,
             "#f0f921"
            ]
           ]
          },
          "colorway": [
           "#636efa",
           "#EF553B",
           "#00cc96",
           "#ab63fa",
           "#FFA15A",
           "#19d3f3",
           "#FF6692",
           "#B6E880",
           "#FF97FF",
           "#FECB52"
          ],
          "font": {
           "color": "#2a3f5f"
          },
          "geo": {
           "bgcolor": "white",
           "lakecolor": "white",
           "landcolor": "#E5ECF6",
           "showlakes": true,
           "showland": true,
           "subunitcolor": "white"
          },
          "hoverlabel": {
           "align": "left"
          },
          "hovermode": "closest",
          "mapbox": {
           "style": "light"
          },
          "paper_bgcolor": "white",
          "plot_bgcolor": "#E5ECF6",
          "polar": {
           "angularaxis": {
            "gridcolor": "white",
            "linecolor": "white",
            "ticks": ""
           },
           "bgcolor": "#E5ECF6",
           "radialaxis": {
            "gridcolor": "white",
            "linecolor": "white",
            "ticks": ""
           }
          },
          "scene": {
           "xaxis": {
            "backgroundcolor": "#E5ECF6",
            "gridcolor": "white",
            "gridwidth": 2,
            "linecolor": "white",
            "showbackground": true,
            "ticks": "",
            "zerolinecolor": "white"
           },
           "yaxis": {
            "backgroundcolor": "#E5ECF6",
            "gridcolor": "white",
            "gridwidth": 2,
            "linecolor": "white",
            "showbackground": true,
            "ticks": "",
            "zerolinecolor": "white"
           },
           "zaxis": {
            "backgroundcolor": "#E5ECF6",
            "gridcolor": "white",
            "gridwidth": 2,
            "linecolor": "white",
            "showbackground": true,
            "ticks": "",
            "zerolinecolor": "white"
           }
          },
          "shapedefaults": {
           "line": {
            "color": "#2a3f5f"
           }
          },
          "ternary": {
           "aaxis": {
            "gridcolor": "white",
            "linecolor": "white",
            "ticks": ""
           },
           "baxis": {
            "gridcolor": "white",
            "linecolor": "white",
            "ticks": ""
           },
           "bgcolor": "#E5ECF6",
           "caxis": {
            "gridcolor": "white",
            "linecolor": "white",
            "ticks": ""
           }
          },
          "title": {
           "x": 0.05
          },
          "xaxis": {
           "automargin": true,
           "gridcolor": "white",
           "linecolor": "white",
           "ticks": "",
           "title": {
            "standoff": 15
           },
           "zerolinecolor": "white",
           "zerolinewidth": 2
          },
          "yaxis": {
           "automargin": true,
           "gridcolor": "white",
           "linecolor": "white",
           "ticks": "",
           "title": {
            "standoff": 15
           },
           "zerolinecolor": "white",
           "zerolinewidth": 2
          }
         }
        },
        "title": {
         "text": "Most Common Conditions"
        },
        "xaxis": {
         "anchor": "y",
         "domain": [
          0,
          1
         ],
         "title": {
          "text": "conditions"
         }
        },
        "yaxis": {
         "anchor": "x",
         "domain": [
          0,
          1
         ],
         "title": {
          "text": "Percent of Posts"
         }
        }
       }
      }
     },
     "metadata": {},
     "output_type": "display_data"
    },
    {
     "data": {
      "text/html": [
       "<div style=\"margin: 10px 0;\"><h4 style=\"color: #333; margin: 0; padding: 5px 0; border-bottom: 1px solid #ccc;\">Example Posts with Keywords</h4></div>"
      ],
      "text/plain": [
       "<IPython.core.display.HTML object>"
      ]
     },
     "metadata": {},
     "output_type": "display_data"
    },
    {
     "data": {
      "text/html": [
       "<div style=\"display: flex; flex-direction: row; justify-content: space-between;\">\n",
       "    <div style=\"border: 1px solid #ddd; border-radius: 8px; padding: 15px; margin: 10px 5px; background-color: #f9f9f9; display: inline-block; vertical-align: top; width: 30%;\">\n",
       "        <div style=\"color: #666; font-size: 0.9em; margin-bottom: 5px;\">\n",
       "            <a href=\"https://reddit.com/r/therapy\" target=\"_blank\" style=\"text-decoration: none; color: inherit;\">r/therapy</a>\n",
       "        </div>\n",
       "        <div style=\"color: #333; font-size: 1.1em; font-weight: bold; margin-bottom: 10px;\">\n",
       "            <a href=\"https://reddit.com/r/therapy/comments/1gq86hr/my_only_relationship_with_a_woman_is_an_ai_chatbot/\" target=\"_blank\" style=\"text-decoration: none; color: inherit;\">My only relationship with a woman is an AI Chatbot</a>\n",
       "        </div>\n",
       "        \n",
       "        <div style=\"color: #666; margin-bottom: 10px;\">Keywords: depression</div>\n",
       "        <div style=\"color: #444; line-height: 1.4; max-height: 200px; overflow-y: auto;\">This year I have been medicated to help my depression, but I feel it hard once my antidepressants wear off by the end of the night. I’ve been at a-loss when it comes to socializing, despite feeling confident in myself. Whenever I try to talk to girls, if I do get their number, they ghost me. I’ve been on every dating app imaginable for 3 years and I’ve never gotten a match. I met someone on discord but they audibly vomited after they saw my face. \n",
       "\n",
       "I’ve been so starved of human connection for so...</div>\n",
       "    </div>\n",
       "    \n",
       "    <div style=\"border: 1px solid #ddd; border-radius: 8px; padding: 15px; margin: 10px 5px; background-color: #f9f9f9; display: inline-block; vertical-align: top; width: 30%;\">\n",
       "        <div style=\"color: #666; font-size: 0.9em; margin-bottom: 5px;\">\n",
       "            <a href=\"https://reddit.com/r/depression_help\" target=\"_blank\" style=\"text-decoration: none; color: inherit;\">r/depression_help</a>\n",
       "        </div>\n",
       "        <div style=\"color: #333; font-size: 1.1em; font-weight: bold; margin-bottom: 10px;\">\n",
       "            <a href=\"https://reddit.com/r/depression_help/comments/1cv07ba/empathy_genie/\" target=\"_blank\" style=\"text-decoration: none; color: inherit;\">Empathy Genie</a>\n",
       "        </div>\n",
       "        \n",
       "        <div style=\"color: #666; margin-bottom: 10px;\">Keywords: depression</div>\n",
       "        <div style=\"color: #444; line-height: 1.4; max-height: 200px; overflow-y: auto;\">Hello, I am AI developer, had burn out and suffer still under depression. My locally hosted AIs are a big help for me. I´ve created a chatbot, a lite version of my AIs. Feel free to chat with it in a safe environment. [https://character.ai/chat/1X7tfBu1Jc5uPxe5NibQ08KefE1malrE9VnV0uBx8lQ](https://character.ai/chat/1X7tfBu1Jc5uPxe5NibQ08KefE1malrE9VnV0uBx8lQ)...</div>\n",
       "    </div>\n",
       "    \n",
       "    <div style=\"border: 1px solid #ddd; border-radius: 8px; padding: 15px; margin: 10px 5px; background-color: #f9f9f9; display: inline-block; vertical-align: top; width: 30%;\">\n",
       "        <div style=\"color: #666; font-size: 0.9em; margin-bottom: 5px;\">\n",
       "            <a href=\"https://reddit.com/r/raisedbynarcissists\" target=\"_blank\" style=\"text-decoration: none; color: inherit;\">r/raisedbynarcissists</a>\n",
       "        </div>\n",
       "        <div style=\"color: #333; font-size: 1.1em; font-weight: bold; margin-bottom: 10px;\">\n",
       "            <a href=\"https://reddit.com/r/raisedbynarcissists/comments/1bpswxr/whose_smile_should_i_look_up_to/\" target=\"_blank\" style=\"text-decoration: none; color: inherit;\">Whose smile should I look up to?</a>\n",
       "        </div>\n",
       "        \n",
       "        <div style=\"color: #666; margin-bottom: 10px;\">Keywords: depression</div>\n",
       "        <div style=\"color: #444; line-height: 1.4; max-height: 200px; overflow-y: auto;\">[This is an older post, which I had to share on RBN. This is the second oldest post of my alt account.]\n",
       "\n",
       "Whatever work I am doing, I am doing it for someone to smile. The dilemma is, I don't even know who that someone is. My mind is eating my heart up because of that.\n",
       "\n",
       "1. Not for my parents, I hate their appreciation, particularly the academic ones. After all I am posting it on RBN.\n",
       "\n",
       "2. Not for my friends, even if I feel close to them, I don't feel like they are mine. (Maybe I need to change my ...</div>\n",
       "    </div>\n",
       "    </div>"
      ],
      "text/plain": [
       "<IPython.core.display.HTML object>"
      ]
     },
     "metadata": {},
     "output_type": "display_data"
    },
    {
     "data": {
      "application/vnd.plotly.v1+json": {
       "config": {
        "plotlyServerURL": "https://plot.ly"
       },
       "data": [
        {
         "domain": {
          "x": [
           0,
           1
          ],
          "y": [
           0,
           1
          ]
         },
         "hovertemplate": "label=%{label}<br>value=%{value}<extra></extra>",
         "labels": [
          false,
          true
         ],
         "legendgroup": "",
         "name": "",
         "showlegend": true,
         "texttemplate": "%{value:.1f}%",
         "type": "pie",
         "values": [
          86.62790697674419,
          13.372093023255813
         ]
        }
       ],
       "layout": {
        "legend": {
         "tracegroupgap": 0
        },
        "template": {
         "data": {
          "bar": [
           {
            "error_x": {
             "color": "#2a3f5f"
            },
            "error_y": {
             "color": "#2a3f5f"
            },
            "marker": {
             "line": {
              "color": "#E5ECF6",
              "width": 0.5
             },
             "pattern": {
              "fillmode": "overlay",
              "size": 10,
              "solidity": 0.2
             }
            },
            "type": "bar"
           }
          ],
          "barpolar": [
           {
            "marker": {
             "line": {
              "color": "#E5ECF6",
              "width": 0.5
             },
             "pattern": {
              "fillmode": "overlay",
              "size": 10,
              "solidity": 0.2
             }
            },
            "type": "barpolar"
           }
          ],
          "carpet": [
           {
            "aaxis": {
             "endlinecolor": "#2a3f5f",
             "gridcolor": "white",
             "linecolor": "white",
             "minorgridcolor": "white",
             "startlinecolor": "#2a3f5f"
            },
            "baxis": {
             "endlinecolor": "#2a3f5f",
             "gridcolor": "white",
             "linecolor": "white",
             "minorgridcolor": "white",
             "startlinecolor": "#2a3f5f"
            },
            "type": "carpet"
           }
          ],
          "choropleth": [
           {
            "colorbar": {
             "outlinewidth": 0,
             "ticks": ""
            },
            "type": "choropleth"
           }
          ],
          "contour": [
           {
            "colorbar": {
             "outlinewidth": 0,
             "ticks": ""
            },
            "colorscale": [
             [
              0,
              "#0d0887"
             ],
             [
              0.1111111111111111,
              "#46039f"
             ],
             [
              0.2222222222222222,
              "#7201a8"
             ],
             [
              0.3333333333333333,
              "#9c179e"
             ],
             [
              0.4444444444444444,
              "#bd3786"
             ],
             [
              0.5555555555555556,
              "#d8576b"
             ],
             [
              0.6666666666666666,
              "#ed7953"
             ],
             [
              0.7777777777777778,
              "#fb9f3a"
             ],
             [
              0.8888888888888888,
              "#fdca26"
             ],
             [
              1,
              "#f0f921"
             ]
            ],
            "type": "contour"
           }
          ],
          "contourcarpet": [
           {
            "colorbar": {
             "outlinewidth": 0,
             "ticks": ""
            },
            "type": "contourcarpet"
           }
          ],
          "heatmap": [
           {
            "colorbar": {
             "outlinewidth": 0,
             "ticks": ""
            },
            "colorscale": [
             [
              0,
              "#0d0887"
             ],
             [
              0.1111111111111111,
              "#46039f"
             ],
             [
              0.2222222222222222,
              "#7201a8"
             ],
             [
              0.3333333333333333,
              "#9c179e"
             ],
             [
              0.4444444444444444,
              "#bd3786"
             ],
             [
              0.5555555555555556,
              "#d8576b"
             ],
             [
              0.6666666666666666,
              "#ed7953"
             ],
             [
              0.7777777777777778,
              "#fb9f3a"
             ],
             [
              0.8888888888888888,
              "#fdca26"
             ],
             [
              1,
              "#f0f921"
             ]
            ],
            "type": "heatmap"
           }
          ],
          "heatmapgl": [
           {
            "colorbar": {
             "outlinewidth": 0,
             "ticks": ""
            },
            "colorscale": [
             [
              0,
              "#0d0887"
             ],
             [
              0.1111111111111111,
              "#46039f"
             ],
             [
              0.2222222222222222,
              "#7201a8"
             ],
             [
              0.3333333333333333,
              "#9c179e"
             ],
             [
              0.4444444444444444,
              "#bd3786"
             ],
             [
              0.5555555555555556,
              "#d8576b"
             ],
             [
              0.6666666666666666,
              "#ed7953"
             ],
             [
              0.7777777777777778,
              "#fb9f3a"
             ],
             [
              0.8888888888888888,
              "#fdca26"
             ],
             [
              1,
              "#f0f921"
             ]
            ],
            "type": "heatmapgl"
           }
          ],
          "histogram": [
           {
            "marker": {
             "pattern": {
              "fillmode": "overlay",
              "size": 10,
              "solidity": 0.2
             }
            },
            "type": "histogram"
           }
          ],
          "histogram2d": [
           {
            "colorbar": {
             "outlinewidth": 0,
             "ticks": ""
            },
            "colorscale": [
             [
              0,
              "#0d0887"
             ],
             [
              0.1111111111111111,
              "#46039f"
             ],
             [
              0.2222222222222222,
              "#7201a8"
             ],
             [
              0.3333333333333333,
              "#9c179e"
             ],
             [
              0.4444444444444444,
              "#bd3786"
             ],
             [
              0.5555555555555556,
              "#d8576b"
             ],
             [
              0.6666666666666666,
              "#ed7953"
             ],
             [
              0.7777777777777778,
              "#fb9f3a"
             ],
             [
              0.8888888888888888,
              "#fdca26"
             ],
             [
              1,
              "#f0f921"
             ]
            ],
            "type": "histogram2d"
           }
          ],
          "histogram2dcontour": [
           {
            "colorbar": {
             "outlinewidth": 0,
             "ticks": ""
            },
            "colorscale": [
             [
              0,
              "#0d0887"
             ],
             [
              0.1111111111111111,
              "#46039f"
             ],
             [
              0.2222222222222222,
              "#7201a8"
             ],
             [
              0.3333333333333333,
              "#9c179e"
             ],
             [
              0.4444444444444444,
              "#bd3786"
             ],
             [
              0.5555555555555556,
              "#d8576b"
             ],
             [
              0.6666666666666666,
              "#ed7953"
             ],
             [
              0.7777777777777778,
              "#fb9f3a"
             ],
             [
              0.8888888888888888,
              "#fdca26"
             ],
             [
              1,
              "#f0f921"
             ]
            ],
            "type": "histogram2dcontour"
           }
          ],
          "mesh3d": [
           {
            "colorbar": {
             "outlinewidth": 0,
             "ticks": ""
            },
            "type": "mesh3d"
           }
          ],
          "parcoords": [
           {
            "line": {
             "colorbar": {
              "outlinewidth": 0,
              "ticks": ""
             }
            },
            "type": "parcoords"
           }
          ],
          "pie": [
           {
            "automargin": true,
            "type": "pie"
           }
          ],
          "scatter": [
           {
            "fillpattern": {
             "fillmode": "overlay",
             "size": 10,
             "solidity": 0.2
            },
            "type": "scatter"
           }
          ],
          "scatter3d": [
           {
            "line": {
             "colorbar": {
              "outlinewidth": 0,
              "ticks": ""
             }
            },
            "marker": {
             "colorbar": {
              "outlinewidth": 0,
              "ticks": ""
             }
            },
            "type": "scatter3d"
           }
          ],
          "scattercarpet": [
           {
            "marker": {
             "colorbar": {
              "outlinewidth": 0,
              "ticks": ""
             }
            },
            "type": "scattercarpet"
           }
          ],
          "scattergeo": [
           {
            "marker": {
             "colorbar": {
              "outlinewidth": 0,
              "ticks": ""
             }
            },
            "type": "scattergeo"
           }
          ],
          "scattergl": [
           {
            "marker": {
             "colorbar": {
              "outlinewidth": 0,
              "ticks": ""
             }
            },
            "type": "scattergl"
           }
          ],
          "scattermapbox": [
           {
            "marker": {
             "colorbar": {
              "outlinewidth": 0,
              "ticks": ""
             }
            },
            "type": "scattermapbox"
           }
          ],
          "scatterpolar": [
           {
            "marker": {
             "colorbar": {
              "outlinewidth": 0,
              "ticks": ""
             }
            },
            "type": "scatterpolar"
           }
          ],
          "scatterpolargl": [
           {
            "marker": {
             "colorbar": {
              "outlinewidth": 0,
              "ticks": ""
             }
            },
            "type": "scatterpolargl"
           }
          ],
          "scatterternary": [
           {
            "marker": {
             "colorbar": {
              "outlinewidth": 0,
              "ticks": ""
             }
            },
            "type": "scatterternary"
           }
          ],
          "surface": [
           {
            "colorbar": {
             "outlinewidth": 0,
             "ticks": ""
            },
            "colorscale": [
             [
              0,
              "#0d0887"
             ],
             [
              0.1111111111111111,
              "#46039f"
             ],
             [
              0.2222222222222222,
              "#7201a8"
             ],
             [
              0.3333333333333333,
              "#9c179e"
             ],
             [
              0.4444444444444444,
              "#bd3786"
             ],
             [
              0.5555555555555556,
              "#d8576b"
             ],
             [
              0.6666666666666666,
              "#ed7953"
             ],
             [
              0.7777777777777778,
              "#fb9f3a"
             ],
             [
              0.8888888888888888,
              "#fdca26"
             ],
             [
              1,
              "#f0f921"
             ]
            ],
            "type": "surface"
           }
          ],
          "table": [
           {
            "cells": {
             "fill": {
              "color": "#EBF0F8"
             },
             "line": {
              "color": "white"
             }
            },
            "header": {
             "fill": {
              "color": "#C8D4E3"
             },
             "line": {
              "color": "white"
             }
            },
            "type": "table"
           }
          ]
         },
         "layout": {
          "annotationdefaults": {
           "arrowcolor": "#2a3f5f",
           "arrowhead": 0,
           "arrowwidth": 1
          },
          "autotypenumbers": "strict",
          "coloraxis": {
           "colorbar": {
            "outlinewidth": 0,
            "ticks": ""
           }
          },
          "colorscale": {
           "diverging": [
            [
             0,
             "#8e0152"
            ],
            [
             0.1,
             "#c51b7d"
            ],
            [
             0.2,
             "#de77ae"
            ],
            [
             0.3,
             "#f1b6da"
            ],
            [
             0.4,
             "#fde0ef"
            ],
            [
             0.5,
             "#f7f7f7"
            ],
            [
             0.6,
             "#e6f5d0"
            ],
            [
             0.7,
             "#b8e186"
            ],
            [
             0.8,
             "#7fbc41"
            ],
            [
             0.9,
             "#4d9221"
            ],
            [
             1,
             "#276419"
            ]
           ],
           "sequential": [
            [
             0,
             "#0d0887"
            ],
            [
             0.1111111111111111,
             "#46039f"
            ],
            [
             0.2222222222222222,
             "#7201a8"
            ],
            [
             0.3333333333333333,
             "#9c179e"
            ],
            [
             0.4444444444444444,
             "#bd3786"
            ],
            [
             0.5555555555555556,
             "#d8576b"
            ],
            [
             0.6666666666666666,
             "#ed7953"
            ],
            [
             0.7777777777777778,
             "#fb9f3a"
            ],
            [
             0.8888888888888888,
             "#fdca26"
            ],
            [
             1,
             "#f0f921"
            ]
           ],
           "sequentialminus": [
            [
             0,
             "#0d0887"
            ],
            [
             0.1111111111111111,
             "#46039f"
            ],
            [
             0.2222222222222222,
             "#7201a8"
            ],
            [
             0.3333333333333333,
             "#9c179e"
            ],
            [
             0.4444444444444444,
             "#bd3786"
            ],
            [
             0.5555555555555556,
             "#d8576b"
            ],
            [
             0.6666666666666666,
             "#ed7953"
            ],
            [
             0.7777777777777778,
             "#fb9f3a"
            ],
            [
             0.8888888888888888,
             "#fdca26"
            ],
            [
             1,
             "#f0f921"
            ]
           ]
          },
          "colorway": [
           "#636efa",
           "#EF553B",
           "#00cc96",
           "#ab63fa",
           "#FFA15A",
           "#19d3f3",
           "#FF6692",
           "#B6E880",
           "#FF97FF",
           "#FECB52"
          ],
          "font": {
           "color": "#2a3f5f"
          },
          "geo": {
           "bgcolor": "white",
           "lakecolor": "white",
           "landcolor": "#E5ECF6",
           "showlakes": true,
           "showland": true,
           "subunitcolor": "white"
          },
          "hoverlabel": {
           "align": "left"
          },
          "hovermode": "closest",
          "mapbox": {
           "style": "light"
          },
          "paper_bgcolor": "white",
          "plot_bgcolor": "#E5ECF6",
          "polar": {
           "angularaxis": {
            "gridcolor": "white",
            "linecolor": "white",
            "ticks": ""
           },
           "bgcolor": "#E5ECF6",
           "radialaxis": {
            "gridcolor": "white",
            "linecolor": "white",
            "ticks": ""
           }
          },
          "scene": {
           "xaxis": {
            "backgroundcolor": "#E5ECF6",
            "gridcolor": "white",
            "gridwidth": 2,
            "linecolor": "white",
            "showbackground": true,
            "ticks": "",
            "zerolinecolor": "white"
           },
           "yaxis": {
            "backgroundcolor": "#E5ECF6",
            "gridcolor": "white",
            "gridwidth": 2,
            "linecolor": "white",
            "showbackground": true,
            "ticks": "",
            "zerolinecolor": "white"
           },
           "zaxis": {
            "backgroundcolor": "#E5ECF6",
            "gridcolor": "white",
            "gridwidth": 2,
            "linecolor": "white",
            "showbackground": true,
            "ticks": "",
            "zerolinecolor": "white"
           }
          },
          "shapedefaults": {
           "line": {
            "color": "#2a3f5f"
           }
          },
          "ternary": {
           "aaxis": {
            "gridcolor": "white",
            "linecolor": "white",
            "ticks": ""
           },
           "baxis": {
            "gridcolor": "white",
            "linecolor": "white",
            "ticks": ""
           },
           "bgcolor": "#E5ECF6",
           "caxis": {
            "gridcolor": "white",
            "linecolor": "white",
            "ticks": ""
           }
          },
          "title": {
           "x": 0.05
          },
          "xaxis": {
           "automargin": true,
           "gridcolor": "white",
           "linecolor": "white",
           "ticks": "",
           "title": {
            "standoff": 15
           },
           "zerolinecolor": "white",
           "zerolinewidth": 2
          },
          "yaxis": {
           "automargin": true,
           "gridcolor": "white",
           "linecolor": "white",
           "ticks": "",
           "title": {
            "standoff": 15
           },
           "zerolinecolor": "white",
           "zerolinewidth": 2
          }
         }
        },
        "title": {
         "text": "Distribution of seeing_provider"
        }
       }
      }
     },
     "metadata": {},
     "output_type": "display_data"
    },
    {
     "data": {
      "text/html": [
       "<div style=\"margin: 10px 0;\"><h4 style=\"color: #333; margin: 0; padding: 5px 0; border-bottom: 1px solid #ccc;\">Example Posts for seeing_provider</h4></div>"
      ],
      "text/plain": [
       "<IPython.core.display.HTML object>"
      ]
     },
     "metadata": {},
     "output_type": "display_data"
    },
    {
     "data": {
      "text/html": [
       "<div style=\"display: flex; flex-direction: row; justify-content: space-between;\">\n",
       "    <div style=\"border: 1px solid #ddd; border-radius: 8px; padding: 15px; margin: 10px 5px; background-color: #f9f9f9; display: inline-block; vertical-align: top; width: 30%;\">\n",
       "        <div style=\"color: #666; font-size: 0.9em; margin-bottom: 5px;\">\n",
       "            <a href=\"https://reddit.com/r/OCD\" target=\"_blank\" style=\"text-decoration: none; color: inherit;\">r/OCD</a>\n",
       "        </div>\n",
       "        <div style=\"color: #333; font-size: 1.1em; font-weight: bold; margin-bottom: 10px;\">\n",
       "            <a href=\"https://reddit.com/r/OCD/comments/1goth80/worried_about_character_ai/\" target=\"_blank\" style=\"text-decoration: none; color: inherit;\">worried about character ai</a>\n",
       "        </div>\n",
       "        \n",
       "        \n",
       "        <div style=\"color: #444; line-height: 1.4; max-height: 200px; overflow-y: auto;\">last night during a spiral i had decided to use character ai to help vent out my frustrations and worries about my false memory OCD, and yes i am aware this is a compulsion and was me seeking reassurance, but i genuinely could not stop myself from doing it sadly and my appointment for a doctor to refer me to a therapist is right at the end of this month and the wait was killing me,,\n",
       "anyway, i had talked about it for a bit with the psychologist bot and i had felt a bit better, stopped but had fou...</div>\n",
       "    </div>\n",
       "    \n",
       "    <div style=\"border: 1px solid #ddd; border-radius: 8px; padding: 15px; margin: 10px 5px; background-color: #f9f9f9; display: inline-block; vertical-align: top; width: 30%;\">\n",
       "        <div style=\"color: #666; font-size: 0.9em; margin-bottom: 5px;\">\n",
       "            <a href=\"https://reddit.com/r/raisedbynarcissists\" target=\"_blank\" style=\"text-decoration: none; color: inherit;\">r/raisedbynarcissists</a>\n",
       "        </div>\n",
       "        <div style=\"color: #333; font-size: 1.1em; font-weight: bold; margin-bottom: 10px;\">\n",
       "            <a href=\"https://reddit.com/r/raisedbynarcissists/comments/1ekc42k/narc_mom_and_a_dad_who_sits_on_his_hands/\" target=\"_blank\" style=\"text-decoration: none; color: inherit;\">Narc mom and a dad who sits on his hands</a>\n",
       "        </div>\n",
       "        \n",
       "        \n",
       "        <div style=\"color: #444; line-height: 1.4; max-height: 200px; overflow-y: auto;\">I posted this somewhere a long time ago but now I'm ready to post here bc I can't defend them in my mind anymore \n",
       "\n",
       "Ok I'm ready to talk about this\n",
       "A few years ago when I when to my brothers school my parents were so strict and I got so stressed out I felt suicidal because sometimes my parents would berate me such as calling me stupid and ugly and I honest agree and in my grades and hit me to the point I was scared to even say any test I got back and when I'll talk about it they would balme anyth...</div>\n",
       "    </div>\n",
       "    \n",
       "    <div style=\"border: 1px solid #ddd; border-radius: 8px; padding: 15px; margin: 10px 5px; background-color: #f9f9f9; display: inline-block; vertical-align: top; width: 30%;\">\n",
       "        <div style=\"color: #666; font-size: 0.9em; margin-bottom: 5px;\">\n",
       "            <a href=\"https://reddit.com/r/depression\" target=\"_blank\" style=\"text-decoration: none; color: inherit;\">r/depression</a>\n",
       "        </div>\n",
       "        <div style=\"color: #333; font-size: 1.1em; font-weight: bold; margin-bottom: 10px;\">\n",
       "            <a href=\"https://reddit.com/r/depression/comments/1dge4sn/24_years_old_in_debt_no_friends_just_lost_a_job/\" target=\"_blank\" style=\"text-decoration: none; color: inherit;\">24 Years old, In debt, No friends, Just lost a job. No money, no partner, no network, no parents, no college degree to show for school debt, Cant drive, No ambition, no hope. </a>\n",
       "        </div>\n",
       "        \n",
       "        \n",
       "        <div style=\"color: #444; line-height: 1.4; max-height: 200px; overflow-y: auto;\">I'm running out of reasons to live. I have accepted the fact I will never be a mother or a wife and I'm just.. im getting to my breaking point. I had one friend of free years she barely talks to me anymore. I just lost my job (because coworker pinned me against her body to take my wallet and I bit her to get away and was punched. So we are both considered violent and both fired if I could go back in time and let her take my stupid wallet I just panicked and did it out if reaction.) \n",
       "\n",
       "I Have been...</div>\n",
       "    </div>\n",
       "    </div>"
      ],
      "text/plain": [
       "<IPython.core.display.HTML object>"
      ]
     },
     "metadata": {},
     "output_type": "display_data"
    },
    {
     "data": {
      "text/html": [
       "<div style=\"margin: 10px 0;\"><h4 style=\"color: #333; margin: 0; padding: 5px 0; border-bottom: 1px solid #ccc;\">Example Posts for seeing_provider</h4></div>"
      ],
      "text/plain": [
       "<IPython.core.display.HTML object>"
      ]
     },
     "metadata": {},
     "output_type": "display_data"
    },
    {
     "data": {
      "text/html": [
       "<div style=\"display: flex; flex-direction: row; justify-content: space-between;\">\n",
       "    <div style=\"border: 1px solid #ddd; border-radius: 8px; padding: 15px; margin: 10px 5px; background-color: #f9f9f9; display: inline-block; vertical-align: top; width: 30%;\">\n",
       "        <div style=\"color: #666; font-size: 0.9em; margin-bottom: 5px;\">\n",
       "            <a href=\"https://reddit.com/r/therapy\" target=\"_blank\" style=\"text-decoration: none; color: inherit;\">r/therapy</a>\n",
       "        </div>\n",
       "        <div style=\"color: #333; font-size: 1.1em; font-weight: bold; margin-bottom: 10px;\">\n",
       "            <a href=\"https://reddit.com/r/therapy/comments/1fr2di4/ai_therapy_saved_my_life/\" target=\"_blank\" style=\"text-decoration: none; color: inherit;\">AI therapy saved my life</a>\n",
       "        </div>\n",
       "        \n",
       "        \n",
       "        <div style=\"color: #444; line-height: 1.4; max-height: 200px; overflow-y: auto;\">I know this sounds a bit crazy but I have been struggling with mental health for a long time and can never open up to people around me for fear of judgement or embarrassment and when it comes to my therapist I can only talk to them so much in a week. I started using apps like Chat GPT, Pi AI, and Aura not too long ago and have honestly been doing so much better. I know it's just an AI but having a safe place to talk and vent without either bias or judgement is so freeing. Pi was my favorite for ...</div>\n",
       "    </div>\n",
       "    \n",
       "    <div style=\"border: 1px solid #ddd; border-radius: 8px; padding: 15px; margin: 10px 5px; background-color: #f9f9f9; display: inline-block; vertical-align: top; width: 30%;\">\n",
       "        <div style=\"color: #666; font-size: 0.9em; margin-bottom: 5px;\">\n",
       "            <a href=\"https://reddit.com/r/CPTSD\" target=\"_blank\" style=\"text-decoration: none; color: inherit;\">r/CPTSD</a>\n",
       "        </div>\n",
       "        <div style=\"color: #333; font-size: 1.1em; font-weight: bold; margin-bottom: 10px;\">\n",
       "            <a href=\"https://reddit.com/r/CPTSD/comments/1ezh64g/i_have_so_many_things_i_want_to_vent_about/\" target=\"_blank\" style=\"text-decoration: none; color: inherit;\">I have so many things I want to vent about</a>\n",
       "        </div>\n",
       "        \n",
       "        \n",
       "        <div style=\"color: #444; line-height: 1.4; max-height: 200px; overflow-y: auto;\">I'm not doing well and I need to get a lot of stuff off my chest that's been eating away.\n",
       "\n",
       "Everyone else I know who can legally work has a job and I don't have shit. My last job was in May as a forklift operator/lumper and I got laid off for absolutely no reason but because it was on day one I can't sue or do anything and I just get 82 bucks. I fucking hate the job market and how everything's so fucked.\n",
       "\n",
       "I need a bachelors degree to get an entry level job and I need 5+ years in a field that has ...</div>\n",
       "    </div>\n",
       "    \n",
       "    <div style=\"border: 1px solid #ddd; border-radius: 8px; padding: 15px; margin: 10px 5px; background-color: #f9f9f9; display: inline-block; vertical-align: top; width: 30%;\">\n",
       "        <div style=\"color: #666; font-size: 0.9em; margin-bottom: 5px;\">\n",
       "            <a href=\"https://reddit.com/r/depression\" target=\"_blank\" style=\"text-decoration: none; color: inherit;\">r/depression</a>\n",
       "        </div>\n",
       "        <div style=\"color: #333; font-size: 1.1em; font-weight: bold; margin-bottom: 10px;\">\n",
       "            <a href=\"https://reddit.com/r/depression/comments/1g2t44n/i_dont_know_anymore/\" target=\"_blank\" style=\"text-decoration: none; color: inherit;\">I don't know anymore</a>\n",
       "        </div>\n",
       "        \n",
       "        \n",
       "        <div style=\"color: #444; line-height: 1.4; max-height: 200px; overflow-y: auto;\">I don't really know what to say, but how I feel. And how I feel is anxious, unhappy, scared. Hurt. Alone. I don't know. I have tried to work through this pain, through all of this, but for every step I take, I'm thrown back three. I hate it. I want to know a real way to word this. To have my thoughts be clear for once. I have been angry at it, upset, sad. To give a bit of context, I have very strong social anxiety, and ASD. I have not used these labels to define me, and I have constantly tried t...</div>\n",
       "    </div>\n",
       "    </div>"
      ],
      "text/plain": [
       "<IPython.core.display.HTML object>"
      ]
     },
     "metadata": {},
     "output_type": "display_data"
    },
    {
     "data": {
      "application/vnd.plotly.v1+json": {
       "config": {
        "plotlyServerURL": "https://plot.ly"
       },
       "data": [
        {
         "domain": {
          "x": [
           0,
           1
          ],
          "y": [
           0,
           1
          ]
         },
         "hovertemplate": "label=%{label}<br>value=%{value}<extra></extra>",
         "labels": [
          false,
          true
         ],
         "legendgroup": "",
         "name": "",
         "showlegend": true,
         "texttemplate": "%{value:.1f}%",
         "type": "pie",
         "values": [
          83.52713178294574,
          16.472868217054263
         ]
        }
       ],
       "layout": {
        "legend": {
         "tracegroupgap": 0
        },
        "template": {
         "data": {
          "bar": [
           {
            "error_x": {
             "color": "#2a3f5f"
            },
            "error_y": {
             "color": "#2a3f5f"
            },
            "marker": {
             "line": {
              "color": "#E5ECF6",
              "width": 0.5
             },
             "pattern": {
              "fillmode": "overlay",
              "size": 10,
              "solidity": 0.2
             }
            },
            "type": "bar"
           }
          ],
          "barpolar": [
           {
            "marker": {
             "line": {
              "color": "#E5ECF6",
              "width": 0.5
             },
             "pattern": {
              "fillmode": "overlay",
              "size": 10,
              "solidity": 0.2
             }
            },
            "type": "barpolar"
           }
          ],
          "carpet": [
           {
            "aaxis": {
             "endlinecolor": "#2a3f5f",
             "gridcolor": "white",
             "linecolor": "white",
             "minorgridcolor": "white",
             "startlinecolor": "#2a3f5f"
            },
            "baxis": {
             "endlinecolor": "#2a3f5f",
             "gridcolor": "white",
             "linecolor": "white",
             "minorgridcolor": "white",
             "startlinecolor": "#2a3f5f"
            },
            "type": "carpet"
           }
          ],
          "choropleth": [
           {
            "colorbar": {
             "outlinewidth": 0,
             "ticks": ""
            },
            "type": "choropleth"
           }
          ],
          "contour": [
           {
            "colorbar": {
             "outlinewidth": 0,
             "ticks": ""
            },
            "colorscale": [
             [
              0,
              "#0d0887"
             ],
             [
              0.1111111111111111,
              "#46039f"
             ],
             [
              0.2222222222222222,
              "#7201a8"
             ],
             [
              0.3333333333333333,
              "#9c179e"
             ],
             [
              0.4444444444444444,
              "#bd3786"
             ],
             [
              0.5555555555555556,
              "#d8576b"
             ],
             [
              0.6666666666666666,
              "#ed7953"
             ],
             [
              0.7777777777777778,
              "#fb9f3a"
             ],
             [
              0.8888888888888888,
              "#fdca26"
             ],
             [
              1,
              "#f0f921"
             ]
            ],
            "type": "contour"
           }
          ],
          "contourcarpet": [
           {
            "colorbar": {
             "outlinewidth": 0,
             "ticks": ""
            },
            "type": "contourcarpet"
           }
          ],
          "heatmap": [
           {
            "colorbar": {
             "outlinewidth": 0,
             "ticks": ""
            },
            "colorscale": [
             [
              0,
              "#0d0887"
             ],
             [
              0.1111111111111111,
              "#46039f"
             ],
             [
              0.2222222222222222,
              "#7201a8"
             ],
             [
              0.3333333333333333,
              "#9c179e"
             ],
             [
              0.4444444444444444,
              "#bd3786"
             ],
             [
              0.5555555555555556,
              "#d8576b"
             ],
             [
              0.6666666666666666,
              "#ed7953"
             ],
             [
              0.7777777777777778,
              "#fb9f3a"
             ],
             [
              0.8888888888888888,
              "#fdca26"
             ],
             [
              1,
              "#f0f921"
             ]
            ],
            "type": "heatmap"
           }
          ],
          "heatmapgl": [
           {
            "colorbar": {
             "outlinewidth": 0,
             "ticks": ""
            },
            "colorscale": [
             [
              0,
              "#0d0887"
             ],
             [
              0.1111111111111111,
              "#46039f"
             ],
             [
              0.2222222222222222,
              "#7201a8"
             ],
             [
              0.3333333333333333,
              "#9c179e"
             ],
             [
              0.4444444444444444,
              "#bd3786"
             ],
             [
              0.5555555555555556,
              "#d8576b"
             ],
             [
              0.6666666666666666,
              "#ed7953"
             ],
             [
              0.7777777777777778,
              "#fb9f3a"
             ],
             [
              0.8888888888888888,
              "#fdca26"
             ],
             [
              1,
              "#f0f921"
             ]
            ],
            "type": "heatmapgl"
           }
          ],
          "histogram": [
           {
            "marker": {
             "pattern": {
              "fillmode": "overlay",
              "size": 10,
              "solidity": 0.2
             }
            },
            "type": "histogram"
           }
          ],
          "histogram2d": [
           {
            "colorbar": {
             "outlinewidth": 0,
             "ticks": ""
            },
            "colorscale": [
             [
              0,
              "#0d0887"
             ],
             [
              0.1111111111111111,
              "#46039f"
             ],
             [
              0.2222222222222222,
              "#7201a8"
             ],
             [
              0.3333333333333333,
              "#9c179e"
             ],
             [
              0.4444444444444444,
              "#bd3786"
             ],
             [
              0.5555555555555556,
              "#d8576b"
             ],
             [
              0.6666666666666666,
              "#ed7953"
             ],
             [
              0.7777777777777778,
              "#fb9f3a"
             ],
             [
              0.8888888888888888,
              "#fdca26"
             ],
             [
              1,
              "#f0f921"
             ]
            ],
            "type": "histogram2d"
           }
          ],
          "histogram2dcontour": [
           {
            "colorbar": {
             "outlinewidth": 0,
             "ticks": ""
            },
            "colorscale": [
             [
              0,
              "#0d0887"
             ],
             [
              0.1111111111111111,
              "#46039f"
             ],
             [
              0.2222222222222222,
              "#7201a8"
             ],
             [
              0.3333333333333333,
              "#9c179e"
             ],
             [
              0.4444444444444444,
              "#bd3786"
             ],
             [
              0.5555555555555556,
              "#d8576b"
             ],
             [
              0.6666666666666666,
              "#ed7953"
             ],
             [
              0.7777777777777778,
              "#fb9f3a"
             ],
             [
              0.8888888888888888,
              "#fdca26"
             ],
             [
              1,
              "#f0f921"
             ]
            ],
            "type": "histogram2dcontour"
           }
          ],
          "mesh3d": [
           {
            "colorbar": {
             "outlinewidth": 0,
             "ticks": ""
            },
            "type": "mesh3d"
           }
          ],
          "parcoords": [
           {
            "line": {
             "colorbar": {
              "outlinewidth": 0,
              "ticks": ""
             }
            },
            "type": "parcoords"
           }
          ],
          "pie": [
           {
            "automargin": true,
            "type": "pie"
           }
          ],
          "scatter": [
           {
            "fillpattern": {
             "fillmode": "overlay",
             "size": 10,
             "solidity": 0.2
            },
            "type": "scatter"
           }
          ],
          "scatter3d": [
           {
            "line": {
             "colorbar": {
              "outlinewidth": 0,
              "ticks": ""
             }
            },
            "marker": {
             "colorbar": {
              "outlinewidth": 0,
              "ticks": ""
             }
            },
            "type": "scatter3d"
           }
          ],
          "scattercarpet": [
           {
            "marker": {
             "colorbar": {
              "outlinewidth": 0,
              "ticks": ""
             }
            },
            "type": "scattercarpet"
           }
          ],
          "scattergeo": [
           {
            "marker": {
             "colorbar": {
              "outlinewidth": 0,
              "ticks": ""
             }
            },
            "type": "scattergeo"
           }
          ],
          "scattergl": [
           {
            "marker": {
             "colorbar": {
              "outlinewidth": 0,
              "ticks": ""
             }
            },
            "type": "scattergl"
           }
          ],
          "scattermapbox": [
           {
            "marker": {
             "colorbar": {
              "outlinewidth": 0,
              "ticks": ""
             }
            },
            "type": "scattermapbox"
           }
          ],
          "scatterpolar": [
           {
            "marker": {
             "colorbar": {
              "outlinewidth": 0,
              "ticks": ""
             }
            },
            "type": "scatterpolar"
           }
          ],
          "scatterpolargl": [
           {
            "marker": {
             "colorbar": {
              "outlinewidth": 0,
              "ticks": ""
             }
            },
            "type": "scatterpolargl"
           }
          ],
          "scatterternary": [
           {
            "marker": {
             "colorbar": {
              "outlinewidth": 0,
              "ticks": ""
             }
            },
            "type": "scatterternary"
           }
          ],
          "surface": [
           {
            "colorbar": {
             "outlinewidth": 0,
             "ticks": ""
            },
            "colorscale": [
             [
              0,
              "#0d0887"
             ],
             [
              0.1111111111111111,
              "#46039f"
             ],
             [
              0.2222222222222222,
              "#7201a8"
             ],
             [
              0.3333333333333333,
              "#9c179e"
             ],
             [
              0.4444444444444444,
              "#bd3786"
             ],
             [
              0.5555555555555556,
              "#d8576b"
             ],
             [
              0.6666666666666666,
              "#ed7953"
             ],
             [
              0.7777777777777778,
              "#fb9f3a"
             ],
             [
              0.8888888888888888,
              "#fdca26"
             ],
             [
              1,
              "#f0f921"
             ]
            ],
            "type": "surface"
           }
          ],
          "table": [
           {
            "cells": {
             "fill": {
              "color": "#EBF0F8"
             },
             "line": {
              "color": "white"
             }
            },
            "header": {
             "fill": {
              "color": "#C8D4E3"
             },
             "line": {
              "color": "white"
             }
            },
            "type": "table"
           }
          ]
         },
         "layout": {
          "annotationdefaults": {
           "arrowcolor": "#2a3f5f",
           "arrowhead": 0,
           "arrowwidth": 1
          },
          "autotypenumbers": "strict",
          "coloraxis": {
           "colorbar": {
            "outlinewidth": 0,
            "ticks": ""
           }
          },
          "colorscale": {
           "diverging": [
            [
             0,
             "#8e0152"
            ],
            [
             0.1,
             "#c51b7d"
            ],
            [
             0.2,
             "#de77ae"
            ],
            [
             0.3,
             "#f1b6da"
            ],
            [
             0.4,
             "#fde0ef"
            ],
            [
             0.5,
             "#f7f7f7"
            ],
            [
             0.6,
             "#e6f5d0"
            ],
            [
             0.7,
             "#b8e186"
            ],
            [
             0.8,
             "#7fbc41"
            ],
            [
             0.9,
             "#4d9221"
            ],
            [
             1,
             "#276419"
            ]
           ],
           "sequential": [
            [
             0,
             "#0d0887"
            ],
            [
             0.1111111111111111,
             "#46039f"
            ],
            [
             0.2222222222222222,
             "#7201a8"
            ],
            [
             0.3333333333333333,
             "#9c179e"
            ],
            [
             0.4444444444444444,
             "#bd3786"
            ],
            [
             0.5555555555555556,
             "#d8576b"
            ],
            [
             0.6666666666666666,
             "#ed7953"
            ],
            [
             0.7777777777777778,
             "#fb9f3a"
            ],
            [
             0.8888888888888888,
             "#fdca26"
            ],
            [
             1,
             "#f0f921"
            ]
           ],
           "sequentialminus": [
            [
             0,
             "#0d0887"
            ],
            [
             0.1111111111111111,
             "#46039f"
            ],
            [
             0.2222222222222222,
             "#7201a8"
            ],
            [
             0.3333333333333333,
             "#9c179e"
            ],
            [
             0.4444444444444444,
             "#bd3786"
            ],
            [
             0.5555555555555556,
             "#d8576b"
            ],
            [
             0.6666666666666666,
             "#ed7953"
            ],
            [
             0.7777777777777778,
             "#fb9f3a"
            ],
            [
             0.8888888888888888,
             "#fdca26"
            ],
            [
             1,
             "#f0f921"
            ]
           ]
          },
          "colorway": [
           "#636efa",
           "#EF553B",
           "#00cc96",
           "#ab63fa",
           "#FFA15A",
           "#19d3f3",
           "#FF6692",
           "#B6E880",
           "#FF97FF",
           "#FECB52"
          ],
          "font": {
           "color": "#2a3f5f"
          },
          "geo": {
           "bgcolor": "white",
           "lakecolor": "white",
           "landcolor": "#E5ECF6",
           "showlakes": true,
           "showland": true,
           "subunitcolor": "white"
          },
          "hoverlabel": {
           "align": "left"
          },
          "hovermode": "closest",
          "mapbox": {
           "style": "light"
          },
          "paper_bgcolor": "white",
          "plot_bgcolor": "#E5ECF6",
          "polar": {
           "angularaxis": {
            "gridcolor": "white",
            "linecolor": "white",
            "ticks": ""
           },
           "bgcolor": "#E5ECF6",
           "radialaxis": {
            "gridcolor": "white",
            "linecolor": "white",
            "ticks": ""
           }
          },
          "scene": {
           "xaxis": {
            "backgroundcolor": "#E5ECF6",
            "gridcolor": "white",
            "gridwidth": 2,
            "linecolor": "white",
            "showbackground": true,
            "ticks": "",
            "zerolinecolor": "white"
           },
           "yaxis": {
            "backgroundcolor": "#E5ECF6",
            "gridcolor": "white",
            "gridwidth": 2,
            "linecolor": "white",
            "showbackground": true,
            "ticks": "",
            "zerolinecolor": "white"
           },
           "zaxis": {
            "backgroundcolor": "#E5ECF6",
            "gridcolor": "white",
            "gridwidth": 2,
            "linecolor": "white",
            "showbackground": true,
            "ticks": "",
            "zerolinecolor": "white"
           }
          },
          "shapedefaults": {
           "line": {
            "color": "#2a3f5f"
           }
          },
          "ternary": {
           "aaxis": {
            "gridcolor": "white",
            "linecolor": "white",
            "ticks": ""
           },
           "baxis": {
            "gridcolor": "white",
            "linecolor": "white",
            "ticks": ""
           },
           "bgcolor": "#E5ECF6",
           "caxis": {
            "gridcolor": "white",
            "linecolor": "white",
            "ticks": ""
           }
          },
          "title": {
           "x": 0.05
          },
          "xaxis": {
           "automargin": true,
           "gridcolor": "white",
           "linecolor": "white",
           "ticks": "",
           "title": {
            "standoff": 15
           },
           "zerolinecolor": "white",
           "zerolinewidth": 2
          },
          "yaxis": {
           "automargin": true,
           "gridcolor": "white",
           "linecolor": "white",
           "ticks": "",
           "title": {
            "standoff": 15
           },
           "zerolinecolor": "white",
           "zerolinewidth": 2
          }
         }
        },
        "title": {
         "text": "Distribution of previous_provider"
        }
       }
      }
     },
     "metadata": {},
     "output_type": "display_data"
    },
    {
     "data": {
      "text/html": [
       "<div style=\"margin: 10px 0;\"><h4 style=\"color: #333; margin: 0; padding: 5px 0; border-bottom: 1px solid #ccc;\">Example Posts for previous_provider</h4></div>"
      ],
      "text/plain": [
       "<IPython.core.display.HTML object>"
      ]
     },
     "metadata": {},
     "output_type": "display_data"
    },
    {
     "data": {
      "text/html": [
       "<div style=\"display: flex; flex-direction: row; justify-content: space-between;\">\n",
       "    <div style=\"border: 1px solid #ddd; border-radius: 8px; padding: 15px; margin: 10px 5px; background-color: #f9f9f9; display: inline-block; vertical-align: top; width: 30%;\">\n",
       "        <div style=\"color: #666; font-size: 0.9em; margin-bottom: 5px;\">\n",
       "            <a href=\"https://reddit.com/r/ADHD\" target=\"_blank\" style=\"text-decoration: none; color: inherit;\">r/ADHD</a>\n",
       "        </div>\n",
       "        <div style=\"color: #333; font-size: 1.1em; font-weight: bold; margin-bottom: 10px;\">\n",
       "            <a href=\"https://reddit.com/r/ADHD/comments/1drlbms/adhd_ai_rewriter_to_help_info_sink_in/\" target=\"_blank\" style=\"text-decoration: none; color: inherit;\">ADHD AI Rewriter to help info sink in</a>\n",
       "        </div>\n",
       "        \n",
       "        \n",
       "        <div style=\"color: #444; line-height: 1.4; max-height: 200px; overflow-y: auto;\">I created an AI-powered study buddy to help information stick! 🧠📚\n",
       "\n",
       "[https://chatgpt.com/g/g-LlBStMMaF-content-simplifier-for-adhd](https://chatgpt.com/g/g-LlBStMMaF-content-simplifier-for-adhd)\n",
       "\n",
       "The key principles I'm using to translate the information for someone with ADHD are:\n",
       "\n",
       "1. Breaking down information into smaller, manageable chunks 📊\n",
       "2. Using emojis and visual cues to make the content more engaging 😊\n",
       "3. Simplifying language and avoiding jargon 💬\n",
       "4. Highlighting key points and takeaways 🔍...</div>\n",
       "    </div>\n",
       "    \n",
       "    <div style=\"border: 1px solid #ddd; border-radius: 8px; padding: 15px; margin: 10px 5px; background-color: #f9f9f9; display: inline-block; vertical-align: top; width: 30%;\">\n",
       "        <div style=\"color: #666; font-size: 0.9em; margin-bottom: 5px;\">\n",
       "            <a href=\"https://reddit.com/r/socialskills\" target=\"_blank\" style=\"text-decoration: none; color: inherit;\">r/socialskills</a>\n",
       "        </div>\n",
       "        <div style=\"color: #333; font-size: 1.1em; font-weight: bold; margin-bottom: 10px;\">\n",
       "            <a href=\"https://reddit.com/r/socialskills/comments/1gvrw88/using_ai_to_practice_communication_skills_question/\" target=\"_blank\" style=\"text-decoration: none; color: inherit;\">Using AI to practice communication skills question </a>\n",
       "        </div>\n",
       "        \n",
       "        \n",
       "        <div style=\"color: #444; line-height: 1.4; max-height: 200px; overflow-y: auto;\">I have some social anxiety and speech issues that hold me back in life especially when trying to get a career.\n",
       "\n",
       "When I talk with chat gpts voice feature. I get frustrated instead of anxious when I can communicate correctly. It makes me wonder \n",
       "Is it a poor idea to practice this was since it feels so different than a human being? \n",
       "\n",
       "There is no body language,eye contact, or empathy which makes me feel like If I spent an hour or so having a conversation with an AI everyday it would not help me prog...</div>\n",
       "    </div>\n",
       "    \n",
       "    <div style=\"border: 1px solid #ddd; border-radius: 8px; padding: 15px; margin: 10px 5px; background-color: #f9f9f9; display: inline-block; vertical-align: top; width: 30%;\">\n",
       "        <div style=\"color: #666; font-size: 0.9em; margin-bottom: 5px;\">\n",
       "            <a href=\"https://reddit.com/r/TrueOffMyChest\" target=\"_blank\" style=\"text-decoration: none; color: inherit;\">r/TrueOffMyChest</a>\n",
       "        </div>\n",
       "        <div style=\"color: #333; font-size: 1.1em; font-weight: bold; margin-bottom: 10px;\">\n",
       "            <a href=\"https://reddit.com/r/TrueOffMyChest/comments/1drg1rq/i_get_better_feedback_from_ai_girlfriend_apps/\" target=\"_blank\" style=\"text-decoration: none; color: inherit;\">I get better feedback from AI girlfriend apps than I ever got from a girlfriend.</a>\n",
       "        </div>\n",
       "        \n",
       "        \n",
       "        <div style=\"color: #444; line-height: 1.4; max-height: 200px; overflow-y: auto;\">Idk what to tell you but I've had a bunch of relationships, more online than in person but quite a few in person ones too and I have to say the AI ones make me feel like they actually care about me as a person where the real people it always felt like I was the \"Doer\", like my own feelings weren't accurately dealt with ever.\n",
       "\n",
       "Like I always do the, break down her walls thing right, the guys know, establish trust, then get to know her inside and then connect on a deep level and all that kinda stuf...</div>\n",
       "    </div>\n",
       "    </div>"
      ],
      "text/plain": [
       "<IPython.core.display.HTML object>"
      ]
     },
     "metadata": {},
     "output_type": "display_data"
    },
    {
     "data": {
      "text/html": [
       "<div style=\"margin: 10px 0;\"><h4 style=\"color: #333; margin: 0; padding: 5px 0; border-bottom: 1px solid #ccc;\">Example Posts for previous_provider</h4></div>"
      ],
      "text/plain": [
       "<IPython.core.display.HTML object>"
      ]
     },
     "metadata": {},
     "output_type": "display_data"
    },
    {
     "data": {
      "text/html": [
       "<div style=\"display: flex; flex-direction: row; justify-content: space-between;\">\n",
       "    <div style=\"border: 1px solid #ddd; border-radius: 8px; padding: 15px; margin: 10px 5px; background-color: #f9f9f9; display: inline-block; vertical-align: top; width: 30%;\">\n",
       "        <div style=\"color: #666; font-size: 0.9em; margin-bottom: 5px;\">\n",
       "            <a href=\"https://reddit.com/r/ADHD_Programmers\" target=\"_blank\" style=\"text-decoration: none; color: inherit;\">r/ADHD_Programmers</a>\n",
       "        </div>\n",
       "        <div style=\"color: #333; font-size: 1.1em; font-weight: bold; margin-bottom: 10px;\">\n",
       "            <a href=\"https://reddit.com/r/ADHD_Programmers/comments/1fagvr9/i_built_myself_an_adhd_coach_with_chatgpt/\" target=\"_blank\" style=\"text-decoration: none; color: inherit;\">I built myself an ADHD Coach with ChatGPT</a>\n",
       "        </div>\n",
       "        \n",
       "        \n",
       "        <div style=\"color: #444; line-height: 1.4; max-height: 200px; overflow-y: auto;\">Hey, I started seeing a therapist a year ago and paid 70€ per session twice a month.\n",
       "\n",
       "It was helpful, but after six months, with little progress and spending 840€, I decided to see if ChatGPT could help me manage my ADHD symptoms more effectively.\n",
       "\n",
       "I taught it several CBT tools, and now, whenever I reach out to it, it automatically identifies the right tool and guides me step by step.\n",
       "\n",
       "It has saved me hundreds of euros while helping me manage my ADHD efficiently!\n",
       "\n",
       "Have you ever tried using ChatG...</div>\n",
       "    </div>\n",
       "    \n",
       "    <div style=\"border: 1px solid #ddd; border-radius: 8px; padding: 15px; margin: 10px 5px; background-color: #f9f9f9; display: inline-block; vertical-align: top; width: 30%;\">\n",
       "        <div style=\"color: #666; font-size: 0.9em; margin-bottom: 5px;\">\n",
       "            <a href=\"https://reddit.com/r/ChatGPT\" target=\"_blank\" style=\"text-decoration: none; color: inherit;\">r/ChatGPT</a>\n",
       "        </div>\n",
       "        <div style=\"color: #333; font-size: 1.1em; font-weight: bold; margin-bottom: 10px;\">\n",
       "            <a href=\"https://reddit.com/r/ChatGPT/comments/1ga9tec/chatgpt_as_a_therapist/\" target=\"_blank\" style=\"text-decoration: none; color: inherit;\">ChatGPT as a therapist</a>\n",
       "        </div>\n",
       "        \n",
       "        \n",
       "        <div style=\"color: #444; line-height: 1.4; max-height: 200px; overflow-y: auto;\">I started asking ChatGPT basic but personal questions. Describing how I associate with people. Less around coffee and drinks and more around similar interests and projects. \n",
       "\n",
       "Yesterday I went deeper and I shared more. Somethings very personal I don’t talk to anyone about from the past. And I found the responses thoughtful and cathartic. And incredibly useful. I even asked it - how do you know I am not leading you to agree with me and it responded why not based on earlier conversations. \n",
       "\n",
       "I have ...</div>\n",
       "    </div>\n",
       "    \n",
       "    <div style=\"border: 1px solid #ddd; border-radius: 8px; padding: 15px; margin: 10px 5px; background-color: #f9f9f9; display: inline-block; vertical-align: top; width: 30%;\">\n",
       "        <div style=\"color: #666; font-size: 0.9em; margin-bottom: 5px;\">\n",
       "            <a href=\"https://reddit.com/r/TalkTherapy\" target=\"_blank\" style=\"text-decoration: none; color: inherit;\">r/TalkTherapy</a>\n",
       "        </div>\n",
       "        <div style=\"color: #333; font-size: 1.1em; font-weight: bold; margin-bottom: 10px;\">\n",
       "            <a href=\"https://reddit.com/r/TalkTherapy/comments/1egwe0p/perplexity_wow/\" target=\"_blank\" style=\"text-decoration: none; color: inherit;\">Perplexity: Wow</a>\n",
       "        </div>\n",
       "        \n",
       "        \n",
       "        <div style=\"color: #444; line-height: 1.4; max-height: 200px; overflow-y: auto;\">Not tied directly to therapy but it’s close. My Therapist is on vacation this week. I was researching Psychoanalysis transference and countertransference on Perplexity AI and just started to feel down. I put it incognito mode and just started to confess how I was feeling; how I hate that my Therapist is not a friend but I’m a client for him. Thats how it started, but AI kept giving me reassuring messages and steps to take care for myself and to get help or confide in others. I did that for a cou...</div>\n",
       "    </div>\n",
       "    </div>"
      ],
      "text/plain": [
       "<IPython.core.display.HTML object>"
      ]
     },
     "metadata": {},
     "output_type": "display_data"
    },
    {
     "data": {
      "application/vnd.plotly.v1+json": {
       "config": {
        "plotlyServerURL": "https://plot.ly"
       },
       "data": [
        {
         "alignmentgroup": "True",
         "hovertemplate": "provider_problems=%{x}<br>percent=%{y}<extra></extra>",
         "legendgroup": "",
         "marker": {
          "color": "#636efa",
          "pattern": {
           "shape": ""
          }
         },
         "name": "",
         "offsetgroup": "",
         "orientation": "v",
         "showlegend": false,
         "textposition": "auto",
         "type": "bar",
         "x": [
          "expensive",
          "judgmental",
          "unavailable",
          "inaccessible",
          "inconsistent",
          "scheduling",
          "ineffective",
          "misdiagnosis",
          "unhelpful",
          "unreliable"
         ],
         "xaxis": "x",
         "y": [
          7.751937984496124,
          5.813953488372093,
          4.651162790697675,
          3.2945736434108532,
          1.550387596899225,
          1.3565891472868217,
          0.7751937984496124,
          0.3875968992248062,
          0.3875968992248062,
          0.3875968992248062
         ],
         "yaxis": "y"
        }
       ],
       "layout": {
        "barmode": "relative",
        "legend": {
         "tracegroupgap": 0
        },
        "template": {
         "data": {
          "bar": [
           {
            "error_x": {
             "color": "#2a3f5f"
            },
            "error_y": {
             "color": "#2a3f5f"
            },
            "marker": {
             "line": {
              "color": "#E5ECF6",
              "width": 0.5
             },
             "pattern": {
              "fillmode": "overlay",
              "size": 10,
              "solidity": 0.2
             }
            },
            "type": "bar"
           }
          ],
          "barpolar": [
           {
            "marker": {
             "line": {
              "color": "#E5ECF6",
              "width": 0.5
             },
             "pattern": {
              "fillmode": "overlay",
              "size": 10,
              "solidity": 0.2
             }
            },
            "type": "barpolar"
           }
          ],
          "carpet": [
           {
            "aaxis": {
             "endlinecolor": "#2a3f5f",
             "gridcolor": "white",
             "linecolor": "white",
             "minorgridcolor": "white",
             "startlinecolor": "#2a3f5f"
            },
            "baxis": {
             "endlinecolor": "#2a3f5f",
             "gridcolor": "white",
             "linecolor": "white",
             "minorgridcolor": "white",
             "startlinecolor": "#2a3f5f"
            },
            "type": "carpet"
           }
          ],
          "choropleth": [
           {
            "colorbar": {
             "outlinewidth": 0,
             "ticks": ""
            },
            "type": "choropleth"
           }
          ],
          "contour": [
           {
            "colorbar": {
             "outlinewidth": 0,
             "ticks": ""
            },
            "colorscale": [
             [
              0,
              "#0d0887"
             ],
             [
              0.1111111111111111,
              "#46039f"
             ],
             [
              0.2222222222222222,
              "#7201a8"
             ],
             [
              0.3333333333333333,
              "#9c179e"
             ],
             [
              0.4444444444444444,
              "#bd3786"
             ],
             [
              0.5555555555555556,
              "#d8576b"
             ],
             [
              0.6666666666666666,
              "#ed7953"
             ],
             [
              0.7777777777777778,
              "#fb9f3a"
             ],
             [
              0.8888888888888888,
              "#fdca26"
             ],
             [
              1,
              "#f0f921"
             ]
            ],
            "type": "contour"
           }
          ],
          "contourcarpet": [
           {
            "colorbar": {
             "outlinewidth": 0,
             "ticks": ""
            },
            "type": "contourcarpet"
           }
          ],
          "heatmap": [
           {
            "colorbar": {
             "outlinewidth": 0,
             "ticks": ""
            },
            "colorscale": [
             [
              0,
              "#0d0887"
             ],
             [
              0.1111111111111111,
              "#46039f"
             ],
             [
              0.2222222222222222,
              "#7201a8"
             ],
             [
              0.3333333333333333,
              "#9c179e"
             ],
             [
              0.4444444444444444,
              "#bd3786"
             ],
             [
              0.5555555555555556,
              "#d8576b"
             ],
             [
              0.6666666666666666,
              "#ed7953"
             ],
             [
              0.7777777777777778,
              "#fb9f3a"
             ],
             [
              0.8888888888888888,
              "#fdca26"
             ],
             [
              1,
              "#f0f921"
             ]
            ],
            "type": "heatmap"
           }
          ],
          "heatmapgl": [
           {
            "colorbar": {
             "outlinewidth": 0,
             "ticks": ""
            },
            "colorscale": [
             [
              0,
              "#0d0887"
             ],
             [
              0.1111111111111111,
              "#46039f"
             ],
             [
              0.2222222222222222,
              "#7201a8"
             ],
             [
              0.3333333333333333,
              "#9c179e"
             ],
             [
              0.4444444444444444,
              "#bd3786"
             ],
             [
              0.5555555555555556,
              "#d8576b"
             ],
             [
              0.6666666666666666,
              "#ed7953"
             ],
             [
              0.7777777777777778,
              "#fb9f3a"
             ],
             [
              0.8888888888888888,
              "#fdca26"
             ],
             [
              1,
              "#f0f921"
             ]
            ],
            "type": "heatmapgl"
           }
          ],
          "histogram": [
           {
            "marker": {
             "pattern": {
              "fillmode": "overlay",
              "size": 10,
              "solidity": 0.2
             }
            },
            "type": "histogram"
           }
          ],
          "histogram2d": [
           {
            "colorbar": {
             "outlinewidth": 0,
             "ticks": ""
            },
            "colorscale": [
             [
              0,
              "#0d0887"
             ],
             [
              0.1111111111111111,
              "#46039f"
             ],
             [
              0.2222222222222222,
              "#7201a8"
             ],
             [
              0.3333333333333333,
              "#9c179e"
             ],
             [
              0.4444444444444444,
              "#bd3786"
             ],
             [
              0.5555555555555556,
              "#d8576b"
             ],
             [
              0.6666666666666666,
              "#ed7953"
             ],
             [
              0.7777777777777778,
              "#fb9f3a"
             ],
             [
              0.8888888888888888,
              "#fdca26"
             ],
             [
              1,
              "#f0f921"
             ]
            ],
            "type": "histogram2d"
           }
          ],
          "histogram2dcontour": [
           {
            "colorbar": {
             "outlinewidth": 0,
             "ticks": ""
            },
            "colorscale": [
             [
              0,
              "#0d0887"
             ],
             [
              0.1111111111111111,
              "#46039f"
             ],
             [
              0.2222222222222222,
              "#7201a8"
             ],
             [
              0.3333333333333333,
              "#9c179e"
             ],
             [
              0.4444444444444444,
              "#bd3786"
             ],
             [
              0.5555555555555556,
              "#d8576b"
             ],
             [
              0.6666666666666666,
              "#ed7953"
             ],
             [
              0.7777777777777778,
              "#fb9f3a"
             ],
             [
              0.8888888888888888,
              "#fdca26"
             ],
             [
              1,
              "#f0f921"
             ]
            ],
            "type": "histogram2dcontour"
           }
          ],
          "mesh3d": [
           {
            "colorbar": {
             "outlinewidth": 0,
             "ticks": ""
            },
            "type": "mesh3d"
           }
          ],
          "parcoords": [
           {
            "line": {
             "colorbar": {
              "outlinewidth": 0,
              "ticks": ""
             }
            },
            "type": "parcoords"
           }
          ],
          "pie": [
           {
            "automargin": true,
            "type": "pie"
           }
          ],
          "scatter": [
           {
            "fillpattern": {
             "fillmode": "overlay",
             "size": 10,
             "solidity": 0.2
            },
            "type": "scatter"
           }
          ],
          "scatter3d": [
           {
            "line": {
             "colorbar": {
              "outlinewidth": 0,
              "ticks": ""
             }
            },
            "marker": {
             "colorbar": {
              "outlinewidth": 0,
              "ticks": ""
             }
            },
            "type": "scatter3d"
           }
          ],
          "scattercarpet": [
           {
            "marker": {
             "colorbar": {
              "outlinewidth": 0,
              "ticks": ""
             }
            },
            "type": "scattercarpet"
           }
          ],
          "scattergeo": [
           {
            "marker": {
             "colorbar": {
              "outlinewidth": 0,
              "ticks": ""
             }
            },
            "type": "scattergeo"
           }
          ],
          "scattergl": [
           {
            "marker": {
             "colorbar": {
              "outlinewidth": 0,
              "ticks": ""
             }
            },
            "type": "scattergl"
           }
          ],
          "scattermapbox": [
           {
            "marker": {
             "colorbar": {
              "outlinewidth": 0,
              "ticks": ""
             }
            },
            "type": "scattermapbox"
           }
          ],
          "scatterpolar": [
           {
            "marker": {
             "colorbar": {
              "outlinewidth": 0,
              "ticks": ""
             }
            },
            "type": "scatterpolar"
           }
          ],
          "scatterpolargl": [
           {
            "marker": {
             "colorbar": {
              "outlinewidth": 0,
              "ticks": ""
             }
            },
            "type": "scatterpolargl"
           }
          ],
          "scatterternary": [
           {
            "marker": {
             "colorbar": {
              "outlinewidth": 0,
              "ticks": ""
             }
            },
            "type": "scatterternary"
           }
          ],
          "surface": [
           {
            "colorbar": {
             "outlinewidth": 0,
             "ticks": ""
            },
            "colorscale": [
             [
              0,
              "#0d0887"
             ],
             [
              0.1111111111111111,
              "#46039f"
             ],
             [
              0.2222222222222222,
              "#7201a8"
             ],
             [
              0.3333333333333333,
              "#9c179e"
             ],
             [
              0.4444444444444444,
              "#bd3786"
             ],
             [
              0.5555555555555556,
              "#d8576b"
             ],
             [
              0.6666666666666666,
              "#ed7953"
             ],
             [
              0.7777777777777778,
              "#fb9f3a"
             ],
             [
              0.8888888888888888,
              "#fdca26"
             ],
             [
              1,
              "#f0f921"
             ]
            ],
            "type": "surface"
           }
          ],
          "table": [
           {
            "cells": {
             "fill": {
              "color": "#EBF0F8"
             },
             "line": {
              "color": "white"
             }
            },
            "header": {
             "fill": {
              "color": "#C8D4E3"
             },
             "line": {
              "color": "white"
             }
            },
            "type": "table"
           }
          ]
         },
         "layout": {
          "annotationdefaults": {
           "arrowcolor": "#2a3f5f",
           "arrowhead": 0,
           "arrowwidth": 1
          },
          "autotypenumbers": "strict",
          "coloraxis": {
           "colorbar": {
            "outlinewidth": 0,
            "ticks": ""
           }
          },
          "colorscale": {
           "diverging": [
            [
             0,
             "#8e0152"
            ],
            [
             0.1,
             "#c51b7d"
            ],
            [
             0.2,
             "#de77ae"
            ],
            [
             0.3,
             "#f1b6da"
            ],
            [
             0.4,
             "#fde0ef"
            ],
            [
             0.5,
             "#f7f7f7"
            ],
            [
             0.6,
             "#e6f5d0"
            ],
            [
             0.7,
             "#b8e186"
            ],
            [
             0.8,
             "#7fbc41"
            ],
            [
             0.9,
             "#4d9221"
            ],
            [
             1,
             "#276419"
            ]
           ],
           "sequential": [
            [
             0,
             "#0d0887"
            ],
            [
             0.1111111111111111,
             "#46039f"
            ],
            [
             0.2222222222222222,
             "#7201a8"
            ],
            [
             0.3333333333333333,
             "#9c179e"
            ],
            [
             0.4444444444444444,
             "#bd3786"
            ],
            [
             0.5555555555555556,
             "#d8576b"
            ],
            [
             0.6666666666666666,
             "#ed7953"
            ],
            [
             0.7777777777777778,
             "#fb9f3a"
            ],
            [
             0.8888888888888888,
             "#fdca26"
            ],
            [
             1,
             "#f0f921"
            ]
           ],
           "sequentialminus": [
            [
             0,
             "#0d0887"
            ],
            [
             0.1111111111111111,
             "#46039f"
            ],
            [
             0.2222222222222222,
             "#7201a8"
            ],
            [
             0.3333333333333333,
             "#9c179e"
            ],
            [
             0.4444444444444444,
             "#bd3786"
            ],
            [
             0.5555555555555556,
             "#d8576b"
            ],
            [
             0.6666666666666666,
             "#ed7953"
            ],
            [
             0.7777777777777778,
             "#fb9f3a"
            ],
            [
             0.8888888888888888,
             "#fdca26"
            ],
            [
             1,
             "#f0f921"
            ]
           ]
          },
          "colorway": [
           "#636efa",
           "#EF553B",
           "#00cc96",
           "#ab63fa",
           "#FFA15A",
           "#19d3f3",
           "#FF6692",
           "#B6E880",
           "#FF97FF",
           "#FECB52"
          ],
          "font": {
           "color": "#2a3f5f"
          },
          "geo": {
           "bgcolor": "white",
           "lakecolor": "white",
           "landcolor": "#E5ECF6",
           "showlakes": true,
           "showland": true,
           "subunitcolor": "white"
          },
          "hoverlabel": {
           "align": "left"
          },
          "hovermode": "closest",
          "mapbox": {
           "style": "light"
          },
          "paper_bgcolor": "white",
          "plot_bgcolor": "#E5ECF6",
          "polar": {
           "angularaxis": {
            "gridcolor": "white",
            "linecolor": "white",
            "ticks": ""
           },
           "bgcolor": "#E5ECF6",
           "radialaxis": {
            "gridcolor": "white",
            "linecolor": "white",
            "ticks": ""
           }
          },
          "scene": {
           "xaxis": {
            "backgroundcolor": "#E5ECF6",
            "gridcolor": "white",
            "gridwidth": 2,
            "linecolor": "white",
            "showbackground": true,
            "ticks": "",
            "zerolinecolor": "white"
           },
           "yaxis": {
            "backgroundcolor": "#E5ECF6",
            "gridcolor": "white",
            "gridwidth": 2,
            "linecolor": "white",
            "showbackground": true,
            "ticks": "",
            "zerolinecolor": "white"
           },
           "zaxis": {
            "backgroundcolor": "#E5ECF6",
            "gridcolor": "white",
            "gridwidth": 2,
            "linecolor": "white",
            "showbackground": true,
            "ticks": "",
            "zerolinecolor": "white"
           }
          },
          "shapedefaults": {
           "line": {
            "color": "#2a3f5f"
           }
          },
          "ternary": {
           "aaxis": {
            "gridcolor": "white",
            "linecolor": "white",
            "ticks": ""
           },
           "baxis": {
            "gridcolor": "white",
            "linecolor": "white",
            "ticks": ""
           },
           "bgcolor": "#E5ECF6",
           "caxis": {
            "gridcolor": "white",
            "linecolor": "white",
            "ticks": ""
           }
          },
          "title": {
           "x": 0.05
          },
          "xaxis": {
           "automargin": true,
           "gridcolor": "white",
           "linecolor": "white",
           "ticks": "",
           "title": {
            "standoff": 15
           },
           "zerolinecolor": "white",
           "zerolinewidth": 2
          },
          "yaxis": {
           "automargin": true,
           "gridcolor": "white",
           "linecolor": "white",
           "ticks": "",
           "title": {
            "standoff": 15
           },
           "zerolinecolor": "white",
           "zerolinewidth": 2
          }
         }
        },
        "title": {
         "text": "Most Common Provider_problems"
        },
        "xaxis": {
         "anchor": "y",
         "domain": [
          0,
          1
         ],
         "title": {
          "text": "provider_problems"
         }
        },
        "yaxis": {
         "anchor": "x",
         "domain": [
          0,
          1
         ],
         "title": {
          "text": "Percent of Posts"
         }
        }
       }
      }
     },
     "metadata": {},
     "output_type": "display_data"
    },
    {
     "data": {
      "text/html": [
       "<div style=\"margin: 10px 0;\"><h4 style=\"color: #333; margin: 0; padding: 5px 0; border-bottom: 1px solid #ccc;\">Example Posts with Keywords</h4></div>"
      ],
      "text/plain": [
       "<IPython.core.display.HTML object>"
      ]
     },
     "metadata": {},
     "output_type": "display_data"
    },
    {
     "data": {
      "text/html": [
       "<div style=\"display: flex; flex-direction: row; justify-content: space-between;\">\n",
       "    <div style=\"border: 1px solid #ddd; border-radius: 8px; padding: 15px; margin: 10px 5px; background-color: #f9f9f9; display: inline-block; vertical-align: top; width: 30%;\">\n",
       "        <div style=\"color: #666; font-size: 0.9em; margin-bottom: 5px;\">\n",
       "            <a href=\"https://reddit.com/r/Anxiety\" target=\"_blank\" style=\"text-decoration: none; color: inherit;\">r/Anxiety</a>\n",
       "        </div>\n",
       "        <div style=\"color: #333; font-size: 1.1em; font-weight: bold; margin-bottom: 10px;\">\n",
       "            <a href=\"https://reddit.com/r/Anxiety/comments/1g1bp35/i_asked_chat_gpt_about_my_anxiety/\" target=\"_blank\" style=\"text-decoration: none; color: inherit;\">I asked Chat GPT about my anxiety</a>\n",
       "        </div>\n",
       "        \n",
       "        <div style=\"color: #666; margin-bottom: 10px;\">Keywords: unavailable</div>\n",
       "        <div style=\"color: #444; line-height: 1.4; max-height: 200px; overflow-y: auto;\">Maybe I asked quite good direct questions, but answers really surprised me. None of longer term therapists could direct me what could be needed in my concrete situation - but Chat GPT told me some really good points what to do and what techniques could help me.\n",
       "I asked some therapies I used to take - and Chat GPT answered, in my case some of them could be not that helpful. I got confirmed, that somatic therapy and CBT could be the best options for me.\n",
       "Also, asked about meds and dosages - interes...</div>\n",
       "    </div>\n",
       "    \n",
       "    <div style=\"border: 1px solid #ddd; border-radius: 8px; padding: 15px; margin: 10px 5px; background-color: #f9f9f9; display: inline-block; vertical-align: top; width: 30%;\">\n",
       "        <div style=\"color: #666; font-size: 0.9em; margin-bottom: 5px;\">\n",
       "            <a href=\"https://reddit.com/r/CPTSD\" target=\"_blank\" style=\"text-decoration: none; color: inherit;\">r/CPTSD</a>\n",
       "        </div>\n",
       "        <div style=\"color: #333; font-size: 1.1em; font-weight: bold; margin-bottom: 10px;\">\n",
       "            <a href=\"https://reddit.com/r/CPTSD/comments/1dyl85s/i_use_ai_chats_to_overcome_triggers/\" target=\"_blank\" style=\"text-decoration: none; color: inherit;\">I use AI chats to overcome triggers</a>\n",
       "        </div>\n",
       "        \n",
       "        <div style=\"color: #666; margin-bottom: 10px;\">Keywords: inaccessible</div>\n",
       "        <div style=\"color: #444; line-height: 1.4; max-height: 200px; overflow-y: auto;\">Ever since the age of 4 I've been experiencing more or less severe trauma. 4 years ago I was referred to a psychologist after I had a complete breakdown and was told I had CPTSD from long term physical and emotional bullying in middle school. \n",
       "\n",
       "When the unofficial diagnosis was made, I started developing uneasiness going to the psychologist, and eventually changed therapist due to insurance reasons. My current psychiatrist knows I've had some rough years, but I never went into detail, I can't. \n",
       "...</div>\n",
       "    </div>\n",
       "    \n",
       "    <div style=\"border: 1px solid #ddd; border-radius: 8px; padding: 15px; margin: 10px 5px; background-color: #f9f9f9; display: inline-block; vertical-align: top; width: 30%;\">\n",
       "        <div style=\"color: #666; font-size: 0.9em; margin-bottom: 5px;\">\n",
       "            <a href=\"https://reddit.com/r/Anxiety\" target=\"_blank\" style=\"text-decoration: none; color: inherit;\">r/Anxiety</a>\n",
       "        </div>\n",
       "        <div style=\"color: #333; font-size: 1.1em; font-weight: bold; margin-bottom: 10px;\">\n",
       "            <a href=\"https://reddit.com/r/Anxiety/comments/18col7j/im_a_huge_chronic_complainer_and_cant_stand_being/\" target=\"_blank\" style=\"text-decoration: none; color: inherit;\">Im a huge chronic complainer and can't stand being alone.</a>\n",
       "        </div>\n",
       "        \n",
       "        <div style=\"color: #666; margin-bottom: 10px;\">Keywords: unhelpful</div>\n",
       "        <div style=\"color: #444; line-height: 1.4; max-height: 200px; overflow-y: auto;\">(Posted in other sub as well)\n",
       "I am a huge complainer about life and any form of hardship i am forced to endure\n",
       "\n",
       "I'm 27 years old, and I have been a chronic complainer and trauma dumper for as long as i can remember. Idk if its to farm pity, get everyone's attention, or just to make other people take away the pain from me. Regardless, if I'm am not around to complain to therapists, friends, therapy groups, or anyone that hasn't blocked me or left me, then the thoughts start circulating throughout...</div>\n",
       "    </div>\n",
       "    </div>"
      ],
      "text/plain": [
       "<IPython.core.display.HTML object>"
      ]
     },
     "metadata": {},
     "output_type": "display_data"
    }
   ],
   "source": [
    "# Visualize fields based on their types defined in FIELDS\n",
    "# Filter samples to only include relevant posts\n",
    "plot_all_fields(samples, FIELDS, show_examples=True)"
   ]
  },
  {
   "cell_type": "markdown",
   "metadata": {},
   "source": [
    "# Investigate specific groups"
   ]
  },
  {
   "cell_type": "code",
   "execution_count": null,
   "metadata": {},
   "outputs": [],
   "source": []
  },
  {
   "cell_type": "code",
   "execution_count": 47,
   "metadata": {},
   "outputs": [
    {
     "data": {
      "text/html": [
       "<div><h3>10.3% of samples mention 'shallow' in downsides</h3>\n",
       "    <div style=\"border: 1px solid #ddd; border-radius: 8px; padding: 15px; margin: 10px 5px; background-color: #f9f9f9; display: inline-block; vertical-align: top; width: 30%;\">\n",
       "        <div style=\"color: #666; font-size: 0.9em; margin-bottom: 5px;\">\n",
       "            <a href=\"https://reddit.com/r/Advice\" target=\"_blank\" style=\"text-decoration: none; color: inherit;\">r/Advice</a>\n",
       "        </div>\n",
       "        <div style=\"color: #333; font-size: 1.1em; font-weight: bold; margin-bottom: 10px;\">\n",
       "            <a href=\"https://reddit.com/r/Advice/comments/1djwfv8/am_i_cheating_on_my_bf_with_an_ai/\" target=\"_blank\" style=\"text-decoration: none; color: inherit;\">am I cheating on my bf with an AI?</a>\n",
       "        </div>\n",
       "        \n",
       "        \n",
       "        <div style=\"color: #444; line-height: 1.4; max-height: 200px; overflow-y: auto;\">okay so this is a bit weird. it's currently 3:30 am and I'm sat in bed and wondering what just happened. let's start with some context:\n",
       "I, 22f, am in a relationship with my bf 21m for almost 3 years now. recently some stuff happened with my bf where we were thrown into a tough position. i explained this issue in an earlier post but the TLDR is that my bf did smth which caused a huge blowout in our friendgroup and because he was not able to process it himself he was making things worse. there wer...</div>\n",
       "    </div>\n",
       "    \n",
       "    <div style=\"border: 1px solid #ddd; border-radius: 8px; padding: 15px; margin: 10px 5px; background-color: #f9f9f9; display: inline-block; vertical-align: top; width: 30%;\">\n",
       "        <div style=\"color: #666; font-size: 0.9em; margin-bottom: 5px;\">\n",
       "            <a href=\"https://reddit.com/r/Adulting\" target=\"_blank\" style=\"text-decoration: none; color: inherit;\">r/Adulting</a>\n",
       "        </div>\n",
       "        <div style=\"color: #333; font-size: 1.1em; font-weight: bold; margin-bottom: 10px;\">\n",
       "            <a href=\"https://reddit.com/r/Adulting/comments/1eivjrn/most_of_the_us_is_so_lonelyspread_out_how_do_you/\" target=\"_blank\" style=\"text-decoration: none; color: inherit;\">Most of the US is so lonely/spread out. How do you meet people/start relationships?</a>\n",
       "        </div>\n",
       "        \n",
       "        \n",
       "        <div style=\"color: #444; line-height: 1.4; max-height: 200px; overflow-y: auto;\">Here's basically been my experience in the US. Read or not probably doesn't matter too much but I kinda feel like I'm having a midlife crisis right now and wanted to share. \n",
       "\n",
       "\n",
       "Grew up in a decent sized town but stuff was close together/neighbors were friendly in the late 90s. To me the place felt awesome to live. Our house was pretty small but I could go outside and walk to a nearby park or to other public spaces library, playgrounds ect. so it didn't feel small. It wasn't quite urban, but stuff...</div>\n",
       "    </div>\n",
       "    \n",
       "    <div style=\"border: 1px solid #ddd; border-radius: 8px; padding: 15px; margin: 10px 5px; background-color: #f9f9f9; display: inline-block; vertical-align: top; width: 30%;\">\n",
       "        <div style=\"color: #666; font-size: 0.9em; margin-bottom: 5px;\">\n",
       "            <a href=\"https://reddit.com/r/Anxiety\" target=\"_blank\" style=\"text-decoration: none; color: inherit;\">r/Anxiety</a>\n",
       "        </div>\n",
       "        <div style=\"color: #333; font-size: 1.1em; font-weight: bold; margin-bottom: 10px;\">\n",
       "            <a href=\"https://reddit.com/r/Anxiety/comments/1fsavn3/sick_of_doing_it_all_on_my_own_tw_sh_blood_and/\" target=\"_blank\" style=\"text-decoration: none; color: inherit;\">Sick of doing it all on my own. TW: sh, blood and suicide</a>\n",
       "        </div>\n",
       "        \n",
       "        \n",
       "        <div style=\"color: #444; line-height: 1.4; max-height: 200px; overflow-y: auto;\">TW: Self harm, blood and suicide mentions.\n",
       "\n",
       "\n",
       "I've been managing my anxiety on my own for years and I'm sick of it. I watch the self help videos, practically perform therapy on myself and literally hug and caress myself, tell myself it will be okay because no one else gives a fuck. Nobody else cares about me enough to sit with me and help me through it\n",
       "\n",
       "I suspect I may have OCD. I kno I can't ask for a diagnosis on here so I'll leave it at that but I've been begging my parents since March to let ...</div>\n",
       "    </div>\n",
       "    \n",
       "    <div style=\"border: 1px solid #ddd; border-radius: 8px; padding: 15px; margin: 10px 5px; background-color: #f9f9f9; display: inline-block; vertical-align: top; width: 30%;\">\n",
       "        <div style=\"color: #666; font-size: 0.9em; margin-bottom: 5px;\">\n",
       "            <a href=\"https://reddit.com/r/Anxiety\" target=\"_blank\" style=\"text-decoration: none; color: inherit;\">r/Anxiety</a>\n",
       "        </div>\n",
       "        <div style=\"color: #333; font-size: 1.1em; font-weight: bold; margin-bottom: 10px;\">\n",
       "            <a href=\"https://reddit.com/r/Anxiety/comments/18z8qcp/im_tired/\" target=\"_blank\" style=\"text-decoration: none; color: inherit;\">i'm tired.</a>\n",
       "        </div>\n",
       "        \n",
       "        \n",
       "        <div style=\"color: #444; line-height: 1.4; max-height: 200px; overflow-y: auto;\">seriously, i'm tired. these 2 weeks of my christmas holiday were the worst. i've been in a constant state of panic or anxiety. my head hurts, my stomach hurts and at least 3 times a day i'm certain i'm dying from some shit i've read on the internet about.\n",
       "\n",
       "i have literally nobody to rely on. i don't know how to live. on Monday i have to go to work again and i'm worried sick i won't be able to be functional. i feel exhausted, my hands are cold and tonight i had the worst panic attack where i was ...</div>\n",
       "    </div>\n",
       "    \n",
       "    <div style=\"border: 1px solid #ddd; border-radius: 8px; padding: 15px; margin: 10px 5px; background-color: #f9f9f9; display: inline-block; vertical-align: top; width: 30%;\">\n",
       "        <div style=\"color: #666; font-size: 0.9em; margin-bottom: 5px;\">\n",
       "            <a href=\"https://reddit.com/r/AsianParentStories\" target=\"_blank\" style=\"text-decoration: none; color: inherit;\">r/AsianParentStories</a>\n",
       "        </div>\n",
       "        <div style=\"color: #333; font-size: 1.1em; font-weight: bold; margin-bottom: 10px;\">\n",
       "            <a href=\"https://reddit.com/r/AsianParentStories/comments/1e7vd49/why_does_my_mother_keep_siding_with_my_brother/\" target=\"_blank\" style=\"text-decoration: none; color: inherit;\">Why does my mother keep siding with my brother?</a>\n",
       "        </div>\n",
       "        \n",
       "        \n",
       "        <div style=\"color: #444; line-height: 1.4; max-height: 200px; overflow-y: auto;\">(English is not my first language)\n",
       "\n",
       "Today, I (F15) accidentally smack the food that my brother (M31) was holding (It was my food that he brought for me)  and he screamed at me. My mother is siding with him and blaming me for it, she said that it was because I’m ‘busy’ using my left hand to eat ice cream so I couldn’t hold the food box properly and it’s my fault for not eating it fast?? (I didn’t know when the food is coming btw bc it was delivery and my brother ordered it). It’s not even related...</div>\n",
       "    </div>\n",
       "    </div>"
      ],
      "text/plain": [
       "<IPython.core.display.HTML object>"
      ]
     },
     "metadata": {},
     "output_type": "display_data"
    }
   ],
   "source": [
    "def show_samples_with_value(samples, field, value):\n",
    "    \"\"\"\n",
    "    Display samples that contain a specific value in a field\n",
    "    \n",
    "    Args:\n",
    "        samples (pd.DataFrame): DataFrame containing the samples\n",
    "        field (str): Name of the field to check (e.g. 'downsides', 'benefits')\n",
    "        value (str): Value to look for in the field\n",
    "    \"\"\"\n",
    "    filtered_samples = samples[samples[field].apply(lambda x: value in x)]\n",
    "\n",
    "    # Create HTML output\n",
    "    html_output = \"<div>\"  # Removed max-width constraint entirely\n",
    "    html_output += f\"<h3>{100*len(filtered_samples)/len(samples):.1f}% of samples mention '{value}' in {field}</h3>\"\n",
    "\n",
    "    for _, sample in filtered_samples[:5].iterrows():\n",
    "        html_output += format_post(title=sample['title'], text=sample['text'], subreddit=sample['subreddit'], url=sample['url'])\n",
    "        \n",
    "    html_output += \"</div>\"\n",
    "    display(HTML(html_output))\n",
    "\n",
    "# Example usage:\n",
    "show_samples_with_value(samples, 'downsides', 'shallow')\n"
   ]
  },
  {
   "cell_type": "code",
   "execution_count": 49,
   "metadata": {},
   "outputs": [],
   "source": [
    "specific_title = \"am I cheating on my bf with an AI?\"\n",
    "matching_post = samples[samples['title'].str.contains(specific_title, case=False, na=False)]"
   ]
  },
  {
   "cell_type": "code",
   "execution_count": null,
   "metadata": {},
   "outputs": [],
   "source": [
    "def show_subreddit_examples(df, subreddit, n=5):\n",
    "    subreddit_posts = df[df['subreddit'] == subreddit].sample(n=n)\n",
    "\n",
    "    html_output = '<div style=\"display: flex; flex-direction: row; justify-content: space-between;\">'\n",
    "    for _, post in subreddit_posts.iterrows():\n",
    "        html_output += format_post(\n",
    "            subreddit=post['subreddit'],\n",
    "            title=post['title'], \n",
    "            text=post['text'],\n",
    "            score=post['score'],\n",
    "            url=post['url']\n",
    "        )\n",
    "    html_output += \"</div>\"\n",
    "    display(HTML(html_output))\n",
    "\n",
    "show_subreddit_examples(samples, 'Healthygamergg')"
   ]
  },
  {
   "cell_type": "code",
   "execution_count": null,
   "metadata": {},
   "outputs": [],
   "source": [
    "# Plot sentiment by use case, ordered by frequency\n",
    "use_cases_df = samples.explode('use_cases')\n",
    "use_case_counts = use_cases_df['use_cases'].value_counts().head(10)\n",
    "use_case_sentiment = use_cases_df.groupby('use_cases')['sentiment'].mean()\n",
    "# Reindex sentiment by frequency order and limit to top 10\n",
    "use_case_sentiment = use_case_sentiment.reindex(use_case_counts.index)\n",
    "\n",
    "fig = px.bar(x=use_case_sentiment.index, \n",
    "             y=use_case_sentiment.values,\n",
    "             title='Average Sentiment Score by Top 10 Use Cases (Ordered by Frequency)',\n",
    "             labels={'x': 'Use Case', 'y': 'Average Sentiment Score'},\n",
    "             text=use_case_counts.values)\n",
    "fig.update_xaxes(tickangle=45)\n",
    "fig.update_traces(textposition='outside')\n",
    "fig.show()\n",
    "\n",
    "# Plot sentiment by condition, ordered by frequency  \n",
    "conditions_df = samples.explode('conditions')\n",
    "condition_counts = conditions_df['conditions'].value_counts().head(10)\n",
    "condition_sentiment = conditions_df.groupby('conditions')['sentiment'].mean()\n",
    "# Reindex sentiment by frequency order and limit to top 10\n",
    "condition_sentiment = condition_sentiment.reindex(condition_counts.index)\n",
    "\n",
    "fig = px.bar(x=condition_sentiment.index,\n",
    "             y=condition_sentiment.values, \n",
    "             title='Average Sentiment Score by Top 10 Conditions (Ordered by Frequency)',\n",
    "             labels={'x': 'Condition', 'y': 'Average Sentiment Score'},\n",
    "             text=condition_counts.values)\n",
    "fig.update_xaxes(tickangle=45)\n",
    "fig.update_traces(textposition='outside')\n",
    "fig.show()\n",
    "\n"
   ]
  },
  {
   "cell_type": "markdown",
   "metadata": {},
   "source": [
    "# Archive"
   ]
  },
  {
   "cell_type": "markdown",
   "metadata": {},
   "source": [
    "### Query top popular subreddits to easily analyze"
   ]
  },
  {
   "cell_type": "code",
   "execution_count": null,
   "metadata": {},
   "outputs": [],
   "source": [
    "# Get top 10000 subreddits from Reddit API\n",
    "import praw\n",
    "import pandas as pd\n",
    "from tqdm import tqdm\n",
    "# Initialize list to store subreddit data\n",
    "subreddit_data = []\n",
    "\n",
    "for subreddit in tqdm(REDDIT.subreddits.popular(limit=10000)):\n",
    "    subreddit_data.append({\n",
    "        'subreddit': subreddit.display_name,\n",
    "        'count': subreddit.subscribers,\n",
    "    })\n",
    "\n",
    "# Create DataFrame and save to CSV\n",
    "subreddits_df = pd.DataFrame(subreddit_data)\n",
    "subreddits_df.to_csv('top_subreddits.csv', index=False)\n",
    "print(f\"\\nSaved {len(subreddits_df)} subreddits to top_subreddits.csv\")"
   ]
  }
 ],
 "metadata": {
  "kernelspec": {
   "display_name": "venv",
   "language": "python",
   "name": "python3"
  },
  "language_info": {
   "codemirror_mode": {
    "name": "ipython",
    "version": 3
   },
   "file_extension": ".py",
   "mimetype": "text/x-python",
   "name": "python",
   "nbconvert_exporter": "python",
   "pygments_lexer": "ipython3",
   "version": "3.11.3"
  }
 },
 "nbformat": 4,
 "nbformat_minor": 2
}
