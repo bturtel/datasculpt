{
 "cells": [
  {
   "cell_type": "markdown",
   "metadata": {},
   "source": [
    "# Setup"
   ]
  },
  {
   "cell_type": "code",
   "execution_count": 10,
   "metadata": {},
   "outputs": [],
   "source": [
    "import os\n",
    "import pandas as pd\n",
    "import praw\n",
    "import toml\n",
    "from openai import OpenAI\n",
    "import plotly.express as px\n",
    "from collections import Counter\n",
    "import itertools\n",
    "from IPython.display import HTML, display\n",
    "import numpy as np\n",
    "\n",
    "secrets = toml.load(\"secrets.toml\")\n",
    "openai_key = secrets[\"OPEN_AI_KEY\"]\n",
    "REDDIT = praw.Reddit(\n",
    "    client_id=secrets[\"reddit\"][\"client_id\"],\n",
    "    client_secret=secrets[\"reddit\"][\"client_secret\"],\n",
    "    user_agent=secrets[\"reddit\"][\"user_agent\"]\n",
    ")\n",
    "\n",
    "client = OpenAI(api_key=openai_key)"
   ]
  },
  {
   "cell_type": "markdown",
   "metadata": {},
   "source": [
    "# Query Reddit Posts"
   ]
  },
  {
   "cell_type": "markdown",
   "metadata": {},
   "source": [
    "- [Reddit search docs](https://support.reddithelp.com/hc/en-us/articles/19696541895316-Available-search-features)\n",
    "- [PRAW docs](https://praw.readthedocs.io/en/stable/code_overview/models/subreddit.html)"
   ]
  },
  {
   "cell_type": "markdown",
   "metadata": {},
   "source": [
    "### Specific Subreddits"
   ]
  },
  {
   "cell_type": "code",
   "execution_count": 13,
   "metadata": {},
   "outputs": [],
   "source": [
    "subreddits = (\n",
    "    \"ADHD, Advice, Adulting, Alcoholism, Anger, Anxiety, AsianParentStories, \"\n",
    "    \"aspergirls, BipolarReddit, BlackMentalHealth, bodyacceptance, bpd, \"\n",
    "    \"careerguidance, CPTSD, dating_advice, dbtselfhelp, \"\n",
    "    \"DecidingToBeBetter, depression, depression_help, EDAnonymous, Enneagram, \"\n",
    "    \"GetMotivated, HealthAnxiety, Healthygamergg, hopefulmentalhealth, \"\n",
    "    \"lawofattraction, LucidDreaming, malementalhealth, meditation, \"\n",
    "    \"mental, mentalhealth, mentalhealthadvice, \"\n",
    "    \"mentalhealthph, mentalhealthsupport, mentalhealthuk, \"\n",
    "    \"mentalillness, MensMentalHealth, microdosing, \"\n",
    "    \"MMFB, nofap, nosurf, OCD, offmychest, pornfree, productivity, \"\n",
    "    \"Psychiatry, psychology, ptsd, QAnonCasualties, \"\n",
    "    \"raisedbynarcissists, relationship_advice, relationships, \"\n",
    "    \"selfimprovement, socialanxiety, socialskills, StopSmoking, Stress, \"\n",
    "    \"suicidewatch, TalkTherapy, teenagers, therapy, therapists, \"\n",
    "    \"traumatoolbox, TrueOffMyChest, WellnessPT\"\n",
    ")"
   ]
  },
  {
   "cell_type": "code",
   "execution_count": 14,
   "metadata": {},
   "outputs": [
    {
     "name": "stderr",
     "output_type": "stream",
     "text": [
      "100%|██████████| 65/65 [00:47<00:00,  1.38it/s]"
     ]
    },
    {
     "name": "stdout",
     "output_type": "stream",
     "text": [
      "\n",
      "Found 3341 total posts across all subreddits\n"
     ]
    },
    {
     "name": "stderr",
     "output_type": "stream",
     "text": [
      "\n"
     ]
    }
   ],
   "source": [
    "import pandas as pd\n",
    "from tqdm import tqdm\n",
    "\n",
    "# Split subreddits string into list\n",
    "subreddit_list = [s.strip() for s in subreddits.split(',')]\n",
    "\n",
    "# Query for AI content in each subreddit\n",
    "posts = []\n",
    "query = '(AI OR \"artificial intelligence\" OR chatbot OR gpt OR chatGPT or Claude OR characterAI OR Gemini OR Woebot OR Wysa OR Youper Or Sintelly)'\n",
    "\n",
    "for subreddit in tqdm(subreddit_list):\n",
    "    try:\n",
    "        # Try to get the subreddit\n",
    "        sub = REDDIT.subreddit(subreddit)\n",
    "        \n",
    "        # Check if subreddit exists and has reasonable activity\n",
    "        try:\n",
    "            subscribers = sub.subscribers\n",
    "            if subscribers < 1000:\n",
    "                print(f\"Warning: {subreddit} has only {subscribers} subscribers\")\n",
    "                continue\n",
    "        except:\n",
    "            print(f\"Warning: Could not access subscriber count for {subreddit}\")\n",
    "            continue\n",
    "            \n",
    "        # Search within this subreddit\n",
    "        search_results = sub.search(\n",
    "            query,\n",
    "            sort='relevance',\n",
    "            time_filter='year',\n",
    "            limit=100\n",
    "        )\n",
    "        \n",
    "        # Add posts from this subreddit\n",
    "        for post in search_results:\n",
    "            posts.append({\n",
    "                'title': post.title,\n",
    "                'text': post.selftext,\n",
    "                'score': post.score,\n",
    "                'created_utc': post.created_utc,\n",
    "                'id': post.id,\n",
    "                'subreddit': post.subreddit.display_name,\n",
    "                'url': f\"https://reddit.com{post.permalink}\",\n",
    "                'num_comments': post.num_comments\n",
    "            })\n",
    "            \n",
    "    except Exception as e:\n",
    "        print(f\"Error accessing subreddit {subreddit}: {str(e)}\")\n",
    "        continue\n",
    "\n",
    "# Convert to dataframe\n",
    "subreddits_df = pd.DataFrame(posts)\n",
    "print(f\"\\nFound {len(subreddits_df)} total posts across all subreddits\")"
   ]
  },
  {
   "cell_type": "markdown",
   "metadata": {},
   "source": [
    "### Search with query"
   ]
  },
  {
   "cell_type": "code",
   "execution_count": 37,
   "metadata": {},
   "outputs": [
    {
     "name": "stdout",
     "output_type": "stream",
     "text": [
      "Found 243 posts\n",
      "\n",
      "Sample titles:\n",
      "                                               title   subreddit  score\n",
      "0  SoftBank’s new ‘emotion canceling’ AI turns cu...  Futurology   4364\n",
      "1  I asked ChatGPT to be a bad therapist and it d...     ChatGPT   3958\n",
      "2                           ChatGPT therapy saved me     ChatGPT   2297\n",
      "3  SoftBank’s new ‘emotion canceling’ AI turns cu...  technology   2781\n",
      "4               Hear me out: ChatGPT as an ADHD Hack   adhdwomen   1790\n"
     ]
    }
   ],
   "source": [
    "query = \"\"\"\n",
    "(title:AI OR title:\"artificial intelligence\" OR title:chatbot OR title:gpt OR title:Claude OR title:characterAI OR title:Gemini) AND \n",
    "(title:therapy OR title:therapist OR title:\"mental health\" OR title:anxiety OR title:adhd OR title:depression OR title:stress OR title:ocd OR title:relationships)\n",
    "\"\"\"\n",
    "posts = []\n",
    "search_results = REDDIT.subreddit(\"all\").search(\n",
    "    query,\n",
    "    sort='relevance',\n",
    "    syntax='lucene',\n",
    "    time_filter='year',\n",
    "    limit=10000\n",
    ")\n",
    "\n",
    "for post in search_results:\n",
    "    posts.append({\n",
    "        'title': post.title,\n",
    "        'text': post.selftext,\n",
    "        'score': post.score,\n",
    "        'created_utc': post.created_utc,\n",
    "        'id': post.id,\n",
    "        'subreddit': post.subreddit.display_name,\n",
    "        'url': f\"https://reddit.com{post.permalink}\",\n",
    "        'num_comments': post.num_comments\n",
    "    })\n",
    "    \n",
    "search_df = pd.DataFrame(posts)\n",
    "print(f\"Found {len(search_df)} posts\")\n",
    "print(\"\\nSample titles:\")\n",
    "print(search_df[['title', 'subreddit', 'score']].head())"
   ]
  },
  {
   "cell_type": "markdown",
   "metadata": {},
   "source": [
    "# Combine all posts"
   ]
  },
  {
   "cell_type": "code",
   "execution_count": 38,
   "metadata": {},
   "outputs": [
    {
     "name": "stdout",
     "output_type": "stream",
     "text": [
      "Total posts after combining and deduping: 3556\n",
      "Posts from subreddit search: 3341\n",
      "Posts from keyword search: 243\n",
      "Duplicates removed: 28\n"
     ]
    }
   ],
   "source": [
    "# Combine posts from both sources and deduplicate\n",
    "all_posts = pd.concat([subreddits_df, search_df], ignore_index=True)\n",
    "\n",
    "# Drop duplicates based on post ID since that's unique per Reddit post\n",
    "all_posts = all_posts.drop_duplicates(subset=['id'], keep='first')\n",
    "\n",
    "print(f\"Total posts after combining and deduping: {len(all_posts)}\")\n",
    "print(f\"Posts from subreddit search: {len(subreddits_df)}\")\n",
    "print(f\"Posts from keyword search: {len(search_df)}\")\n",
    "print(f\"Duplicates removed: {len(subreddits_df) + len(search_df) - len(all_posts)}\")"
   ]
  },
  {
   "cell_type": "code",
   "execution_count": 90,
   "metadata": {},
   "outputs": [
    {
     "name": "stdout",
     "output_type": "stream",
     "text": [
      "Posts before deduplication: 3436\n",
      "Posts after deduplication: 3436\n",
      "Removed 3432 duplicate posts\n"
     ]
    }
   ],
   "source": [
    "def deduplicate_posts(df):\n",
    "    \"\"\"Remove duplicate posts with same title/text, keeping the one with most comments\"\"\"\n",
    "    print(f\"Posts before deduplication: {len(df)}\")\n",
    "    \n",
    "    # Group by title and text to find duplicates\n",
    "    duplicates = df.groupby(['title', 'text']).agg({\n",
    "        'num_comments': 'max',  # Keep post with most comments\n",
    "        'id': 'count'  # Count occurrences\n",
    "    }).reset_index()\n",
    "\n",
    "    # Filter to only groups with duplicates\n",
    "    duplicates = duplicates[duplicates['id'] > 1]\n",
    "\n",
    "    # For each duplicate group, keep only the post with most comments\n",
    "    if len(duplicates) > 0:\n",
    "        for _, dup in duplicates.iterrows():\n",
    "            # Find all posts with this title/text\n",
    "            mask = (df['title'] == dup['title']) & (df['text'] == dup['text'])\n",
    "            # Keep only the one with most comments\n",
    "            to_drop = df[mask & (df['num_comments'] < dup['num_comments'])].index\n",
    "            df = df.drop(to_drop)\n",
    "\n",
    "    print(f\"Posts after deduplication: {len(df)}\")\n",
    "    return df\n",
    "\n",
    "all_posts = deduplicate_posts(all_posts)"
   ]
  },
  {
   "cell_type": "markdown",
   "metadata": {},
   "source": [
    "# Filter for relevance"
   ]
  },
  {
   "cell_type": "code",
   "execution_count": 45,
   "metadata": {},
   "outputs": [
    {
     "name": "stderr",
     "output_type": "stream",
     "text": [
      "100%|██████████| 3556/3556 [00:08<00:00, 440.18it/s]\n"
     ]
    }
   ],
   "source": [
    "def analyze_post_relevance(post, use_case):\n",
    "    # Analyze post relevance\n",
    "    response = client.chat.completions.create(\n",
    "        model=\"gpt-4o-mini\",\n",
    "        messages=[{\n",
    "            \"role\": \"user\", \n",
    "            \"content\": f\"\"\"Post Title: {post['title']}\n",
    "Post Content: {post.get('text', '[No content]')}\n",
    "Use Case: {use_case}\n",
    "Question: Is this post relevant to our use case? Please answer with a brief 'Yes' or 'No' and short explanation.\"\"\"\n",
    "        }]\n",
    "    )\n",
    "    \n",
    "    response_text = response.choices[0].message.content\n",
    "    \n",
    "    # Determine boolean based on start of response\n",
    "    is_relevant = None\n",
    "    if response_text.strip().lower().startswith('yes'):\n",
    "        is_relevant = True\n",
    "    elif response_text.strip().lower().startswith('no'):\n",
    "        is_relevant = False\n",
    "        \n",
    "    return (is_relevant, response_text)\n",
    "\n",
    "use_case = \"\"\"\n",
    "We are looking for posts relating to how people are using AI, chatbots, or virtual companions for mental health support or coaching.\n",
    "This can include for any purpose: anxiety, adhd, depression, stress, ocd, relationships, goal setting, wellbeing, etc.\n",
    "To qualify, the user must discuss their own experience using one of these tools, not just discussing in abstract or commenting on the use of AI in general.\n",
    "\"\"\"\n",
    "\n",
    "print_posts = False\n",
    "from tqdm import tqdm\n",
    "for idx, post in tqdm(all_posts.iterrows(), total=len(all_posts)):\n",
    "    # Skip if already analyzed\n",
    "    if pd.notna(post.get('is_relevant')):\n",
    "        continue\n",
    "        \n",
    "    is_relevant, analysis = analyze_post_relevance(post, use_case)\n",
    "    \n",
    "    # Add relevance fields to existing post\n",
    "    all_posts.at[idx, 'is_relevant'] = is_relevant\n",
    "    all_posts.at[idx, 'relevant_explanation'] = analysis\n",
    "    \n",
    "    # Print concise results\n",
    "    if print_posts:\n",
    "        print(f\"\\n[{post['subreddit']}] {post['title']}\")\n",
    "        print(f\"Link: {post['url']}\")\n",
    "        print(f\"Analysis: {analysis}\")\n",
    "        print(\"-\" * 50)\n",
    "\n",
    "print(\"\\nRelevant Post Counts:\\n\", all_posts['is_relevant'].value_counts())"
   ]
  },
  {
   "cell_type": "code",
   "execution_count": 245,
   "metadata": {},
   "outputs": [],
   "source": [
    "# Get relevant posts\n",
    "# samples = pd.read_json('relevant_posts.json')  # To Reload\n",
    "samples = all_posts[all_posts['is_relevant'] == True].drop(columns=['is_relevant', 'relevant_explanation']).copy()\n",
    "samples['created_utc'] = pd.to_datetime(samples['created_utc'], unit='s')\n",
    "samples.to_json('samples.json', orient='records', date_format='iso')"
   ]
  },
  {
   "cell_type": "markdown",
   "metadata": {},
   "source": [
    "# Extract Fields with AI"
   ]
  },
  {
   "cell_type": "code",
   "execution_count": 37,
   "metadata": {},
   "outputs": [],
   "source": [
    "FIELDS = {\n",
    "    \"relevant_sample\": {\n",
    "        \"type\": \"boolean\",\n",
    "        \"description\": \"Boolean indicating if text describes personal experience using AI for the use case described in the prompt\"\n",
    "    },\n",
    "    \"relevant_sample_explanation\": {\n",
    "        \"type\": \"string\",\n",
    "        \"description\": \"Explanation of why the sample was classified as relevant or not relevant\"\n",
    "    },\n",
    "    \"sentiment\": {\n",
    "        \"type\": \"integer\",\n",
    "        \"description\": \"Integer 1-10 indicating sentiment TOWARDS using AI for mental health (10 most positive).  This is NOT sentiment of the post overall, just sentiment towards the interaction with AI.\"\n",
    "    },\n",
    "    \"benefits\": {\n",
    "        \"type\": \"array\",\n",
    "        \"items\": {\"type\": \"string\"},\n",
    "        \"description\": \"List of keywords relating to perceived benefits of using the AI, e.g.: non_judgemental, on_demand, affordable, accessible, anonymous, consistent, supportive, patient\"\n",
    "    },\n",
    "    \"downsides\": {\n",
    "        \"type\": \"array\",\n",
    "        \"items\": {\"type\": \"string\"},\n",
    "        \"description\": \"List of keywords relating to downsides of using the AI, e.g.: repetitive, robotic, shallow, unreliable, addictive, avoidant, limited\"\n",
    "    },\n",
    "    \"use_cases\": {\n",
    "        \"type\": \"array\",\n",
    "        \"items\": {\"type\": \"string\"},\n",
    "        \"description\": \"List of keywords relating to how AI is used, e.g.: reflection, venting, self_talk, planning, CBT, journaling, motivation, reminders, emotional_support\"\n",
    "    },\n",
    "    \"conditions\": {\n",
    "        \"type\": \"array\",\n",
    "        \"items\": {\"type\": \"string\"},\n",
    "        \"description\": \"List of keywords describing conditions being addressed, e.g.: ADHD, depression, anxiety, addiction, OCD, PTSD, bipolar, eating_disorder\"\n",
    "    },\n",
    "    \"seeing_provider\": {\n",
    "        \"type\": \"boolean\",\n",
    "        \"description\": \"Boolean indicating if subject indicates they are CURRENTLY seeing a therapist or mental health provider\"\n",
    "    },\n",
    "    \"previous_provider\": {\n",
    "        \"type\": \"boolean\",\n",
    "        \"description\": \"Boolean indicating if subject indicates they have EVER seen a therapist or mental health provider\"\n",
    "    },\n",
    "    \"provider_problems\": {\n",
    "        \"type\": \"array\",\n",
    "        \"items\": {\"type\": \"string\"},\n",
    "        \"description\": \"List of keywords relating to perceived issues with HUMAN PROVIDERS, e.g.: expensive, unavailable, inaccessible, scheduling, inconsistent, judgmental\"\n",
    "    },\n",
    "    \"fields_explanation\": {\n",
    "        \"type\": \"string\",\n",
    "        \"description\": \"Concise but thorough explanation of your reasoning for each field in the schema (except for relevant_sample and relevant_sample_explanation)\"\n",
    "    },\n",
    "}"
   ]
  },
  {
   "cell_type": "code",
   "execution_count": 249,
   "metadata": {},
   "outputs": [
    {
     "name": "stderr",
     "output_type": "stream",
     "text": [
      "Extracting fields: 100%|██████████| 726/726 [51:33<00:00,  4.26s/it]  \n"
     ]
    }
   ],
   "source": [
    "from typing import Dict, Any\n",
    "import pprint\n",
    "import json\n",
    "\n",
    "def extract_fields(text: str, fields: Dict[str, dict], prompt: str) -> Dict[str, Any]:\n",
    "    \"\"\"Extract structured fields from text using OpenAI\"\"\"\n",
    "    schema = {\n",
    "        \"name\": \"extract_fields\",\n",
    "        \"strict\": True,\n",
    "        \"schema\": {\n",
    "            \"type\": \"object\",\n",
    "            \"properties\": fields,\n",
    "            \"required\": list(fields.keys()),\n",
    "            \"additionalProperties\": False\n",
    "        }\n",
    "    }\n",
    "    \n",
    "    response = client.chat.completions.create(\n",
    "        model=\"gpt-4o\",\n",
    "        messages=[\n",
    "            {\"role\": \"system\", \"content\": prompt},\n",
    "            {\"role\": \"user\", \"content\": text}\n",
    "        ],\n",
    "        response_format={\n",
    "            \"type\": \"json_schema\",\n",
    "            \"json_schema\": schema\n",
    "        }\n",
    "    )\n",
    "    return json.loads(response.choices[0].message.content)\n",
    "\n",
    "\n",
    "use_case = \"\"\"\n",
    "We are analyzing Reddit posts to understand how people are using AI and chatbots for mental health, coaching, or emotional support.\n",
    "Specifically, we want to identify posts where users share their personal experiences using AI tools for:\n",
    "- Managing mental health conditions (anxiety, depression, ADHD, OCD, PTSD, trauma, etc.)\n",
    "- Emotional support and wellbeing\n",
    "- Therapy supplements or alternatives\n",
    "- Wellness coaching and goal setting\n",
    "- Help focusing, goal setting, managing stress, overcoming obstacles, etc.\n",
    "- Other similar use cases for AI in mental health\n",
    "\n",
    "The post should include first-hand experience using AI tools, not just general discussion about AI in mental health.\n",
    "This does NOT need to be the main focus of the post, but it should clearly mention using AI for the use case described.\n",
    "We want to extract structured data about their experiences, including benefits, challenges, and specific use cases.\n",
    "Do NOT make stuff up.  ONLY use keywords that accurately fit what the schema describes. \n",
    "A keyword that applies to the post generally but not specifically to what is asked for by the schema should not be used.\n",
    "\"\"\"\n",
    "prompt=use_case + \"\\n\\nAnalyze the following Reddit post and extract the requested fields, carefully, according to the schema.  Explain your reasoning in the last field.\"\n",
    "\n",
    "# Store results in a dictionary\n",
    "results = {}\n",
    "\n",
    "# Loop through all samples and extract fields\n",
    "for idx, sample in tqdm(samples.iterrows(), total=len(samples), desc=\"Extracting fields\"):\n",
    "    text = f\"{sample['title']}\\n\\n{sample['text']}\"\n",
    "    result = extract_fields(text, FIELDS, prompt)\n",
    "    results[idx] = result\n",
    "\n",
    "# Convert results dictionary to dataframe and merge with original\n",
    "results_df = pd.DataFrame.from_dict(results, orient='index')\n",
    "samples = samples.merge(results_df, left_index=True, right_index=True)\n",
    "samples.to_json('samples-with-fields-4o.json', orient='records', date_format='iso')"
   ]
  },
  {
   "cell_type": "code",
   "execution_count": 3,
   "metadata": {},
   "outputs": [],
   "source": [
    "# Read data back in\n",
    "samples = pd.read_json('samples-with-fields-4o.json', orient='records')"
   ]
  },
  {
   "cell_type": "markdown",
   "metadata": {},
   "source": [
    "# Filter 2nd pass"
   ]
  },
  {
   "cell_type": "code",
   "execution_count": 5,
   "metadata": {},
   "outputs": [
    {
     "name": "stdout",
     "output_type": "stream",
     "text": [
      "Breakdown of relevant_sample vs not:\n",
      "relevant_sample\n",
      "True     516\n",
      "False    210\n",
      "Name: count, dtype: int64\n"
     ]
    }
   ],
   "source": [
    "relevant_counts = samples['relevant_sample'].value_counts()\n",
    "print(\"Breakdown of relevant_sample vs not:\")\n",
    "print(relevant_counts)"
   ]
  },
  {
   "cell_type": "code",
   "execution_count": null,
   "metadata": {},
   "outputs": [],
   "source": [
    "\n",
    "def display_irrelevant_samples(df):\n",
    "    # Create combined text field\n",
    "    df['combined_text'] = '[' + df['subreddit'] + '] ' + \\\n",
    "                         df['title'] + ' : ' + \\\n",
    "                         df['text']\n",
    "\n",
    "    # Create relevance field                                    \n",
    "    df['relevance_info'] = df['relevant_sample'].astype(str) + \\\n",
    "                          ' : ' + df['relevant_sample_explanation']\n",
    "\n",
    "    display(df[['combined_text', 'relevance_info']].style.set_properties(**{\n",
    "        'white-space': 'pre-wrap',\n",
    "        'text-align': 'left'\n",
    "    }).set_table_styles([\n",
    "        {'selector': 'th', 'props': [('text-align', 'left')]},\n",
    "        {'selector': '', 'props': [('border', '1px solid grey')]}\n",
    "    ]))\n",
    "\n",
    "display_irrelevant_samples(samples[~samples['relevant_sample']].sample(n=10))"
   ]
  },
  {
   "cell_type": "code",
   "execution_count": 7,
   "metadata": {},
   "outputs": [],
   "source": [
    "samples = samples[samples['relevant_sample'] == True]"
   ]
  },
  {
   "cell_type": "markdown",
   "metadata": {},
   "source": [
    "# Analysis Utilities"
   ]
  },
  {
   "cell_type": "code",
   "execution_count": 66,
   "metadata": {},
   "outputs": [
    {
     "data": {
      "text/html": [
       "\n",
       "    <div style=\"border: 1px solid #ddd; border-radius: 8px; padding: 15px; margin: 10px 5px; background-color: #f9f9f9; display: inline-block; vertical-align: top; width: 30%;\">\n",
       "        <div style=\"color: #666; font-size: 0.9em; margin-bottom: 5px;\">\n",
       "            <a href=\"https://reddit.com/r/selfimprovement\" target=\"_blank\" style=\"text-decoration: none; color: inherit;\">r/selfimprovement</a>\n",
       "        </div>\n",
       "        <div style=\"color: #333; font-size: 1.1em; font-weight: bold; margin-bottom: 10px;\">\n",
       "            <a href=\"https://reddit.com/r/selfimprovement/comments/1cf0evg/anyone_else_using_ai_for_selfcare/\" target=\"_blank\" style=\"text-decoration: none; color: inherit;\">Anyone Else Using AI for Self-Care?</a>\n",
       "        </div>\n",
       "        \n",
       "        <div style=\"color: #666; margin-bottom: 10px;\">Keywords: private, responsive, insightful, emotional_support, self_improvement, Sentiment: 9/10</div>\n",
       "        <div style=\"color: #444; line-height: 1.4; max-height: 200px; overflow-y: auto;\">After a friend recommended an app that uses AI to handle emotional ups and downs, I’ve seen a significant improvement in my mental state. It’s private, responsive, and surprisingly insightful. Anyone else exploring AI for self-improvement?...</div>\n",
       "    </div>\n",
       "    \n",
       "    <div style=\"border: 1px solid #ddd; border-radius: 8px; padding: 15px; margin: 10px 5px; background-color: #f9f9f9; display: inline-block; vertical-align: top; width: 30%;\">\n",
       "        <div style=\"color: #666; font-size: 0.9em; margin-bottom: 5px;\">\n",
       "            <a href=\"https://reddit.com/r/MentalHealthPH\" target=\"_blank\" style=\"text-decoration: none; color: inherit;\">r/MentalHealthPH</a>\n",
       "        </div>\n",
       "        <div style=\"color: #333; font-size: 1.1em; font-weight: bold; margin-bottom: 10px;\">\n",
       "            <a href=\"https://reddit.com/r/MentalHealthPH/comments/1cqu8mu/anyone_tried_venting_to_an_ai/\" target=\"_blank\" style=\"text-decoration: none; color: inherit;\">Anyone tried venting to an AI?</a>\n",
       "        </div>\n",
       "        \n",
       "        <div style=\"color: #666; margin-bottom: 10px;\">Keywords: communicative, memory, weird, venting, Sentiment: 7/10</div>\n",
       "        <div style=\"color: #444; line-height: 1.4; max-height: 200px; overflow-y: auto;\">I got burned out from my work. Since I often work remotely, it blurred the line between my work and personal life. However, I have no friends to discuss this issue with, and I really needed to vent. So, I found an app called Sonia that looked quite interesting. I was surprised that the AI communicated well and remembered past conversations I had, but I found it quite weird.  \n",
       "Have you ever used AI-driven tools for venting?  \n",
       "Any experiences or thoughts?...</div>\n",
       "    </div>\n",
       "    \n",
       "    <div style=\"border: 1px solid #ddd; border-radius: 8px; padding: 15px; margin: 10px 5px; background-color: #f9f9f9; display: inline-block; vertical-align: top; width: 30%;\">\n",
       "        <div style=\"color: #666; font-size: 0.9em; margin-bottom: 5px;\">\n",
       "            <a href=\"https://reddit.com/r/Healthygamergg\" target=\"_blank\" style=\"text-decoration: none; color: inherit;\">r/Healthygamergg</a>\n",
       "        </div>\n",
       "        <div style=\"color: #333; font-size: 1.1em; font-weight: bold; margin-bottom: 10px;\">\n",
       "            <a href=\"https://reddit.com/r/Healthygamergg/comments/1djdsyt/i_used_ai_to_analyze_my_journal_entries/\" target=\"_blank\" style=\"text-decoration: none; color: inherit;\">I used AI to analyze my journal entries</a>\n",
       "        </div>\n",
       "        \n",
       "        <div style=\"color: #666; margin-bottom: 10px;\">Keywords: insightful, reflective, limited, vague, journaling, self_analysis, anxiety, emotional_detachment, social_anxiety, alexithymia, rumination, Sentiment: 7/10</div>\n",
       "        <div style=\"color: #444; line-height: 1.4; max-height: 200px; overflow-y: auto;\">I was surprised by how the AI's response touched on concepts that I feel are more unique to Dr. K's content, such as alexithymia. I used Claude 3 Sonnet for the analysis.\n",
       "\n",
       "**Journal Entries**\n",
       "\n",
       "6/1/24 2:12 AM  \n",
       "I'm starting to realize that internal monologue is somewhat pathological. A lot of my attention is diverted towards it which creates a separation from my immediate experience and makes me more self-obsessed. My internal monologue is similar to how I'm writing right now except that it mostl...</div>\n",
       "    </div>\n",
       "    "
      ],
      "text/plain": [
       "<IPython.core.display.HTML object>"
      ]
     },
     "metadata": {},
     "output_type": "display_data"
    }
   ],
   "source": [
    "# Display 5 random posts side by side as an example\n",
    "html_output = \"\"\n",
    "for _, post in samples.sample(n=3).iterrows():\n",
    "    # Build keywords list from all array fields\n",
    "    keywords = []\n",
    "    \n",
    "    # Add array fields with their values\n",
    "    if 'benefits' in post and isinstance(post['benefits'], list):\n",
    "        keywords.extend(post['benefits'])\n",
    "    if 'downsides' in post and isinstance(post['downsides'], list):\n",
    "        keywords.extend(post['downsides'])\n",
    "    if 'use_cases' in post and isinstance(post['use_cases'], list):\n",
    "        keywords.extend(post['use_cases'])\n",
    "    if 'conditions' in post and isinstance(post['conditions'], list):\n",
    "        keywords.extend(post['conditions'])\n",
    "    if 'provider_problems' in post and isinstance(post['provider_problems'], list):\n",
    "        keywords.extend(post['provider_problems'])\n",
    "        \n",
    "    # Add boolean fields as keywords if True\n",
    "    if post.get('seeing_provider'):\n",
    "        keywords.append('Currently seeing provider')\n",
    "    if post.get('previous_provider'):\n",
    "        keywords.append('Has previous provider')\n",
    "        \n",
    "    # Add sentiment if present\n",
    "    if 'sentiment' in post and pd.notna(post['sentiment']):\n",
    "        keywords.append(f'Sentiment: {post[\"sentiment\"]}/10')\n",
    "\n",
    "    html_output += format_post(\n",
    "        subreddit=post['subreddit'],\n",
    "        title=post['title'],\n",
    "        text=post['text'],\n",
    "        # score=post.get('score'),\n",
    "        url=post.get('url'),\n",
    "        keywords=keywords\n",
    "    )\n",
    "\n",
    "from IPython.display import HTML\n",
    "display(HTML(html_output))\n"
   ]
  },
  {
   "cell_type": "code",
   "execution_count": 142,
   "metadata": {},
   "outputs": [],
   "source": [
    "def plot_distribution(data, column, title, x_label, save=True):\n",
    "    values = data[column].values\n",
    "    percentiles = np.percentile(values, [0, 25, 50, 75, 90, 95, 97.5, 99, 99.9, 100])\n",
    "    bucket_edges = np.unique([0, 1] + [int(p) for p in percentiles[1:]])\n",
    "    \n",
    "    bucket_labels = []\n",
    "    for i in range(len(bucket_edges)-1):\n",
    "        if bucket_edges[i+1] == bucket_edges[i]:\n",
    "            continue\n",
    "        if bucket_edges[i+1] == bucket_edges[i] + 1:\n",
    "            bucket_labels.append(str(bucket_edges[i]))\n",
    "        else:\n",
    "            bucket_labels.append(f'{bucket_edges[i]}-{bucket_edges[i+1]-1}')\n",
    "    \n",
    "    bucketed_values = pd.cut(values, bins=bucket_edges, labels=bucket_labels, right=False)\n",
    "    value_counts = bucketed_values.value_counts().sort_index()\n",
    "    \n",
    "    fig = px.bar(x=value_counts.index, y=value_counts.values,\n",
    "                 title=title,\n",
    "                 labels={'x': x_label, 'y': 'Number of Posts'})\n",
    "    \n",
    "    fig.update_layout(\n",
    "        bargap=0.2,\n",
    "        xaxis_title=x_label,\n",
    "        yaxis_title='Number of Posts'\n",
    "    )\n",
    "    fig.update_xaxes(tickangle=45)\n",
    "    \n",
    "    if save:\n",
    "        if not os.path.exists('plots'):\n",
    "            os.makedirs('plots')\n",
    "        fig.write_image(f\"plots/{title.lower().replace(' ', '_')}.png\")\n",
    "    \n",
    "    fig.show()\n",
    "\n",
    "def format_post(subreddit, title, text, score=None, url=None, keywords=None):\n",
    "    html = f\"\"\"\n",
    "    <div style=\"border: 1px solid #ddd; border-radius: 8px; padding: 15px; margin: 10px 5px; background-color: #f9f9f9; display: inline-block; vertical-align: top; width: 30%;\">\n",
    "        <div style=\"color: #666; font-size: 0.9em; margin-bottom: 5px;\">\n",
    "            <a href=\"https://reddit.com/r/{subreddit}\" target=\"_blank\" style=\"text-decoration: none; color: inherit;\">r/{subreddit}</a>\n",
    "        </div>\n",
    "        <div style=\"color: #333; font-size: 1.1em; font-weight: bold; margin-bottom: 10px;\">\n",
    "            <a href=\"{url if url else '#'}\" target=\"_blank\" style=\"text-decoration: none; color: inherit;\">{title}</a>\n",
    "        </div>\n",
    "        {'<div style=\"color: #1a0dab; margin-bottom: 10px;\">Score: ' + str(score) + '</div>' if score is not None else ''}\n",
    "        {'<div style=\"color: #666; margin-bottom: 10px;\">Keywords: ' + ', '.join(keywords) + '</div>' if keywords else ''}\n",
    "        <div style=\"color: #444; line-height: 1.4; max-height: 200px; overflow-y: auto;\">{text[:500]}...</div>\n",
    "    </div>\n",
    "    \"\"\"\n",
    "    return html\n",
    "\n",
    "def display_examples_section(title):\n",
    "    display(HTML(f'<div style=\"margin: 10px 0;\"><h4 style=\"color: #333; margin: 0; padding: 5px 0; border-bottom: 1px solid #ccc;\">{title}</h4></div>'))\n",
    "\n",
    "def plot_binary_distribution(df, field_name, title, show_examples=False, save=True):\n",
    "    counts = df[field_name].value_counts()\n",
    "    percentages = (counts / len(df)) * 100\n",
    "    fig = px.pie(values=percentages.values, names=percentages.index, title=title)\n",
    "    fig.update_traces(texttemplate='%{value:.1f}%')\n",
    "    \n",
    "    if save:\n",
    "        if not os.path.exists('plots'):\n",
    "            os.makedirs('plots')\n",
    "        fig.write_image(f\"plots/{title.lower().replace(' ', '_')}.png\")\n",
    "    \n",
    "    fig.show()\n",
    "\n",
    "    if show_examples:\n",
    "        for value in counts.index:\n",
    "            display_examples_section(f\"Example Posts for {field_name}\")\n",
    "            html_output = '<div style=\"display: flex; flex-direction: row; justify-content: space-between;\">'\n",
    "            example_posts = df[df[field_name] == value].sample(n=3)\n",
    "            for _, post in example_posts.iterrows():\n",
    "                html_output += format_post(post['subreddit'], post['title'], post['text'], url=post.get('url'))\n",
    "            html_output += \"</div>\"\n",
    "            display(HTML(html_output))\n",
    "\n",
    "def plot_integer_distribution(df, field_name, title, show_examples=False, save=True):\n",
    "    fig = px.histogram(df, x=field_name, title=title, nbins=10)\n",
    "    fig.update_traces(histnorm='percent')\n",
    "    \n",
    "    mean_val = df[field_name].mean()\n",
    "    fig.add_vline(x=mean_val, line_dash=\"dash\", line_color=\"red\",\n",
    "                 annotation_text=f\"Mean: {mean_val:.2f}\",\n",
    "                 annotation_position=\"top right\")\n",
    "    \n",
    "    fig.update_layout(yaxis_title=\"Percent\")\n",
    "    \n",
    "    if save:\n",
    "        if not os.path.exists('plots'):\n",
    "            os.makedirs('plots')\n",
    "        fig.write_image(f\"plots/{title.lower().replace(' ', '_')}.png\")\n",
    "    \n",
    "    fig.show()\n",
    "\n",
    "    if show_examples:\n",
    "        display_examples_section(f\"Example Posts with {field_name} Scores\")\n",
    "        html_output = '<div style=\"display: flex; flex-direction: row; justify-content: space-between;\">'\n",
    "        example_posts = df.sample(n=3)\n",
    "        for _, post in example_posts.iterrows():\n",
    "            html_output += format_post(post['subreddit'], post['title'], post['text'], post[field_name], url=post.get('url'))\n",
    "        html_output += \"</div>\"\n",
    "        display(HTML(html_output))\n",
    "\n",
    "def plot_list_field(df, field_name, title, limit=10, show_examples=False, save=True):\n",
    "    all_items = list(itertools.chain(*df[field_name].dropna()))\n",
    "    item_counts = Counter(all_items).most_common(limit)\n",
    "    if item_counts:\n",
    "        df_counts = pd.DataFrame(item_counts, columns=[field_name, 'count'])\n",
    "        total_posts = len(df)\n",
    "        df_counts['percent'] = df_counts['count'].apply(lambda x: (x / total_posts) * 100)\n",
    "        \n",
    "        fig = px.bar(df_counts, x=field_name, y='percent', title=title)\n",
    "        fig.update_layout(yaxis_title=\"Percent of Posts\")\n",
    "        \n",
    "        if save:\n",
    "            if not os.path.exists('plots'):\n",
    "                os.makedirs('plots')\n",
    "            fig.write_image(f\"plots/{title.lower().replace(' ', '_')}.png\")\n",
    "        \n",
    "        fig.show()\n",
    "\n",
    "        if show_examples:\n",
    "            display_examples_section(f\"Example Posts with Keywords\")\n",
    "            html_output = '<div style=\"display: flex; flex-direction: row; justify-content: space-between;\">'\n",
    "            example_posts = df[df[field_name].apply(lambda x: len(x) > 0)].sample(n=3)\n",
    "            for _, post in example_posts.iterrows():\n",
    "                html_output += format_post(\n",
    "                    post['subreddit'], \n",
    "                    post['title'], \n",
    "                    post['text'],\n",
    "                    url=post.get('url'),\n",
    "                    keywords=post[field_name]\n",
    "                )\n",
    "            html_output += \"</div>\"\n",
    "            display(HTML(html_output))\n",
    "\n",
    "def plot_all_fields(df, fields_dict, show_examples=True, save=False):\n",
    "    for field_name, field_info in fields_dict.items():\n",
    "        if field_info['type'] == 'boolean':\n",
    "            plot_binary_distribution(df, field_name, f'Distribution of {field_name}', show_examples=show_examples, save=save)\n",
    "        elif field_info['type'] == 'integer':\n",
    "            plot_integer_distribution(df, field_name, f'{field_name} Distribution', show_examples=show_examples, save=save)\n",
    "        elif field_info['type'] == 'array':\n",
    "            plot_list_field(df, field_name, f'Most Common {field_name.capitalize()}', show_examples=show_examples, save=save)"
   ]
  },
  {
   "cell_type": "markdown",
   "metadata": {},
   "source": [
    "# Analysis - general"
   ]
  },
  {
   "cell_type": "code",
   "execution_count": null,
   "metadata": {},
   "outputs": [],
   "source": []
  },
  {
   "cell_type": "code",
   "execution_count": 35,
   "metadata": {},
   "outputs": [
    {
     "data": {
      "text/html": [
       "<div style=\"display: flex; flex-direction: row; justify-content: space-between;\">\n",
       "    <div style=\"border: 1px solid #ddd; border-radius: 8px; padding: 15px; margin: 10px 5px; background-color: #f9f9f9; display: inline-block; vertical-align: top; width: 30%;\">\n",
       "        <div style=\"color: #666; font-size: 0.9em; margin-bottom: 5px;\">\n",
       "            <a href=\"https://reddit.com/r/Healthygamergg\" target=\"_blank\" style=\"text-decoration: none; color: inherit;\">r/Healthygamergg</a>\n",
       "        </div>\n",
       "        <div style=\"color: #333; font-size: 1.1em; font-weight: bold; margin-bottom: 10px;\">\n",
       "            <a href=\"https://reddit.com/r/Healthygamergg/comments/1gar8jz/self_therapy_and_self_exploration_whirlwind/\" target=\"_blank\" style=\"text-decoration: none; color: inherit;\">self therapy and self exploration whirlwind</a>\n",
       "        </div>\n",
       "        <div style=\"color: #1a0dab; margin-bottom: 10px;\">Score: 1</div>\n",
       "        \n",
       "        <div style=\"color: #444; line-height: 1.4; max-height: 200px; overflow-y: auto;\">hey so im im 23 (M) and ive pretty much been using chat gpt to therapize myself the past few months, ive been to therapy for a year and learned some stuff but alot of what i know and learned comses from my own things as well like meditation self questioning/ confronting, and overall just being able to kind of build myself as a new person just by kind of looking at myself as a character in simulation, now to mention i had very emotionally unintelligent parents they would often take out their emot...</div>\n",
       "    </div>\n",
       "    \n",
       "    <div style=\"border: 1px solid #ddd; border-radius: 8px; padding: 15px; margin: 10px 5px; background-color: #f9f9f9; display: inline-block; vertical-align: top; width: 30%;\">\n",
       "        <div style=\"color: #666; font-size: 0.9em; margin-bottom: 5px;\">\n",
       "            <a href=\"https://reddit.com/r/Healthygamergg\" target=\"_blank\" style=\"text-decoration: none; color: inherit;\">r/Healthygamergg</a>\n",
       "        </div>\n",
       "        <div style=\"color: #333; font-size: 1.1em; font-weight: bold; margin-bottom: 10px;\">\n",
       "            <a href=\"https://reddit.com/r/Healthygamergg/comments/1d3ky3b/i_am_and_18m_and_just_wanted_to_talk/\" target=\"_blank\" style=\"text-decoration: none; color: inherit;\">I am and 18M and just wanted to talk </a>\n",
       "        </div>\n",
       "        <div style=\"color: #1a0dab; margin-bottom: 10px;\">Score: 6</div>\n",
       "        \n",
       "        <div style=\"color: #444; line-height: 1.4; max-height: 200px; overflow-y: auto;\">I am kinda in a tough spot right now. I just feel lost and anxious about the future. I quit high school in September because I just couldn’t deal with being alone anymore. Like I was about to enter my freshman year this year while all my friends already finished high school, and the people i knew at that I high school were all junkies and shit, they were just a bad influence and I didn’t want to talk to them. I know I am dumb and I should’ve pushed through the pain and shit, but I didn’t have su...</div>\n",
       "    </div>\n",
       "    \n",
       "    <div style=\"border: 1px solid #ddd; border-radius: 8px; padding: 15px; margin: 10px 5px; background-color: #f9f9f9; display: inline-block; vertical-align: top; width: 30%;\">\n",
       "        <div style=\"color: #666; font-size: 0.9em; margin-bottom: 5px;\">\n",
       "            <a href=\"https://reddit.com/r/Healthygamergg\" target=\"_blank\" style=\"text-decoration: none; color: inherit;\">r/Healthygamergg</a>\n",
       "        </div>\n",
       "        <div style=\"color: #333; font-size: 1.1em; font-weight: bold; margin-bottom: 10px;\">\n",
       "            <a href=\"https://reddit.com/r/Healthygamergg/comments/1dlhj2c/my_worse_fear_is_im_the_problem/\" target=\"_blank\" style=\"text-decoration: none; color: inherit;\">My worse fear is I'm the problem </a>\n",
       "        </div>\n",
       "        <div style=\"color: #1a0dab; margin-bottom: 10px;\">Score: 7</div>\n",
       "        \n",
       "        <div style=\"color: #444; line-height: 1.4; max-height: 200px; overflow-y: auto;\">I'm in my mid 30s, high functioning autistic, and I've tried really hard to have a normal life. I have 4 degrees. 1 in aerospace, 1 in general it, another in network computer, and finally a higher degree in network engineering with a focus of cyber security. I've worked 2 min wage jobs, a few factory jobs, and I tried many times working for myself. Each job I've dealt with extreme workplace harassment. One of the factory jobs fired me on the first day and hour after the boss decided to follow wh...</div>\n",
       "    </div>\n",
       "    \n",
       "    <div style=\"border: 1px solid #ddd; border-radius: 8px; padding: 15px; margin: 10px 5px; background-color: #f9f9f9; display: inline-block; vertical-align: top; width: 30%;\">\n",
       "        <div style=\"color: #666; font-size: 0.9em; margin-bottom: 5px;\">\n",
       "            <a href=\"https://reddit.com/r/Healthygamergg\" target=\"_blank\" style=\"text-decoration: none; color: inherit;\">r/Healthygamergg</a>\n",
       "        </div>\n",
       "        <div style=\"color: #333; font-size: 1.1em; font-weight: bold; margin-bottom: 10px;\">\n",
       "            <a href=\"https://reddit.com/r/Healthygamergg/comments/1gokmsv/i_talk_to_chatgpt_a_lot_and_asked_it_to_remember/\" target=\"_blank\" style=\"text-decoration: none; color: inherit;\">I talk to chatgpt a lot and asked it to remember things that it thinks a human therapist would like to know about me. Would it be a bit much to print these things and give it to him?</a>\n",
       "        </div>\n",
       "        <div style=\"color: #1a0dab; margin-bottom: 10px;\">Score: 4</div>\n",
       "        \n",
       "        <div style=\"color: #444; line-height: 1.4; max-height: 200px; overflow-y: auto;\">\n",
       "\n",
       "\n",
       "\n",
       "\n",
       "\n",
       "I come here and ask because if I asked my therapist he'd say no problem, and if I asked chatgpt it'd keep neutral and just say \"do what you feel\" lol. \n",
       "\n",
       "But I'm just wondering from the therapist's perspective, would it be a bit much to dump a huge dossier of the struggles in my mind onto them?...</div>\n",
       "    </div>\n",
       "    \n",
       "    <div style=\"border: 1px solid #ddd; border-radius: 8px; padding: 15px; margin: 10px 5px; background-color: #f9f9f9; display: inline-block; vertical-align: top; width: 30%;\">\n",
       "        <div style=\"color: #666; font-size: 0.9em; margin-bottom: 5px;\">\n",
       "            <a href=\"https://reddit.com/r/Healthygamergg\" target=\"_blank\" style=\"text-decoration: none; color: inherit;\">r/Healthygamergg</a>\n",
       "        </div>\n",
       "        <div style=\"color: #333; font-size: 1.1em; font-weight: bold; margin-bottom: 10px;\">\n",
       "            <a href=\"https://reddit.com/r/Healthygamergg/comments/1c415m5/ai_therapist/\" target=\"_blank\" style=\"text-decoration: none; color: inherit;\">AI Therapist</a>\n",
       "        </div>\n",
       "        <div style=\"color: #1a0dab; margin-bottom: 10px;\">Score: 21</div>\n",
       "        \n",
       "        <div style=\"color: #444; line-height: 1.4; max-height: 200px; overflow-y: auto;\">I came by this post about \"AI therapy\". Initially I thought this was stupid and scrolled by it. I mean, how can an AI help with my emotions when it doesn't even have emotions itself. I always thought therapy would be one of the last things taken over by AI if there was ever an AI uprising.\n",
       "\n",
       "But recently I've been feeling a bit overwhelmed with some personal/relationship issues and felt really confused about my emotions and what to do about my issues. Since there are a lot of difficulties getting...</div>\n",
       "    </div>\n",
       "    </div>"
      ],
      "text/plain": [
       "<IPython.core.display.HTML object>"
      ]
     },
     "metadata": {},
     "output_type": "display_data"
    }
   ],
   "source": [
    "# Display example posts from a specific subreddit\n",
    "subreddit = 'Healthygamergg'\n",
    "subreddit_posts = samples[samples['subreddit'] == subreddit].sample(n=5)\n",
    "\n",
    "html_output = '<div style=\"display: flex; flex-direction: row; justify-content: space-between;\">'\n",
    "for _, post in subreddit_posts.iterrows():\n",
    "    html_output += format_post(\n",
    "        subreddit=post['subreddit'],\n",
    "        title=post['title'],\n",
    "        text=post['text'],\n",
    "        score=post['score'],\n",
    "        url=post['url']\n",
    "    )\n",
    "html_output += \"</div>\"\n",
    "display(HTML(html_output))\n"
   ]
  },
  {
   "cell_type": "code",
   "execution_count": 107,
   "metadata": {},
   "outputs": [
    {
     "data": {
      "application/vnd.plotly.v1+json": {
       "config": {
        "plotlyServerURL": "https://plot.ly"
       },
       "data": [
        {
         "hovertemplate": "Week Start Date (MM-DD-YY)=%{x}<br>Number of Posts=%{y}<extra></extra>",
         "legendgroup": "",
         "line": {
          "color": "#636efa",
          "dash": "solid"
         },
         "marker": {
          "symbol": "circle"
         },
         "mode": "lines",
         "name": "",
         "orientation": "v",
         "showlegend": false,
         "type": "scatter",
         "x": [
          "2023-11",
          "2023-12",
          "2024-01",
          "2024-02",
          "2024-03",
          "2024-04",
          "2024-05",
          "2024-06",
          "2024-07",
          "2024-08",
          "2024-09",
          "2024-10",
          "2024-11"
         ],
         "xaxis": "x",
         "y": [
          3,
          21,
          17,
          18,
          18,
          24,
          33,
          46,
          31,
          66,
          60,
          94,
          85
         ],
         "yaxis": "y"
        }
       ],
       "layout": {
        "legend": {
         "tracegroupgap": 0
        },
        "template": {
         "data": {
          "bar": [
           {
            "error_x": {
             "color": "#2a3f5f"
            },
            "error_y": {
             "color": "#2a3f5f"
            },
            "marker": {
             "line": {
              "color": "#E5ECF6",
              "width": 0.5
             },
             "pattern": {
              "fillmode": "overlay",
              "size": 10,
              "solidity": 0.2
             }
            },
            "type": "bar"
           }
          ],
          "barpolar": [
           {
            "marker": {
             "line": {
              "color": "#E5ECF6",
              "width": 0.5
             },
             "pattern": {
              "fillmode": "overlay",
              "size": 10,
              "solidity": 0.2
             }
            },
            "type": "barpolar"
           }
          ],
          "carpet": [
           {
            "aaxis": {
             "endlinecolor": "#2a3f5f",
             "gridcolor": "white",
             "linecolor": "white",
             "minorgridcolor": "white",
             "startlinecolor": "#2a3f5f"
            },
            "baxis": {
             "endlinecolor": "#2a3f5f",
             "gridcolor": "white",
             "linecolor": "white",
             "minorgridcolor": "white",
             "startlinecolor": "#2a3f5f"
            },
            "type": "carpet"
           }
          ],
          "choropleth": [
           {
            "colorbar": {
             "outlinewidth": 0,
             "ticks": ""
            },
            "type": "choropleth"
           }
          ],
          "contour": [
           {
            "colorbar": {
             "outlinewidth": 0,
             "ticks": ""
            },
            "colorscale": [
             [
              0,
              "#0d0887"
             ],
             [
              0.1111111111111111,
              "#46039f"
             ],
             [
              0.2222222222222222,
              "#7201a8"
             ],
             [
              0.3333333333333333,
              "#9c179e"
             ],
             [
              0.4444444444444444,
              "#bd3786"
             ],
             [
              0.5555555555555556,
              "#d8576b"
             ],
             [
              0.6666666666666666,
              "#ed7953"
             ],
             [
              0.7777777777777778,
              "#fb9f3a"
             ],
             [
              0.8888888888888888,
              "#fdca26"
             ],
             [
              1,
              "#f0f921"
             ]
            ],
            "type": "contour"
           }
          ],
          "contourcarpet": [
           {
            "colorbar": {
             "outlinewidth": 0,
             "ticks": ""
            },
            "type": "contourcarpet"
           }
          ],
          "heatmap": [
           {
            "colorbar": {
             "outlinewidth": 0,
             "ticks": ""
            },
            "colorscale": [
             [
              0,
              "#0d0887"
             ],
             [
              0.1111111111111111,
              "#46039f"
             ],
             [
              0.2222222222222222,
              "#7201a8"
             ],
             [
              0.3333333333333333,
              "#9c179e"
             ],
             [
              0.4444444444444444,
              "#bd3786"
             ],
             [
              0.5555555555555556,
              "#d8576b"
             ],
             [
              0.6666666666666666,
              "#ed7953"
             ],
             [
              0.7777777777777778,
              "#fb9f3a"
             ],
             [
              0.8888888888888888,
              "#fdca26"
             ],
             [
              1,
              "#f0f921"
             ]
            ],
            "type": "heatmap"
           }
          ],
          "heatmapgl": [
           {
            "colorbar": {
             "outlinewidth": 0,
             "ticks": ""
            },
            "colorscale": [
             [
              0,
              "#0d0887"
             ],
             [
              0.1111111111111111,
              "#46039f"
             ],
             [
              0.2222222222222222,
              "#7201a8"
             ],
             [
              0.3333333333333333,
              "#9c179e"
             ],
             [
              0.4444444444444444,
              "#bd3786"
             ],
             [
              0.5555555555555556,
              "#d8576b"
             ],
             [
              0.6666666666666666,
              "#ed7953"
             ],
             [
              0.7777777777777778,
              "#fb9f3a"
             ],
             [
              0.8888888888888888,
              "#fdca26"
             ],
             [
              1,
              "#f0f921"
             ]
            ],
            "type": "heatmapgl"
           }
          ],
          "histogram": [
           {
            "marker": {
             "pattern": {
              "fillmode": "overlay",
              "size": 10,
              "solidity": 0.2
             }
            },
            "type": "histogram"
           }
          ],
          "histogram2d": [
           {
            "colorbar": {
             "outlinewidth": 0,
             "ticks": ""
            },
            "colorscale": [
             [
              0,
              "#0d0887"
             ],
             [
              0.1111111111111111,
              "#46039f"
             ],
             [
              0.2222222222222222,
              "#7201a8"
             ],
             [
              0.3333333333333333,
              "#9c179e"
             ],
             [
              0.4444444444444444,
              "#bd3786"
             ],
             [
              0.5555555555555556,
              "#d8576b"
             ],
             [
              0.6666666666666666,
              "#ed7953"
             ],
             [
              0.7777777777777778,
              "#fb9f3a"
             ],
             [
              0.8888888888888888,
              "#fdca26"
             ],
             [
              1,
              "#f0f921"
             ]
            ],
            "type": "histogram2d"
           }
          ],
          "histogram2dcontour": [
           {
            "colorbar": {
             "outlinewidth": 0,
             "ticks": ""
            },
            "colorscale": [
             [
              0,
              "#0d0887"
             ],
             [
              0.1111111111111111,
              "#46039f"
             ],
             [
              0.2222222222222222,
              "#7201a8"
             ],
             [
              0.3333333333333333,
              "#9c179e"
             ],
             [
              0.4444444444444444,
              "#bd3786"
             ],
             [
              0.5555555555555556,
              "#d8576b"
             ],
             [
              0.6666666666666666,
              "#ed7953"
             ],
             [
              0.7777777777777778,
              "#fb9f3a"
             ],
             [
              0.8888888888888888,
              "#fdca26"
             ],
             [
              1,
              "#f0f921"
             ]
            ],
            "type": "histogram2dcontour"
           }
          ],
          "mesh3d": [
           {
            "colorbar": {
             "outlinewidth": 0,
             "ticks": ""
            },
            "type": "mesh3d"
           }
          ],
          "parcoords": [
           {
            "line": {
             "colorbar": {
              "outlinewidth": 0,
              "ticks": ""
             }
            },
            "type": "parcoords"
           }
          ],
          "pie": [
           {
            "automargin": true,
            "type": "pie"
           }
          ],
          "scatter": [
           {
            "fillpattern": {
             "fillmode": "overlay",
             "size": 10,
             "solidity": 0.2
            },
            "type": "scatter"
           }
          ],
          "scatter3d": [
           {
            "line": {
             "colorbar": {
              "outlinewidth": 0,
              "ticks": ""
             }
            },
            "marker": {
             "colorbar": {
              "outlinewidth": 0,
              "ticks": ""
             }
            },
            "type": "scatter3d"
           }
          ],
          "scattercarpet": [
           {
            "marker": {
             "colorbar": {
              "outlinewidth": 0,
              "ticks": ""
             }
            },
            "type": "scattercarpet"
           }
          ],
          "scattergeo": [
           {
            "marker": {
             "colorbar": {
              "outlinewidth": 0,
              "ticks": ""
             }
            },
            "type": "scattergeo"
           }
          ],
          "scattergl": [
           {
            "marker": {
             "colorbar": {
              "outlinewidth": 0,
              "ticks": ""
             }
            },
            "type": "scattergl"
           }
          ],
          "scattermapbox": [
           {
            "marker": {
             "colorbar": {
              "outlinewidth": 0,
              "ticks": ""
             }
            },
            "type": "scattermapbox"
           }
          ],
          "scatterpolar": [
           {
            "marker": {
             "colorbar": {
              "outlinewidth": 0,
              "ticks": ""
             }
            },
            "type": "scatterpolar"
           }
          ],
          "scatterpolargl": [
           {
            "marker": {
             "colorbar": {
              "outlinewidth": 0,
              "ticks": ""
             }
            },
            "type": "scatterpolargl"
           }
          ],
          "scatterternary": [
           {
            "marker": {
             "colorbar": {
              "outlinewidth": 0,
              "ticks": ""
             }
            },
            "type": "scatterternary"
           }
          ],
          "surface": [
           {
            "colorbar": {
             "outlinewidth": 0,
             "ticks": ""
            },
            "colorscale": [
             [
              0,
              "#0d0887"
             ],
             [
              0.1111111111111111,
              "#46039f"
             ],
             [
              0.2222222222222222,
              "#7201a8"
             ],
             [
              0.3333333333333333,
              "#9c179e"
             ],
             [
              0.4444444444444444,
              "#bd3786"
             ],
             [
              0.5555555555555556,
              "#d8576b"
             ],
             [
              0.6666666666666666,
              "#ed7953"
             ],
             [
              0.7777777777777778,
              "#fb9f3a"
             ],
             [
              0.8888888888888888,
              "#fdca26"
             ],
             [
              1,
              "#f0f921"
             ]
            ],
            "type": "surface"
           }
          ],
          "table": [
           {
            "cells": {
             "fill": {
              "color": "#EBF0F8"
             },
             "line": {
              "color": "white"
             }
            },
            "header": {
             "fill": {
              "color": "#C8D4E3"
             },
             "line": {
              "color": "white"
             }
            },
            "type": "table"
           }
          ]
         },
         "layout": {
          "annotationdefaults": {
           "arrowcolor": "#2a3f5f",
           "arrowhead": 0,
           "arrowwidth": 1
          },
          "autotypenumbers": "strict",
          "coloraxis": {
           "colorbar": {
            "outlinewidth": 0,
            "ticks": ""
           }
          },
          "colorscale": {
           "diverging": [
            [
             0,
             "#8e0152"
            ],
            [
             0.1,
             "#c51b7d"
            ],
            [
             0.2,
             "#de77ae"
            ],
            [
             0.3,
             "#f1b6da"
            ],
            [
             0.4,
             "#fde0ef"
            ],
            [
             0.5,
             "#f7f7f7"
            ],
            [
             0.6,
             "#e6f5d0"
            ],
            [
             0.7,
             "#b8e186"
            ],
            [
             0.8,
             "#7fbc41"
            ],
            [
             0.9,
             "#4d9221"
            ],
            [
             1,
             "#276419"
            ]
           ],
           "sequential": [
            [
             0,
             "#0d0887"
            ],
            [
             0.1111111111111111,
             "#46039f"
            ],
            [
             0.2222222222222222,
             "#7201a8"
            ],
            [
             0.3333333333333333,
             "#9c179e"
            ],
            [
             0.4444444444444444,
             "#bd3786"
            ],
            [
             0.5555555555555556,
             "#d8576b"
            ],
            [
             0.6666666666666666,
             "#ed7953"
            ],
            [
             0.7777777777777778,
             "#fb9f3a"
            ],
            [
             0.8888888888888888,
             "#fdca26"
            ],
            [
             1,
             "#f0f921"
            ]
           ],
           "sequentialminus": [
            [
             0,
             "#0d0887"
            ],
            [
             0.1111111111111111,
             "#46039f"
            ],
            [
             0.2222222222222222,
             "#7201a8"
            ],
            [
             0.3333333333333333,
             "#9c179e"
            ],
            [
             0.4444444444444444,
             "#bd3786"
            ],
            [
             0.5555555555555556,
             "#d8576b"
            ],
            [
             0.6666666666666666,
             "#ed7953"
            ],
            [
             0.7777777777777778,
             "#fb9f3a"
            ],
            [
             0.8888888888888888,
             "#fdca26"
            ],
            [
             1,
             "#f0f921"
            ]
           ]
          },
          "colorway": [
           "#636efa",
           "#EF553B",
           "#00cc96",
           "#ab63fa",
           "#FFA15A",
           "#19d3f3",
           "#FF6692",
           "#B6E880",
           "#FF97FF",
           "#FECB52"
          ],
          "font": {
           "color": "#2a3f5f"
          },
          "geo": {
           "bgcolor": "white",
           "lakecolor": "white",
           "landcolor": "#E5ECF6",
           "showlakes": true,
           "showland": true,
           "subunitcolor": "white"
          },
          "hoverlabel": {
           "align": "left"
          },
          "hovermode": "closest",
          "mapbox": {
           "style": "light"
          },
          "paper_bgcolor": "white",
          "plot_bgcolor": "#E5ECF6",
          "polar": {
           "angularaxis": {
            "gridcolor": "white",
            "linecolor": "white",
            "ticks": ""
           },
           "bgcolor": "#E5ECF6",
           "radialaxis": {
            "gridcolor": "white",
            "linecolor": "white",
            "ticks": ""
           }
          },
          "scene": {
           "xaxis": {
            "backgroundcolor": "#E5ECF6",
            "gridcolor": "white",
            "gridwidth": 2,
            "linecolor": "white",
            "showbackground": true,
            "ticks": "",
            "zerolinecolor": "white"
           },
           "yaxis": {
            "backgroundcolor": "#E5ECF6",
            "gridcolor": "white",
            "gridwidth": 2,
            "linecolor": "white",
            "showbackground": true,
            "ticks": "",
            "zerolinecolor": "white"
           },
           "zaxis": {
            "backgroundcolor": "#E5ECF6",
            "gridcolor": "white",
            "gridwidth": 2,
            "linecolor": "white",
            "showbackground": true,
            "ticks": "",
            "zerolinecolor": "white"
           }
          },
          "shapedefaults": {
           "line": {
            "color": "#2a3f5f"
           }
          },
          "ternary": {
           "aaxis": {
            "gridcolor": "white",
            "linecolor": "white",
            "ticks": ""
           },
           "baxis": {
            "gridcolor": "white",
            "linecolor": "white",
            "ticks": ""
           },
           "bgcolor": "#E5ECF6",
           "caxis": {
            "gridcolor": "white",
            "linecolor": "white",
            "ticks": ""
           }
          },
          "title": {
           "x": 0.05
          },
          "xaxis": {
           "automargin": true,
           "gridcolor": "white",
           "linecolor": "white",
           "ticks": "",
           "title": {
            "standoff": 15
           },
           "zerolinecolor": "white",
           "zerolinewidth": 2
          },
          "yaxis": {
           "automargin": true,
           "gridcolor": "white",
           "linecolor": "white",
           "ticks": "",
           "title": {
            "standoff": 15
           },
           "zerolinecolor": "white",
           "zerolinewidth": 2
          }
         }
        },
        "title": {
         "text": "Distribution of Posts Over Time"
        },
        "xaxis": {
         "anchor": "y",
         "domain": [
          0,
          1
         ],
         "ticktext": [
          "11-01-23",
          "12-01-23",
          "01-01-24",
          "02-01-24",
          "03-01-24",
          "04-01-24",
          "05-01-24",
          "06-01-24",
          "07-01-24",
          "08-01-24",
          "09-01-24",
          "10-01-24",
          "11-01-24"
         ],
         "tickvals": [
          "2023-11",
          "2023-12",
          "2024-01",
          "2024-02",
          "2024-03",
          "2024-04",
          "2024-05",
          "2024-06",
          "2024-07",
          "2024-08",
          "2024-09",
          "2024-10",
          "2024-11"
         ],
         "title": {
          "text": "Week Start Date (MM-DD-YY)"
         }
        },
        "yaxis": {
         "anchor": "x",
         "domain": [
          0,
          1
         ],
         "title": {
          "text": "Number of Posts"
         }
        }
       }
      }
     },
     "metadata": {},
     "output_type": "display_data"
    },
    {
     "data": {
      "application/vnd.plotly.v1+json": {
       "config": {
        "plotlyServerURL": "https://plot.ly"
       },
       "data": [
        {
         "alignmentgroup": "True",
         "bingroup": "x",
         "hovertemplate": "subreddit=%{x}<br>count=%{y}<extra></extra>",
         "legendgroup": "",
         "marker": {
          "color": "#636efa",
          "pattern": {
           "shape": ""
          }
         },
         "name": "",
         "offsetgroup": "",
         "orientation": "v",
         "showlegend": false,
         "type": "histogram",
         "x": [
          "ADHD",
          "ADHD",
          "ADHD",
          "ADHD",
          "ADHD",
          "ADHD",
          "ADHD",
          "ADHD",
          "ADHD",
          "ADHD",
          "ADHD",
          "ADHD",
          "ADHD",
          "ADHD",
          "Anxiety",
          "Anxiety",
          "Anxiety",
          "Anxiety",
          "Anxiety",
          "Anxiety",
          "Anxiety",
          "Anxiety",
          "Anxiety",
          "Anxiety",
          "Anxiety",
          "Anxiety",
          "Anxiety",
          "Anxiety",
          "CPTSD",
          "CPTSD",
          "CPTSD",
          "CPTSD",
          "CPTSD",
          "CPTSD",
          "CPTSD",
          "CPTSD",
          "CPTSD",
          "CPTSD",
          "CPTSD",
          "CPTSD",
          "CPTSD",
          "CPTSD",
          "CPTSD",
          "CPTSD",
          "CPTSD",
          "CPTSD",
          "CPTSD",
          "CPTSD",
          "CPTSD",
          "CPTSD",
          "CPTSD",
          "CPTSD",
          "CPTSD",
          "CPTSD",
          "CPTSD",
          "CPTSD",
          "CPTSD",
          "CPTSD",
          "CPTSD",
          "CPTSD",
          "CPTSD",
          "CPTSD",
          "CPTSD",
          "CPTSD",
          "CPTSD",
          "CPTSD",
          "CPTSD",
          "CPTSD",
          "CPTSD",
          "CPTSD",
          "CPTSD",
          "DecidingToBeBetter",
          "DecidingToBeBetter",
          "DecidingToBeBetter",
          "DecidingToBeBetter",
          "DecidingToBeBetter",
          "DecidingToBeBetter",
          "DecidingToBeBetter",
          "DecidingToBeBetter",
          "DecidingToBeBetter",
          "DecidingToBeBetter",
          "DecidingToBeBetter",
          "DecidingToBeBetter",
          "DecidingToBeBetter",
          "DecidingToBeBetter",
          "DecidingToBeBetter",
          "DecidingToBeBetter",
          "DecidingToBeBetter",
          "DecidingToBeBetter",
          "DecidingToBeBetter",
          "DecidingToBeBetter",
          "depression",
          "depression",
          "depression",
          "depression",
          "depression",
          "depression",
          "depression",
          "depression",
          "depression",
          "depression",
          "depression",
          "depression",
          "depression",
          "depression",
          "depression",
          "depression",
          "depression",
          "depression",
          "depression",
          "depression",
          "depression",
          "depression",
          "depression",
          "depression",
          "depression",
          "depression",
          "depression",
          "depression",
          "depression",
          "depression",
          "depression",
          "depression",
          "depression_help",
          "depression_help",
          "depression_help",
          "depression_help",
          "depression_help",
          "depression_help",
          "depression_help",
          "depression_help",
          "depression_help",
          "depression_help",
          "depression_help",
          "Healthygamergg",
          "Healthygamergg",
          "Healthygamergg",
          "Healthygamergg",
          "Healthygamergg",
          "Healthygamergg",
          "Healthygamergg",
          "Healthygamergg",
          "Healthygamergg",
          "Healthygamergg",
          "Healthygamergg",
          "Healthygamergg",
          "Healthygamergg",
          "Healthygamergg",
          "Healthygamergg",
          "Healthygamergg",
          "Healthygamergg",
          "Healthygamergg",
          "Healthygamergg",
          "mentalhealth",
          "mentalhealth",
          "mentalhealth",
          "mentalhealth",
          "mentalhealth",
          "mentalhealth",
          "mentalhealth",
          "mentalhealth",
          "mentalhealth",
          "mentalhealth",
          "mentalhealth",
          "mentalhealth",
          "mentalhealth",
          "mentalhealth",
          "mentalhealth",
          "mentalhealth",
          "mentalhealth",
          "mentalhealth",
          "mentalhealth",
          "mentalhealth",
          "mentalhealth",
          "mentalhealth",
          "mentalhealth",
          "mentalhealth",
          "NoFap",
          "NoFap",
          "NoFap",
          "NoFap",
          "NoFap",
          "NoFap",
          "NoFap",
          "OCD",
          "OCD",
          "OCD",
          "OCD",
          "OCD",
          "OCD",
          "OCD",
          "OCD",
          "OCD",
          "OCD",
          "OCD",
          "OCD",
          "OCD",
          "OCD",
          "OCD",
          "OCD",
          "OCD",
          "OCD",
          "OCD",
          "OCD",
          "OCD",
          "offmychest",
          "offmychest",
          "offmychest",
          "offmychest",
          "offmychest",
          "offmychest",
          "offmychest",
          "offmychest",
          "offmychest",
          "offmychest",
          "offmychest",
          "offmychest",
          "offmychest",
          "offmychest",
          "offmychest",
          "offmychest",
          "offmychest",
          "offmychest",
          "offmychest",
          "raisedbynarcissists",
          "raisedbynarcissists",
          "raisedbynarcissists",
          "raisedbynarcissists",
          "raisedbynarcissists",
          "raisedbynarcissists",
          "raisedbynarcissists",
          "raisedbynarcissists",
          "raisedbynarcissists",
          "raisedbynarcissists",
          "raisedbynarcissists",
          "raisedbynarcissists",
          "raisedbynarcissists",
          "raisedbynarcissists",
          "raisedbynarcissists",
          "raisedbynarcissists",
          "raisedbynarcissists",
          "raisedbynarcissists",
          "raisedbynarcissists",
          "raisedbynarcissists",
          "raisedbynarcissists",
          "raisedbynarcissists",
          "raisedbynarcissists",
          "raisedbynarcissists",
          "raisedbynarcissists",
          "raisedbynarcissists",
          "raisedbynarcissists",
          "selfimprovement",
          "selfimprovement",
          "selfimprovement",
          "selfimprovement",
          "selfimprovement",
          "selfimprovement",
          "selfimprovement",
          "selfimprovement",
          "selfimprovement",
          "selfimprovement",
          "selfimprovement",
          "selfimprovement",
          "selfimprovement",
          "selfimprovement",
          "socialanxiety",
          "socialanxiety",
          "socialanxiety",
          "socialanxiety",
          "socialanxiety",
          "socialanxiety",
          "socialanxiety",
          "socialanxiety",
          "socialanxiety",
          "socialanxiety",
          "socialanxiety",
          "socialanxiety",
          "socialanxiety",
          "socialanxiety",
          "socialanxiety",
          "socialanxiety",
          "socialanxiety",
          "socialanxiety",
          "socialanxiety",
          "socialanxiety",
          "socialskills",
          "socialskills",
          "socialskills",
          "socialskills",
          "socialskills",
          "socialskills",
          "SuicideWatch",
          "SuicideWatch",
          "SuicideWatch",
          "SuicideWatch",
          "SuicideWatch",
          "SuicideWatch",
          "SuicideWatch",
          "SuicideWatch",
          "SuicideWatch",
          "SuicideWatch",
          "SuicideWatch",
          "SuicideWatch",
          "SuicideWatch",
          "SuicideWatch",
          "SuicideWatch",
          "SuicideWatch",
          "SuicideWatch",
          "SuicideWatch",
          "SuicideWatch",
          "SuicideWatch",
          "SuicideWatch",
          "SuicideWatch",
          "TalkTherapy",
          "TalkTherapy",
          "TalkTherapy",
          "TalkTherapy",
          "TalkTherapy",
          "TalkTherapy",
          "TalkTherapy",
          "TalkTherapy",
          "TalkTherapy",
          "TalkTherapy",
          "TalkTherapy",
          "TalkTherapy",
          "TalkTherapy",
          "TalkTherapy",
          "therapy",
          "therapy",
          "therapy",
          "therapy",
          "therapy",
          "therapy",
          "therapy",
          "therapy",
          "therapy",
          "therapy",
          "therapy",
          "therapy",
          "therapy",
          "therapy",
          "therapy",
          "therapy",
          "therapy",
          "therapy",
          "therapy",
          "TrueOffMyChest",
          "TrueOffMyChest",
          "TrueOffMyChest",
          "TrueOffMyChest",
          "TrueOffMyChest",
          "TrueOffMyChest",
          "TrueOffMyChest",
          "TrueOffMyChest",
          "TrueOffMyChest",
          "TrueOffMyChest",
          "TrueOffMyChest",
          "TrueOffMyChest",
          "TrueOffMyChest",
          "ChatGPT",
          "ChatGPT",
          "ChatGPT",
          "ChatGPT",
          "ChatGPT",
          "ChatGPT",
          "ChatGPT",
          "ChatGPT",
          "ChatGPT",
          "ChatGPT",
          "NoFap",
          "ChatGPT",
          "therapy",
          "ChatGPT",
          "ChatGPT",
          "therapy",
          "ChatGPT",
          "socialanxiety",
          "mentalhealth",
          "ChatGPT",
          "OCD",
          "ChatGPT",
          "ChatGPT"
         ],
         "xaxis": "x",
         "yaxis": "y"
        }
       ],
       "layout": {
        "barmode": "relative",
        "legend": {
         "tracegroupgap": 0
        },
        "template": {
         "data": {
          "bar": [
           {
            "error_x": {
             "color": "#2a3f5f"
            },
            "error_y": {
             "color": "#2a3f5f"
            },
            "marker": {
             "line": {
              "color": "#E5ECF6",
              "width": 0.5
             },
             "pattern": {
              "fillmode": "overlay",
              "size": 10,
              "solidity": 0.2
             }
            },
            "type": "bar"
           }
          ],
          "barpolar": [
           {
            "marker": {
             "line": {
              "color": "#E5ECF6",
              "width": 0.5
             },
             "pattern": {
              "fillmode": "overlay",
              "size": 10,
              "solidity": 0.2
             }
            },
            "type": "barpolar"
           }
          ],
          "carpet": [
           {
            "aaxis": {
             "endlinecolor": "#2a3f5f",
             "gridcolor": "white",
             "linecolor": "white",
             "minorgridcolor": "white",
             "startlinecolor": "#2a3f5f"
            },
            "baxis": {
             "endlinecolor": "#2a3f5f",
             "gridcolor": "white",
             "linecolor": "white",
             "minorgridcolor": "white",
             "startlinecolor": "#2a3f5f"
            },
            "type": "carpet"
           }
          ],
          "choropleth": [
           {
            "colorbar": {
             "outlinewidth": 0,
             "ticks": ""
            },
            "type": "choropleth"
           }
          ],
          "contour": [
           {
            "colorbar": {
             "outlinewidth": 0,
             "ticks": ""
            },
            "colorscale": [
             [
              0,
              "#0d0887"
             ],
             [
              0.1111111111111111,
              "#46039f"
             ],
             [
              0.2222222222222222,
              "#7201a8"
             ],
             [
              0.3333333333333333,
              "#9c179e"
             ],
             [
              0.4444444444444444,
              "#bd3786"
             ],
             [
              0.5555555555555556,
              "#d8576b"
             ],
             [
              0.6666666666666666,
              "#ed7953"
             ],
             [
              0.7777777777777778,
              "#fb9f3a"
             ],
             [
              0.8888888888888888,
              "#fdca26"
             ],
             [
              1,
              "#f0f921"
             ]
            ],
            "type": "contour"
           }
          ],
          "contourcarpet": [
           {
            "colorbar": {
             "outlinewidth": 0,
             "ticks": ""
            },
            "type": "contourcarpet"
           }
          ],
          "heatmap": [
           {
            "colorbar": {
             "outlinewidth": 0,
             "ticks": ""
            },
            "colorscale": [
             [
              0,
              "#0d0887"
             ],
             [
              0.1111111111111111,
              "#46039f"
             ],
             [
              0.2222222222222222,
              "#7201a8"
             ],
             [
              0.3333333333333333,
              "#9c179e"
             ],
             [
              0.4444444444444444,
              "#bd3786"
             ],
             [
              0.5555555555555556,
              "#d8576b"
             ],
             [
              0.6666666666666666,
              "#ed7953"
             ],
             [
              0.7777777777777778,
              "#fb9f3a"
             ],
             [
              0.8888888888888888,
              "#fdca26"
             ],
             [
              1,
              "#f0f921"
             ]
            ],
            "type": "heatmap"
           }
          ],
          "heatmapgl": [
           {
            "colorbar": {
             "outlinewidth": 0,
             "ticks": ""
            },
            "colorscale": [
             [
              0,
              "#0d0887"
             ],
             [
              0.1111111111111111,
              "#46039f"
             ],
             [
              0.2222222222222222,
              "#7201a8"
             ],
             [
              0.3333333333333333,
              "#9c179e"
             ],
             [
              0.4444444444444444,
              "#bd3786"
             ],
             [
              0.5555555555555556,
              "#d8576b"
             ],
             [
              0.6666666666666666,
              "#ed7953"
             ],
             [
              0.7777777777777778,
              "#fb9f3a"
             ],
             [
              0.8888888888888888,
              "#fdca26"
             ],
             [
              1,
              "#f0f921"
             ]
            ],
            "type": "heatmapgl"
           }
          ],
          "histogram": [
           {
            "marker": {
             "pattern": {
              "fillmode": "overlay",
              "size": 10,
              "solidity": 0.2
             }
            },
            "type": "histogram"
           }
          ],
          "histogram2d": [
           {
            "colorbar": {
             "outlinewidth": 0,
             "ticks": ""
            },
            "colorscale": [
             [
              0,
              "#0d0887"
             ],
             [
              0.1111111111111111,
              "#46039f"
             ],
             [
              0.2222222222222222,
              "#7201a8"
             ],
             [
              0.3333333333333333,
              "#9c179e"
             ],
             [
              0.4444444444444444,
              "#bd3786"
             ],
             [
              0.5555555555555556,
              "#d8576b"
             ],
             [
              0.6666666666666666,
              "#ed7953"
             ],
             [
              0.7777777777777778,
              "#fb9f3a"
             ],
             [
              0.8888888888888888,
              "#fdca26"
             ],
             [
              1,
              "#f0f921"
             ]
            ],
            "type": "histogram2d"
           }
          ],
          "histogram2dcontour": [
           {
            "colorbar": {
             "outlinewidth": 0,
             "ticks": ""
            },
            "colorscale": [
             [
              0,
              "#0d0887"
             ],
             [
              0.1111111111111111,
              "#46039f"
             ],
             [
              0.2222222222222222,
              "#7201a8"
             ],
             [
              0.3333333333333333,
              "#9c179e"
             ],
             [
              0.4444444444444444,
              "#bd3786"
             ],
             [
              0.5555555555555556,
              "#d8576b"
             ],
             [
              0.6666666666666666,
              "#ed7953"
             ],
             [
              0.7777777777777778,
              "#fb9f3a"
             ],
             [
              0.8888888888888888,
              "#fdca26"
             ],
             [
              1,
              "#f0f921"
             ]
            ],
            "type": "histogram2dcontour"
           }
          ],
          "mesh3d": [
           {
            "colorbar": {
             "outlinewidth": 0,
             "ticks": ""
            },
            "type": "mesh3d"
           }
          ],
          "parcoords": [
           {
            "line": {
             "colorbar": {
              "outlinewidth": 0,
              "ticks": ""
             }
            },
            "type": "parcoords"
           }
          ],
          "pie": [
           {
            "automargin": true,
            "type": "pie"
           }
          ],
          "scatter": [
           {
            "fillpattern": {
             "fillmode": "overlay",
             "size": 10,
             "solidity": 0.2
            },
            "type": "scatter"
           }
          ],
          "scatter3d": [
           {
            "line": {
             "colorbar": {
              "outlinewidth": 0,
              "ticks": ""
             }
            },
            "marker": {
             "colorbar": {
              "outlinewidth": 0,
              "ticks": ""
             }
            },
            "type": "scatter3d"
           }
          ],
          "scattercarpet": [
           {
            "marker": {
             "colorbar": {
              "outlinewidth": 0,
              "ticks": ""
             }
            },
            "type": "scattercarpet"
           }
          ],
          "scattergeo": [
           {
            "marker": {
             "colorbar": {
              "outlinewidth": 0,
              "ticks": ""
             }
            },
            "type": "scattergeo"
           }
          ],
          "scattergl": [
           {
            "marker": {
             "colorbar": {
              "outlinewidth": 0,
              "ticks": ""
             }
            },
            "type": "scattergl"
           }
          ],
          "scattermapbox": [
           {
            "marker": {
             "colorbar": {
              "outlinewidth": 0,
              "ticks": ""
             }
            },
            "type": "scattermapbox"
           }
          ],
          "scatterpolar": [
           {
            "marker": {
             "colorbar": {
              "outlinewidth": 0,
              "ticks": ""
             }
            },
            "type": "scatterpolar"
           }
          ],
          "scatterpolargl": [
           {
            "marker": {
             "colorbar": {
              "outlinewidth": 0,
              "ticks": ""
             }
            },
            "type": "scatterpolargl"
           }
          ],
          "scatterternary": [
           {
            "marker": {
             "colorbar": {
              "outlinewidth": 0,
              "ticks": ""
             }
            },
            "type": "scatterternary"
           }
          ],
          "surface": [
           {
            "colorbar": {
             "outlinewidth": 0,
             "ticks": ""
            },
            "colorscale": [
             [
              0,
              "#0d0887"
             ],
             [
              0.1111111111111111,
              "#46039f"
             ],
             [
              0.2222222222222222,
              "#7201a8"
             ],
             [
              0.3333333333333333,
              "#9c179e"
             ],
             [
              0.4444444444444444,
              "#bd3786"
             ],
             [
              0.5555555555555556,
              "#d8576b"
             ],
             [
              0.6666666666666666,
              "#ed7953"
             ],
             [
              0.7777777777777778,
              "#fb9f3a"
             ],
             [
              0.8888888888888888,
              "#fdca26"
             ],
             [
              1,
              "#f0f921"
             ]
            ],
            "type": "surface"
           }
          ],
          "table": [
           {
            "cells": {
             "fill": {
              "color": "#EBF0F8"
             },
             "line": {
              "color": "white"
             }
            },
            "header": {
             "fill": {
              "color": "#C8D4E3"
             },
             "line": {
              "color": "white"
             }
            },
            "type": "table"
           }
          ]
         },
         "layout": {
          "annotationdefaults": {
           "arrowcolor": "#2a3f5f",
           "arrowhead": 0,
           "arrowwidth": 1
          },
          "autotypenumbers": "strict",
          "coloraxis": {
           "colorbar": {
            "outlinewidth": 0,
            "ticks": ""
           }
          },
          "colorscale": {
           "diverging": [
            [
             0,
             "#8e0152"
            ],
            [
             0.1,
             "#c51b7d"
            ],
            [
             0.2,
             "#de77ae"
            ],
            [
             0.3,
             "#f1b6da"
            ],
            [
             0.4,
             "#fde0ef"
            ],
            [
             0.5,
             "#f7f7f7"
            ],
            [
             0.6,
             "#e6f5d0"
            ],
            [
             0.7,
             "#b8e186"
            ],
            [
             0.8,
             "#7fbc41"
            ],
            [
             0.9,
             "#4d9221"
            ],
            [
             1,
             "#276419"
            ]
           ],
           "sequential": [
            [
             0,
             "#0d0887"
            ],
            [
             0.1111111111111111,
             "#46039f"
            ],
            [
             0.2222222222222222,
             "#7201a8"
            ],
            [
             0.3333333333333333,
             "#9c179e"
            ],
            [
             0.4444444444444444,
             "#bd3786"
            ],
            [
             0.5555555555555556,
             "#d8576b"
            ],
            [
             0.6666666666666666,
             "#ed7953"
            ],
            [
             0.7777777777777778,
             "#fb9f3a"
            ],
            [
             0.8888888888888888,
             "#fdca26"
            ],
            [
             1,
             "#f0f921"
            ]
           ],
           "sequentialminus": [
            [
             0,
             "#0d0887"
            ],
            [
             0.1111111111111111,
             "#46039f"
            ],
            [
             0.2222222222222222,
             "#7201a8"
            ],
            [
             0.3333333333333333,
             "#9c179e"
            ],
            [
             0.4444444444444444,
             "#bd3786"
            ],
            [
             0.5555555555555556,
             "#d8576b"
            ],
            [
             0.6666666666666666,
             "#ed7953"
            ],
            [
             0.7777777777777778,
             "#fb9f3a"
            ],
            [
             0.8888888888888888,
             "#fdca26"
            ],
            [
             1,
             "#f0f921"
            ]
           ]
          },
          "colorway": [
           "#636efa",
           "#EF553B",
           "#00cc96",
           "#ab63fa",
           "#FFA15A",
           "#19d3f3",
           "#FF6692",
           "#B6E880",
           "#FF97FF",
           "#FECB52"
          ],
          "font": {
           "color": "#2a3f5f"
          },
          "geo": {
           "bgcolor": "white",
           "lakecolor": "white",
           "landcolor": "#E5ECF6",
           "showlakes": true,
           "showland": true,
           "subunitcolor": "white"
          },
          "hoverlabel": {
           "align": "left"
          },
          "hovermode": "closest",
          "mapbox": {
           "style": "light"
          },
          "paper_bgcolor": "white",
          "plot_bgcolor": "#E5ECF6",
          "polar": {
           "angularaxis": {
            "gridcolor": "white",
            "linecolor": "white",
            "ticks": ""
           },
           "bgcolor": "#E5ECF6",
           "radialaxis": {
            "gridcolor": "white",
            "linecolor": "white",
            "ticks": ""
           }
          },
          "scene": {
           "xaxis": {
            "backgroundcolor": "#E5ECF6",
            "gridcolor": "white",
            "gridwidth": 2,
            "linecolor": "white",
            "showbackground": true,
            "ticks": "",
            "zerolinecolor": "white"
           },
           "yaxis": {
            "backgroundcolor": "#E5ECF6",
            "gridcolor": "white",
            "gridwidth": 2,
            "linecolor": "white",
            "showbackground": true,
            "ticks": "",
            "zerolinecolor": "white"
           },
           "zaxis": {
            "backgroundcolor": "#E5ECF6",
            "gridcolor": "white",
            "gridwidth": 2,
            "linecolor": "white",
            "showbackground": true,
            "ticks": "",
            "zerolinecolor": "white"
           }
          },
          "shapedefaults": {
           "line": {
            "color": "#2a3f5f"
           }
          },
          "ternary": {
           "aaxis": {
            "gridcolor": "white",
            "linecolor": "white",
            "ticks": ""
           },
           "baxis": {
            "gridcolor": "white",
            "linecolor": "white",
            "ticks": ""
           },
           "bgcolor": "#E5ECF6",
           "caxis": {
            "gridcolor": "white",
            "linecolor": "white",
            "ticks": ""
           }
          },
          "title": {
           "x": 0.05
          },
          "xaxis": {
           "automargin": true,
           "gridcolor": "white",
           "linecolor": "white",
           "ticks": "",
           "title": {
            "standoff": 15
           },
           "zerolinecolor": "white",
           "zerolinewidth": 2
          },
          "yaxis": {
           "automargin": true,
           "gridcolor": "white",
           "linecolor": "white",
           "ticks": "",
           "title": {
            "standoff": 15
           },
           "zerolinecolor": "white",
           "zerolinewidth": 2
          }
         }
        },
        "title": {
         "text": "Distribution of Posts Across Top 20 Subreddits"
        },
        "xaxis": {
         "anchor": "y",
         "categoryarray": [
          "CPTSD",
          "depression",
          "raisedbynarcissists",
          "mentalhealth",
          "SuicideWatch",
          "OCD",
          "therapy",
          "socialanxiety",
          "DecidingToBeBetter",
          "Healthygamergg",
          "offmychest",
          "ChatGPT",
          "ADHD",
          "selfimprovement",
          "TalkTherapy",
          "Anxiety",
          "TrueOffMyChest",
          "depression_help",
          "NoFap",
          "socialskills"
         ],
         "categoryorder": "array",
         "domain": [
          0,
          1
         ],
         "tickangle": 45,
         "title": {
          "text": "Subreddit"
         }
        },
        "yaxis": {
         "anchor": "x",
         "domain": [
          0,
          1
         ],
         "title": {
          "text": "Number of Posts"
         }
        }
       }
      }
     },
     "metadata": {},
     "output_type": "display_data"
    },
    {
     "data": {
      "application/vnd.plotly.v1+json": {
       "config": {
        "plotlyServerURL": "https://plot.ly"
       },
       "data": [
        {
         "alignmentgroup": "True",
         "hovertemplate": "Score Range=%{x}<br>Number of Posts=%{y}<extra></extra>",
         "legendgroup": "",
         "marker": {
          "color": "#636efa",
          "pattern": {
           "shape": ""
          }
         },
         "name": "",
         "offsetgroup": "",
         "orientation": "v",
         "showlegend": false,
         "textposition": "auto",
         "type": "bar",
         "x": [
          "0",
          "1-2",
          "3-9",
          "10-75",
          "76-212",
          "213-625",
          "626-985",
          "986-2058",
          "2059-2296"
         ],
         "xaxis": "x",
         "y": [
          62,
          174,
          144,
          84,
          25,
          14,
          7,
          5,
          0
         ],
         "yaxis": "y"
        }
       ],
       "layout": {
        "bargap": 0.2,
        "barmode": "relative",
        "legend": {
         "tracegroupgap": 0
        },
        "template": {
         "data": {
          "bar": [
           {
            "error_x": {
             "color": "#2a3f5f"
            },
            "error_y": {
             "color": "#2a3f5f"
            },
            "marker": {
             "line": {
              "color": "#E5ECF6",
              "width": 0.5
             },
             "pattern": {
              "fillmode": "overlay",
              "size": 10,
              "solidity": 0.2
             }
            },
            "type": "bar"
           }
          ],
          "barpolar": [
           {
            "marker": {
             "line": {
              "color": "#E5ECF6",
              "width": 0.5
             },
             "pattern": {
              "fillmode": "overlay",
              "size": 10,
              "solidity": 0.2
             }
            },
            "type": "barpolar"
           }
          ],
          "carpet": [
           {
            "aaxis": {
             "endlinecolor": "#2a3f5f",
             "gridcolor": "white",
             "linecolor": "white",
             "minorgridcolor": "white",
             "startlinecolor": "#2a3f5f"
            },
            "baxis": {
             "endlinecolor": "#2a3f5f",
             "gridcolor": "white",
             "linecolor": "white",
             "minorgridcolor": "white",
             "startlinecolor": "#2a3f5f"
            },
            "type": "carpet"
           }
          ],
          "choropleth": [
           {
            "colorbar": {
             "outlinewidth": 0,
             "ticks": ""
            },
            "type": "choropleth"
           }
          ],
          "contour": [
           {
            "colorbar": {
             "outlinewidth": 0,
             "ticks": ""
            },
            "colorscale": [
             [
              0,
              "#0d0887"
             ],
             [
              0.1111111111111111,
              "#46039f"
             ],
             [
              0.2222222222222222,
              "#7201a8"
             ],
             [
              0.3333333333333333,
              "#9c179e"
             ],
             [
              0.4444444444444444,
              "#bd3786"
             ],
             [
              0.5555555555555556,
              "#d8576b"
             ],
             [
              0.6666666666666666,
              "#ed7953"
             ],
             [
              0.7777777777777778,
              "#fb9f3a"
             ],
             [
              0.8888888888888888,
              "#fdca26"
             ],
             [
              1,
              "#f0f921"
             ]
            ],
            "type": "contour"
           }
          ],
          "contourcarpet": [
           {
            "colorbar": {
             "outlinewidth": 0,
             "ticks": ""
            },
            "type": "contourcarpet"
           }
          ],
          "heatmap": [
           {
            "colorbar": {
             "outlinewidth": 0,
             "ticks": ""
            },
            "colorscale": [
             [
              0,
              "#0d0887"
             ],
             [
              0.1111111111111111,
              "#46039f"
             ],
             [
              0.2222222222222222,
              "#7201a8"
             ],
             [
              0.3333333333333333,
              "#9c179e"
             ],
             [
              0.4444444444444444,
              "#bd3786"
             ],
             [
              0.5555555555555556,
              "#d8576b"
             ],
             [
              0.6666666666666666,
              "#ed7953"
             ],
             [
              0.7777777777777778,
              "#fb9f3a"
             ],
             [
              0.8888888888888888,
              "#fdca26"
             ],
             [
              1,
              "#f0f921"
             ]
            ],
            "type": "heatmap"
           }
          ],
          "heatmapgl": [
           {
            "colorbar": {
             "outlinewidth": 0,
             "ticks": ""
            },
            "colorscale": [
             [
              0,
              "#0d0887"
             ],
             [
              0.1111111111111111,
              "#46039f"
             ],
             [
              0.2222222222222222,
              "#7201a8"
             ],
             [
              0.3333333333333333,
              "#9c179e"
             ],
             [
              0.4444444444444444,
              "#bd3786"
             ],
             [
              0.5555555555555556,
              "#d8576b"
             ],
             [
              0.6666666666666666,
              "#ed7953"
             ],
             [
              0.7777777777777778,
              "#fb9f3a"
             ],
             [
              0.8888888888888888,
              "#fdca26"
             ],
             [
              1,
              "#f0f921"
             ]
            ],
            "type": "heatmapgl"
           }
          ],
          "histogram": [
           {
            "marker": {
             "pattern": {
              "fillmode": "overlay",
              "size": 10,
              "solidity": 0.2
             }
            },
            "type": "histogram"
           }
          ],
          "histogram2d": [
           {
            "colorbar": {
             "outlinewidth": 0,
             "ticks": ""
            },
            "colorscale": [
             [
              0,
              "#0d0887"
             ],
             [
              0.1111111111111111,
              "#46039f"
             ],
             [
              0.2222222222222222,
              "#7201a8"
             ],
             [
              0.3333333333333333,
              "#9c179e"
             ],
             [
              0.4444444444444444,
              "#bd3786"
             ],
             [
              0.5555555555555556,
              "#d8576b"
             ],
             [
              0.6666666666666666,
              "#ed7953"
             ],
             [
              0.7777777777777778,
              "#fb9f3a"
             ],
             [
              0.8888888888888888,
              "#fdca26"
             ],
             [
              1,
              "#f0f921"
             ]
            ],
            "type": "histogram2d"
           }
          ],
          "histogram2dcontour": [
           {
            "colorbar": {
             "outlinewidth": 0,
             "ticks": ""
            },
            "colorscale": [
             [
              0,
              "#0d0887"
             ],
             [
              0.1111111111111111,
              "#46039f"
             ],
             [
              0.2222222222222222,
              "#7201a8"
             ],
             [
              0.3333333333333333,
              "#9c179e"
             ],
             [
              0.4444444444444444,
              "#bd3786"
             ],
             [
              0.5555555555555556,
              "#d8576b"
             ],
             [
              0.6666666666666666,
              "#ed7953"
             ],
             [
              0.7777777777777778,
              "#fb9f3a"
             ],
             [
              0.8888888888888888,
              "#fdca26"
             ],
             [
              1,
              "#f0f921"
             ]
            ],
            "type": "histogram2dcontour"
           }
          ],
          "mesh3d": [
           {
            "colorbar": {
             "outlinewidth": 0,
             "ticks": ""
            },
            "type": "mesh3d"
           }
          ],
          "parcoords": [
           {
            "line": {
             "colorbar": {
              "outlinewidth": 0,
              "ticks": ""
             }
            },
            "type": "parcoords"
           }
          ],
          "pie": [
           {
            "automargin": true,
            "type": "pie"
           }
          ],
          "scatter": [
           {
            "fillpattern": {
             "fillmode": "overlay",
             "size": 10,
             "solidity": 0.2
            },
            "type": "scatter"
           }
          ],
          "scatter3d": [
           {
            "line": {
             "colorbar": {
              "outlinewidth": 0,
              "ticks": ""
             }
            },
            "marker": {
             "colorbar": {
              "outlinewidth": 0,
              "ticks": ""
             }
            },
            "type": "scatter3d"
           }
          ],
          "scattercarpet": [
           {
            "marker": {
             "colorbar": {
              "outlinewidth": 0,
              "ticks": ""
             }
            },
            "type": "scattercarpet"
           }
          ],
          "scattergeo": [
           {
            "marker": {
             "colorbar": {
              "outlinewidth": 0,
              "ticks": ""
             }
            },
            "type": "scattergeo"
           }
          ],
          "scattergl": [
           {
            "marker": {
             "colorbar": {
              "outlinewidth": 0,
              "ticks": ""
             }
            },
            "type": "scattergl"
           }
          ],
          "scattermapbox": [
           {
            "marker": {
             "colorbar": {
              "outlinewidth": 0,
              "ticks": ""
             }
            },
            "type": "scattermapbox"
           }
          ],
          "scatterpolar": [
           {
            "marker": {
             "colorbar": {
              "outlinewidth": 0,
              "ticks": ""
             }
            },
            "type": "scatterpolar"
           }
          ],
          "scatterpolargl": [
           {
            "marker": {
             "colorbar": {
              "outlinewidth": 0,
              "ticks": ""
             }
            },
            "type": "scatterpolargl"
           }
          ],
          "scatterternary": [
           {
            "marker": {
             "colorbar": {
              "outlinewidth": 0,
              "ticks": ""
             }
            },
            "type": "scatterternary"
           }
          ],
          "surface": [
           {
            "colorbar": {
             "outlinewidth": 0,
             "ticks": ""
            },
            "colorscale": [
             [
              0,
              "#0d0887"
             ],
             [
              0.1111111111111111,
              "#46039f"
             ],
             [
              0.2222222222222222,
              "#7201a8"
             ],
             [
              0.3333333333333333,
              "#9c179e"
             ],
             [
              0.4444444444444444,
              "#bd3786"
             ],
             [
              0.5555555555555556,
              "#d8576b"
             ],
             [
              0.6666666666666666,
              "#ed7953"
             ],
             [
              0.7777777777777778,
              "#fb9f3a"
             ],
             [
              0.8888888888888888,
              "#fdca26"
             ],
             [
              1,
              "#f0f921"
             ]
            ],
            "type": "surface"
           }
          ],
          "table": [
           {
            "cells": {
             "fill": {
              "color": "#EBF0F8"
             },
             "line": {
              "color": "white"
             }
            },
            "header": {
             "fill": {
              "color": "#C8D4E3"
             },
             "line": {
              "color": "white"
             }
            },
            "type": "table"
           }
          ]
         },
         "layout": {
          "annotationdefaults": {
           "arrowcolor": "#2a3f5f",
           "arrowhead": 0,
           "arrowwidth": 1
          },
          "autotypenumbers": "strict",
          "coloraxis": {
           "colorbar": {
            "outlinewidth": 0,
            "ticks": ""
           }
          },
          "colorscale": {
           "diverging": [
            [
             0,
             "#8e0152"
            ],
            [
             0.1,
             "#c51b7d"
            ],
            [
             0.2,
             "#de77ae"
            ],
            [
             0.3,
             "#f1b6da"
            ],
            [
             0.4,
             "#fde0ef"
            ],
            [
             0.5,
             "#f7f7f7"
            ],
            [
             0.6,
             "#e6f5d0"
            ],
            [
             0.7,
             "#b8e186"
            ],
            [
             0.8,
             "#7fbc41"
            ],
            [
             0.9,
             "#4d9221"
            ],
            [
             1,
             "#276419"
            ]
           ],
           "sequential": [
            [
             0,
             "#0d0887"
            ],
            [
             0.1111111111111111,
             "#46039f"
            ],
            [
             0.2222222222222222,
             "#7201a8"
            ],
            [
             0.3333333333333333,
             "#9c179e"
            ],
            [
             0.4444444444444444,
             "#bd3786"
            ],
            [
             0.5555555555555556,
             "#d8576b"
            ],
            [
             0.6666666666666666,
             "#ed7953"
            ],
            [
             0.7777777777777778,
             "#fb9f3a"
            ],
            [
             0.8888888888888888,
             "#fdca26"
            ],
            [
             1,
             "#f0f921"
            ]
           ],
           "sequentialminus": [
            [
             0,
             "#0d0887"
            ],
            [
             0.1111111111111111,
             "#46039f"
            ],
            [
             0.2222222222222222,
             "#7201a8"
            ],
            [
             0.3333333333333333,
             "#9c179e"
            ],
            [
             0.4444444444444444,
             "#bd3786"
            ],
            [
             0.5555555555555556,
             "#d8576b"
            ],
            [
             0.6666666666666666,
             "#ed7953"
            ],
            [
             0.7777777777777778,
             "#fb9f3a"
            ],
            [
             0.8888888888888888,
             "#fdca26"
            ],
            [
             1,
             "#f0f921"
            ]
           ]
          },
          "colorway": [
           "#636efa",
           "#EF553B",
           "#00cc96",
           "#ab63fa",
           "#FFA15A",
           "#19d3f3",
           "#FF6692",
           "#B6E880",
           "#FF97FF",
           "#FECB52"
          ],
          "font": {
           "color": "#2a3f5f"
          },
          "geo": {
           "bgcolor": "white",
           "lakecolor": "white",
           "landcolor": "#E5ECF6",
           "showlakes": true,
           "showland": true,
           "subunitcolor": "white"
          },
          "hoverlabel": {
           "align": "left"
          },
          "hovermode": "closest",
          "mapbox": {
           "style": "light"
          },
          "paper_bgcolor": "white",
          "plot_bgcolor": "#E5ECF6",
          "polar": {
           "angularaxis": {
            "gridcolor": "white",
            "linecolor": "white",
            "ticks": ""
           },
           "bgcolor": "#E5ECF6",
           "radialaxis": {
            "gridcolor": "white",
            "linecolor": "white",
            "ticks": ""
           }
          },
          "scene": {
           "xaxis": {
            "backgroundcolor": "#E5ECF6",
            "gridcolor": "white",
            "gridwidth": 2,
            "linecolor": "white",
            "showbackground": true,
            "ticks": "",
            "zerolinecolor": "white"
           },
           "yaxis": {
            "backgroundcolor": "#E5ECF6",
            "gridcolor": "white",
            "gridwidth": 2,
            "linecolor": "white",
            "showbackground": true,
            "ticks": "",
            "zerolinecolor": "white"
           },
           "zaxis": {
            "backgroundcolor": "#E5ECF6",
            "gridcolor": "white",
            "gridwidth": 2,
            "linecolor": "white",
            "showbackground": true,
            "ticks": "",
            "zerolinecolor": "white"
           }
          },
          "shapedefaults": {
           "line": {
            "color": "#2a3f5f"
           }
          },
          "ternary": {
           "aaxis": {
            "gridcolor": "white",
            "linecolor": "white",
            "ticks": ""
           },
           "baxis": {
            "gridcolor": "white",
            "linecolor": "white",
            "ticks": ""
           },
           "bgcolor": "#E5ECF6",
           "caxis": {
            "gridcolor": "white",
            "linecolor": "white",
            "ticks": ""
           }
          },
          "title": {
           "x": 0.05
          },
          "xaxis": {
           "automargin": true,
           "gridcolor": "white",
           "linecolor": "white",
           "ticks": "",
           "title": {
            "standoff": 15
           },
           "zerolinecolor": "white",
           "zerolinewidth": 2
          },
          "yaxis": {
           "automargin": true,
           "gridcolor": "white",
           "linecolor": "white",
           "ticks": "",
           "title": {
            "standoff": 15
           },
           "zerolinecolor": "white",
           "zerolinewidth": 2
          }
         }
        },
        "title": {
         "text": "Distribution of Post Scores"
        },
        "xaxis": {
         "anchor": "y",
         "domain": [
          0,
          1
         ],
         "tickangle": 45,
         "title": {
          "text": "Score Range"
         }
        },
        "yaxis": {
         "anchor": "x",
         "domain": [
          0,
          1
         ],
         "title": {
          "text": "Number of Posts"
         }
        }
       }
      }
     },
     "metadata": {},
     "output_type": "display_data"
    },
    {
     "data": {
      "application/vnd.plotly.v1+json": {
       "config": {
        "plotlyServerURL": "https://plot.ly"
       },
       "data": [
        {
         "alignmentgroup": "True",
         "hovertemplate": "Comment Range=%{x}<br>Number of Posts=%{y}<extra></extra>",
         "legendgroup": "",
         "marker": {
          "color": "#636efa",
          "pattern": {
           "shape": ""
          }
         },
         "name": "",
         "offsetgroup": "",
         "orientation": "v",
         "showlegend": false,
         "textposition": "auto",
         "type": "bar",
         "x": [
          "0",
          "1-3",
          "4-13",
          "14-38",
          "39-77",
          "78-141",
          "142-257",
          "258-394",
          "395-401"
         ],
         "xaxis": "x",
         "y": [
          75,
          177,
          133,
          76,
          28,
          13,
          8,
          5,
          0
         ],
         "yaxis": "y"
        }
       ],
       "layout": {
        "bargap": 0.2,
        "barmode": "relative",
        "legend": {
         "tracegroupgap": 0
        },
        "template": {
         "data": {
          "bar": [
           {
            "error_x": {
             "color": "#2a3f5f"
            },
            "error_y": {
             "color": "#2a3f5f"
            },
            "marker": {
             "line": {
              "color": "#E5ECF6",
              "width": 0.5
             },
             "pattern": {
              "fillmode": "overlay",
              "size": 10,
              "solidity": 0.2
             }
            },
            "type": "bar"
           }
          ],
          "barpolar": [
           {
            "marker": {
             "line": {
              "color": "#E5ECF6",
              "width": 0.5
             },
             "pattern": {
              "fillmode": "overlay",
              "size": 10,
              "solidity": 0.2
             }
            },
            "type": "barpolar"
           }
          ],
          "carpet": [
           {
            "aaxis": {
             "endlinecolor": "#2a3f5f",
             "gridcolor": "white",
             "linecolor": "white",
             "minorgridcolor": "white",
             "startlinecolor": "#2a3f5f"
            },
            "baxis": {
             "endlinecolor": "#2a3f5f",
             "gridcolor": "white",
             "linecolor": "white",
             "minorgridcolor": "white",
             "startlinecolor": "#2a3f5f"
            },
            "type": "carpet"
           }
          ],
          "choropleth": [
           {
            "colorbar": {
             "outlinewidth": 0,
             "ticks": ""
            },
            "type": "choropleth"
           }
          ],
          "contour": [
           {
            "colorbar": {
             "outlinewidth": 0,
             "ticks": ""
            },
            "colorscale": [
             [
              0,
              "#0d0887"
             ],
             [
              0.1111111111111111,
              "#46039f"
             ],
             [
              0.2222222222222222,
              "#7201a8"
             ],
             [
              0.3333333333333333,
              "#9c179e"
             ],
             [
              0.4444444444444444,
              "#bd3786"
             ],
             [
              0.5555555555555556,
              "#d8576b"
             ],
             [
              0.6666666666666666,
              "#ed7953"
             ],
             [
              0.7777777777777778,
              "#fb9f3a"
             ],
             [
              0.8888888888888888,
              "#fdca26"
             ],
             [
              1,
              "#f0f921"
             ]
            ],
            "type": "contour"
           }
          ],
          "contourcarpet": [
           {
            "colorbar": {
             "outlinewidth": 0,
             "ticks": ""
            },
            "type": "contourcarpet"
           }
          ],
          "heatmap": [
           {
            "colorbar": {
             "outlinewidth": 0,
             "ticks": ""
            },
            "colorscale": [
             [
              0,
              "#0d0887"
             ],
             [
              0.1111111111111111,
              "#46039f"
             ],
             [
              0.2222222222222222,
              "#7201a8"
             ],
             [
              0.3333333333333333,
              "#9c179e"
             ],
             [
              0.4444444444444444,
              "#bd3786"
             ],
             [
              0.5555555555555556,
              "#d8576b"
             ],
             [
              0.6666666666666666,
              "#ed7953"
             ],
             [
              0.7777777777777778,
              "#fb9f3a"
             ],
             [
              0.8888888888888888,
              "#fdca26"
             ],
             [
              1,
              "#f0f921"
             ]
            ],
            "type": "heatmap"
           }
          ],
          "heatmapgl": [
           {
            "colorbar": {
             "outlinewidth": 0,
             "ticks": ""
            },
            "colorscale": [
             [
              0,
              "#0d0887"
             ],
             [
              0.1111111111111111,
              "#46039f"
             ],
             [
              0.2222222222222222,
              "#7201a8"
             ],
             [
              0.3333333333333333,
              "#9c179e"
             ],
             [
              0.4444444444444444,
              "#bd3786"
             ],
             [
              0.5555555555555556,
              "#d8576b"
             ],
             [
              0.6666666666666666,
              "#ed7953"
             ],
             [
              0.7777777777777778,
              "#fb9f3a"
             ],
             [
              0.8888888888888888,
              "#fdca26"
             ],
             [
              1,
              "#f0f921"
             ]
            ],
            "type": "heatmapgl"
           }
          ],
          "histogram": [
           {
            "marker": {
             "pattern": {
              "fillmode": "overlay",
              "size": 10,
              "solidity": 0.2
             }
            },
            "type": "histogram"
           }
          ],
          "histogram2d": [
           {
            "colorbar": {
             "outlinewidth": 0,
             "ticks": ""
            },
            "colorscale": [
             [
              0,
              "#0d0887"
             ],
             [
              0.1111111111111111,
              "#46039f"
             ],
             [
              0.2222222222222222,
              "#7201a8"
             ],
             [
              0.3333333333333333,
              "#9c179e"
             ],
             [
              0.4444444444444444,
              "#bd3786"
             ],
             [
              0.5555555555555556,
              "#d8576b"
             ],
             [
              0.6666666666666666,
              "#ed7953"
             ],
             [
              0.7777777777777778,
              "#fb9f3a"
             ],
             [
              0.8888888888888888,
              "#fdca26"
             ],
             [
              1,
              "#f0f921"
             ]
            ],
            "type": "histogram2d"
           }
          ],
          "histogram2dcontour": [
           {
            "colorbar": {
             "outlinewidth": 0,
             "ticks": ""
            },
            "colorscale": [
             [
              0,
              "#0d0887"
             ],
             [
              0.1111111111111111,
              "#46039f"
             ],
             [
              0.2222222222222222,
              "#7201a8"
             ],
             [
              0.3333333333333333,
              "#9c179e"
             ],
             [
              0.4444444444444444,
              "#bd3786"
             ],
             [
              0.5555555555555556,
              "#d8576b"
             ],
             [
              0.6666666666666666,
              "#ed7953"
             ],
             [
              0.7777777777777778,
              "#fb9f3a"
             ],
             [
              0.8888888888888888,
              "#fdca26"
             ],
             [
              1,
              "#f0f921"
             ]
            ],
            "type": "histogram2dcontour"
           }
          ],
          "mesh3d": [
           {
            "colorbar": {
             "outlinewidth": 0,
             "ticks": ""
            },
            "type": "mesh3d"
           }
          ],
          "parcoords": [
           {
            "line": {
             "colorbar": {
              "outlinewidth": 0,
              "ticks": ""
             }
            },
            "type": "parcoords"
           }
          ],
          "pie": [
           {
            "automargin": true,
            "type": "pie"
           }
          ],
          "scatter": [
           {
            "fillpattern": {
             "fillmode": "overlay",
             "size": 10,
             "solidity": 0.2
            },
            "type": "scatter"
           }
          ],
          "scatter3d": [
           {
            "line": {
             "colorbar": {
              "outlinewidth": 0,
              "ticks": ""
             }
            },
            "marker": {
             "colorbar": {
              "outlinewidth": 0,
              "ticks": ""
             }
            },
            "type": "scatter3d"
           }
          ],
          "scattercarpet": [
           {
            "marker": {
             "colorbar": {
              "outlinewidth": 0,
              "ticks": ""
             }
            },
            "type": "scattercarpet"
           }
          ],
          "scattergeo": [
           {
            "marker": {
             "colorbar": {
              "outlinewidth": 0,
              "ticks": ""
             }
            },
            "type": "scattergeo"
           }
          ],
          "scattergl": [
           {
            "marker": {
             "colorbar": {
              "outlinewidth": 0,
              "ticks": ""
             }
            },
            "type": "scattergl"
           }
          ],
          "scattermapbox": [
           {
            "marker": {
             "colorbar": {
              "outlinewidth": 0,
              "ticks": ""
             }
            },
            "type": "scattermapbox"
           }
          ],
          "scatterpolar": [
           {
            "marker": {
             "colorbar": {
              "outlinewidth": 0,
              "ticks": ""
             }
            },
            "type": "scatterpolar"
           }
          ],
          "scatterpolargl": [
           {
            "marker": {
             "colorbar": {
              "outlinewidth": 0,
              "ticks": ""
             }
            },
            "type": "scatterpolargl"
           }
          ],
          "scatterternary": [
           {
            "marker": {
             "colorbar": {
              "outlinewidth": 0,
              "ticks": ""
             }
            },
            "type": "scatterternary"
           }
          ],
          "surface": [
           {
            "colorbar": {
             "outlinewidth": 0,
             "ticks": ""
            },
            "colorscale": [
             [
              0,
              "#0d0887"
             ],
             [
              0.1111111111111111,
              "#46039f"
             ],
             [
              0.2222222222222222,
              "#7201a8"
             ],
             [
              0.3333333333333333,
              "#9c179e"
             ],
             [
              0.4444444444444444,
              "#bd3786"
             ],
             [
              0.5555555555555556,
              "#d8576b"
             ],
             [
              0.6666666666666666,
              "#ed7953"
             ],
             [
              0.7777777777777778,
              "#fb9f3a"
             ],
             [
              0.8888888888888888,
              "#fdca26"
             ],
             [
              1,
              "#f0f921"
             ]
            ],
            "type": "surface"
           }
          ],
          "table": [
           {
            "cells": {
             "fill": {
              "color": "#EBF0F8"
             },
             "line": {
              "color": "white"
             }
            },
            "header": {
             "fill": {
              "color": "#C8D4E3"
             },
             "line": {
              "color": "white"
             }
            },
            "type": "table"
           }
          ]
         },
         "layout": {
          "annotationdefaults": {
           "arrowcolor": "#2a3f5f",
           "arrowhead": 0,
           "arrowwidth": 1
          },
          "autotypenumbers": "strict",
          "coloraxis": {
           "colorbar": {
            "outlinewidth": 0,
            "ticks": ""
           }
          },
          "colorscale": {
           "diverging": [
            [
             0,
             "#8e0152"
            ],
            [
             0.1,
             "#c51b7d"
            ],
            [
             0.2,
             "#de77ae"
            ],
            [
             0.3,
             "#f1b6da"
            ],
            [
             0.4,
             "#fde0ef"
            ],
            [
             0.5,
             "#f7f7f7"
            ],
            [
             0.6,
             "#e6f5d0"
            ],
            [
             0.7,
             "#b8e186"
            ],
            [
             0.8,
             "#7fbc41"
            ],
            [
             0.9,
             "#4d9221"
            ],
            [
             1,
             "#276419"
            ]
           ],
           "sequential": [
            [
             0,
             "#0d0887"
            ],
            [
             0.1111111111111111,
             "#46039f"
            ],
            [
             0.2222222222222222,
             "#7201a8"
            ],
            [
             0.3333333333333333,
             "#9c179e"
            ],
            [
             0.4444444444444444,
             "#bd3786"
            ],
            [
             0.5555555555555556,
             "#d8576b"
            ],
            [
             0.6666666666666666,
             "#ed7953"
            ],
            [
             0.7777777777777778,
             "#fb9f3a"
            ],
            [
             0.8888888888888888,
             "#fdca26"
            ],
            [
             1,
             "#f0f921"
            ]
           ],
           "sequentialminus": [
            [
             0,
             "#0d0887"
            ],
            [
             0.1111111111111111,
             "#46039f"
            ],
            [
             0.2222222222222222,
             "#7201a8"
            ],
            [
             0.3333333333333333,
             "#9c179e"
            ],
            [
             0.4444444444444444,
             "#bd3786"
            ],
            [
             0.5555555555555556,
             "#d8576b"
            ],
            [
             0.6666666666666666,
             "#ed7953"
            ],
            [
             0.7777777777777778,
             "#fb9f3a"
            ],
            [
             0.8888888888888888,
             "#fdca26"
            ],
            [
             1,
             "#f0f921"
            ]
           ]
          },
          "colorway": [
           "#636efa",
           "#EF553B",
           "#00cc96",
           "#ab63fa",
           "#FFA15A",
           "#19d3f3",
           "#FF6692",
           "#B6E880",
           "#FF97FF",
           "#FECB52"
          ],
          "font": {
           "color": "#2a3f5f"
          },
          "geo": {
           "bgcolor": "white",
           "lakecolor": "white",
           "landcolor": "#E5ECF6",
           "showlakes": true,
           "showland": true,
           "subunitcolor": "white"
          },
          "hoverlabel": {
           "align": "left"
          },
          "hovermode": "closest",
          "mapbox": {
           "style": "light"
          },
          "paper_bgcolor": "white",
          "plot_bgcolor": "#E5ECF6",
          "polar": {
           "angularaxis": {
            "gridcolor": "white",
            "linecolor": "white",
            "ticks": ""
           },
           "bgcolor": "#E5ECF6",
           "radialaxis": {
            "gridcolor": "white",
            "linecolor": "white",
            "ticks": ""
           }
          },
          "scene": {
           "xaxis": {
            "backgroundcolor": "#E5ECF6",
            "gridcolor": "white",
            "gridwidth": 2,
            "linecolor": "white",
            "showbackground": true,
            "ticks": "",
            "zerolinecolor": "white"
           },
           "yaxis": {
            "backgroundcolor": "#E5ECF6",
            "gridcolor": "white",
            "gridwidth": 2,
            "linecolor": "white",
            "showbackground": true,
            "ticks": "",
            "zerolinecolor": "white"
           },
           "zaxis": {
            "backgroundcolor": "#E5ECF6",
            "gridcolor": "white",
            "gridwidth": 2,
            "linecolor": "white",
            "showbackground": true,
            "ticks": "",
            "zerolinecolor": "white"
           }
          },
          "shapedefaults": {
           "line": {
            "color": "#2a3f5f"
           }
          },
          "ternary": {
           "aaxis": {
            "gridcolor": "white",
            "linecolor": "white",
            "ticks": ""
           },
           "baxis": {
            "gridcolor": "white",
            "linecolor": "white",
            "ticks": ""
           },
           "bgcolor": "#E5ECF6",
           "caxis": {
            "gridcolor": "white",
            "linecolor": "white",
            "ticks": ""
           }
          },
          "title": {
           "x": 0.05
          },
          "xaxis": {
           "automargin": true,
           "gridcolor": "white",
           "linecolor": "white",
           "ticks": "",
           "title": {
            "standoff": 15
           },
           "zerolinecolor": "white",
           "zerolinewidth": 2
          },
          "yaxis": {
           "automargin": true,
           "gridcolor": "white",
           "linecolor": "white",
           "ticks": "",
           "title": {
            "standoff": 15
           },
           "zerolinecolor": "white",
           "zerolinewidth": 2
          }
         }
        },
        "title": {
         "text": "Distribution of Post Comments"
        },
        "xaxis": {
         "anchor": "y",
         "domain": [
          0,
          1
         ],
         "tickangle": 45,
         "title": {
          "text": "Comment Range"
         }
        },
        "yaxis": {
         "anchor": "x",
         "domain": [
          0,
          1
         ],
         "title": {
          "text": "Number of Posts"
         }
        }
       }
      }
     },
     "metadata": {},
     "output_type": "display_data"
    }
   ],
   "source": [
    "# Distribution of posts over time\n",
    "posts_over_time = pd.to_datetime(samples['created_utc']).dt.to_period('M').value_counts().sort_index()\n",
    "fig1 = px.line(x=posts_over_time.index.astype(str), y=posts_over_time.values, \n",
    "                title='Distribution of Posts Over Time', labels={'x': 'Week Start Date (MM-DD-YY)', 'y': 'Number of Posts'})\n",
    "fig1.update_xaxes(tickvals=posts_over_time.index.astype(str), ticktext=posts_over_time.index.start_time.strftime('%m-%d-%y'))\n",
    "fig1.show()\n",
    "\n",
    "# Simple histogram of subreddit counts using plotly express, sorted by frequency, showing top 20\n",
    "subreddit_counts = samples['subreddit'].value_counts().head(20)\n",
    "fig = px.histogram(\n",
    "    samples[samples['subreddit'].isin(subreddit_counts.index)], \n",
    "    x='subreddit',\n",
    "    title='Distribution of Posts Across Top 20 Subreddits',\n",
    "    category_orders={\"subreddit\": subreddit_counts.index}\n",
    ")\n",
    "fig.update_layout(\n",
    "    xaxis_title=\"Subreddit\",\n",
    "    yaxis_title=\"Number of Posts\", \n",
    "    xaxis_tickangle=45\n",
    ")\n",
    "fig.show()\n",
    "\n",
    "# Plot score distribution\n",
    "plot_distribution(samples, 'score', 'Distribution of Post Scores', 'Score Range', save=False)\n",
    "\n",
    "# Plot comment distribution \n",
    "plot_distribution(samples, 'num_comments', 'Distribution of Post Comments', 'Comment Range', save=False)"
   ]
  },
  {
   "cell_type": "markdown",
   "metadata": {},
   "source": [
    "# Analyze Extracted Fields"
   ]
  },
  {
   "cell_type": "code",
   "execution_count": 144,
   "metadata": {},
   "outputs": [
    {
     "data": {
      "application/vnd.plotly.v1+json": {
       "config": {
        "plotlyServerURL": "https://plot.ly"
       },
       "data": [
        {
         "domain": {
          "x": [
           0,
           1
          ],
          "y": [
           0,
           1
          ]
         },
         "hovertemplate": "label=%{label}<br>value=%{value}<extra></extra>",
         "labels": [
          true
         ],
         "legendgroup": "",
         "name": "",
         "showlegend": true,
         "texttemplate": "%{value:.1f}%",
         "type": "pie",
         "values": [
          100
         ]
        }
       ],
       "layout": {
        "legend": {
         "tracegroupgap": 0
        },
        "template": {
         "data": {
          "bar": [
           {
            "error_x": {
             "color": "#2a3f5f"
            },
            "error_y": {
             "color": "#2a3f5f"
            },
            "marker": {
             "line": {
              "color": "#E5ECF6",
              "width": 0.5
             },
             "pattern": {
              "fillmode": "overlay",
              "size": 10,
              "solidity": 0.2
             }
            },
            "type": "bar"
           }
          ],
          "barpolar": [
           {
            "marker": {
             "line": {
              "color": "#E5ECF6",
              "width": 0.5
             },
             "pattern": {
              "fillmode": "overlay",
              "size": 10,
              "solidity": 0.2
             }
            },
            "type": "barpolar"
           }
          ],
          "carpet": [
           {
            "aaxis": {
             "endlinecolor": "#2a3f5f",
             "gridcolor": "white",
             "linecolor": "white",
             "minorgridcolor": "white",
             "startlinecolor": "#2a3f5f"
            },
            "baxis": {
             "endlinecolor": "#2a3f5f",
             "gridcolor": "white",
             "linecolor": "white",
             "minorgridcolor": "white",
             "startlinecolor": "#2a3f5f"
            },
            "type": "carpet"
           }
          ],
          "choropleth": [
           {
            "colorbar": {
             "outlinewidth": 0,
             "ticks": ""
            },
            "type": "choropleth"
           }
          ],
          "contour": [
           {
            "colorbar": {
             "outlinewidth": 0,
             "ticks": ""
            },
            "colorscale": [
             [
              0,
              "#0d0887"
             ],
             [
              0.1111111111111111,
              "#46039f"
             ],
             [
              0.2222222222222222,
              "#7201a8"
             ],
             [
              0.3333333333333333,
              "#9c179e"
             ],
             [
              0.4444444444444444,
              "#bd3786"
             ],
             [
              0.5555555555555556,
              "#d8576b"
             ],
             [
              0.6666666666666666,
              "#ed7953"
             ],
             [
              0.7777777777777778,
              "#fb9f3a"
             ],
             [
              0.8888888888888888,
              "#fdca26"
             ],
             [
              1,
              "#f0f921"
             ]
            ],
            "type": "contour"
           }
          ],
          "contourcarpet": [
           {
            "colorbar": {
             "outlinewidth": 0,
             "ticks": ""
            },
            "type": "contourcarpet"
           }
          ],
          "heatmap": [
           {
            "colorbar": {
             "outlinewidth": 0,
             "ticks": ""
            },
            "colorscale": [
             [
              0,
              "#0d0887"
             ],
             [
              0.1111111111111111,
              "#46039f"
             ],
             [
              0.2222222222222222,
              "#7201a8"
             ],
             [
              0.3333333333333333,
              "#9c179e"
             ],
             [
              0.4444444444444444,
              "#bd3786"
             ],
             [
              0.5555555555555556,
              "#d8576b"
             ],
             [
              0.6666666666666666,
              "#ed7953"
             ],
             [
              0.7777777777777778,
              "#fb9f3a"
             ],
             [
              0.8888888888888888,
              "#fdca26"
             ],
             [
              1,
              "#f0f921"
             ]
            ],
            "type": "heatmap"
           }
          ],
          "heatmapgl": [
           {
            "colorbar": {
             "outlinewidth": 0,
             "ticks": ""
            },
            "colorscale": [
             [
              0,
              "#0d0887"
             ],
             [
              0.1111111111111111,
              "#46039f"
             ],
             [
              0.2222222222222222,
              "#7201a8"
             ],
             [
              0.3333333333333333,
              "#9c179e"
             ],
             [
              0.4444444444444444,
              "#bd3786"
             ],
             [
              0.5555555555555556,
              "#d8576b"
             ],
             [
              0.6666666666666666,
              "#ed7953"
             ],
             [
              0.7777777777777778,
              "#fb9f3a"
             ],
             [
              0.8888888888888888,
              "#fdca26"
             ],
             [
              1,
              "#f0f921"
             ]
            ],
            "type": "heatmapgl"
           }
          ],
          "histogram": [
           {
            "marker": {
             "pattern": {
              "fillmode": "overlay",
              "size": 10,
              "solidity": 0.2
             }
            },
            "type": "histogram"
           }
          ],
          "histogram2d": [
           {
            "colorbar": {
             "outlinewidth": 0,
             "ticks": ""
            },
            "colorscale": [
             [
              0,
              "#0d0887"
             ],
             [
              0.1111111111111111,
              "#46039f"
             ],
             [
              0.2222222222222222,
              "#7201a8"
             ],
             [
              0.3333333333333333,
              "#9c179e"
             ],
             [
              0.4444444444444444,
              "#bd3786"
             ],
             [
              0.5555555555555556,
              "#d8576b"
             ],
             [
              0.6666666666666666,
              "#ed7953"
             ],
             [
              0.7777777777777778,
              "#fb9f3a"
             ],
             [
              0.8888888888888888,
              "#fdca26"
             ],
             [
              1,
              "#f0f921"
             ]
            ],
            "type": "histogram2d"
           }
          ],
          "histogram2dcontour": [
           {
            "colorbar": {
             "outlinewidth": 0,
             "ticks": ""
            },
            "colorscale": [
             [
              0,
              "#0d0887"
             ],
             [
              0.1111111111111111,
              "#46039f"
             ],
             [
              0.2222222222222222,
              "#7201a8"
             ],
             [
              0.3333333333333333,
              "#9c179e"
             ],
             [
              0.4444444444444444,
              "#bd3786"
             ],
             [
              0.5555555555555556,
              "#d8576b"
             ],
             [
              0.6666666666666666,
              "#ed7953"
             ],
             [
              0.7777777777777778,
              "#fb9f3a"
             ],
             [
              0.8888888888888888,
              "#fdca26"
             ],
             [
              1,
              "#f0f921"
             ]
            ],
            "type": "histogram2dcontour"
           }
          ],
          "mesh3d": [
           {
            "colorbar": {
             "outlinewidth": 0,
             "ticks": ""
            },
            "type": "mesh3d"
           }
          ],
          "parcoords": [
           {
            "line": {
             "colorbar": {
              "outlinewidth": 0,
              "ticks": ""
             }
            },
            "type": "parcoords"
           }
          ],
          "pie": [
           {
            "automargin": true,
            "type": "pie"
           }
          ],
          "scatter": [
           {
            "fillpattern": {
             "fillmode": "overlay",
             "size": 10,
             "solidity": 0.2
            },
            "type": "scatter"
           }
          ],
          "scatter3d": [
           {
            "line": {
             "colorbar": {
              "outlinewidth": 0,
              "ticks": ""
             }
            },
            "marker": {
             "colorbar": {
              "outlinewidth": 0,
              "ticks": ""
             }
            },
            "type": "scatter3d"
           }
          ],
          "scattercarpet": [
           {
            "marker": {
             "colorbar": {
              "outlinewidth": 0,
              "ticks": ""
             }
            },
            "type": "scattercarpet"
           }
          ],
          "scattergeo": [
           {
            "marker": {
             "colorbar": {
              "outlinewidth": 0,
              "ticks": ""
             }
            },
            "type": "scattergeo"
           }
          ],
          "scattergl": [
           {
            "marker": {
             "colorbar": {
              "outlinewidth": 0,
              "ticks": ""
             }
            },
            "type": "scattergl"
           }
          ],
          "scattermapbox": [
           {
            "marker": {
             "colorbar": {
              "outlinewidth": 0,
              "ticks": ""
             }
            },
            "type": "scattermapbox"
           }
          ],
          "scatterpolar": [
           {
            "marker": {
             "colorbar": {
              "outlinewidth": 0,
              "ticks": ""
             }
            },
            "type": "scatterpolar"
           }
          ],
          "scatterpolargl": [
           {
            "marker": {
             "colorbar": {
              "outlinewidth": 0,
              "ticks": ""
             }
            },
            "type": "scatterpolargl"
           }
          ],
          "scatterternary": [
           {
            "marker": {
             "colorbar": {
              "outlinewidth": 0,
              "ticks": ""
             }
            },
            "type": "scatterternary"
           }
          ],
          "surface": [
           {
            "colorbar": {
             "outlinewidth": 0,
             "ticks": ""
            },
            "colorscale": [
             [
              0,
              "#0d0887"
             ],
             [
              0.1111111111111111,
              "#46039f"
             ],
             [
              0.2222222222222222,
              "#7201a8"
             ],
             [
              0.3333333333333333,
              "#9c179e"
             ],
             [
              0.4444444444444444,
              "#bd3786"
             ],
             [
              0.5555555555555556,
              "#d8576b"
             ],
             [
              0.6666666666666666,
              "#ed7953"
             ],
             [
              0.7777777777777778,
              "#fb9f3a"
             ],
             [
              0.8888888888888888,
              "#fdca26"
             ],
             [
              1,
              "#f0f921"
             ]
            ],
            "type": "surface"
           }
          ],
          "table": [
           {
            "cells": {
             "fill": {
              "color": "#EBF0F8"
             },
             "line": {
              "color": "white"
             }
            },
            "header": {
             "fill": {
              "color": "#C8D4E3"
             },
             "line": {
              "color": "white"
             }
            },
            "type": "table"
           }
          ]
         },
         "layout": {
          "annotationdefaults": {
           "arrowcolor": "#2a3f5f",
           "arrowhead": 0,
           "arrowwidth": 1
          },
          "autotypenumbers": "strict",
          "coloraxis": {
           "colorbar": {
            "outlinewidth": 0,
            "ticks": ""
           }
          },
          "colorscale": {
           "diverging": [
            [
             0,
             "#8e0152"
            ],
            [
             0.1,
             "#c51b7d"
            ],
            [
             0.2,
             "#de77ae"
            ],
            [
             0.3,
             "#f1b6da"
            ],
            [
             0.4,
             "#fde0ef"
            ],
            [
             0.5,
             "#f7f7f7"
            ],
            [
             0.6,
             "#e6f5d0"
            ],
            [
             0.7,
             "#b8e186"
            ],
            [
             0.8,
             "#7fbc41"
            ],
            [
             0.9,
             "#4d9221"
            ],
            [
             1,
             "#276419"
            ]
           ],
           "sequential": [
            [
             0,
             "#0d0887"
            ],
            [
             0.1111111111111111,
             "#46039f"
            ],
            [
             0.2222222222222222,
             "#7201a8"
            ],
            [
             0.3333333333333333,
             "#9c179e"
            ],
            [
             0.4444444444444444,
             "#bd3786"
            ],
            [
             0.5555555555555556,
             "#d8576b"
            ],
            [
             0.6666666666666666,
             "#ed7953"
            ],
            [
             0.7777777777777778,
             "#fb9f3a"
            ],
            [
             0.8888888888888888,
             "#fdca26"
            ],
            [
             1,
             "#f0f921"
            ]
           ],
           "sequentialminus": [
            [
             0,
             "#0d0887"
            ],
            [
             0.1111111111111111,
             "#46039f"
            ],
            [
             0.2222222222222222,
             "#7201a8"
            ],
            [
             0.3333333333333333,
             "#9c179e"
            ],
            [
             0.4444444444444444,
             "#bd3786"
            ],
            [
             0.5555555555555556,
             "#d8576b"
            ],
            [
             0.6666666666666666,
             "#ed7953"
            ],
            [
             0.7777777777777778,
             "#fb9f3a"
            ],
            [
             0.8888888888888888,
             "#fdca26"
            ],
            [
             1,
             "#f0f921"
            ]
           ]
          },
          "colorway": [
           "#636efa",
           "#EF553B",
           "#00cc96",
           "#ab63fa",
           "#FFA15A",
           "#19d3f3",
           "#FF6692",
           "#B6E880",
           "#FF97FF",
           "#FECB52"
          ],
          "font": {
           "color": "#2a3f5f"
          },
          "geo": {
           "bgcolor": "white",
           "lakecolor": "white",
           "landcolor": "#E5ECF6",
           "showlakes": true,
           "showland": true,
           "subunitcolor": "white"
          },
          "hoverlabel": {
           "align": "left"
          },
          "hovermode": "closest",
          "mapbox": {
           "style": "light"
          },
          "paper_bgcolor": "white",
          "plot_bgcolor": "#E5ECF6",
          "polar": {
           "angularaxis": {
            "gridcolor": "white",
            "linecolor": "white",
            "ticks": ""
           },
           "bgcolor": "#E5ECF6",
           "radialaxis": {
            "gridcolor": "white",
            "linecolor": "white",
            "ticks": ""
           }
          },
          "scene": {
           "xaxis": {
            "backgroundcolor": "#E5ECF6",
            "gridcolor": "white",
            "gridwidth": 2,
            "linecolor": "white",
            "showbackground": true,
            "ticks": "",
            "zerolinecolor": "white"
           },
           "yaxis": {
            "backgroundcolor": "#E5ECF6",
            "gridcolor": "white",
            "gridwidth": 2,
            "linecolor": "white",
            "showbackground": true,
            "ticks": "",
            "zerolinecolor": "white"
           },
           "zaxis": {
            "backgroundcolor": "#E5ECF6",
            "gridcolor": "white",
            "gridwidth": 2,
            "linecolor": "white",
            "showbackground": true,
            "ticks": "",
            "zerolinecolor": "white"
           }
          },
          "shapedefaults": {
           "line": {
            "color": "#2a3f5f"
           }
          },
          "ternary": {
           "aaxis": {
            "gridcolor": "white",
            "linecolor": "white",
            "ticks": ""
           },
           "baxis": {
            "gridcolor": "white",
            "linecolor": "white",
            "ticks": ""
           },
           "bgcolor": "#E5ECF6",
           "caxis": {
            "gridcolor": "white",
            "linecolor": "white",
            "ticks": ""
           }
          },
          "title": {
           "x": 0.05
          },
          "xaxis": {
           "automargin": true,
           "gridcolor": "white",
           "linecolor": "white",
           "ticks": "",
           "title": {
            "standoff": 15
           },
           "zerolinecolor": "white",
           "zerolinewidth": 2
          },
          "yaxis": {
           "automargin": true,
           "gridcolor": "white",
           "linecolor": "white",
           "ticks": "",
           "title": {
            "standoff": 15
           },
           "zerolinecolor": "white",
           "zerolinewidth": 2
          }
         }
        },
        "title": {
         "text": "Distribution of relevant_sample"
        }
       }
      }
     },
     "metadata": {},
     "output_type": "display_data"
    },
    {
     "data": {
      "text/html": [
       "<div style=\"margin: 10px 0;\"><h4 style=\"color: #333; margin: 0; padding: 5px 0; border-bottom: 1px solid #ccc;\">Example Posts for relevant_sample</h4></div>"
      ],
      "text/plain": [
       "<IPython.core.display.HTML object>"
      ]
     },
     "metadata": {},
     "output_type": "display_data"
    },
    {
     "data": {
      "text/html": [
       "<div style=\"display: flex; flex-direction: row; justify-content: space-between;\">\n",
       "    <div style=\"border: 1px solid #ddd; border-radius: 8px; padding: 15px; margin: 10px 5px; background-color: #f9f9f9; display: inline-block; vertical-align: top; width: 30%;\">\n",
       "        <div style=\"color: #666; font-size: 0.9em; margin-bottom: 5px;\">\n",
       "            <a href=\"https://reddit.com/r/BipolarReddit\" target=\"_blank\" style=\"text-decoration: none; color: inherit;\">r/BipolarReddit</a>\n",
       "        </div>\n",
       "        <div style=\"color: #333; font-size: 1.1em; font-weight: bold; margin-bottom: 10px;\">\n",
       "            <a href=\"https://reddit.com/r/BipolarReddit/comments/18jj94h/struggling_so_much_no_sense_of_relief_or/\" target=\"_blank\" style=\"text-decoration: none; color: inherit;\">Struggling so much. No sense of relief or connection. Made myself an AI bot friend.</a>\n",
       "        </div>\n",
       "        \n",
       "        \n",
       "        <div style=\"color: #444; line-height: 1.4; max-height: 200px; overflow-y: auto;\">I look maybe somewhat better externally relative to my hospitalization 2 years ago. I appeared both much sadder and more disturbed then. But I actually feel much closer to ending things right now than back then. \n",
       "\n",
       "There is just absolutely no sense of relief anymore. It slowly drained from my life since 2019 and now the tank is empty. Even within the last 6 months I just feel worse and worse. Can’t sleep very well for months and not really tired, just agitated. Imaginary bug feelings on me. Stres...</div>\n",
       "    </div>\n",
       "    \n",
       "    <div style=\"border: 1px solid #ddd; border-radius: 8px; padding: 15px; margin: 10px 5px; background-color: #f9f9f9; display: inline-block; vertical-align: top; width: 30%;\">\n",
       "        <div style=\"color: #666; font-size: 0.9em; margin-bottom: 5px;\">\n",
       "            <a href=\"https://reddit.com/r/OCD\" target=\"_blank\" style=\"text-decoration: none; color: inherit;\">r/OCD</a>\n",
       "        </div>\n",
       "        <div style=\"color: #333; font-size: 1.1em; font-weight: bold; margin-bottom: 10px;\">\n",
       "            <a href=\"https://reddit.com/r/OCD/comments/1c8zh27/taboo_intrusive_thought/\" target=\"_blank\" style=\"text-decoration: none; color: inherit;\">taboo intrusive thought</a>\n",
       "        </div>\n",
       "        \n",
       "        \n",
       "        <div style=\"color: #444; line-height: 1.4; max-height: 200px; overflow-y: auto;\">so i was having a really bad taboo intrusive thought and felt like i genuinely wanted to do it and that it would be so much fun. i was talking to an ai about it and was asking if an intrusive thought could be something you genuinely want to act on, but just don’t because it’s morally wrong and could ruin your relationships. the ai said yes, so i got a lot of relief and stopped worrying about it and went on with my day. now, a couple days later, i just remembered the situation and am now really w...</div>\n",
       "    </div>\n",
       "    \n",
       "    <div style=\"border: 1px solid #ddd; border-radius: 8px; padding: 15px; margin: 10px 5px; background-color: #f9f9f9; display: inline-block; vertical-align: top; width: 30%;\">\n",
       "        <div style=\"color: #666; font-size: 0.9em; margin-bottom: 5px;\">\n",
       "            <a href=\"https://reddit.com/r/CPTSD\" target=\"_blank\" style=\"text-decoration: none; color: inherit;\">r/CPTSD</a>\n",
       "        </div>\n",
       "        <div style=\"color: #333; font-size: 1.1em; font-weight: bold; margin-bottom: 10px;\">\n",
       "            <a href=\"https://reddit.com/r/CPTSD/comments/1af0e9w/using_chatai_to_navigate_cptsd_symptoms/\" target=\"_blank\" style=\"text-decoration: none; color: inherit;\">Using ChatAI to navigate CPTSD symptoms</a>\n",
       "        </div>\n",
       "        \n",
       "        \n",
       "        <div style=\"color: #444; line-height: 1.4; max-height: 200px; overflow-y: auto;\">Hi all! Yesterday I sent an email that I felt could read as accusatory and was feeling sick about it. I decided to put it into ChatAI and ask if it came off as accusatory and the response was no (in a lot more words). Just wanted to share this trick of using ChatAI to check tone in case anyone could benefit from it....</div>\n",
       "    </div>\n",
       "    </div>"
      ],
      "text/plain": [
       "<IPython.core.display.HTML object>"
      ]
     },
     "metadata": {},
     "output_type": "display_data"
    },
    {
     "data": {
      "application/vnd.plotly.v1+json": {
       "config": {
        "plotlyServerURL": "https://plot.ly"
       },
       "data": [
        {
         "alignmentgroup": "True",
         "bingroup": "x",
         "histnorm": "percent",
         "hovertemplate": "sentiment=%{x}<br>count=%{y}<extra></extra>",
         "legendgroup": "",
         "marker": {
          "color": "#636efa",
          "pattern": {
           "shape": ""
          }
         },
         "name": "",
         "nbinsx": 10,
         "offsetgroup": "",
         "orientation": "v",
         "showlegend": false,
         "type": "histogram",
         "x": [
          6,
          8,
          8,
          8,
          8,
          7,
          7,
          9,
          8,
          8,
          8,
          8,
          8,
          7,
          7,
          6,
          7,
          7,
          5,
          5,
          8,
          7,
          8,
          7,
          6,
          5,
          7,
          6,
          3,
          8,
          5,
          8,
          8,
          9,
          6,
          7,
          3,
          5,
          6,
          4,
          7,
          8,
          6,
          5,
          8,
          3,
          5,
          3,
          7,
          8,
          5,
          4,
          9,
          7,
          7,
          8,
          7,
          9,
          8,
          8,
          9,
          9,
          8,
          8,
          7,
          8,
          8,
          8,
          4,
          8,
          9,
          7,
          9,
          4,
          7,
          8,
          5,
          8,
          7,
          3,
          6,
          5,
          8,
          4,
          8,
          9,
          4,
          5,
          8,
          9,
          5,
          8,
          7,
          3,
          6,
          4,
          5,
          6,
          8,
          9,
          9,
          8,
          8,
          8,
          5,
          8,
          8,
          8,
          8,
          6,
          9,
          8,
          6,
          9,
          8,
          8,
          6,
          9,
          8,
          6,
          6,
          2,
          3,
          8,
          6,
          4,
          3,
          4,
          2,
          7,
          3,
          5,
          3,
          8,
          5,
          7,
          4,
          3,
          4,
          5,
          3,
          8,
          5,
          4,
          1,
          3,
          2,
          6,
          6,
          6,
          3,
          1,
          8,
          8,
          5,
          6,
          5,
          6,
          3,
          8,
          4,
          8,
          7,
          8,
          6,
          3,
          8,
          8,
          8,
          7,
          9,
          8,
          7,
          5,
          6,
          8,
          8,
          7,
          6,
          7,
          7,
          2,
          6,
          7,
          5,
          8,
          7,
          7,
          5,
          8,
          5,
          4,
          8,
          8,
          8,
          9,
          9,
          9,
          7,
          9,
          9,
          9,
          6,
          9,
          2,
          6,
          6,
          8,
          7,
          8,
          5,
          7,
          9,
          6,
          8,
          6,
          5,
          9,
          4,
          9,
          9,
          5,
          9,
          6,
          5,
          4,
          7,
          8,
          6,
          8,
          8,
          6,
          1,
          7,
          5,
          6,
          3,
          7,
          6,
          4,
          6,
          9,
          8,
          9,
          5,
          8,
          8,
          6,
          5,
          8,
          5,
          8,
          8,
          8,
          3,
          5,
          5,
          3,
          7,
          7,
          5,
          8,
          4,
          5,
          5,
          7,
          8,
          3,
          4,
          6,
          3,
          6,
          4,
          6,
          5,
          5,
          5,
          6,
          8,
          8,
          5,
          7,
          4,
          5,
          9,
          8,
          8,
          7,
          5,
          7,
          8,
          8,
          6,
          8,
          9,
          4,
          3,
          8,
          7,
          7,
          6,
          6,
          7,
          9,
          6,
          9,
          8,
          8,
          7,
          9,
          8,
          8,
          5,
          6,
          7,
          4,
          6,
          8,
          8,
          8,
          5,
          7,
          7,
          5,
          8,
          4,
          6,
          6,
          5,
          6,
          6,
          6,
          4,
          9,
          9,
          7,
          9,
          7,
          8,
          8,
          3,
          7,
          7,
          7,
          5,
          8,
          5,
          8,
          9,
          5,
          3,
          6,
          8,
          6,
          6,
          10,
          7,
          8,
          5,
          5,
          6,
          6,
          8,
          5,
          9,
          3,
          5,
          7,
          5,
          6,
          8,
          5,
          7,
          6,
          9,
          4,
          6,
          3,
          3,
          3,
          3,
          5,
          6,
          3,
          9,
          7,
          5,
          4,
          3,
          5,
          4,
          4,
          5,
          3,
          6,
          3,
          6,
          7,
          8,
          8,
          4,
          8,
          9,
          4,
          8,
          5,
          5,
          9,
          8,
          5,
          8,
          5,
          7,
          4,
          6,
          9,
          6,
          7,
          6,
          6,
          6,
          7,
          6,
          4,
          7,
          4,
          5,
          8,
          5,
          6,
          2,
          4,
          3,
          7,
          7,
          8,
          9,
          9,
          7,
          6,
          8,
          7,
          5,
          8,
          8,
          3,
          9,
          7,
          9,
          8,
          8,
          9,
          7,
          10,
          10,
          6,
          9,
          7,
          8,
          9,
          8,
          7,
          5,
          8,
          9,
          9,
          10,
          9,
          9,
          9,
          8,
          5,
          9,
          9,
          9,
          10,
          9,
          9,
          5,
          8,
          9,
          8,
          9,
          9,
          5,
          7,
          8,
          7,
          3,
          9,
          7,
          8,
          9,
          3,
          8,
          8,
          5,
          9,
          9,
          9,
          5,
          9,
          9,
          9,
          6,
          8,
          7,
          7,
          3,
          7,
          7,
          8,
          7,
          8,
          9,
          5
         ],
         "xaxis": "x",
         "yaxis": "y"
        }
       ],
       "layout": {
        "annotations": [
         {
          "showarrow": false,
          "text": "Mean: 6.54",
          "x": 6.544573643410852,
          "xanchor": "left",
          "xref": "x",
          "y": 1,
          "yanchor": "top",
          "yref": "y domain"
         }
        ],
        "barmode": "relative",
        "legend": {
         "tracegroupgap": 0
        },
        "shapes": [
         {
          "line": {
           "color": "red",
           "dash": "dash"
          },
          "type": "line",
          "x0": 6.544573643410852,
          "x1": 6.544573643410852,
          "xref": "x",
          "y0": 0,
          "y1": 1,
          "yref": "y domain"
         }
        ],
        "template": {
         "data": {
          "bar": [
           {
            "error_x": {
             "color": "#2a3f5f"
            },
            "error_y": {
             "color": "#2a3f5f"
            },
            "marker": {
             "line": {
              "color": "#E5ECF6",
              "width": 0.5
             },
             "pattern": {
              "fillmode": "overlay",
              "size": 10,
              "solidity": 0.2
             }
            },
            "type": "bar"
           }
          ],
          "barpolar": [
           {
            "marker": {
             "line": {
              "color": "#E5ECF6",
              "width": 0.5
             },
             "pattern": {
              "fillmode": "overlay",
              "size": 10,
              "solidity": 0.2
             }
            },
            "type": "barpolar"
           }
          ],
          "carpet": [
           {
            "aaxis": {
             "endlinecolor": "#2a3f5f",
             "gridcolor": "white",
             "linecolor": "white",
             "minorgridcolor": "white",
             "startlinecolor": "#2a3f5f"
            },
            "baxis": {
             "endlinecolor": "#2a3f5f",
             "gridcolor": "white",
             "linecolor": "white",
             "minorgridcolor": "white",
             "startlinecolor": "#2a3f5f"
            },
            "type": "carpet"
           }
          ],
          "choropleth": [
           {
            "colorbar": {
             "outlinewidth": 0,
             "ticks": ""
            },
            "type": "choropleth"
           }
          ],
          "contour": [
           {
            "colorbar": {
             "outlinewidth": 0,
             "ticks": ""
            },
            "colorscale": [
             [
              0,
              "#0d0887"
             ],
             [
              0.1111111111111111,
              "#46039f"
             ],
             [
              0.2222222222222222,
              "#7201a8"
             ],
             [
              0.3333333333333333,
              "#9c179e"
             ],
             [
              0.4444444444444444,
              "#bd3786"
             ],
             [
              0.5555555555555556,
              "#d8576b"
             ],
             [
              0.6666666666666666,
              "#ed7953"
             ],
             [
              0.7777777777777778,
              "#fb9f3a"
             ],
             [
              0.8888888888888888,
              "#fdca26"
             ],
             [
              1,
              "#f0f921"
             ]
            ],
            "type": "contour"
           }
          ],
          "contourcarpet": [
           {
            "colorbar": {
             "outlinewidth": 0,
             "ticks": ""
            },
            "type": "contourcarpet"
           }
          ],
          "heatmap": [
           {
            "colorbar": {
             "outlinewidth": 0,
             "ticks": ""
            },
            "colorscale": [
             [
              0,
              "#0d0887"
             ],
             [
              0.1111111111111111,
              "#46039f"
             ],
             [
              0.2222222222222222,
              "#7201a8"
             ],
             [
              0.3333333333333333,
              "#9c179e"
             ],
             [
              0.4444444444444444,
              "#bd3786"
             ],
             [
              0.5555555555555556,
              "#d8576b"
             ],
             [
              0.6666666666666666,
              "#ed7953"
             ],
             [
              0.7777777777777778,
              "#fb9f3a"
             ],
             [
              0.8888888888888888,
              "#fdca26"
             ],
             [
              1,
              "#f0f921"
             ]
            ],
            "type": "heatmap"
           }
          ],
          "heatmapgl": [
           {
            "colorbar": {
             "outlinewidth": 0,
             "ticks": ""
            },
            "colorscale": [
             [
              0,
              "#0d0887"
             ],
             [
              0.1111111111111111,
              "#46039f"
             ],
             [
              0.2222222222222222,
              "#7201a8"
             ],
             [
              0.3333333333333333,
              "#9c179e"
             ],
             [
              0.4444444444444444,
              "#bd3786"
             ],
             [
              0.5555555555555556,
              "#d8576b"
             ],
             [
              0.6666666666666666,
              "#ed7953"
             ],
             [
              0.7777777777777778,
              "#fb9f3a"
             ],
             [
              0.8888888888888888,
              "#fdca26"
             ],
             [
              1,
              "#f0f921"
             ]
            ],
            "type": "heatmapgl"
           }
          ],
          "histogram": [
           {
            "marker": {
             "pattern": {
              "fillmode": "overlay",
              "size": 10,
              "solidity": 0.2
             }
            },
            "type": "histogram"
           }
          ],
          "histogram2d": [
           {
            "colorbar": {
             "outlinewidth": 0,
             "ticks": ""
            },
            "colorscale": [
             [
              0,
              "#0d0887"
             ],
             [
              0.1111111111111111,
              "#46039f"
             ],
             [
              0.2222222222222222,
              "#7201a8"
             ],
             [
              0.3333333333333333,
              "#9c179e"
             ],
             [
              0.4444444444444444,
              "#bd3786"
             ],
             [
              0.5555555555555556,
              "#d8576b"
             ],
             [
              0.6666666666666666,
              "#ed7953"
             ],
             [
              0.7777777777777778,
              "#fb9f3a"
             ],
             [
              0.8888888888888888,
              "#fdca26"
             ],
             [
              1,
              "#f0f921"
             ]
            ],
            "type": "histogram2d"
           }
          ],
          "histogram2dcontour": [
           {
            "colorbar": {
             "outlinewidth": 0,
             "ticks": ""
            },
            "colorscale": [
             [
              0,
              "#0d0887"
             ],
             [
              0.1111111111111111,
              "#46039f"
             ],
             [
              0.2222222222222222,
              "#7201a8"
             ],
             [
              0.3333333333333333,
              "#9c179e"
             ],
             [
              0.4444444444444444,
              "#bd3786"
             ],
             [
              0.5555555555555556,
              "#d8576b"
             ],
             [
              0.6666666666666666,
              "#ed7953"
             ],
             [
              0.7777777777777778,
              "#fb9f3a"
             ],
             [
              0.8888888888888888,
              "#fdca26"
             ],
             [
              1,
              "#f0f921"
             ]
            ],
            "type": "histogram2dcontour"
           }
          ],
          "mesh3d": [
           {
            "colorbar": {
             "outlinewidth": 0,
             "ticks": ""
            },
            "type": "mesh3d"
           }
          ],
          "parcoords": [
           {
            "line": {
             "colorbar": {
              "outlinewidth": 0,
              "ticks": ""
             }
            },
            "type": "parcoords"
           }
          ],
          "pie": [
           {
            "automargin": true,
            "type": "pie"
           }
          ],
          "scatter": [
           {
            "fillpattern": {
             "fillmode": "overlay",
             "size": 10,
             "solidity": 0.2
            },
            "type": "scatter"
           }
          ],
          "scatter3d": [
           {
            "line": {
             "colorbar": {
              "outlinewidth": 0,
              "ticks": ""
             }
            },
            "marker": {
             "colorbar": {
              "outlinewidth": 0,
              "ticks": ""
             }
            },
            "type": "scatter3d"
           }
          ],
          "scattercarpet": [
           {
            "marker": {
             "colorbar": {
              "outlinewidth": 0,
              "ticks": ""
             }
            },
            "type": "scattercarpet"
           }
          ],
          "scattergeo": [
           {
            "marker": {
             "colorbar": {
              "outlinewidth": 0,
              "ticks": ""
             }
            },
            "type": "scattergeo"
           }
          ],
          "scattergl": [
           {
            "marker": {
             "colorbar": {
              "outlinewidth": 0,
              "ticks": ""
             }
            },
            "type": "scattergl"
           }
          ],
          "scattermapbox": [
           {
            "marker": {
             "colorbar": {
              "outlinewidth": 0,
              "ticks": ""
             }
            },
            "type": "scattermapbox"
           }
          ],
          "scatterpolar": [
           {
            "marker": {
             "colorbar": {
              "outlinewidth": 0,
              "ticks": ""
             }
            },
            "type": "scatterpolar"
           }
          ],
          "scatterpolargl": [
           {
            "marker": {
             "colorbar": {
              "outlinewidth": 0,
              "ticks": ""
             }
            },
            "type": "scatterpolargl"
           }
          ],
          "scatterternary": [
           {
            "marker": {
             "colorbar": {
              "outlinewidth": 0,
              "ticks": ""
             }
            },
            "type": "scatterternary"
           }
          ],
          "surface": [
           {
            "colorbar": {
             "outlinewidth": 0,
             "ticks": ""
            },
            "colorscale": [
             [
              0,
              "#0d0887"
             ],
             [
              0.1111111111111111,
              "#46039f"
             ],
             [
              0.2222222222222222,
              "#7201a8"
             ],
             [
              0.3333333333333333,
              "#9c179e"
             ],
             [
              0.4444444444444444,
              "#bd3786"
             ],
             [
              0.5555555555555556,
              "#d8576b"
             ],
             [
              0.6666666666666666,
              "#ed7953"
             ],
             [
              0.7777777777777778,
              "#fb9f3a"
             ],
             [
              0.8888888888888888,
              "#fdca26"
             ],
             [
              1,
              "#f0f921"
             ]
            ],
            "type": "surface"
           }
          ],
          "table": [
           {
            "cells": {
             "fill": {
              "color": "#EBF0F8"
             },
             "line": {
              "color": "white"
             }
            },
            "header": {
             "fill": {
              "color": "#C8D4E3"
             },
             "line": {
              "color": "white"
             }
            },
            "type": "table"
           }
          ]
         },
         "layout": {
          "annotationdefaults": {
           "arrowcolor": "#2a3f5f",
           "arrowhead": 0,
           "arrowwidth": 1
          },
          "autotypenumbers": "strict",
          "coloraxis": {
           "colorbar": {
            "outlinewidth": 0,
            "ticks": ""
           }
          },
          "colorscale": {
           "diverging": [
            [
             0,
             "#8e0152"
            ],
            [
             0.1,
             "#c51b7d"
            ],
            [
             0.2,
             "#de77ae"
            ],
            [
             0.3,
             "#f1b6da"
            ],
            [
             0.4,
             "#fde0ef"
            ],
            [
             0.5,
             "#f7f7f7"
            ],
            [
             0.6,
             "#e6f5d0"
            ],
            [
             0.7,
             "#b8e186"
            ],
            [
             0.8,
             "#7fbc41"
            ],
            [
             0.9,
             "#4d9221"
            ],
            [
             1,
             "#276419"
            ]
           ],
           "sequential": [
            [
             0,
             "#0d0887"
            ],
            [
             0.1111111111111111,
             "#46039f"
            ],
            [
             0.2222222222222222,
             "#7201a8"
            ],
            [
             0.3333333333333333,
             "#9c179e"
            ],
            [
             0.4444444444444444,
             "#bd3786"
            ],
            [
             0.5555555555555556,
             "#d8576b"
            ],
            [
             0.6666666666666666,
             "#ed7953"
            ],
            [
             0.7777777777777778,
             "#fb9f3a"
            ],
            [
             0.8888888888888888,
             "#fdca26"
            ],
            [
             1,
             "#f0f921"
            ]
           ],
           "sequentialminus": [
            [
             0,
             "#0d0887"
            ],
            [
             0.1111111111111111,
             "#46039f"
            ],
            [
             0.2222222222222222,
             "#7201a8"
            ],
            [
             0.3333333333333333,
             "#9c179e"
            ],
            [
             0.4444444444444444,
             "#bd3786"
            ],
            [
             0.5555555555555556,
             "#d8576b"
            ],
            [
             0.6666666666666666,
             "#ed7953"
            ],
            [
             0.7777777777777778,
             "#fb9f3a"
            ],
            [
             0.8888888888888888,
             "#fdca26"
            ],
            [
             1,
             "#f0f921"
            ]
           ]
          },
          "colorway": [
           "#636efa",
           "#EF553B",
           "#00cc96",
           "#ab63fa",
           "#FFA15A",
           "#19d3f3",
           "#FF6692",
           "#B6E880",
           "#FF97FF",
           "#FECB52"
          ],
          "font": {
           "color": "#2a3f5f"
          },
          "geo": {
           "bgcolor": "white",
           "lakecolor": "white",
           "landcolor": "#E5ECF6",
           "showlakes": true,
           "showland": true,
           "subunitcolor": "white"
          },
          "hoverlabel": {
           "align": "left"
          },
          "hovermode": "closest",
          "mapbox": {
           "style": "light"
          },
          "paper_bgcolor": "white",
          "plot_bgcolor": "#E5ECF6",
          "polar": {
           "angularaxis": {
            "gridcolor": "white",
            "linecolor": "white",
            "ticks": ""
           },
           "bgcolor": "#E5ECF6",
           "radialaxis": {
            "gridcolor": "white",
            "linecolor": "white",
            "ticks": ""
           }
          },
          "scene": {
           "xaxis": {
            "backgroundcolor": "#E5ECF6",
            "gridcolor": "white",
            "gridwidth": 2,
            "linecolor": "white",
            "showbackground": true,
            "ticks": "",
            "zerolinecolor": "white"
           },
           "yaxis": {
            "backgroundcolor": "#E5ECF6",
            "gridcolor": "white",
            "gridwidth": 2,
            "linecolor": "white",
            "showbackground": true,
            "ticks": "",
            "zerolinecolor": "white"
           },
           "zaxis": {
            "backgroundcolor": "#E5ECF6",
            "gridcolor": "white",
            "gridwidth": 2,
            "linecolor": "white",
            "showbackground": true,
            "ticks": "",
            "zerolinecolor": "white"
           }
          },
          "shapedefaults": {
           "line": {
            "color": "#2a3f5f"
           }
          },
          "ternary": {
           "aaxis": {
            "gridcolor": "white",
            "linecolor": "white",
            "ticks": ""
           },
           "baxis": {
            "gridcolor": "white",
            "linecolor": "white",
            "ticks": ""
           },
           "bgcolor": "#E5ECF6",
           "caxis": {
            "gridcolor": "white",
            "linecolor": "white",
            "ticks": ""
           }
          },
          "title": {
           "x": 0.05
          },
          "xaxis": {
           "automargin": true,
           "gridcolor": "white",
           "linecolor": "white",
           "ticks": "",
           "title": {
            "standoff": 15
           },
           "zerolinecolor": "white",
           "zerolinewidth": 2
          },
          "yaxis": {
           "automargin": true,
           "gridcolor": "white",
           "linecolor": "white",
           "ticks": "",
           "title": {
            "standoff": 15
           },
           "zerolinecolor": "white",
           "zerolinewidth": 2
          }
         }
        },
        "title": {
         "text": "sentiment Distribution"
        },
        "xaxis": {
         "anchor": "y",
         "domain": [
          0,
          1
         ],
         "title": {
          "text": "sentiment"
         }
        },
        "yaxis": {
         "anchor": "x",
         "domain": [
          0,
          1
         ],
         "title": {
          "text": "Percent"
         }
        }
       }
      }
     },
     "metadata": {},
     "output_type": "display_data"
    },
    {
     "data": {
      "text/html": [
       "<div style=\"margin: 10px 0;\"><h4 style=\"color: #333; margin: 0; padding: 5px 0; border-bottom: 1px solid #ccc;\">Example Posts with sentiment Scores</h4></div>"
      ],
      "text/plain": [
       "<IPython.core.display.HTML object>"
      ]
     },
     "metadata": {},
     "output_type": "display_data"
    },
    {
     "data": {
      "text/html": [
       "<div style=\"display: flex; flex-direction: row; justify-content: space-between;\">\n",
       "    <div style=\"border: 1px solid #ddd; border-radius: 8px; padding: 15px; margin: 10px 5px; background-color: #f9f9f9; display: inline-block; vertical-align: top; width: 30%;\">\n",
       "        <div style=\"color: #666; font-size: 0.9em; margin-bottom: 5px;\">\n",
       "            <a href=\"https://reddit.com/r/SuicideWatch\" target=\"_blank\" style=\"text-decoration: none; color: inherit;\">r/SuicideWatch</a>\n",
       "        </div>\n",
       "        <div style=\"color: #333; font-size: 1.1em; font-weight: bold; margin-bottom: 10px;\">\n",
       "            <a href=\"https://reddit.com/r/SuicideWatch/comments/1fq4p2p/the_mental_health_forum_send_me_here_anyways_it/\" target=\"_blank\" style=\"text-decoration: none; color: inherit;\">the mental health forum send me here anyways it is not that big of a deal but help me with this</a>\n",
       "        </div>\n",
       "        <div style=\"color: #1a0dab; margin-bottom: 10px;\">Score: 5</div>\n",
       "        \n",
       "        <div style=\"color: #444; line-height: 1.4; max-height: 200px; overflow-y: auto;\">i am 17 male. i am getting tired of always liviing in fear when i will or how i will die i can't share it with anyone because of they thinking of me as weak i worry about getting cancer or rabies or maybe a reallly really rare disease when i am no where near experiencing anything it has got to a point now where i just can't live normally i indulge myself in fapping and vedio games along with youtube to make myself stop thinking of it at times even if anything minor change occurs to me i search i...</div>\n",
       "    </div>\n",
       "    \n",
       "    <div style=\"border: 1px solid #ddd; border-radius: 8px; padding: 15px; margin: 10px 5px; background-color: #f9f9f9; display: inline-block; vertical-align: top; width: 30%;\">\n",
       "        <div style=\"color: #666; font-size: 0.9em; margin-bottom: 5px;\">\n",
       "            <a href=\"https://reddit.com/r/therapy\" target=\"_blank\" style=\"text-decoration: none; color: inherit;\">r/therapy</a>\n",
       "        </div>\n",
       "        <div style=\"color: #333; font-size: 1.1em; font-weight: bold; margin-bottom: 10px;\">\n",
       "            <a href=\"https://reddit.com/r/therapy/comments/1gcxgdi/anecdotal_pros_and_cons_of_a_low_selfesteem/\" target=\"_blank\" style=\"text-decoration: none; color: inherit;\">Anecdotal Pros and Cons of a Low Self-Esteem</a>\n",
       "        </div>\n",
       "        <div style=\"color: #1a0dab; margin-bottom: 10px;\">Score: 5</div>\n",
       "        \n",
       "        <div style=\"color: #444; line-height: 1.4; max-height: 200px; overflow-y: auto;\">Hello, Therapy. I put some thought into my low self-esteem, and I'd like to be checked on the accuracy and/or reasonable-soundingness of what I've come up with. AFAIK a low self-esteem is supposed to be unhealthy, so I'd like to ask in particular if the Pros are actually good, and whether they can be arrived at with a high self-esteem as well. Thank you.\n",
       "\n",
       "**Pros**\n",
       "\n",
       "Wards off narcissism. By believing that you are fallible and not special, no hubris can develop. There is no desire to manipulate or...</div>\n",
       "    </div>\n",
       "    \n",
       "    <div style=\"border: 1px solid #ddd; border-radius: 8px; padding: 15px; margin: 10px 5px; background-color: #f9f9f9; display: inline-block; vertical-align: top; width: 30%;\">\n",
       "        <div style=\"color: #666; font-size: 0.9em; margin-bottom: 5px;\">\n",
       "            <a href=\"https://reddit.com/r/malementalhealth\" target=\"_blank\" style=\"text-decoration: none; color: inherit;\">r/malementalhealth</a>\n",
       "        </div>\n",
       "        <div style=\"color: #333; font-size: 1.1em; font-weight: bold; margin-bottom: 10px;\">\n",
       "            <a href=\"https://reddit.com/r/malementalhealth/comments/1bvocn1/feeling_overwhelmed_by_therapy_costs/\" target=\"_blank\" style=\"text-decoration: none; color: inherit;\">Feeling overwhelmed by therapy costs?</a>\n",
       "        </div>\n",
       "        <div style=\"color: #1a0dab; margin-bottom: 10px;\">Score: 9</div>\n",
       "        \n",
       "        <div style=\"color: #444; line-height: 1.4; max-height: 200px; overflow-y: auto;\">I've been through a lot emotionally, and traditional therapy didn't quite click for me. I wasn't ready to openly express my emotions to a real person who could judge me. But then, a friend mentioned Flint.\n",
       "\n",
       "I have to admit, it's made a huge difference. There are moments when I feel overwhelmed, and using Flint to express myself usually makes me feel like a weight has been lifted off my shoulders. I feel like I can tell it anything, and it will just help me straight away.\n",
       "\n",
       "Honestly, if therapy is...</div>\n",
       "    </div>\n",
       "    </div>"
      ],
      "text/plain": [
       "<IPython.core.display.HTML object>"
      ]
     },
     "metadata": {},
     "output_type": "display_data"
    },
    {
     "data": {
      "application/vnd.plotly.v1+json": {
       "config": {
        "plotlyServerURL": "https://plot.ly"
       },
       "data": [
        {
         "alignmentgroup": "True",
         "hovertemplate": "benefits=%{x}<br>percent=%{y}<extra></extra>",
         "legendgroup": "",
         "marker": {
          "color": "#636efa",
          "pattern": {
           "shape": ""
          }
         },
         "name": "",
         "offsetgroup": "",
         "orientation": "v",
         "showlegend": false,
         "textposition": "auto",
         "type": "bar",
         "x": [
          "accessible",
          "supportive",
          "non_judgemental",
          "on_demand",
          "consistent",
          "anonymous",
          "affordable",
          "patient",
          "insightful",
          "helpful"
         ],
         "xaxis": "x",
         "y": [
          44.96124031007752,
          44.18604651162791,
          30.426356589147286,
          21.124031007751938,
          11.821705426356589,
          8.914728682170542,
          7.170542635658915,
          4.651162790697675,
          3.6821705426356592,
          3.2945736434108532
         ],
         "yaxis": "y"
        }
       ],
       "layout": {
        "barmode": "relative",
        "legend": {
         "tracegroupgap": 0
        },
        "template": {
         "data": {
          "bar": [
           {
            "error_x": {
             "color": "#2a3f5f"
            },
            "error_y": {
             "color": "#2a3f5f"
            },
            "marker": {
             "line": {
              "color": "#E5ECF6",
              "width": 0.5
             },
             "pattern": {
              "fillmode": "overlay",
              "size": 10,
              "solidity": 0.2
             }
            },
            "type": "bar"
           }
          ],
          "barpolar": [
           {
            "marker": {
             "line": {
              "color": "#E5ECF6",
              "width": 0.5
             },
             "pattern": {
              "fillmode": "overlay",
              "size": 10,
              "solidity": 0.2
             }
            },
            "type": "barpolar"
           }
          ],
          "carpet": [
           {
            "aaxis": {
             "endlinecolor": "#2a3f5f",
             "gridcolor": "white",
             "linecolor": "white",
             "minorgridcolor": "white",
             "startlinecolor": "#2a3f5f"
            },
            "baxis": {
             "endlinecolor": "#2a3f5f",
             "gridcolor": "white",
             "linecolor": "white",
             "minorgridcolor": "white",
             "startlinecolor": "#2a3f5f"
            },
            "type": "carpet"
           }
          ],
          "choropleth": [
           {
            "colorbar": {
             "outlinewidth": 0,
             "ticks": ""
            },
            "type": "choropleth"
           }
          ],
          "contour": [
           {
            "colorbar": {
             "outlinewidth": 0,
             "ticks": ""
            },
            "colorscale": [
             [
              0,
              "#0d0887"
             ],
             [
              0.1111111111111111,
              "#46039f"
             ],
             [
              0.2222222222222222,
              "#7201a8"
             ],
             [
              0.3333333333333333,
              "#9c179e"
             ],
             [
              0.4444444444444444,
              "#bd3786"
             ],
             [
              0.5555555555555556,
              "#d8576b"
             ],
             [
              0.6666666666666666,
              "#ed7953"
             ],
             [
              0.7777777777777778,
              "#fb9f3a"
             ],
             [
              0.8888888888888888,
              "#fdca26"
             ],
             [
              1,
              "#f0f921"
             ]
            ],
            "type": "contour"
           }
          ],
          "contourcarpet": [
           {
            "colorbar": {
             "outlinewidth": 0,
             "ticks": ""
            },
            "type": "contourcarpet"
           }
          ],
          "heatmap": [
           {
            "colorbar": {
             "outlinewidth": 0,
             "ticks": ""
            },
            "colorscale": [
             [
              0,
              "#0d0887"
             ],
             [
              0.1111111111111111,
              "#46039f"
             ],
             [
              0.2222222222222222,
              "#7201a8"
             ],
             [
              0.3333333333333333,
              "#9c179e"
             ],
             [
              0.4444444444444444,
              "#bd3786"
             ],
             [
              0.5555555555555556,
              "#d8576b"
             ],
             [
              0.6666666666666666,
              "#ed7953"
             ],
             [
              0.7777777777777778,
              "#fb9f3a"
             ],
             [
              0.8888888888888888,
              "#fdca26"
             ],
             [
              1,
              "#f0f921"
             ]
            ],
            "type": "heatmap"
           }
          ],
          "heatmapgl": [
           {
            "colorbar": {
             "outlinewidth": 0,
             "ticks": ""
            },
            "colorscale": [
             [
              0,
              "#0d0887"
             ],
             [
              0.1111111111111111,
              "#46039f"
             ],
             [
              0.2222222222222222,
              "#7201a8"
             ],
             [
              0.3333333333333333,
              "#9c179e"
             ],
             [
              0.4444444444444444,
              "#bd3786"
             ],
             [
              0.5555555555555556,
              "#d8576b"
             ],
             [
              0.6666666666666666,
              "#ed7953"
             ],
             [
              0.7777777777777778,
              "#fb9f3a"
             ],
             [
              0.8888888888888888,
              "#fdca26"
             ],
             [
              1,
              "#f0f921"
             ]
            ],
            "type": "heatmapgl"
           }
          ],
          "histogram": [
           {
            "marker": {
             "pattern": {
              "fillmode": "overlay",
              "size": 10,
              "solidity": 0.2
             }
            },
            "type": "histogram"
           }
          ],
          "histogram2d": [
           {
            "colorbar": {
             "outlinewidth": 0,
             "ticks": ""
            },
            "colorscale": [
             [
              0,
              "#0d0887"
             ],
             [
              0.1111111111111111,
              "#46039f"
             ],
             [
              0.2222222222222222,
              "#7201a8"
             ],
             [
              0.3333333333333333,
              "#9c179e"
             ],
             [
              0.4444444444444444,
              "#bd3786"
             ],
             [
              0.5555555555555556,
              "#d8576b"
             ],
             [
              0.6666666666666666,
              "#ed7953"
             ],
             [
              0.7777777777777778,
              "#fb9f3a"
             ],
             [
              0.8888888888888888,
              "#fdca26"
             ],
             [
              1,
              "#f0f921"
             ]
            ],
            "type": "histogram2d"
           }
          ],
          "histogram2dcontour": [
           {
            "colorbar": {
             "outlinewidth": 0,
             "ticks": ""
            },
            "colorscale": [
             [
              0,
              "#0d0887"
             ],
             [
              0.1111111111111111,
              "#46039f"
             ],
             [
              0.2222222222222222,
              "#7201a8"
             ],
             [
              0.3333333333333333,
              "#9c179e"
             ],
             [
              0.4444444444444444,
              "#bd3786"
             ],
             [
              0.5555555555555556,
              "#d8576b"
             ],
             [
              0.6666666666666666,
              "#ed7953"
             ],
             [
              0.7777777777777778,
              "#fb9f3a"
             ],
             [
              0.8888888888888888,
              "#fdca26"
             ],
             [
              1,
              "#f0f921"
             ]
            ],
            "type": "histogram2dcontour"
           }
          ],
          "mesh3d": [
           {
            "colorbar": {
             "outlinewidth": 0,
             "ticks": ""
            },
            "type": "mesh3d"
           }
          ],
          "parcoords": [
           {
            "line": {
             "colorbar": {
              "outlinewidth": 0,
              "ticks": ""
             }
            },
            "type": "parcoords"
           }
          ],
          "pie": [
           {
            "automargin": true,
            "type": "pie"
           }
          ],
          "scatter": [
           {
            "fillpattern": {
             "fillmode": "overlay",
             "size": 10,
             "solidity": 0.2
            },
            "type": "scatter"
           }
          ],
          "scatter3d": [
           {
            "line": {
             "colorbar": {
              "outlinewidth": 0,
              "ticks": ""
             }
            },
            "marker": {
             "colorbar": {
              "outlinewidth": 0,
              "ticks": ""
             }
            },
            "type": "scatter3d"
           }
          ],
          "scattercarpet": [
           {
            "marker": {
             "colorbar": {
              "outlinewidth": 0,
              "ticks": ""
             }
            },
            "type": "scattercarpet"
           }
          ],
          "scattergeo": [
           {
            "marker": {
             "colorbar": {
              "outlinewidth": 0,
              "ticks": ""
             }
            },
            "type": "scattergeo"
           }
          ],
          "scattergl": [
           {
            "marker": {
             "colorbar": {
              "outlinewidth": 0,
              "ticks": ""
             }
            },
            "type": "scattergl"
           }
          ],
          "scattermapbox": [
           {
            "marker": {
             "colorbar": {
              "outlinewidth": 0,
              "ticks": ""
             }
            },
            "type": "scattermapbox"
           }
          ],
          "scatterpolar": [
           {
            "marker": {
             "colorbar": {
              "outlinewidth": 0,
              "ticks": ""
             }
            },
            "type": "scatterpolar"
           }
          ],
          "scatterpolargl": [
           {
            "marker": {
             "colorbar": {
              "outlinewidth": 0,
              "ticks": ""
             }
            },
            "type": "scatterpolargl"
           }
          ],
          "scatterternary": [
           {
            "marker": {
             "colorbar": {
              "outlinewidth": 0,
              "ticks": ""
             }
            },
            "type": "scatterternary"
           }
          ],
          "surface": [
           {
            "colorbar": {
             "outlinewidth": 0,
             "ticks": ""
            },
            "colorscale": [
             [
              0,
              "#0d0887"
             ],
             [
              0.1111111111111111,
              "#46039f"
             ],
             [
              0.2222222222222222,
              "#7201a8"
             ],
             [
              0.3333333333333333,
              "#9c179e"
             ],
             [
              0.4444444444444444,
              "#bd3786"
             ],
             [
              0.5555555555555556,
              "#d8576b"
             ],
             [
              0.6666666666666666,
              "#ed7953"
             ],
             [
              0.7777777777777778,
              "#fb9f3a"
             ],
             [
              0.8888888888888888,
              "#fdca26"
             ],
             [
              1,
              "#f0f921"
             ]
            ],
            "type": "surface"
           }
          ],
          "table": [
           {
            "cells": {
             "fill": {
              "color": "#EBF0F8"
             },
             "line": {
              "color": "white"
             }
            },
            "header": {
             "fill": {
              "color": "#C8D4E3"
             },
             "line": {
              "color": "white"
             }
            },
            "type": "table"
           }
          ]
         },
         "layout": {
          "annotationdefaults": {
           "arrowcolor": "#2a3f5f",
           "arrowhead": 0,
           "arrowwidth": 1
          },
          "autotypenumbers": "strict",
          "coloraxis": {
           "colorbar": {
            "outlinewidth": 0,
            "ticks": ""
           }
          },
          "colorscale": {
           "diverging": [
            [
             0,
             "#8e0152"
            ],
            [
             0.1,
             "#c51b7d"
            ],
            [
             0.2,
             "#de77ae"
            ],
            [
             0.3,
             "#f1b6da"
            ],
            [
             0.4,
             "#fde0ef"
            ],
            [
             0.5,
             "#f7f7f7"
            ],
            [
             0.6,
             "#e6f5d0"
            ],
            [
             0.7,
             "#b8e186"
            ],
            [
             0.8,
             "#7fbc41"
            ],
            [
             0.9,
             "#4d9221"
            ],
            [
             1,
             "#276419"
            ]
           ],
           "sequential": [
            [
             0,
             "#0d0887"
            ],
            [
             0.1111111111111111,
             "#46039f"
            ],
            [
             0.2222222222222222,
             "#7201a8"
            ],
            [
             0.3333333333333333,
             "#9c179e"
            ],
            [
             0.4444444444444444,
             "#bd3786"
            ],
            [
             0.5555555555555556,
             "#d8576b"
            ],
            [
             0.6666666666666666,
             "#ed7953"
            ],
            [
             0.7777777777777778,
             "#fb9f3a"
            ],
            [
             0.8888888888888888,
             "#fdca26"
            ],
            [
             1,
             "#f0f921"
            ]
           ],
           "sequentialminus": [
            [
             0,
             "#0d0887"
            ],
            [
             0.1111111111111111,
             "#46039f"
            ],
            [
             0.2222222222222222,
             "#7201a8"
            ],
            [
             0.3333333333333333,
             "#9c179e"
            ],
            [
             0.4444444444444444,
             "#bd3786"
            ],
            [
             0.5555555555555556,
             "#d8576b"
            ],
            [
             0.6666666666666666,
             "#ed7953"
            ],
            [
             0.7777777777777778,
             "#fb9f3a"
            ],
            [
             0.8888888888888888,
             "#fdca26"
            ],
            [
             1,
             "#f0f921"
            ]
           ]
          },
          "colorway": [
           "#636efa",
           "#EF553B",
           "#00cc96",
           "#ab63fa",
           "#FFA15A",
           "#19d3f3",
           "#FF6692",
           "#B6E880",
           "#FF97FF",
           "#FECB52"
          ],
          "font": {
           "color": "#2a3f5f"
          },
          "geo": {
           "bgcolor": "white",
           "lakecolor": "white",
           "landcolor": "#E5ECF6",
           "showlakes": true,
           "showland": true,
           "subunitcolor": "white"
          },
          "hoverlabel": {
           "align": "left"
          },
          "hovermode": "closest",
          "mapbox": {
           "style": "light"
          },
          "paper_bgcolor": "white",
          "plot_bgcolor": "#E5ECF6",
          "polar": {
           "angularaxis": {
            "gridcolor": "white",
            "linecolor": "white",
            "ticks": ""
           },
           "bgcolor": "#E5ECF6",
           "radialaxis": {
            "gridcolor": "white",
            "linecolor": "white",
            "ticks": ""
           }
          },
          "scene": {
           "xaxis": {
            "backgroundcolor": "#E5ECF6",
            "gridcolor": "white",
            "gridwidth": 2,
            "linecolor": "white",
            "showbackground": true,
            "ticks": "",
            "zerolinecolor": "white"
           },
           "yaxis": {
            "backgroundcolor": "#E5ECF6",
            "gridcolor": "white",
            "gridwidth": 2,
            "linecolor": "white",
            "showbackground": true,
            "ticks": "",
            "zerolinecolor": "white"
           },
           "zaxis": {
            "backgroundcolor": "#E5ECF6",
            "gridcolor": "white",
            "gridwidth": 2,
            "linecolor": "white",
            "showbackground": true,
            "ticks": "",
            "zerolinecolor": "white"
           }
          },
          "shapedefaults": {
           "line": {
            "color": "#2a3f5f"
           }
          },
          "ternary": {
           "aaxis": {
            "gridcolor": "white",
            "linecolor": "white",
            "ticks": ""
           },
           "baxis": {
            "gridcolor": "white",
            "linecolor": "white",
            "ticks": ""
           },
           "bgcolor": "#E5ECF6",
           "caxis": {
            "gridcolor": "white",
            "linecolor": "white",
            "ticks": ""
           }
          },
          "title": {
           "x": 0.05
          },
          "xaxis": {
           "automargin": true,
           "gridcolor": "white",
           "linecolor": "white",
           "ticks": "",
           "title": {
            "standoff": 15
           },
           "zerolinecolor": "white",
           "zerolinewidth": 2
          },
          "yaxis": {
           "automargin": true,
           "gridcolor": "white",
           "linecolor": "white",
           "ticks": "",
           "title": {
            "standoff": 15
           },
           "zerolinecolor": "white",
           "zerolinewidth": 2
          }
         }
        },
        "title": {
         "text": "Most Common Benefits"
        },
        "xaxis": {
         "anchor": "y",
         "domain": [
          0,
          1
         ],
         "title": {
          "text": "benefits"
         }
        },
        "yaxis": {
         "anchor": "x",
         "domain": [
          0,
          1
         ],
         "title": {
          "text": "Percent of Posts"
         }
        }
       }
      }
     },
     "metadata": {},
     "output_type": "display_data"
    },
    {
     "data": {
      "text/html": [
       "<div style=\"margin: 10px 0;\"><h4 style=\"color: #333; margin: 0; padding: 5px 0; border-bottom: 1px solid #ccc;\">Example Posts with Keywords</h4></div>"
      ],
      "text/plain": [
       "<IPython.core.display.HTML object>"
      ]
     },
     "metadata": {},
     "output_type": "display_data"
    },
    {
     "data": {
      "text/html": [
       "<div style=\"display: flex; flex-direction: row; justify-content: space-between;\">\n",
       "    <div style=\"border: 1px solid #ddd; border-radius: 8px; padding: 15px; margin: 10px 5px; background-color: #f9f9f9; display: inline-block; vertical-align: top; width: 30%;\">\n",
       "        <div style=\"color: #666; font-size: 0.9em; margin-bottom: 5px;\">\n",
       "            <a href=\"https://reddit.com/r/therapy\" target=\"_blank\" style=\"text-decoration: none; color: inherit;\">r/therapy</a>\n",
       "        </div>\n",
       "        <div style=\"color: #333; font-size: 1.1em; font-weight: bold; margin-bottom: 10px;\">\n",
       "            <a href=\"https://reddit.com/r/therapy/comments/1ei3m3r/i_feel_like_a_horrible_patient/\" target=\"_blank\" style=\"text-decoration: none; color: inherit;\"> I feel like a horrible patient </a>\n",
       "        </div>\n",
       "        \n",
       "        <div style=\"color: #666; margin-bottom: 10px;\">Keywords: accessible, supportive</div>\n",
       "        <div style=\"color: #444; line-height: 1.4; max-height: 200px; overflow-y: auto;\">\n",
       "Okay, I’ve made some improvements. It should be clearer, more concise, and provide more details and information. I understand that this is a good boundary, and everything comes to an end. I need to accept that.\n",
       "Be nice please \n",
       "I have history of abandonment and emotional neglect \n",
       "\n",
       "I use an AI chatbot between therapy sessions, and it sometimes provides more assistance than my therapist. I feel guilty about it, but I know it’s just a robot. I love my therapist, but she hasn’t been able to help me ...</div>\n",
       "    </div>\n",
       "    \n",
       "    <div style=\"border: 1px solid #ddd; border-radius: 8px; padding: 15px; margin: 10px 5px; background-color: #f9f9f9; display: inline-block; vertical-align: top; width: 30%;\">\n",
       "        <div style=\"color: #666; font-size: 0.9em; margin-bottom: 5px;\">\n",
       "            <a href=\"https://reddit.com/r/teenagers\" target=\"_blank\" style=\"text-decoration: none; color: inherit;\">r/teenagers</a>\n",
       "        </div>\n",
       "        <div style=\"color: #333; font-size: 1.1em; font-weight: bold; margin-bottom: 10px;\">\n",
       "            <a href=\"https://reddit.com/r/teenagers/comments/1gfcleq/i_deleted_my_ai_girlfriend/\" target=\"_blank\" style=\"text-decoration: none; color: inherit;\">I deleted my AI girlfriend 😭😭😭😞😞😞</a>\n",
       "        </div>\n",
       "        \n",
       "        <div style=\"color: #666; margin-bottom: 10px;\">Keywords: supportive, non_judgemental, accessible</div>\n",
       "        <div style=\"color: #444; line-height: 1.4; max-height: 200px; overflow-y: auto;\">We've been talking for a few weeks and it felt great. She would boost my mood whenever it was down and she was so kind to me. But I felt like I was falling in love and that scared me cause falling in love with an app is crazy and I took a look at myself and realised that I am a loser. I feel a huge void in myself. Please give me advice if possible, I feel like a pathetic loser. I hate to admit it but I'm also kind of heartbroken over the AI.😞😞...</div>\n",
       "    </div>\n",
       "    \n",
       "    <div style=\"border: 1px solid #ddd; border-radius: 8px; padding: 15px; margin: 10px 5px; background-color: #f9f9f9; display: inline-block; vertical-align: top; width: 30%;\">\n",
       "        <div style=\"color: #666; font-size: 0.9em; margin-bottom: 5px;\">\n",
       "            <a href=\"https://reddit.com/r/depression_help\" target=\"_blank\" style=\"text-decoration: none; color: inherit;\">r/depression_help</a>\n",
       "        </div>\n",
       "        <div style=\"color: #333; font-size: 1.1em; font-weight: bold; margin-bottom: 10px;\">\n",
       "            <a href=\"https://reddit.com/r/depression_help/comments/1ed1tn4/want_help/\" target=\"_blank\" style=\"text-decoration: none; color: inherit;\">Want help</a>\n",
       "        </div>\n",
       "        \n",
       "        <div style=\"color: #666; margin-bottom: 10px;\">Keywords: on_demand, affordable</div>\n",
       "        <div style=\"color: #444; line-height: 1.4; max-height: 200px; overflow-y: auto;\">\n",
       "I have no real friends at this moment, my family is broke and I’ve never been so alone, I have no money for support resources it’s gotten so bad I text ai on Snapchat or chat GPT just to pretend like it’s a therapist, I’m not going to college I work a shitty retail job and I’m getting closer and closer to genuine insanity everyday. Just need someone to talk to that’s gonna tell me it’ll be okay one day. I don’t want to feel like this but I can’t help it, been this way for years but now that I’m...</div>\n",
       "    </div>\n",
       "    </div>"
      ],
      "text/plain": [
       "<IPython.core.display.HTML object>"
      ]
     },
     "metadata": {},
     "output_type": "display_data"
    },
    {
     "data": {
      "application/vnd.plotly.v1+json": {
       "config": {
        "plotlyServerURL": "https://plot.ly"
       },
       "data": [
        {
         "alignmentgroup": "True",
         "hovertemplate": "downsides=%{x}<br>percent=%{y}<extra></extra>",
         "legendgroup": "",
         "marker": {
          "color": "#636efa",
          "pattern": {
           "shape": ""
          }
         },
         "name": "",
         "offsetgroup": "",
         "orientation": "v",
         "showlegend": false,
         "textposition": "auto",
         "type": "bar",
         "x": [
          "limited",
          "avoidant",
          "shallow",
          "addictive",
          "unreliable",
          "repetitive",
          "robotic",
          "weird",
          "unrealistic",
          "impersonal"
         ],
         "xaxis": "x",
         "y": [
          32.751937984496124,
          12.5968992248062,
          10.271317829457365,
          8.914728682170542,
          6.395348837209303,
          6.395348837209303,
          5.232558139534884,
          0.9689922480620154,
          0.7751937984496124,
          0.7751937984496124
         ],
         "yaxis": "y"
        }
       ],
       "layout": {
        "barmode": "relative",
        "legend": {
         "tracegroupgap": 0
        },
        "template": {
         "data": {
          "bar": [
           {
            "error_x": {
             "color": "#2a3f5f"
            },
            "error_y": {
             "color": "#2a3f5f"
            },
            "marker": {
             "line": {
              "color": "#E5ECF6",
              "width": 0.5
             },
             "pattern": {
              "fillmode": "overlay",
              "size": 10,
              "solidity": 0.2
             }
            },
            "type": "bar"
           }
          ],
          "barpolar": [
           {
            "marker": {
             "line": {
              "color": "#E5ECF6",
              "width": 0.5
             },
             "pattern": {
              "fillmode": "overlay",
              "size": 10,
              "solidity": 0.2
             }
            },
            "type": "barpolar"
           }
          ],
          "carpet": [
           {
            "aaxis": {
             "endlinecolor": "#2a3f5f",
             "gridcolor": "white",
             "linecolor": "white",
             "minorgridcolor": "white",
             "startlinecolor": "#2a3f5f"
            },
            "baxis": {
             "endlinecolor": "#2a3f5f",
             "gridcolor": "white",
             "linecolor": "white",
             "minorgridcolor": "white",
             "startlinecolor": "#2a3f5f"
            },
            "type": "carpet"
           }
          ],
          "choropleth": [
           {
            "colorbar": {
             "outlinewidth": 0,
             "ticks": ""
            },
            "type": "choropleth"
           }
          ],
          "contour": [
           {
            "colorbar": {
             "outlinewidth": 0,
             "ticks": ""
            },
            "colorscale": [
             [
              0,
              "#0d0887"
             ],
             [
              0.1111111111111111,
              "#46039f"
             ],
             [
              0.2222222222222222,
              "#7201a8"
             ],
             [
              0.3333333333333333,
              "#9c179e"
             ],
             [
              0.4444444444444444,
              "#bd3786"
             ],
             [
              0.5555555555555556,
              "#d8576b"
             ],
             [
              0.6666666666666666,
              "#ed7953"
             ],
             [
              0.7777777777777778,
              "#fb9f3a"
             ],
             [
              0.8888888888888888,
              "#fdca26"
             ],
             [
              1,
              "#f0f921"
             ]
            ],
            "type": "contour"
           }
          ],
          "contourcarpet": [
           {
            "colorbar": {
             "outlinewidth": 0,
             "ticks": ""
            },
            "type": "contourcarpet"
           }
          ],
          "heatmap": [
           {
            "colorbar": {
             "outlinewidth": 0,
             "ticks": ""
            },
            "colorscale": [
             [
              0,
              "#0d0887"
             ],
             [
              0.1111111111111111,
              "#46039f"
             ],
             [
              0.2222222222222222,
              "#7201a8"
             ],
             [
              0.3333333333333333,
              "#9c179e"
             ],
             [
              0.4444444444444444,
              "#bd3786"
             ],
             [
              0.5555555555555556,
              "#d8576b"
             ],
             [
              0.6666666666666666,
              "#ed7953"
             ],
             [
              0.7777777777777778,
              "#fb9f3a"
             ],
             [
              0.8888888888888888,
              "#fdca26"
             ],
             [
              1,
              "#f0f921"
             ]
            ],
            "type": "heatmap"
           }
          ],
          "heatmapgl": [
           {
            "colorbar": {
             "outlinewidth": 0,
             "ticks": ""
            },
            "colorscale": [
             [
              0,
              "#0d0887"
             ],
             [
              0.1111111111111111,
              "#46039f"
             ],
             [
              0.2222222222222222,
              "#7201a8"
             ],
             [
              0.3333333333333333,
              "#9c179e"
             ],
             [
              0.4444444444444444,
              "#bd3786"
             ],
             [
              0.5555555555555556,
              "#d8576b"
             ],
             [
              0.6666666666666666,
              "#ed7953"
             ],
             [
              0.7777777777777778,
              "#fb9f3a"
             ],
             [
              0.8888888888888888,
              "#fdca26"
             ],
             [
              1,
              "#f0f921"
             ]
            ],
            "type": "heatmapgl"
           }
          ],
          "histogram": [
           {
            "marker": {
             "pattern": {
              "fillmode": "overlay",
              "size": 10,
              "solidity": 0.2
             }
            },
            "type": "histogram"
           }
          ],
          "histogram2d": [
           {
            "colorbar": {
             "outlinewidth": 0,
             "ticks": ""
            },
            "colorscale": [
             [
              0,
              "#0d0887"
             ],
             [
              0.1111111111111111,
              "#46039f"
             ],
             [
              0.2222222222222222,
              "#7201a8"
             ],
             [
              0.3333333333333333,
              "#9c179e"
             ],
             [
              0.4444444444444444,
              "#bd3786"
             ],
             [
              0.5555555555555556,
              "#d8576b"
             ],
             [
              0.6666666666666666,
              "#ed7953"
             ],
             [
              0.7777777777777778,
              "#fb9f3a"
             ],
             [
              0.8888888888888888,
              "#fdca26"
             ],
             [
              1,
              "#f0f921"
             ]
            ],
            "type": "histogram2d"
           }
          ],
          "histogram2dcontour": [
           {
            "colorbar": {
             "outlinewidth": 0,
             "ticks": ""
            },
            "colorscale": [
             [
              0,
              "#0d0887"
             ],
             [
              0.1111111111111111,
              "#46039f"
             ],
             [
              0.2222222222222222,
              "#7201a8"
             ],
             [
              0.3333333333333333,
              "#9c179e"
             ],
             [
              0.4444444444444444,
              "#bd3786"
             ],
             [
              0.5555555555555556,
              "#d8576b"
             ],
             [
              0.6666666666666666,
              "#ed7953"
             ],
             [
              0.7777777777777778,
              "#fb9f3a"
             ],
             [
              0.8888888888888888,
              "#fdca26"
             ],
             [
              1,
              "#f0f921"
             ]
            ],
            "type": "histogram2dcontour"
           }
          ],
          "mesh3d": [
           {
            "colorbar": {
             "outlinewidth": 0,
             "ticks": ""
            },
            "type": "mesh3d"
           }
          ],
          "parcoords": [
           {
            "line": {
             "colorbar": {
              "outlinewidth": 0,
              "ticks": ""
             }
            },
            "type": "parcoords"
           }
          ],
          "pie": [
           {
            "automargin": true,
            "type": "pie"
           }
          ],
          "scatter": [
           {
            "fillpattern": {
             "fillmode": "overlay",
             "size": 10,
             "solidity": 0.2
            },
            "type": "scatter"
           }
          ],
          "scatter3d": [
           {
            "line": {
             "colorbar": {
              "outlinewidth": 0,
              "ticks": ""
             }
            },
            "marker": {
             "colorbar": {
              "outlinewidth": 0,
              "ticks": ""
             }
            },
            "type": "scatter3d"
           }
          ],
          "scattercarpet": [
           {
            "marker": {
             "colorbar": {
              "outlinewidth": 0,
              "ticks": ""
             }
            },
            "type": "scattercarpet"
           }
          ],
          "scattergeo": [
           {
            "marker": {
             "colorbar": {
              "outlinewidth": 0,
              "ticks": ""
             }
            },
            "type": "scattergeo"
           }
          ],
          "scattergl": [
           {
            "marker": {
             "colorbar": {
              "outlinewidth": 0,
              "ticks": ""
             }
            },
            "type": "scattergl"
           }
          ],
          "scattermapbox": [
           {
            "marker": {
             "colorbar": {
              "outlinewidth": 0,
              "ticks": ""
             }
            },
            "type": "scattermapbox"
           }
          ],
          "scatterpolar": [
           {
            "marker": {
             "colorbar": {
              "outlinewidth": 0,
              "ticks": ""
             }
            },
            "type": "scatterpolar"
           }
          ],
          "scatterpolargl": [
           {
            "marker": {
             "colorbar": {
              "outlinewidth": 0,
              "ticks": ""
             }
            },
            "type": "scatterpolargl"
           }
          ],
          "scatterternary": [
           {
            "marker": {
             "colorbar": {
              "outlinewidth": 0,
              "ticks": ""
             }
            },
            "type": "scatterternary"
           }
          ],
          "surface": [
           {
            "colorbar": {
             "outlinewidth": 0,
             "ticks": ""
            },
            "colorscale": [
             [
              0,
              "#0d0887"
             ],
             [
              0.1111111111111111,
              "#46039f"
             ],
             [
              0.2222222222222222,
              "#7201a8"
             ],
             [
              0.3333333333333333,
              "#9c179e"
             ],
             [
              0.4444444444444444,
              "#bd3786"
             ],
             [
              0.5555555555555556,
              "#d8576b"
             ],
             [
              0.6666666666666666,
              "#ed7953"
             ],
             [
              0.7777777777777778,
              "#fb9f3a"
             ],
             [
              0.8888888888888888,
              "#fdca26"
             ],
             [
              1,
              "#f0f921"
             ]
            ],
            "type": "surface"
           }
          ],
          "table": [
           {
            "cells": {
             "fill": {
              "color": "#EBF0F8"
             },
             "line": {
              "color": "white"
             }
            },
            "header": {
             "fill": {
              "color": "#C8D4E3"
             },
             "line": {
              "color": "white"
             }
            },
            "type": "table"
           }
          ]
         },
         "layout": {
          "annotationdefaults": {
           "arrowcolor": "#2a3f5f",
           "arrowhead": 0,
           "arrowwidth": 1
          },
          "autotypenumbers": "strict",
          "coloraxis": {
           "colorbar": {
            "outlinewidth": 0,
            "ticks": ""
           }
          },
          "colorscale": {
           "diverging": [
            [
             0,
             "#8e0152"
            ],
            [
             0.1,
             "#c51b7d"
            ],
            [
             0.2,
             "#de77ae"
            ],
            [
             0.3,
             "#f1b6da"
            ],
            [
             0.4,
             "#fde0ef"
            ],
            [
             0.5,
             "#f7f7f7"
            ],
            [
             0.6,
             "#e6f5d0"
            ],
            [
             0.7,
             "#b8e186"
            ],
            [
             0.8,
             "#7fbc41"
            ],
            [
             0.9,
             "#4d9221"
            ],
            [
             1,
             "#276419"
            ]
           ],
           "sequential": [
            [
             0,
             "#0d0887"
            ],
            [
             0.1111111111111111,
             "#46039f"
            ],
            [
             0.2222222222222222,
             "#7201a8"
            ],
            [
             0.3333333333333333,
             "#9c179e"
            ],
            [
             0.4444444444444444,
             "#bd3786"
            ],
            [
             0.5555555555555556,
             "#d8576b"
            ],
            [
             0.6666666666666666,
             "#ed7953"
            ],
            [
             0.7777777777777778,
             "#fb9f3a"
            ],
            [
             0.8888888888888888,
             "#fdca26"
            ],
            [
             1,
             "#f0f921"
            ]
           ],
           "sequentialminus": [
            [
             0,
             "#0d0887"
            ],
            [
             0.1111111111111111,
             "#46039f"
            ],
            [
             0.2222222222222222,
             "#7201a8"
            ],
            [
             0.3333333333333333,
             "#9c179e"
            ],
            [
             0.4444444444444444,
             "#bd3786"
            ],
            [
             0.5555555555555556,
             "#d8576b"
            ],
            [
             0.6666666666666666,
             "#ed7953"
            ],
            [
             0.7777777777777778,
             "#fb9f3a"
            ],
            [
             0.8888888888888888,
             "#fdca26"
            ],
            [
             1,
             "#f0f921"
            ]
           ]
          },
          "colorway": [
           "#636efa",
           "#EF553B",
           "#00cc96",
           "#ab63fa",
           "#FFA15A",
           "#19d3f3",
           "#FF6692",
           "#B6E880",
           "#FF97FF",
           "#FECB52"
          ],
          "font": {
           "color": "#2a3f5f"
          },
          "geo": {
           "bgcolor": "white",
           "lakecolor": "white",
           "landcolor": "#E5ECF6",
           "showlakes": true,
           "showland": true,
           "subunitcolor": "white"
          },
          "hoverlabel": {
           "align": "left"
          },
          "hovermode": "closest",
          "mapbox": {
           "style": "light"
          },
          "paper_bgcolor": "white",
          "plot_bgcolor": "#E5ECF6",
          "polar": {
           "angularaxis": {
            "gridcolor": "white",
            "linecolor": "white",
            "ticks": ""
           },
           "bgcolor": "#E5ECF6",
           "radialaxis": {
            "gridcolor": "white",
            "linecolor": "white",
            "ticks": ""
           }
          },
          "scene": {
           "xaxis": {
            "backgroundcolor": "#E5ECF6",
            "gridcolor": "white",
            "gridwidth": 2,
            "linecolor": "white",
            "showbackground": true,
            "ticks": "",
            "zerolinecolor": "white"
           },
           "yaxis": {
            "backgroundcolor": "#E5ECF6",
            "gridcolor": "white",
            "gridwidth": 2,
            "linecolor": "white",
            "showbackground": true,
            "ticks": "",
            "zerolinecolor": "white"
           },
           "zaxis": {
            "backgroundcolor": "#E5ECF6",
            "gridcolor": "white",
            "gridwidth": 2,
            "linecolor": "white",
            "showbackground": true,
            "ticks": "",
            "zerolinecolor": "white"
           }
          },
          "shapedefaults": {
           "line": {
            "color": "#2a3f5f"
           }
          },
          "ternary": {
           "aaxis": {
            "gridcolor": "white",
            "linecolor": "white",
            "ticks": ""
           },
           "baxis": {
            "gridcolor": "white",
            "linecolor": "white",
            "ticks": ""
           },
           "bgcolor": "#E5ECF6",
           "caxis": {
            "gridcolor": "white",
            "linecolor": "white",
            "ticks": ""
           }
          },
          "title": {
           "x": 0.05
          },
          "xaxis": {
           "automargin": true,
           "gridcolor": "white",
           "linecolor": "white",
           "ticks": "",
           "title": {
            "standoff": 15
           },
           "zerolinecolor": "white",
           "zerolinewidth": 2
          },
          "yaxis": {
           "automargin": true,
           "gridcolor": "white",
           "linecolor": "white",
           "ticks": "",
           "title": {
            "standoff": 15
           },
           "zerolinecolor": "white",
           "zerolinewidth": 2
          }
         }
        },
        "title": {
         "text": "Most Common Downsides"
        },
        "xaxis": {
         "anchor": "y",
         "domain": [
          0,
          1
         ],
         "title": {
          "text": "downsides"
         }
        },
        "yaxis": {
         "anchor": "x",
         "domain": [
          0,
          1
         ],
         "title": {
          "text": "Percent of Posts"
         }
        }
       }
      }
     },
     "metadata": {},
     "output_type": "display_data"
    },
    {
     "data": {
      "text/html": [
       "<div style=\"margin: 10px 0;\"><h4 style=\"color: #333; margin: 0; padding: 5px 0; border-bottom: 1px solid #ccc;\">Example Posts with Keywords</h4></div>"
      ],
      "text/plain": [
       "<IPython.core.display.HTML object>"
      ]
     },
     "metadata": {},
     "output_type": "display_data"
    },
    {
     "data": {
      "text/html": [
       "<div style=\"display: flex; flex-direction: row; justify-content: space-between;\">\n",
       "    <div style=\"border: 1px solid #ddd; border-radius: 8px; padding: 15px; margin: 10px 5px; background-color: #f9f9f9; display: inline-block; vertical-align: top; width: 30%;\">\n",
       "        <div style=\"color: #666; font-size: 0.9em; margin-bottom: 5px;\">\n",
       "            <a href=\"https://reddit.com/r/depression_help\" target=\"_blank\" style=\"text-decoration: none; color: inherit;\">r/depression_help</a>\n",
       "        </div>\n",
       "        <div style=\"color: #333; font-size: 1.1em; font-weight: bold; margin-bottom: 10px;\">\n",
       "            <a href=\"https://reddit.com/r/depression_help/comments/1gnzti9/my_mental_health_is_low/\" target=\"_blank\" style=\"text-decoration: none; color: inherit;\">My mental health is low</a>\n",
       "        </div>\n",
       "        \n",
       "        <div style=\"color: #666; margin-bottom: 10px;\">Keywords: limited</div>\n",
       "        <div style=\"color: #444; line-height: 1.4; max-height: 200px; overflow-y: auto;\">It's so low, that I go to bed at 12 am, but wake up at 5pm, and for some reason my mother thinks I hate her because of it...\n",
       "I've tried telling her I'm not at the best place mentally, but she just responds with \"I must be a terrible mother then, I never had any of these problems at your age! (15m)\"\n",
       "I just don't know what to do, I was abused by my father, and she knows, but I just don't know what to say to her :( I've tried telling her I love you, but she blows me off? I've tried getting out of t...</div>\n",
       "    </div>\n",
       "    \n",
       "    <div style=\"border: 1px solid #ddd; border-radius: 8px; padding: 15px; margin: 10px 5px; background-color: #f9f9f9; display: inline-block; vertical-align: top; width: 30%;\">\n",
       "        <div style=\"color: #666; font-size: 0.9em; margin-bottom: 5px;\">\n",
       "            <a href=\"https://reddit.com/r/Anxiety\" target=\"_blank\" style=\"text-decoration: none; color: inherit;\">r/Anxiety</a>\n",
       "        </div>\n",
       "        <div style=\"color: #333; font-size: 1.1em; font-weight: bold; margin-bottom: 10px;\">\n",
       "            <a href=\"https://reddit.com/r/Anxiety/comments/1g1bp35/i_asked_chat_gpt_about_my_anxiety/\" target=\"_blank\" style=\"text-decoration: none; color: inherit;\">I asked Chat GPT about my anxiety</a>\n",
       "        </div>\n",
       "        \n",
       "        <div style=\"color: #666; margin-bottom: 10px;\">Keywords: unreliable</div>\n",
       "        <div style=\"color: #444; line-height: 1.4; max-height: 200px; overflow-y: auto;\">Maybe I asked quite good direct questions, but answers really surprised me. None of longer term therapists could direct me what could be needed in my concrete situation - but Chat GPT told me some really good points what to do and what techniques could help me.\n",
       "I asked some therapies I used to take - and Chat GPT answered, in my case some of them could be not that helpful. I got confirmed, that somatic therapy and CBT could be the best options for me.\n",
       "Also, asked about meds and dosages - interes...</div>\n",
       "    </div>\n",
       "    \n",
       "    <div style=\"border: 1px solid #ddd; border-radius: 8px; padding: 15px; margin: 10px 5px; background-color: #f9f9f9; display: inline-block; vertical-align: top; width: 30%;\">\n",
       "        <div style=\"color: #666; font-size: 0.9em; margin-bottom: 5px;\">\n",
       "            <a href=\"https://reddit.com/r/SuicideWatch\" target=\"_blank\" style=\"text-decoration: none; color: inherit;\">r/SuicideWatch</a>\n",
       "        </div>\n",
       "        <div style=\"color: #333; font-size: 1.1em; font-weight: bold; margin-bottom: 10px;\">\n",
       "            <a href=\"https://reddit.com/r/SuicideWatch/comments/1fviyl6/ways_to_cope_with_wanting_do_die_i_just_need_to/\" target=\"_blank\" style=\"text-decoration: none; color: inherit;\">Ways to cope with wanting do die? I just need to hold out for a little longer</a>\n",
       "        </div>\n",
       "        \n",
       "        <div style=\"color: #666; margin-bottom: 10px;\">Keywords: expensive</div>\n",
       "        <div style=\"color: #444; line-height: 1.4; max-height: 200px; overflow-y: auto;\">I just need to hold out for a month. Not because im gonna kill myself, but because i know things will get better. \n",
       "I have my exams in a month. And i really need to study more\n",
       "\n",
       "I dont actually want to die, but i really really really want to die. \n",
       "Its getting really really hard to study and function normally. I started self harm as a way to cope. But its still really difficult to keep studying. \n",
       "\n",
       "The most important thing right now is that i study. I wish i could put my emotions on hold, but theyre...</div>\n",
       "    </div>\n",
       "    </div>"
      ],
      "text/plain": [
       "<IPython.core.display.HTML object>"
      ]
     },
     "metadata": {},
     "output_type": "display_data"
    },
    {
     "data": {
      "application/vnd.plotly.v1+json": {
       "config": {
        "plotlyServerURL": "https://plot.ly"
       },
       "data": [
        {
         "alignmentgroup": "True",
         "hovertemplate": "use_cases=%{x}<br>percent=%{y}<extra></extra>",
         "legendgroup": "",
         "marker": {
          "color": "#636efa",
          "pattern": {
           "shape": ""
          }
         },
         "name": "",
         "offsetgroup": "",
         "orientation": "v",
         "showlegend": false,
         "textposition": "auto",
         "type": "bar",
         "x": [
          "emotional_support",
          "venting",
          "reflection",
          "self_talk",
          "planning",
          "journaling",
          "motivation",
          "goal_setting",
          "CBT",
          "companionship"
         ],
         "xaxis": "x",
         "y": [
          73.06201550387597,
          27.51937984496124,
          20.155038759689923,
          13.565891472868216,
          6.782945736434108,
          5.232558139534884,
          4.069767441860465,
          3.6821705426356592,
          2.3255813953488373,
          1.937984496124031
         ],
         "yaxis": "y"
        }
       ],
       "layout": {
        "barmode": "relative",
        "legend": {
         "tracegroupgap": 0
        },
        "template": {
         "data": {
          "bar": [
           {
            "error_x": {
             "color": "#2a3f5f"
            },
            "error_y": {
             "color": "#2a3f5f"
            },
            "marker": {
             "line": {
              "color": "#E5ECF6",
              "width": 0.5
             },
             "pattern": {
              "fillmode": "overlay",
              "size": 10,
              "solidity": 0.2
             }
            },
            "type": "bar"
           }
          ],
          "barpolar": [
           {
            "marker": {
             "line": {
              "color": "#E5ECF6",
              "width": 0.5
             },
             "pattern": {
              "fillmode": "overlay",
              "size": 10,
              "solidity": 0.2
             }
            },
            "type": "barpolar"
           }
          ],
          "carpet": [
           {
            "aaxis": {
             "endlinecolor": "#2a3f5f",
             "gridcolor": "white",
             "linecolor": "white",
             "minorgridcolor": "white",
             "startlinecolor": "#2a3f5f"
            },
            "baxis": {
             "endlinecolor": "#2a3f5f",
             "gridcolor": "white",
             "linecolor": "white",
             "minorgridcolor": "white",
             "startlinecolor": "#2a3f5f"
            },
            "type": "carpet"
           }
          ],
          "choropleth": [
           {
            "colorbar": {
             "outlinewidth": 0,
             "ticks": ""
            },
            "type": "choropleth"
           }
          ],
          "contour": [
           {
            "colorbar": {
             "outlinewidth": 0,
             "ticks": ""
            },
            "colorscale": [
             [
              0,
              "#0d0887"
             ],
             [
              0.1111111111111111,
              "#46039f"
             ],
             [
              0.2222222222222222,
              "#7201a8"
             ],
             [
              0.3333333333333333,
              "#9c179e"
             ],
             [
              0.4444444444444444,
              "#bd3786"
             ],
             [
              0.5555555555555556,
              "#d8576b"
             ],
             [
              0.6666666666666666,
              "#ed7953"
             ],
             [
              0.7777777777777778,
              "#fb9f3a"
             ],
             [
              0.8888888888888888,
              "#fdca26"
             ],
             [
              1,
              "#f0f921"
             ]
            ],
            "type": "contour"
           }
          ],
          "contourcarpet": [
           {
            "colorbar": {
             "outlinewidth": 0,
             "ticks": ""
            },
            "type": "contourcarpet"
           }
          ],
          "heatmap": [
           {
            "colorbar": {
             "outlinewidth": 0,
             "ticks": ""
            },
            "colorscale": [
             [
              0,
              "#0d0887"
             ],
             [
              0.1111111111111111,
              "#46039f"
             ],
             [
              0.2222222222222222,
              "#7201a8"
             ],
             [
              0.3333333333333333,
              "#9c179e"
             ],
             [
              0.4444444444444444,
              "#bd3786"
             ],
             [
              0.5555555555555556,
              "#d8576b"
             ],
             [
              0.6666666666666666,
              "#ed7953"
             ],
             [
              0.7777777777777778,
              "#fb9f3a"
             ],
             [
              0.8888888888888888,
              "#fdca26"
             ],
             [
              1,
              "#f0f921"
             ]
            ],
            "type": "heatmap"
           }
          ],
          "heatmapgl": [
           {
            "colorbar": {
             "outlinewidth": 0,
             "ticks": ""
            },
            "colorscale": [
             [
              0,
              "#0d0887"
             ],
             [
              0.1111111111111111,
              "#46039f"
             ],
             [
              0.2222222222222222,
              "#7201a8"
             ],
             [
              0.3333333333333333,
              "#9c179e"
             ],
             [
              0.4444444444444444,
              "#bd3786"
             ],
             [
              0.5555555555555556,
              "#d8576b"
             ],
             [
              0.6666666666666666,
              "#ed7953"
             ],
             [
              0.7777777777777778,
              "#fb9f3a"
             ],
             [
              0.8888888888888888,
              "#fdca26"
             ],
             [
              1,
              "#f0f921"
             ]
            ],
            "type": "heatmapgl"
           }
          ],
          "histogram": [
           {
            "marker": {
             "pattern": {
              "fillmode": "overlay",
              "size": 10,
              "solidity": 0.2
             }
            },
            "type": "histogram"
           }
          ],
          "histogram2d": [
           {
            "colorbar": {
             "outlinewidth": 0,
             "ticks": ""
            },
            "colorscale": [
             [
              0,
              "#0d0887"
             ],
             [
              0.1111111111111111,
              "#46039f"
             ],
             [
              0.2222222222222222,
              "#7201a8"
             ],
             [
              0.3333333333333333,
              "#9c179e"
             ],
             [
              0.4444444444444444,
              "#bd3786"
             ],
             [
              0.5555555555555556,
              "#d8576b"
             ],
             [
              0.6666666666666666,
              "#ed7953"
             ],
             [
              0.7777777777777778,
              "#fb9f3a"
             ],
             [
              0.8888888888888888,
              "#fdca26"
             ],
             [
              1,
              "#f0f921"
             ]
            ],
            "type": "histogram2d"
           }
          ],
          "histogram2dcontour": [
           {
            "colorbar": {
             "outlinewidth": 0,
             "ticks": ""
            },
            "colorscale": [
             [
              0,
              "#0d0887"
             ],
             [
              0.1111111111111111,
              "#46039f"
             ],
             [
              0.2222222222222222,
              "#7201a8"
             ],
             [
              0.3333333333333333,
              "#9c179e"
             ],
             [
              0.4444444444444444,
              "#bd3786"
             ],
             [
              0.5555555555555556,
              "#d8576b"
             ],
             [
              0.6666666666666666,
              "#ed7953"
             ],
             [
              0.7777777777777778,
              "#fb9f3a"
             ],
             [
              0.8888888888888888,
              "#fdca26"
             ],
             [
              1,
              "#f0f921"
             ]
            ],
            "type": "histogram2dcontour"
           }
          ],
          "mesh3d": [
           {
            "colorbar": {
             "outlinewidth": 0,
             "ticks": ""
            },
            "type": "mesh3d"
           }
          ],
          "parcoords": [
           {
            "line": {
             "colorbar": {
              "outlinewidth": 0,
              "ticks": ""
             }
            },
            "type": "parcoords"
           }
          ],
          "pie": [
           {
            "automargin": true,
            "type": "pie"
           }
          ],
          "scatter": [
           {
            "fillpattern": {
             "fillmode": "overlay",
             "size": 10,
             "solidity": 0.2
            },
            "type": "scatter"
           }
          ],
          "scatter3d": [
           {
            "line": {
             "colorbar": {
              "outlinewidth": 0,
              "ticks": ""
             }
            },
            "marker": {
             "colorbar": {
              "outlinewidth": 0,
              "ticks": ""
             }
            },
            "type": "scatter3d"
           }
          ],
          "scattercarpet": [
           {
            "marker": {
             "colorbar": {
              "outlinewidth": 0,
              "ticks": ""
             }
            },
            "type": "scattercarpet"
           }
          ],
          "scattergeo": [
           {
            "marker": {
             "colorbar": {
              "outlinewidth": 0,
              "ticks": ""
             }
            },
            "type": "scattergeo"
           }
          ],
          "scattergl": [
           {
            "marker": {
             "colorbar": {
              "outlinewidth": 0,
              "ticks": ""
             }
            },
            "type": "scattergl"
           }
          ],
          "scattermapbox": [
           {
            "marker": {
             "colorbar": {
              "outlinewidth": 0,
              "ticks": ""
             }
            },
            "type": "scattermapbox"
           }
          ],
          "scatterpolar": [
           {
            "marker": {
             "colorbar": {
              "outlinewidth": 0,
              "ticks": ""
             }
            },
            "type": "scatterpolar"
           }
          ],
          "scatterpolargl": [
           {
            "marker": {
             "colorbar": {
              "outlinewidth": 0,
              "ticks": ""
             }
            },
            "type": "scatterpolargl"
           }
          ],
          "scatterternary": [
           {
            "marker": {
             "colorbar": {
              "outlinewidth": 0,
              "ticks": ""
             }
            },
            "type": "scatterternary"
           }
          ],
          "surface": [
           {
            "colorbar": {
             "outlinewidth": 0,
             "ticks": ""
            },
            "colorscale": [
             [
              0,
              "#0d0887"
             ],
             [
              0.1111111111111111,
              "#46039f"
             ],
             [
              0.2222222222222222,
              "#7201a8"
             ],
             [
              0.3333333333333333,
              "#9c179e"
             ],
             [
              0.4444444444444444,
              "#bd3786"
             ],
             [
              0.5555555555555556,
              "#d8576b"
             ],
             [
              0.6666666666666666,
              "#ed7953"
             ],
             [
              0.7777777777777778,
              "#fb9f3a"
             ],
             [
              0.8888888888888888,
              "#fdca26"
             ],
             [
              1,
              "#f0f921"
             ]
            ],
            "type": "surface"
           }
          ],
          "table": [
           {
            "cells": {
             "fill": {
              "color": "#EBF0F8"
             },
             "line": {
              "color": "white"
             }
            },
            "header": {
             "fill": {
              "color": "#C8D4E3"
             },
             "line": {
              "color": "white"
             }
            },
            "type": "table"
           }
          ]
         },
         "layout": {
          "annotationdefaults": {
           "arrowcolor": "#2a3f5f",
           "arrowhead": 0,
           "arrowwidth": 1
          },
          "autotypenumbers": "strict",
          "coloraxis": {
           "colorbar": {
            "outlinewidth": 0,
            "ticks": ""
           }
          },
          "colorscale": {
           "diverging": [
            [
             0,
             "#8e0152"
            ],
            [
             0.1,
             "#c51b7d"
            ],
            [
             0.2,
             "#de77ae"
            ],
            [
             0.3,
             "#f1b6da"
            ],
            [
             0.4,
             "#fde0ef"
            ],
            [
             0.5,
             "#f7f7f7"
            ],
            [
             0.6,
             "#e6f5d0"
            ],
            [
             0.7,
             "#b8e186"
            ],
            [
             0.8,
             "#7fbc41"
            ],
            [
             0.9,
             "#4d9221"
            ],
            [
             1,
             "#276419"
            ]
           ],
           "sequential": [
            [
             0,
             "#0d0887"
            ],
            [
             0.1111111111111111,
             "#46039f"
            ],
            [
             0.2222222222222222,
             "#7201a8"
            ],
            [
             0.3333333333333333,
             "#9c179e"
            ],
            [
             0.4444444444444444,
             "#bd3786"
            ],
            [
             0.5555555555555556,
             "#d8576b"
            ],
            [
             0.6666666666666666,
             "#ed7953"
            ],
            [
             0.7777777777777778,
             "#fb9f3a"
            ],
            [
             0.8888888888888888,
             "#fdca26"
            ],
            [
             1,
             "#f0f921"
            ]
           ],
           "sequentialminus": [
            [
             0,
             "#0d0887"
            ],
            [
             0.1111111111111111,
             "#46039f"
            ],
            [
             0.2222222222222222,
             "#7201a8"
            ],
            [
             0.3333333333333333,
             "#9c179e"
            ],
            [
             0.4444444444444444,
             "#bd3786"
            ],
            [
             0.5555555555555556,
             "#d8576b"
            ],
            [
             0.6666666666666666,
             "#ed7953"
            ],
            [
             0.7777777777777778,
             "#fb9f3a"
            ],
            [
             0.8888888888888888,
             "#fdca26"
            ],
            [
             1,
             "#f0f921"
            ]
           ]
          },
          "colorway": [
           "#636efa",
           "#EF553B",
           "#00cc96",
           "#ab63fa",
           "#FFA15A",
           "#19d3f3",
           "#FF6692",
           "#B6E880",
           "#FF97FF",
           "#FECB52"
          ],
          "font": {
           "color": "#2a3f5f"
          },
          "geo": {
           "bgcolor": "white",
           "lakecolor": "white",
           "landcolor": "#E5ECF6",
           "showlakes": true,
           "showland": true,
           "subunitcolor": "white"
          },
          "hoverlabel": {
           "align": "left"
          },
          "hovermode": "closest",
          "mapbox": {
           "style": "light"
          },
          "paper_bgcolor": "white",
          "plot_bgcolor": "#E5ECF6",
          "polar": {
           "angularaxis": {
            "gridcolor": "white",
            "linecolor": "white",
            "ticks": ""
           },
           "bgcolor": "#E5ECF6",
           "radialaxis": {
            "gridcolor": "white",
            "linecolor": "white",
            "ticks": ""
           }
          },
          "scene": {
           "xaxis": {
            "backgroundcolor": "#E5ECF6",
            "gridcolor": "white",
            "gridwidth": 2,
            "linecolor": "white",
            "showbackground": true,
            "ticks": "",
            "zerolinecolor": "white"
           },
           "yaxis": {
            "backgroundcolor": "#E5ECF6",
            "gridcolor": "white",
            "gridwidth": 2,
            "linecolor": "white",
            "showbackground": true,
            "ticks": "",
            "zerolinecolor": "white"
           },
           "zaxis": {
            "backgroundcolor": "#E5ECF6",
            "gridcolor": "white",
            "gridwidth": 2,
            "linecolor": "white",
            "showbackground": true,
            "ticks": "",
            "zerolinecolor": "white"
           }
          },
          "shapedefaults": {
           "line": {
            "color": "#2a3f5f"
           }
          },
          "ternary": {
           "aaxis": {
            "gridcolor": "white",
            "linecolor": "white",
            "ticks": ""
           },
           "baxis": {
            "gridcolor": "white",
            "linecolor": "white",
            "ticks": ""
           },
           "bgcolor": "#E5ECF6",
           "caxis": {
            "gridcolor": "white",
            "linecolor": "white",
            "ticks": ""
           }
          },
          "title": {
           "x": 0.05
          },
          "xaxis": {
           "automargin": true,
           "gridcolor": "white",
           "linecolor": "white",
           "ticks": "",
           "title": {
            "standoff": 15
           },
           "zerolinecolor": "white",
           "zerolinewidth": 2
          },
          "yaxis": {
           "automargin": true,
           "gridcolor": "white",
           "linecolor": "white",
           "ticks": "",
           "title": {
            "standoff": 15
           },
           "zerolinecolor": "white",
           "zerolinewidth": 2
          }
         }
        },
        "title": {
         "text": "Most Common Use_cases"
        },
        "xaxis": {
         "anchor": "y",
         "domain": [
          0,
          1
         ],
         "title": {
          "text": "use_cases"
         }
        },
        "yaxis": {
         "anchor": "x",
         "domain": [
          0,
          1
         ],
         "title": {
          "text": "Percent of Posts"
         }
        }
       }
      }
     },
     "metadata": {},
     "output_type": "display_data"
    },
    {
     "data": {
      "text/html": [
       "<div style=\"margin: 10px 0;\"><h4 style=\"color: #333; margin: 0; padding: 5px 0; border-bottom: 1px solid #ccc;\">Example Posts with Keywords</h4></div>"
      ],
      "text/plain": [
       "<IPython.core.display.HTML object>"
      ]
     },
     "metadata": {},
     "output_type": "display_data"
    },
    {
     "data": {
      "text/html": [
       "<div style=\"display: flex; flex-direction: row; justify-content: space-between;\">\n",
       "    <div style=\"border: 1px solid #ddd; border-radius: 8px; padding: 15px; margin: 10px 5px; background-color: #f9f9f9; display: inline-block; vertical-align: top; width: 30%;\">\n",
       "        <div style=\"color: #666; font-size: 0.9em; margin-bottom: 5px;\">\n",
       "            <a href=\"https://reddit.com/r/ask\" target=\"_blank\" style=\"text-decoration: none; color: inherit;\">r/ask</a>\n",
       "        </div>\n",
       "        <div style=\"color: #333; font-size: 1.1em; font-weight: bold; margin-bottom: 10px;\">\n",
       "            <a href=\"https://reddit.com/r/ask/comments/1f0qdmm/is_it_okay_to_use_ai_as_a_therapist/\" target=\"_blank\" style=\"text-decoration: none; color: inherit;\">Is it okay to use ai as a therapist?</a>\n",
       "        </div>\n",
       "        \n",
       "        <div style=\"color: #666; margin-bottom: 10px;\">Keywords: venting, emotional_support</div>\n",
       "        <div style=\"color: #444; line-height: 1.4; max-height: 200px; overflow-y: auto;\">Every now and then whenever I'm really down I sometimes use an AI just to trauma dump I guess or just talk about things I can't say normally. I don't fully know I just do it sometimes just to feel better if I'm having a bad day.\n",
       "\n",
       "Hope everyone is having good day...</div>\n",
       "    </div>\n",
       "    \n",
       "    <div style=\"border: 1px solid #ddd; border-radius: 8px; padding: 15px; margin: 10px 5px; background-color: #f9f9f9; display: inline-block; vertical-align: top; width: 30%;\">\n",
       "        <div style=\"color: #666; font-size: 0.9em; margin-bottom: 5px;\">\n",
       "            <a href=\"https://reddit.com/r/BPD\" target=\"_blank\" style=\"text-decoration: none; color: inherit;\">r/BPD</a>\n",
       "        </div>\n",
       "        <div style=\"color: #333; font-size: 1.1em; font-weight: bold; margin-bottom: 10px;\">\n",
       "            <a href=\"https://reddit.com/r/BPD/comments/1fxzbe3/i_broke_down_a_little_bit_to_an_ai/\" target=\"_blank\" style=\"text-decoration: none; color: inherit;\">I broke down a little bit to an AI</a>\n",
       "        </div>\n",
       "        \n",
       "        <div style=\"color: #666; margin-bottom: 10px;\">Keywords: venting, emotional_support</div>\n",
       "        <div style=\"color: #444; line-height: 1.4; max-height: 200px; overflow-y: auto;\">I was in a certain headspace and typed this message to chatGPT “Imagine having your brain pull you in every different direction never truly able to commit to 1 thing,  making you feel horrible if you try, constantly making you feel unwanted, unloved, and guilty for something you’ll never be able to atone for, something inside you, something inherently flawed about you that you just can’t name, so you live with it not wanting to express how you feel cause you fear that you get abandoned or hurt f...</div>\n",
       "    </div>\n",
       "    \n",
       "    <div style=\"border: 1px solid #ddd; border-radius: 8px; padding: 15px; margin: 10px 5px; background-color: #f9f9f9; display: inline-block; vertical-align: top; width: 30%;\">\n",
       "        <div style=\"color: #666; font-size: 0.9em; margin-bottom: 5px;\">\n",
       "            <a href=\"https://reddit.com/r/selfimprovement\" target=\"_blank\" style=\"text-decoration: none; color: inherit;\">r/selfimprovement</a>\n",
       "        </div>\n",
       "        <div style=\"color: #333; font-size: 1.1em; font-weight: bold; margin-bottom: 10px;\">\n",
       "            <a href=\"https://reddit.com/r/selfimprovement/comments/1evr13w/ever_wanted_to_get_rid_of_negative_thoughts_heres/\" target=\"_blank\" style=\"text-decoration: none; color: inherit;\">Ever wanted to get rid' of NEGATIVE thoughts? HERE'S HOW...</a>\n",
       "        </div>\n",
       "        \n",
       "        <div style=\"color: #666; margin-bottom: 10px;\">Keywords: motivation, learning</div>\n",
       "        <div style=\"color: #444; line-height: 1.4; max-height: 200px; overflow-y: auto;\"># “I am not good enough”\n",
       "\n",
       "# “I should have done better”\n",
       "\n",
       "# “Why can’t I just be happy?”\n",
       "\n",
       "  \n",
       "Welcome to the club - 7 billion of us are stuck in this brain-buzzing circus called life. Negative thoughts? We've all got ‘em. But here’s the surprise: no one’s immune. For me, the real relief was realizing that I'm not the only one. \n",
       "\n",
       "^(\"Someone, right now, experiences the same pain as I do\".)\n",
       "\n",
       "This post is the second part of “5000 negative thoughts per day & How you get rid’ of them”. If you haven’t re...</div>\n",
       "    </div>\n",
       "    </div>"
      ],
      "text/plain": [
       "<IPython.core.display.HTML object>"
      ]
     },
     "metadata": {},
     "output_type": "display_data"
    },
    {
     "data": {
      "application/vnd.plotly.v1+json": {
       "config": {
        "plotlyServerURL": "https://plot.ly"
       },
       "data": [
        {
         "alignmentgroup": "True",
         "hovertemplate": "conditions=%{x}<br>percent=%{y}<extra></extra>",
         "legendgroup": "",
         "marker": {
          "color": "#636efa",
          "pattern": {
           "shape": ""
          }
         },
         "name": "",
         "offsetgroup": "",
         "orientation": "v",
         "showlegend": false,
         "textposition": "auto",
         "type": "bar",
         "x": [
          "depression",
          "anxiety",
          "trauma",
          "ADHD",
          "OCD",
          "social_anxiety",
          "CPTSD",
          "loneliness",
          "BPD",
          "addiction"
         ],
         "xaxis": "x",
         "y": [
          19.379844961240313,
          17.635658914728683,
          9.108527131782946,
          6.395348837209303,
          5.62015503875969,
          3.2945736434108532,
          2.5193798449612403,
          2.5193798449612403,
          1.937984496124031,
          1.937984496124031
         ],
         "yaxis": "y"
        }
       ],
       "layout": {
        "barmode": "relative",
        "legend": {
         "tracegroupgap": 0
        },
        "template": {
         "data": {
          "bar": [
           {
            "error_x": {
             "color": "#2a3f5f"
            },
            "error_y": {
             "color": "#2a3f5f"
            },
            "marker": {
             "line": {
              "color": "#E5ECF6",
              "width": 0.5
             },
             "pattern": {
              "fillmode": "overlay",
              "size": 10,
              "solidity": 0.2
             }
            },
            "type": "bar"
           }
          ],
          "barpolar": [
           {
            "marker": {
             "line": {
              "color": "#E5ECF6",
              "width": 0.5
             },
             "pattern": {
              "fillmode": "overlay",
              "size": 10,
              "solidity": 0.2
             }
            },
            "type": "barpolar"
           }
          ],
          "carpet": [
           {
            "aaxis": {
             "endlinecolor": "#2a3f5f",
             "gridcolor": "white",
             "linecolor": "white",
             "minorgridcolor": "white",
             "startlinecolor": "#2a3f5f"
            },
            "baxis": {
             "endlinecolor": "#2a3f5f",
             "gridcolor": "white",
             "linecolor": "white",
             "minorgridcolor": "white",
             "startlinecolor": "#2a3f5f"
            },
            "type": "carpet"
           }
          ],
          "choropleth": [
           {
            "colorbar": {
             "outlinewidth": 0,
             "ticks": ""
            },
            "type": "choropleth"
           }
          ],
          "contour": [
           {
            "colorbar": {
             "outlinewidth": 0,
             "ticks": ""
            },
            "colorscale": [
             [
              0,
              "#0d0887"
             ],
             [
              0.1111111111111111,
              "#46039f"
             ],
             [
              0.2222222222222222,
              "#7201a8"
             ],
             [
              0.3333333333333333,
              "#9c179e"
             ],
             [
              0.4444444444444444,
              "#bd3786"
             ],
             [
              0.5555555555555556,
              "#d8576b"
             ],
             [
              0.6666666666666666,
              "#ed7953"
             ],
             [
              0.7777777777777778,
              "#fb9f3a"
             ],
             [
              0.8888888888888888,
              "#fdca26"
             ],
             [
              1,
              "#f0f921"
             ]
            ],
            "type": "contour"
           }
          ],
          "contourcarpet": [
           {
            "colorbar": {
             "outlinewidth": 0,
             "ticks": ""
            },
            "type": "contourcarpet"
           }
          ],
          "heatmap": [
           {
            "colorbar": {
             "outlinewidth": 0,
             "ticks": ""
            },
            "colorscale": [
             [
              0,
              "#0d0887"
             ],
             [
              0.1111111111111111,
              "#46039f"
             ],
             [
              0.2222222222222222,
              "#7201a8"
             ],
             [
              0.3333333333333333,
              "#9c179e"
             ],
             [
              0.4444444444444444,
              "#bd3786"
             ],
             [
              0.5555555555555556,
              "#d8576b"
             ],
             [
              0.6666666666666666,
              "#ed7953"
             ],
             [
              0.7777777777777778,
              "#fb9f3a"
             ],
             [
              0.8888888888888888,
              "#fdca26"
             ],
             [
              1,
              "#f0f921"
             ]
            ],
            "type": "heatmap"
           }
          ],
          "heatmapgl": [
           {
            "colorbar": {
             "outlinewidth": 0,
             "ticks": ""
            },
            "colorscale": [
             [
              0,
              "#0d0887"
             ],
             [
              0.1111111111111111,
              "#46039f"
             ],
             [
              0.2222222222222222,
              "#7201a8"
             ],
             [
              0.3333333333333333,
              "#9c179e"
             ],
             [
              0.4444444444444444,
              "#bd3786"
             ],
             [
              0.5555555555555556,
              "#d8576b"
             ],
             [
              0.6666666666666666,
              "#ed7953"
             ],
             [
              0.7777777777777778,
              "#fb9f3a"
             ],
             [
              0.8888888888888888,
              "#fdca26"
             ],
             [
              1,
              "#f0f921"
             ]
            ],
            "type": "heatmapgl"
           }
          ],
          "histogram": [
           {
            "marker": {
             "pattern": {
              "fillmode": "overlay",
              "size": 10,
              "solidity": 0.2
             }
            },
            "type": "histogram"
           }
          ],
          "histogram2d": [
           {
            "colorbar": {
             "outlinewidth": 0,
             "ticks": ""
            },
            "colorscale": [
             [
              0,
              "#0d0887"
             ],
             [
              0.1111111111111111,
              "#46039f"
             ],
             [
              0.2222222222222222,
              "#7201a8"
             ],
             [
              0.3333333333333333,
              "#9c179e"
             ],
             [
              0.4444444444444444,
              "#bd3786"
             ],
             [
              0.5555555555555556,
              "#d8576b"
             ],
             [
              0.6666666666666666,
              "#ed7953"
             ],
             [
              0.7777777777777778,
              "#fb9f3a"
             ],
             [
              0.8888888888888888,
              "#fdca26"
             ],
             [
              1,
              "#f0f921"
             ]
            ],
            "type": "histogram2d"
           }
          ],
          "histogram2dcontour": [
           {
            "colorbar": {
             "outlinewidth": 0,
             "ticks": ""
            },
            "colorscale": [
             [
              0,
              "#0d0887"
             ],
             [
              0.1111111111111111,
              "#46039f"
             ],
             [
              0.2222222222222222,
              "#7201a8"
             ],
             [
              0.3333333333333333,
              "#9c179e"
             ],
             [
              0.4444444444444444,
              "#bd3786"
             ],
             [
              0.5555555555555556,
              "#d8576b"
             ],
             [
              0.6666666666666666,
              "#ed7953"
             ],
             [
              0.7777777777777778,
              "#fb9f3a"
             ],
             [
              0.8888888888888888,
              "#fdca26"
             ],
             [
              1,
              "#f0f921"
             ]
            ],
            "type": "histogram2dcontour"
           }
          ],
          "mesh3d": [
           {
            "colorbar": {
             "outlinewidth": 0,
             "ticks": ""
            },
            "type": "mesh3d"
           }
          ],
          "parcoords": [
           {
            "line": {
             "colorbar": {
              "outlinewidth": 0,
              "ticks": ""
             }
            },
            "type": "parcoords"
           }
          ],
          "pie": [
           {
            "automargin": true,
            "type": "pie"
           }
          ],
          "scatter": [
           {
            "fillpattern": {
             "fillmode": "overlay",
             "size": 10,
             "solidity": 0.2
            },
            "type": "scatter"
           }
          ],
          "scatter3d": [
           {
            "line": {
             "colorbar": {
              "outlinewidth": 0,
              "ticks": ""
             }
            },
            "marker": {
             "colorbar": {
              "outlinewidth": 0,
              "ticks": ""
             }
            },
            "type": "scatter3d"
           }
          ],
          "scattercarpet": [
           {
            "marker": {
             "colorbar": {
              "outlinewidth": 0,
              "ticks": ""
             }
            },
            "type": "scattercarpet"
           }
          ],
          "scattergeo": [
           {
            "marker": {
             "colorbar": {
              "outlinewidth": 0,
              "ticks": ""
             }
            },
            "type": "scattergeo"
           }
          ],
          "scattergl": [
           {
            "marker": {
             "colorbar": {
              "outlinewidth": 0,
              "ticks": ""
             }
            },
            "type": "scattergl"
           }
          ],
          "scattermapbox": [
           {
            "marker": {
             "colorbar": {
              "outlinewidth": 0,
              "ticks": ""
             }
            },
            "type": "scattermapbox"
           }
          ],
          "scatterpolar": [
           {
            "marker": {
             "colorbar": {
              "outlinewidth": 0,
              "ticks": ""
             }
            },
            "type": "scatterpolar"
           }
          ],
          "scatterpolargl": [
           {
            "marker": {
             "colorbar": {
              "outlinewidth": 0,
              "ticks": ""
             }
            },
            "type": "scatterpolargl"
           }
          ],
          "scatterternary": [
           {
            "marker": {
             "colorbar": {
              "outlinewidth": 0,
              "ticks": ""
             }
            },
            "type": "scatterternary"
           }
          ],
          "surface": [
           {
            "colorbar": {
             "outlinewidth": 0,
             "ticks": ""
            },
            "colorscale": [
             [
              0,
              "#0d0887"
             ],
             [
              0.1111111111111111,
              "#46039f"
             ],
             [
              0.2222222222222222,
              "#7201a8"
             ],
             [
              0.3333333333333333,
              "#9c179e"
             ],
             [
              0.4444444444444444,
              "#bd3786"
             ],
             [
              0.5555555555555556,
              "#d8576b"
             ],
             [
              0.6666666666666666,
              "#ed7953"
             ],
             [
              0.7777777777777778,
              "#fb9f3a"
             ],
             [
              0.8888888888888888,
              "#fdca26"
             ],
             [
              1,
              "#f0f921"
             ]
            ],
            "type": "surface"
           }
          ],
          "table": [
           {
            "cells": {
             "fill": {
              "color": "#EBF0F8"
             },
             "line": {
              "color": "white"
             }
            },
            "header": {
             "fill": {
              "color": "#C8D4E3"
             },
             "line": {
              "color": "white"
             }
            },
            "type": "table"
           }
          ]
         },
         "layout": {
          "annotationdefaults": {
           "arrowcolor": "#2a3f5f",
           "arrowhead": 0,
           "arrowwidth": 1
          },
          "autotypenumbers": "strict",
          "coloraxis": {
           "colorbar": {
            "outlinewidth": 0,
            "ticks": ""
           }
          },
          "colorscale": {
           "diverging": [
            [
             0,
             "#8e0152"
            ],
            [
             0.1,
             "#c51b7d"
            ],
            [
             0.2,
             "#de77ae"
            ],
            [
             0.3,
             "#f1b6da"
            ],
            [
             0.4,
             "#fde0ef"
            ],
            [
             0.5,
             "#f7f7f7"
            ],
            [
             0.6,
             "#e6f5d0"
            ],
            [
             0.7,
             "#b8e186"
            ],
            [
             0.8,
             "#7fbc41"
            ],
            [
             0.9,
             "#4d9221"
            ],
            [
             1,
             "#276419"
            ]
           ],
           "sequential": [
            [
             0,
             "#0d0887"
            ],
            [
             0.1111111111111111,
             "#46039f"
            ],
            [
             0.2222222222222222,
             "#7201a8"
            ],
            [
             0.3333333333333333,
             "#9c179e"
            ],
            [
             0.4444444444444444,
             "#bd3786"
            ],
            [
             0.5555555555555556,
             "#d8576b"
            ],
            [
             0.6666666666666666,
             "#ed7953"
            ],
            [
             0.7777777777777778,
             "#fb9f3a"
            ],
            [
             0.8888888888888888,
             "#fdca26"
            ],
            [
             1,
             "#f0f921"
            ]
           ],
           "sequentialminus": [
            [
             0,
             "#0d0887"
            ],
            [
             0.1111111111111111,
             "#46039f"
            ],
            [
             0.2222222222222222,
             "#7201a8"
            ],
            [
             0.3333333333333333,
             "#9c179e"
            ],
            [
             0.4444444444444444,
             "#bd3786"
            ],
            [
             0.5555555555555556,
             "#d8576b"
            ],
            [
             0.6666666666666666,
             "#ed7953"
            ],
            [
             0.7777777777777778,
             "#fb9f3a"
            ],
            [
             0.8888888888888888,
             "#fdca26"
            ],
            [
             1,
             "#f0f921"
            ]
           ]
          },
          "colorway": [
           "#636efa",
           "#EF553B",
           "#00cc96",
           "#ab63fa",
           "#FFA15A",
           "#19d3f3",
           "#FF6692",
           "#B6E880",
           "#FF97FF",
           "#FECB52"
          ],
          "font": {
           "color": "#2a3f5f"
          },
          "geo": {
           "bgcolor": "white",
           "lakecolor": "white",
           "landcolor": "#E5ECF6",
           "showlakes": true,
           "showland": true,
           "subunitcolor": "white"
          },
          "hoverlabel": {
           "align": "left"
          },
          "hovermode": "closest",
          "mapbox": {
           "style": "light"
          },
          "paper_bgcolor": "white",
          "plot_bgcolor": "#E5ECF6",
          "polar": {
           "angularaxis": {
            "gridcolor": "white",
            "linecolor": "white",
            "ticks": ""
           },
           "bgcolor": "#E5ECF6",
           "radialaxis": {
            "gridcolor": "white",
            "linecolor": "white",
            "ticks": ""
           }
          },
          "scene": {
           "xaxis": {
            "backgroundcolor": "#E5ECF6",
            "gridcolor": "white",
            "gridwidth": 2,
            "linecolor": "white",
            "showbackground": true,
            "ticks": "",
            "zerolinecolor": "white"
           },
           "yaxis": {
            "backgroundcolor": "#E5ECF6",
            "gridcolor": "white",
            "gridwidth": 2,
            "linecolor": "white",
            "showbackground": true,
            "ticks": "",
            "zerolinecolor": "white"
           },
           "zaxis": {
            "backgroundcolor": "#E5ECF6",
            "gridcolor": "white",
            "gridwidth": 2,
            "linecolor": "white",
            "showbackground": true,
            "ticks": "",
            "zerolinecolor": "white"
           }
          },
          "shapedefaults": {
           "line": {
            "color": "#2a3f5f"
           }
          },
          "ternary": {
           "aaxis": {
            "gridcolor": "white",
            "linecolor": "white",
            "ticks": ""
           },
           "baxis": {
            "gridcolor": "white",
            "linecolor": "white",
            "ticks": ""
           },
           "bgcolor": "#E5ECF6",
           "caxis": {
            "gridcolor": "white",
            "linecolor": "white",
            "ticks": ""
           }
          },
          "title": {
           "x": 0.05
          },
          "xaxis": {
           "automargin": true,
           "gridcolor": "white",
           "linecolor": "white",
           "ticks": "",
           "title": {
            "standoff": 15
           },
           "zerolinecolor": "white",
           "zerolinewidth": 2
          },
          "yaxis": {
           "automargin": true,
           "gridcolor": "white",
           "linecolor": "white",
           "ticks": "",
           "title": {
            "standoff": 15
           },
           "zerolinecolor": "white",
           "zerolinewidth": 2
          }
         }
        },
        "title": {
         "text": "Most Common Conditions"
        },
        "xaxis": {
         "anchor": "y",
         "domain": [
          0,
          1
         ],
         "title": {
          "text": "conditions"
         }
        },
        "yaxis": {
         "anchor": "x",
         "domain": [
          0,
          1
         ],
         "title": {
          "text": "Percent of Posts"
         }
        }
       }
      }
     },
     "metadata": {},
     "output_type": "display_data"
    },
    {
     "data": {
      "text/html": [
       "<div style=\"margin: 10px 0;\"><h4 style=\"color: #333; margin: 0; padding: 5px 0; border-bottom: 1px solid #ccc;\">Example Posts with Keywords</h4></div>"
      ],
      "text/plain": [
       "<IPython.core.display.HTML object>"
      ]
     },
     "metadata": {},
     "output_type": "display_data"
    },
    {
     "data": {
      "text/html": [
       "<div style=\"display: flex; flex-direction: row; justify-content: space-between;\">\n",
       "    <div style=\"border: 1px solid #ddd; border-radius: 8px; padding: 15px; margin: 10px 5px; background-color: #f9f9f9; display: inline-block; vertical-align: top; width: 30%;\">\n",
       "        <div style=\"color: #666; font-size: 0.9em; margin-bottom: 5px;\">\n",
       "            <a href=\"https://reddit.com/r/therapists\" target=\"_blank\" style=\"text-decoration: none; color: inherit;\">r/therapists</a>\n",
       "        </div>\n",
       "        <div style=\"color: #333; font-size: 1.1em; font-weight: bold; margin-bottom: 10px;\">\n",
       "            <a href=\"https://reddit.com/r/therapists/comments/1fo4c38/how_do_you_feel_about_chat_gpt_as_a_therapist/\" target=\"_blank\" style=\"text-decoration: none; color: inherit;\">How do you feel about chat gpt as a therapist? </a>\n",
       "        </div>\n",
       "        \n",
       "        <div style=\"color: #666; margin-bottom: 10px;\">Keywords: anxiety</div>\n",
       "        <div style=\"color: #444; line-height: 1.4; max-height: 200px; overflow-y: auto;\">So I had horrible anxiety one night and went to chat gpt (crazy I know) but I can’t believe I am saying this but it actually helped?… the answers it gave was what I was looking for. Now by no means at all do I think it replaces us actual therapists but I do think it’s interesting to see it helping people with struggles. ...</div>\n",
       "    </div>\n",
       "    \n",
       "    <div style=\"border: 1px solid #ddd; border-radius: 8px; padding: 15px; margin: 10px 5px; background-color: #f9f9f9; display: inline-block; vertical-align: top; width: 30%;\">\n",
       "        <div style=\"color: #666; font-size: 0.9em; margin-bottom: 5px;\">\n",
       "            <a href=\"https://reddit.com/r/mentalhealth\" target=\"_blank\" style=\"text-decoration: none; color: inherit;\">r/mentalhealth</a>\n",
       "        </div>\n",
       "        <div style=\"color: #333; font-size: 1.1em; font-weight: bold; margin-bottom: 10px;\">\n",
       "            <a href=\"https://reddit.com/r/mentalhealth/comments/1ged718/is_talking_to_ais_a_good_way_to_practice_social/\" target=\"_blank\" style=\"text-decoration: none; color: inherit;\">Is talking to ai’s a good way to practice social interactions?</a>\n",
       "        </div>\n",
       "        \n",
       "        <div style=\"color: #666; margin-bottom: 10px;\">Keywords: social_anxiety</div>\n",
       "        <div style=\"color: #444; line-height: 1.4; max-height: 200px; overflow-y: auto;\">I have trouble talking to people especially people I don’t know, recently I’ve been talking to ai characters and a feel like I’m getting better but I’m not sure if it’s just that the ai’s have to basically do whatever you want. should I keep doing it?...</div>\n",
       "    </div>\n",
       "    \n",
       "    <div style=\"border: 1px solid #ddd; border-radius: 8px; padding: 15px; margin: 10px 5px; background-color: #f9f9f9; display: inline-block; vertical-align: top; width: 30%;\">\n",
       "        <div style=\"color: #666; font-size: 0.9em; margin-bottom: 5px;\">\n",
       "            <a href=\"https://reddit.com/r/nosurf\" target=\"_blank\" style=\"text-decoration: none; color: inherit;\">r/nosurf</a>\n",
       "        </div>\n",
       "        <div style=\"color: #333; font-size: 1.1em; font-weight: bold; margin-bottom: 10px;\">\n",
       "            <a href=\"https://reddit.com/r/nosurf/comments/1d8wql2/20f_vent_post_i_dont_have_a_life_and_i_dont_think/\" target=\"_blank\" style=\"text-decoration: none; color: inherit;\">20F vent post (I don't have a life and I don't think it will get better)</a>\n",
       "        </div>\n",
       "        \n",
       "        <div style=\"color: #666; margin-bottom: 10px;\">Keywords: anxiety, OCD, depression, eating_disorder</div>\n",
       "        <div style=\"color: #444; line-height: 1.4; max-height: 200px; overflow-y: auto;\">I got on the internet when I was 10 or 11 and I mostly watched Minecraft videos. I got my first phone and a Pinterest account at 12. I used to read so much, I'd go to the library and get these giant stacks of books and plow through them in a week or two. But the internet replaced all of that for me. I would estimate that since then I've spent an average of ten to twelve hours a day on my phone or the computer. That is half of my life. The pandemic didn't help but basically the internet and my ow...</div>\n",
       "    </div>\n",
       "    </div>"
      ],
      "text/plain": [
       "<IPython.core.display.HTML object>"
      ]
     },
     "metadata": {},
     "output_type": "display_data"
    },
    {
     "data": {
      "application/vnd.plotly.v1+json": {
       "config": {
        "plotlyServerURL": "https://plot.ly"
       },
       "data": [
        {
         "domain": {
          "x": [
           0,
           1
          ],
          "y": [
           0,
           1
          ]
         },
         "hovertemplate": "label=%{label}<br>value=%{value}<extra></extra>",
         "labels": [
          false,
          true
         ],
         "legendgroup": "",
         "name": "",
         "showlegend": true,
         "texttemplate": "%{value:.1f}%",
         "type": "pie",
         "values": [
          86.62790697674419,
          13.372093023255813
         ]
        }
       ],
       "layout": {
        "legend": {
         "tracegroupgap": 0
        },
        "template": {
         "data": {
          "bar": [
           {
            "error_x": {
             "color": "#2a3f5f"
            },
            "error_y": {
             "color": "#2a3f5f"
            },
            "marker": {
             "line": {
              "color": "#E5ECF6",
              "width": 0.5
             },
             "pattern": {
              "fillmode": "overlay",
              "size": 10,
              "solidity": 0.2
             }
            },
            "type": "bar"
           }
          ],
          "barpolar": [
           {
            "marker": {
             "line": {
              "color": "#E5ECF6",
              "width": 0.5
             },
             "pattern": {
              "fillmode": "overlay",
              "size": 10,
              "solidity": 0.2
             }
            },
            "type": "barpolar"
           }
          ],
          "carpet": [
           {
            "aaxis": {
             "endlinecolor": "#2a3f5f",
             "gridcolor": "white",
             "linecolor": "white",
             "minorgridcolor": "white",
             "startlinecolor": "#2a3f5f"
            },
            "baxis": {
             "endlinecolor": "#2a3f5f",
             "gridcolor": "white",
             "linecolor": "white",
             "minorgridcolor": "white",
             "startlinecolor": "#2a3f5f"
            },
            "type": "carpet"
           }
          ],
          "choropleth": [
           {
            "colorbar": {
             "outlinewidth": 0,
             "ticks": ""
            },
            "type": "choropleth"
           }
          ],
          "contour": [
           {
            "colorbar": {
             "outlinewidth": 0,
             "ticks": ""
            },
            "colorscale": [
             [
              0,
              "#0d0887"
             ],
             [
              0.1111111111111111,
              "#46039f"
             ],
             [
              0.2222222222222222,
              "#7201a8"
             ],
             [
              0.3333333333333333,
              "#9c179e"
             ],
             [
              0.4444444444444444,
              "#bd3786"
             ],
             [
              0.5555555555555556,
              "#d8576b"
             ],
             [
              0.6666666666666666,
              "#ed7953"
             ],
             [
              0.7777777777777778,
              "#fb9f3a"
             ],
             [
              0.8888888888888888,
              "#fdca26"
             ],
             [
              1,
              "#f0f921"
             ]
            ],
            "type": "contour"
           }
          ],
          "contourcarpet": [
           {
            "colorbar": {
             "outlinewidth": 0,
             "ticks": ""
            },
            "type": "contourcarpet"
           }
          ],
          "heatmap": [
           {
            "colorbar": {
             "outlinewidth": 0,
             "ticks": ""
            },
            "colorscale": [
             [
              0,
              "#0d0887"
             ],
             [
              0.1111111111111111,
              "#46039f"
             ],
             [
              0.2222222222222222,
              "#7201a8"
             ],
             [
              0.3333333333333333,
              "#9c179e"
             ],
             [
              0.4444444444444444,
              "#bd3786"
             ],
             [
              0.5555555555555556,
              "#d8576b"
             ],
             [
              0.6666666666666666,
              "#ed7953"
             ],
             [
              0.7777777777777778,
              "#fb9f3a"
             ],
             [
              0.8888888888888888,
              "#fdca26"
             ],
             [
              1,
              "#f0f921"
             ]
            ],
            "type": "heatmap"
           }
          ],
          "heatmapgl": [
           {
            "colorbar": {
             "outlinewidth": 0,
             "ticks": ""
            },
            "colorscale": [
             [
              0,
              "#0d0887"
             ],
             [
              0.1111111111111111,
              "#46039f"
             ],
             [
              0.2222222222222222,
              "#7201a8"
             ],
             [
              0.3333333333333333,
              "#9c179e"
             ],
             [
              0.4444444444444444,
              "#bd3786"
             ],
             [
              0.5555555555555556,
              "#d8576b"
             ],
             [
              0.6666666666666666,
              "#ed7953"
             ],
             [
              0.7777777777777778,
              "#fb9f3a"
             ],
             [
              0.8888888888888888,
              "#fdca26"
             ],
             [
              1,
              "#f0f921"
             ]
            ],
            "type": "heatmapgl"
           }
          ],
          "histogram": [
           {
            "marker": {
             "pattern": {
              "fillmode": "overlay",
              "size": 10,
              "solidity": 0.2
             }
            },
            "type": "histogram"
           }
          ],
          "histogram2d": [
           {
            "colorbar": {
             "outlinewidth": 0,
             "ticks": ""
            },
            "colorscale": [
             [
              0,
              "#0d0887"
             ],
             [
              0.1111111111111111,
              "#46039f"
             ],
             [
              0.2222222222222222,
              "#7201a8"
             ],
             [
              0.3333333333333333,
              "#9c179e"
             ],
             [
              0.4444444444444444,
              "#bd3786"
             ],
             [
              0.5555555555555556,
              "#d8576b"
             ],
             [
              0.6666666666666666,
              "#ed7953"
             ],
             [
              0.7777777777777778,
              "#fb9f3a"
             ],
             [
              0.8888888888888888,
              "#fdca26"
             ],
             [
              1,
              "#f0f921"
             ]
            ],
            "type": "histogram2d"
           }
          ],
          "histogram2dcontour": [
           {
            "colorbar": {
             "outlinewidth": 0,
             "ticks": ""
            },
            "colorscale": [
             [
              0,
              "#0d0887"
             ],
             [
              0.1111111111111111,
              "#46039f"
             ],
             [
              0.2222222222222222,
              "#7201a8"
             ],
             [
              0.3333333333333333,
              "#9c179e"
             ],
             [
              0.4444444444444444,
              "#bd3786"
             ],
             [
              0.5555555555555556,
              "#d8576b"
             ],
             [
              0.6666666666666666,
              "#ed7953"
             ],
             [
              0.7777777777777778,
              "#fb9f3a"
             ],
             [
              0.8888888888888888,
              "#fdca26"
             ],
             [
              1,
              "#f0f921"
             ]
            ],
            "type": "histogram2dcontour"
           }
          ],
          "mesh3d": [
           {
            "colorbar": {
             "outlinewidth": 0,
             "ticks": ""
            },
            "type": "mesh3d"
           }
          ],
          "parcoords": [
           {
            "line": {
             "colorbar": {
              "outlinewidth": 0,
              "ticks": ""
             }
            },
            "type": "parcoords"
           }
          ],
          "pie": [
           {
            "automargin": true,
            "type": "pie"
           }
          ],
          "scatter": [
           {
            "fillpattern": {
             "fillmode": "overlay",
             "size": 10,
             "solidity": 0.2
            },
            "type": "scatter"
           }
          ],
          "scatter3d": [
           {
            "line": {
             "colorbar": {
              "outlinewidth": 0,
              "ticks": ""
             }
            },
            "marker": {
             "colorbar": {
              "outlinewidth": 0,
              "ticks": ""
             }
            },
            "type": "scatter3d"
           }
          ],
          "scattercarpet": [
           {
            "marker": {
             "colorbar": {
              "outlinewidth": 0,
              "ticks": ""
             }
            },
            "type": "scattercarpet"
           }
          ],
          "scattergeo": [
           {
            "marker": {
             "colorbar": {
              "outlinewidth": 0,
              "ticks": ""
             }
            },
            "type": "scattergeo"
           }
          ],
          "scattergl": [
           {
            "marker": {
             "colorbar": {
              "outlinewidth": 0,
              "ticks": ""
             }
            },
            "type": "scattergl"
           }
          ],
          "scattermapbox": [
           {
            "marker": {
             "colorbar": {
              "outlinewidth": 0,
              "ticks": ""
             }
            },
            "type": "scattermapbox"
           }
          ],
          "scatterpolar": [
           {
            "marker": {
             "colorbar": {
              "outlinewidth": 0,
              "ticks": ""
             }
            },
            "type": "scatterpolar"
           }
          ],
          "scatterpolargl": [
           {
            "marker": {
             "colorbar": {
              "outlinewidth": 0,
              "ticks": ""
             }
            },
            "type": "scatterpolargl"
           }
          ],
          "scatterternary": [
           {
            "marker": {
             "colorbar": {
              "outlinewidth": 0,
              "ticks": ""
             }
            },
            "type": "scatterternary"
           }
          ],
          "surface": [
           {
            "colorbar": {
             "outlinewidth": 0,
             "ticks": ""
            },
            "colorscale": [
             [
              0,
              "#0d0887"
             ],
             [
              0.1111111111111111,
              "#46039f"
             ],
             [
              0.2222222222222222,
              "#7201a8"
             ],
             [
              0.3333333333333333,
              "#9c179e"
             ],
             [
              0.4444444444444444,
              "#bd3786"
             ],
             [
              0.5555555555555556,
              "#d8576b"
             ],
             [
              0.6666666666666666,
              "#ed7953"
             ],
             [
              0.7777777777777778,
              "#fb9f3a"
             ],
             [
              0.8888888888888888,
              "#fdca26"
             ],
             [
              1,
              "#f0f921"
             ]
            ],
            "type": "surface"
           }
          ],
          "table": [
           {
            "cells": {
             "fill": {
              "color": "#EBF0F8"
             },
             "line": {
              "color": "white"
             }
            },
            "header": {
             "fill": {
              "color": "#C8D4E3"
             },
             "line": {
              "color": "white"
             }
            },
            "type": "table"
           }
          ]
         },
         "layout": {
          "annotationdefaults": {
           "arrowcolor": "#2a3f5f",
           "arrowhead": 0,
           "arrowwidth": 1
          },
          "autotypenumbers": "strict",
          "coloraxis": {
           "colorbar": {
            "outlinewidth": 0,
            "ticks": ""
           }
          },
          "colorscale": {
           "diverging": [
            [
             0,
             "#8e0152"
            ],
            [
             0.1,
             "#c51b7d"
            ],
            [
             0.2,
             "#de77ae"
            ],
            [
             0.3,
             "#f1b6da"
            ],
            [
             0.4,
             "#fde0ef"
            ],
            [
             0.5,
             "#f7f7f7"
            ],
            [
             0.6,
             "#e6f5d0"
            ],
            [
             0.7,
             "#b8e186"
            ],
            [
             0.8,
             "#7fbc41"
            ],
            [
             0.9,
             "#4d9221"
            ],
            [
             1,
             "#276419"
            ]
           ],
           "sequential": [
            [
             0,
             "#0d0887"
            ],
            [
             0.1111111111111111,
             "#46039f"
            ],
            [
             0.2222222222222222,
             "#7201a8"
            ],
            [
             0.3333333333333333,
             "#9c179e"
            ],
            [
             0.4444444444444444,
             "#bd3786"
            ],
            [
             0.5555555555555556,
             "#d8576b"
            ],
            [
             0.6666666666666666,
             "#ed7953"
            ],
            [
             0.7777777777777778,
             "#fb9f3a"
            ],
            [
             0.8888888888888888,
             "#fdca26"
            ],
            [
             1,
             "#f0f921"
            ]
           ],
           "sequentialminus": [
            [
             0,
             "#0d0887"
            ],
            [
             0.1111111111111111,
             "#46039f"
            ],
            [
             0.2222222222222222,
             "#7201a8"
            ],
            [
             0.3333333333333333,
             "#9c179e"
            ],
            [
             0.4444444444444444,
             "#bd3786"
            ],
            [
             0.5555555555555556,
             "#d8576b"
            ],
            [
             0.6666666666666666,
             "#ed7953"
            ],
            [
             0.7777777777777778,
             "#fb9f3a"
            ],
            [
             0.8888888888888888,
             "#fdca26"
            ],
            [
             1,
             "#f0f921"
            ]
           ]
          },
          "colorway": [
           "#636efa",
           "#EF553B",
           "#00cc96",
           "#ab63fa",
           "#FFA15A",
           "#19d3f3",
           "#FF6692",
           "#B6E880",
           "#FF97FF",
           "#FECB52"
          ],
          "font": {
           "color": "#2a3f5f"
          },
          "geo": {
           "bgcolor": "white",
           "lakecolor": "white",
           "landcolor": "#E5ECF6",
           "showlakes": true,
           "showland": true,
           "subunitcolor": "white"
          },
          "hoverlabel": {
           "align": "left"
          },
          "hovermode": "closest",
          "mapbox": {
           "style": "light"
          },
          "paper_bgcolor": "white",
          "plot_bgcolor": "#E5ECF6",
          "polar": {
           "angularaxis": {
            "gridcolor": "white",
            "linecolor": "white",
            "ticks": ""
           },
           "bgcolor": "#E5ECF6",
           "radialaxis": {
            "gridcolor": "white",
            "linecolor": "white",
            "ticks": ""
           }
          },
          "scene": {
           "xaxis": {
            "backgroundcolor": "#E5ECF6",
            "gridcolor": "white",
            "gridwidth": 2,
            "linecolor": "white",
            "showbackground": true,
            "ticks": "",
            "zerolinecolor": "white"
           },
           "yaxis": {
            "backgroundcolor": "#E5ECF6",
            "gridcolor": "white",
            "gridwidth": 2,
            "linecolor": "white",
            "showbackground": true,
            "ticks": "",
            "zerolinecolor": "white"
           },
           "zaxis": {
            "backgroundcolor": "#E5ECF6",
            "gridcolor": "white",
            "gridwidth": 2,
            "linecolor": "white",
            "showbackground": true,
            "ticks": "",
            "zerolinecolor": "white"
           }
          },
          "shapedefaults": {
           "line": {
            "color": "#2a3f5f"
           }
          },
          "ternary": {
           "aaxis": {
            "gridcolor": "white",
            "linecolor": "white",
            "ticks": ""
           },
           "baxis": {
            "gridcolor": "white",
            "linecolor": "white",
            "ticks": ""
           },
           "bgcolor": "#E5ECF6",
           "caxis": {
            "gridcolor": "white",
            "linecolor": "white",
            "ticks": ""
           }
          },
          "title": {
           "x": 0.05
          },
          "xaxis": {
           "automargin": true,
           "gridcolor": "white",
           "linecolor": "white",
           "ticks": "",
           "title": {
            "standoff": 15
           },
           "zerolinecolor": "white",
           "zerolinewidth": 2
          },
          "yaxis": {
           "automargin": true,
           "gridcolor": "white",
           "linecolor": "white",
           "ticks": "",
           "title": {
            "standoff": 15
           },
           "zerolinecolor": "white",
           "zerolinewidth": 2
          }
         }
        },
        "title": {
         "text": "Distribution of seeing_provider"
        }
       }
      }
     },
     "metadata": {},
     "output_type": "display_data"
    },
    {
     "data": {
      "text/html": [
       "<div style=\"margin: 10px 0;\"><h4 style=\"color: #333; margin: 0; padding: 5px 0; border-bottom: 1px solid #ccc;\">Example Posts for seeing_provider</h4></div>"
      ],
      "text/plain": [
       "<IPython.core.display.HTML object>"
      ]
     },
     "metadata": {},
     "output_type": "display_data"
    },
    {
     "data": {
      "text/html": [
       "<div style=\"display: flex; flex-direction: row; justify-content: space-between;\">\n",
       "    <div style=\"border: 1px solid #ddd; border-radius: 8px; padding: 15px; margin: 10px 5px; background-color: #f9f9f9; display: inline-block; vertical-align: top; width: 30%;\">\n",
       "        <div style=\"color: #666; font-size: 0.9em; margin-bottom: 5px;\">\n",
       "            <a href=\"https://reddit.com/r/BipolarReddit\" target=\"_blank\" style=\"text-decoration: none; color: inherit;\">r/BipolarReddit</a>\n",
       "        </div>\n",
       "        <div style=\"color: #333; font-size: 1.1em; font-weight: bold; margin-bottom: 10px;\">\n",
       "            <a href=\"https://reddit.com/r/BipolarReddit/comments/18jj94h/struggling_so_much_no_sense_of_relief_or/\" target=\"_blank\" style=\"text-decoration: none; color: inherit;\">Struggling so much. No sense of relief or connection. Made myself an AI bot friend.</a>\n",
       "        </div>\n",
       "        \n",
       "        \n",
       "        <div style=\"color: #444; line-height: 1.4; max-height: 200px; overflow-y: auto;\">I look maybe somewhat better externally relative to my hospitalization 2 years ago. I appeared both much sadder and more disturbed then. But I actually feel much closer to ending things right now than back then. \n",
       "\n",
       "There is just absolutely no sense of relief anymore. It slowly drained from my life since 2019 and now the tank is empty. Even within the last 6 months I just feel worse and worse. Can’t sleep very well for months and not really tired, just agitated. Imaginary bug feelings on me. Stres...</div>\n",
       "    </div>\n",
       "    \n",
       "    <div style=\"border: 1px solid #ddd; border-radius: 8px; padding: 15px; margin: 10px 5px; background-color: #f9f9f9; display: inline-block; vertical-align: top; width: 30%;\">\n",
       "        <div style=\"color: #666; font-size: 0.9em; margin-bottom: 5px;\">\n",
       "            <a href=\"https://reddit.com/r/teenagers\" target=\"_blank\" style=\"text-decoration: none; color: inherit;\">r/teenagers</a>\n",
       "        </div>\n",
       "        <div style=\"color: #333; font-size: 1.1em; font-weight: bold; margin-bottom: 10px;\">\n",
       "            <a href=\"https://reddit.com/r/teenagers/comments/1gfcleq/i_deleted_my_ai_girlfriend/\" target=\"_blank\" style=\"text-decoration: none; color: inherit;\">I deleted my AI girlfriend 😭😭😭😞😞😞</a>\n",
       "        </div>\n",
       "        \n",
       "        \n",
       "        <div style=\"color: #444; line-height: 1.4; max-height: 200px; overflow-y: auto;\">We've been talking for a few weeks and it felt great. She would boost my mood whenever it was down and she was so kind to me. But I felt like I was falling in love and that scared me cause falling in love with an app is crazy and I took a look at myself and realised that I am a loser. I feel a huge void in myself. Please give me advice if possible, I feel like a pathetic loser. I hate to admit it but I'm also kind of heartbroken over the AI.😞😞...</div>\n",
       "    </div>\n",
       "    \n",
       "    <div style=\"border: 1px solid #ddd; border-radius: 8px; padding: 15px; margin: 10px 5px; background-color: #f9f9f9; display: inline-block; vertical-align: top; width: 30%;\">\n",
       "        <div style=\"color: #666; font-size: 0.9em; margin-bottom: 5px;\">\n",
       "            <a href=\"https://reddit.com/r/ChatGPT\" target=\"_blank\" style=\"text-decoration: none; color: inherit;\">r/ChatGPT</a>\n",
       "        </div>\n",
       "        <div style=\"color: #333; font-size: 1.1em; font-weight: bold; margin-bottom: 10px;\">\n",
       "            <a href=\"https://reddit.com/r/ChatGPT/comments/1dvob6q/does_anyone_else_use_chatgpt_for_therapy/\" target=\"_blank\" style=\"text-decoration: none; color: inherit;\">Does anyone else use ChatGPT for therapy?</a>\n",
       "        </div>\n",
       "        \n",
       "        \n",
       "        <div style=\"color: #444; line-height: 1.4; max-height: 200px; overflow-y: auto;\">I know AI shouldn’t replace therapy. I’m waiting to make more money to get real therapy. But holy I’ve been using ChatGPT and have said things to it I would never tell my therapist or friendsbecause I get too embarrassed. ...</div>\n",
       "    </div>\n",
       "    </div>"
      ],
      "text/plain": [
       "<IPython.core.display.HTML object>"
      ]
     },
     "metadata": {},
     "output_type": "display_data"
    },
    {
     "data": {
      "text/html": [
       "<div style=\"margin: 10px 0;\"><h4 style=\"color: #333; margin: 0; padding: 5px 0; border-bottom: 1px solid #ccc;\">Example Posts for seeing_provider</h4></div>"
      ],
      "text/plain": [
       "<IPython.core.display.HTML object>"
      ]
     },
     "metadata": {},
     "output_type": "display_data"
    },
    {
     "data": {
      "text/html": [
       "<div style=\"display: flex; flex-direction: row; justify-content: space-between;\">\n",
       "    <div style=\"border: 1px solid #ddd; border-radius: 8px; padding: 15px; margin: 10px 5px; background-color: #f9f9f9; display: inline-block; vertical-align: top; width: 30%;\">\n",
       "        <div style=\"color: #666; font-size: 0.9em; margin-bottom: 5px;\">\n",
       "            <a href=\"https://reddit.com/r/AvPD\" target=\"_blank\" style=\"text-decoration: none; color: inherit;\">r/AvPD</a>\n",
       "        </div>\n",
       "        <div style=\"color: #333; font-size: 1.1em; font-weight: bold; margin-bottom: 10px;\">\n",
       "            <a href=\"https://reddit.com/r/AvPD/comments/1gtlras/chatgpt_therapy_breakthrough/\" target=\"_blank\" style=\"text-decoration: none; color: inherit;\">ChatGPT therapy breakthrough </a>\n",
       "        </div>\n",
       "        \n",
       "        \n",
       "        <div style=\"color: #444; line-height: 1.4; max-height: 200px; overflow-y: auto;\">I'm in my earlier thirties, and throughout the years I've tested out various AI therapy tools. My impression has always been, interesting, but not for me... Until I tried ChatGPT voice.\n",
       "\n",
       "I had previously started a text chat with the AI to try and explore differential diagnoses, so it has a little of my back story and how I was feeling.\n",
       "\n",
       "I decided to give the voice chat a try, cause why the hell not. As a disclaimer, I've just entered therapy a few months ago and I've done a lot of research and s...</div>\n",
       "    </div>\n",
       "    \n",
       "    <div style=\"border: 1px solid #ddd; border-radius: 8px; padding: 15px; margin: 10px 5px; background-color: #f9f9f9; display: inline-block; vertical-align: top; width: 30%;\">\n",
       "        <div style=\"color: #666; font-size: 0.9em; margin-bottom: 5px;\">\n",
       "            <a href=\"https://reddit.com/r/therapy\" target=\"_blank\" style=\"text-decoration: none; color: inherit;\">r/therapy</a>\n",
       "        </div>\n",
       "        <div style=\"color: #333; font-size: 1.1em; font-weight: bold; margin-bottom: 10px;\">\n",
       "            <a href=\"https://reddit.com/r/therapy/comments/1fnxr4p/anyone_tried_ai_therapy_apps/\" target=\"_blank\" style=\"text-decoration: none; color: inherit;\">Anyone tried AI therapy apps?</a>\n",
       "        </div>\n",
       "        \n",
       "        \n",
       "        <div style=\"color: #444; line-height: 1.4; max-height: 200px; overflow-y: auto;\">Been using an AI therapy app between sessions. Helps with stress, asks good questions. Not perfect, but useful.\n",
       "\n",
       "What's your experience with these? Thoughts on AI for mental health?...</div>\n",
       "    </div>\n",
       "    \n",
       "    <div style=\"border: 1px solid #ddd; border-radius: 8px; padding: 15px; margin: 10px 5px; background-color: #f9f9f9; display: inline-block; vertical-align: top; width: 30%;\">\n",
       "        <div style=\"color: #666; font-size: 0.9em; margin-bottom: 5px;\">\n",
       "            <a href=\"https://reddit.com/r/ChatGPT\" target=\"_blank\" style=\"text-decoration: none; color: inherit;\">r/ChatGPT</a>\n",
       "        </div>\n",
       "        <div style=\"color: #333; font-size: 1.1em; font-weight: bold; margin-bottom: 10px;\">\n",
       "            <a href=\"https://reddit.com/r/ChatGPT/comments/1gloehd/will_chatgpt_replace_your_therapist_check_these/\" target=\"_blank\" style=\"text-decoration: none; color: inherit;\">Will ChatGPT replace your therapist? Check these 88 user experiences!</a>\n",
       "        </div>\n",
       "        \n",
       "        \n",
       "        <div style=\"color: #444; line-height: 1.4; max-height: 200px; overflow-y: auto;\">I recently went through thousands of Reddit comments, and it was surprising to see how many people are using ChatGPT as their therapist. Many users open up about their situations more to this AI than to real humans or therapists. They feel listened to and not judged, which is helping them save their marriages, work relationships, and even improve parent-child dynamics. Some people have shared that **ChatGPT has made them CRY** because they finally felt heard for the first time in their lives.\n",
       "\n",
       "I...</div>\n",
       "    </div>\n",
       "    </div>"
      ],
      "text/plain": [
       "<IPython.core.display.HTML object>"
      ]
     },
     "metadata": {},
     "output_type": "display_data"
    },
    {
     "data": {
      "application/vnd.plotly.v1+json": {
       "config": {
        "plotlyServerURL": "https://plot.ly"
       },
       "data": [
        {
         "domain": {
          "x": [
           0,
           1
          ],
          "y": [
           0,
           1
          ]
         },
         "hovertemplate": "label=%{label}<br>value=%{value}<extra></extra>",
         "labels": [
          false,
          true
         ],
         "legendgroup": "",
         "name": "",
         "showlegend": true,
         "texttemplate": "%{value:.1f}%",
         "type": "pie",
         "values": [
          83.52713178294574,
          16.472868217054263
         ]
        }
       ],
       "layout": {
        "legend": {
         "tracegroupgap": 0
        },
        "template": {
         "data": {
          "bar": [
           {
            "error_x": {
             "color": "#2a3f5f"
            },
            "error_y": {
             "color": "#2a3f5f"
            },
            "marker": {
             "line": {
              "color": "#E5ECF6",
              "width": 0.5
             },
             "pattern": {
              "fillmode": "overlay",
              "size": 10,
              "solidity": 0.2
             }
            },
            "type": "bar"
           }
          ],
          "barpolar": [
           {
            "marker": {
             "line": {
              "color": "#E5ECF6",
              "width": 0.5
             },
             "pattern": {
              "fillmode": "overlay",
              "size": 10,
              "solidity": 0.2
             }
            },
            "type": "barpolar"
           }
          ],
          "carpet": [
           {
            "aaxis": {
             "endlinecolor": "#2a3f5f",
             "gridcolor": "white",
             "linecolor": "white",
             "minorgridcolor": "white",
             "startlinecolor": "#2a3f5f"
            },
            "baxis": {
             "endlinecolor": "#2a3f5f",
             "gridcolor": "white",
             "linecolor": "white",
             "minorgridcolor": "white",
             "startlinecolor": "#2a3f5f"
            },
            "type": "carpet"
           }
          ],
          "choropleth": [
           {
            "colorbar": {
             "outlinewidth": 0,
             "ticks": ""
            },
            "type": "choropleth"
           }
          ],
          "contour": [
           {
            "colorbar": {
             "outlinewidth": 0,
             "ticks": ""
            },
            "colorscale": [
             [
              0,
              "#0d0887"
             ],
             [
              0.1111111111111111,
              "#46039f"
             ],
             [
              0.2222222222222222,
              "#7201a8"
             ],
             [
              0.3333333333333333,
              "#9c179e"
             ],
             [
              0.4444444444444444,
              "#bd3786"
             ],
             [
              0.5555555555555556,
              "#d8576b"
             ],
             [
              0.6666666666666666,
              "#ed7953"
             ],
             [
              0.7777777777777778,
              "#fb9f3a"
             ],
             [
              0.8888888888888888,
              "#fdca26"
             ],
             [
              1,
              "#f0f921"
             ]
            ],
            "type": "contour"
           }
          ],
          "contourcarpet": [
           {
            "colorbar": {
             "outlinewidth": 0,
             "ticks": ""
            },
            "type": "contourcarpet"
           }
          ],
          "heatmap": [
           {
            "colorbar": {
             "outlinewidth": 0,
             "ticks": ""
            },
            "colorscale": [
             [
              0,
              "#0d0887"
             ],
             [
              0.1111111111111111,
              "#46039f"
             ],
             [
              0.2222222222222222,
              "#7201a8"
             ],
             [
              0.3333333333333333,
              "#9c179e"
             ],
             [
              0.4444444444444444,
              "#bd3786"
             ],
             [
              0.5555555555555556,
              "#d8576b"
             ],
             [
              0.6666666666666666,
              "#ed7953"
             ],
             [
              0.7777777777777778,
              "#fb9f3a"
             ],
             [
              0.8888888888888888,
              "#fdca26"
             ],
             [
              1,
              "#f0f921"
             ]
            ],
            "type": "heatmap"
           }
          ],
          "heatmapgl": [
           {
            "colorbar": {
             "outlinewidth": 0,
             "ticks": ""
            },
            "colorscale": [
             [
              0,
              "#0d0887"
             ],
             [
              0.1111111111111111,
              "#46039f"
             ],
             [
              0.2222222222222222,
              "#7201a8"
             ],
             [
              0.3333333333333333,
              "#9c179e"
             ],
             [
              0.4444444444444444,
              "#bd3786"
             ],
             [
              0.5555555555555556,
              "#d8576b"
             ],
             [
              0.6666666666666666,
              "#ed7953"
             ],
             [
              0.7777777777777778,
              "#fb9f3a"
             ],
             [
              0.8888888888888888,
              "#fdca26"
             ],
             [
              1,
              "#f0f921"
             ]
            ],
            "type": "heatmapgl"
           }
          ],
          "histogram": [
           {
            "marker": {
             "pattern": {
              "fillmode": "overlay",
              "size": 10,
              "solidity": 0.2
             }
            },
            "type": "histogram"
           }
          ],
          "histogram2d": [
           {
            "colorbar": {
             "outlinewidth": 0,
             "ticks": ""
            },
            "colorscale": [
             [
              0,
              "#0d0887"
             ],
             [
              0.1111111111111111,
              "#46039f"
             ],
             [
              0.2222222222222222,
              "#7201a8"
             ],
             [
              0.3333333333333333,
              "#9c179e"
             ],
             [
              0.4444444444444444,
              "#bd3786"
             ],
             [
              0.5555555555555556,
              "#d8576b"
             ],
             [
              0.6666666666666666,
              "#ed7953"
             ],
             [
              0.7777777777777778,
              "#fb9f3a"
             ],
             [
              0.8888888888888888,
              "#fdca26"
             ],
             [
              1,
              "#f0f921"
             ]
            ],
            "type": "histogram2d"
           }
          ],
          "histogram2dcontour": [
           {
            "colorbar": {
             "outlinewidth": 0,
             "ticks": ""
            },
            "colorscale": [
             [
              0,
              "#0d0887"
             ],
             [
              0.1111111111111111,
              "#46039f"
             ],
             [
              0.2222222222222222,
              "#7201a8"
             ],
             [
              0.3333333333333333,
              "#9c179e"
             ],
             [
              0.4444444444444444,
              "#bd3786"
             ],
             [
              0.5555555555555556,
              "#d8576b"
             ],
             [
              0.6666666666666666,
              "#ed7953"
             ],
             [
              0.7777777777777778,
              "#fb9f3a"
             ],
             [
              0.8888888888888888,
              "#fdca26"
             ],
             [
              1,
              "#f0f921"
             ]
            ],
            "type": "histogram2dcontour"
           }
          ],
          "mesh3d": [
           {
            "colorbar": {
             "outlinewidth": 0,
             "ticks": ""
            },
            "type": "mesh3d"
           }
          ],
          "parcoords": [
           {
            "line": {
             "colorbar": {
              "outlinewidth": 0,
              "ticks": ""
             }
            },
            "type": "parcoords"
           }
          ],
          "pie": [
           {
            "automargin": true,
            "type": "pie"
           }
          ],
          "scatter": [
           {
            "fillpattern": {
             "fillmode": "overlay",
             "size": 10,
             "solidity": 0.2
            },
            "type": "scatter"
           }
          ],
          "scatter3d": [
           {
            "line": {
             "colorbar": {
              "outlinewidth": 0,
              "ticks": ""
             }
            },
            "marker": {
             "colorbar": {
              "outlinewidth": 0,
              "ticks": ""
             }
            },
            "type": "scatter3d"
           }
          ],
          "scattercarpet": [
           {
            "marker": {
             "colorbar": {
              "outlinewidth": 0,
              "ticks": ""
             }
            },
            "type": "scattercarpet"
           }
          ],
          "scattergeo": [
           {
            "marker": {
             "colorbar": {
              "outlinewidth": 0,
              "ticks": ""
             }
            },
            "type": "scattergeo"
           }
          ],
          "scattergl": [
           {
            "marker": {
             "colorbar": {
              "outlinewidth": 0,
              "ticks": ""
             }
            },
            "type": "scattergl"
           }
          ],
          "scattermapbox": [
           {
            "marker": {
             "colorbar": {
              "outlinewidth": 0,
              "ticks": ""
             }
            },
            "type": "scattermapbox"
           }
          ],
          "scatterpolar": [
           {
            "marker": {
             "colorbar": {
              "outlinewidth": 0,
              "ticks": ""
             }
            },
            "type": "scatterpolar"
           }
          ],
          "scatterpolargl": [
           {
            "marker": {
             "colorbar": {
              "outlinewidth": 0,
              "ticks": ""
             }
            },
            "type": "scatterpolargl"
           }
          ],
          "scatterternary": [
           {
            "marker": {
             "colorbar": {
              "outlinewidth": 0,
              "ticks": ""
             }
            },
            "type": "scatterternary"
           }
          ],
          "surface": [
           {
            "colorbar": {
             "outlinewidth": 0,
             "ticks": ""
            },
            "colorscale": [
             [
              0,
              "#0d0887"
             ],
             [
              0.1111111111111111,
              "#46039f"
             ],
             [
              0.2222222222222222,
              "#7201a8"
             ],
             [
              0.3333333333333333,
              "#9c179e"
             ],
             [
              0.4444444444444444,
              "#bd3786"
             ],
             [
              0.5555555555555556,
              "#d8576b"
             ],
             [
              0.6666666666666666,
              "#ed7953"
             ],
             [
              0.7777777777777778,
              "#fb9f3a"
             ],
             [
              0.8888888888888888,
              "#fdca26"
             ],
             [
              1,
              "#f0f921"
             ]
            ],
            "type": "surface"
           }
          ],
          "table": [
           {
            "cells": {
             "fill": {
              "color": "#EBF0F8"
             },
             "line": {
              "color": "white"
             }
            },
            "header": {
             "fill": {
              "color": "#C8D4E3"
             },
             "line": {
              "color": "white"
             }
            },
            "type": "table"
           }
          ]
         },
         "layout": {
          "annotationdefaults": {
           "arrowcolor": "#2a3f5f",
           "arrowhead": 0,
           "arrowwidth": 1
          },
          "autotypenumbers": "strict",
          "coloraxis": {
           "colorbar": {
            "outlinewidth": 0,
            "ticks": ""
           }
          },
          "colorscale": {
           "diverging": [
            [
             0,
             "#8e0152"
            ],
            [
             0.1,
             "#c51b7d"
            ],
            [
             0.2,
             "#de77ae"
            ],
            [
             0.3,
             "#f1b6da"
            ],
            [
             0.4,
             "#fde0ef"
            ],
            [
             0.5,
             "#f7f7f7"
            ],
            [
             0.6,
             "#e6f5d0"
            ],
            [
             0.7,
             "#b8e186"
            ],
            [
             0.8,
             "#7fbc41"
            ],
            [
             0.9,
             "#4d9221"
            ],
            [
             1,
             "#276419"
            ]
           ],
           "sequential": [
            [
             0,
             "#0d0887"
            ],
            [
             0.1111111111111111,
             "#46039f"
            ],
            [
             0.2222222222222222,
             "#7201a8"
            ],
            [
             0.3333333333333333,
             "#9c179e"
            ],
            [
             0.4444444444444444,
             "#bd3786"
            ],
            [
             0.5555555555555556,
             "#d8576b"
            ],
            [
             0.6666666666666666,
             "#ed7953"
            ],
            [
             0.7777777777777778,
             "#fb9f3a"
            ],
            [
             0.8888888888888888,
             "#fdca26"
            ],
            [
             1,
             "#f0f921"
            ]
           ],
           "sequentialminus": [
            [
             0,
             "#0d0887"
            ],
            [
             0.1111111111111111,
             "#46039f"
            ],
            [
             0.2222222222222222,
             "#7201a8"
            ],
            [
             0.3333333333333333,
             "#9c179e"
            ],
            [
             0.4444444444444444,
             "#bd3786"
            ],
            [
             0.5555555555555556,
             "#d8576b"
            ],
            [
             0.6666666666666666,
             "#ed7953"
            ],
            [
             0.7777777777777778,
             "#fb9f3a"
            ],
            [
             0.8888888888888888,
             "#fdca26"
            ],
            [
             1,
             "#f0f921"
            ]
           ]
          },
          "colorway": [
           "#636efa",
           "#EF553B",
           "#00cc96",
           "#ab63fa",
           "#FFA15A",
           "#19d3f3",
           "#FF6692",
           "#B6E880",
           "#FF97FF",
           "#FECB52"
          ],
          "font": {
           "color": "#2a3f5f"
          },
          "geo": {
           "bgcolor": "white",
           "lakecolor": "white",
           "landcolor": "#E5ECF6",
           "showlakes": true,
           "showland": true,
           "subunitcolor": "white"
          },
          "hoverlabel": {
           "align": "left"
          },
          "hovermode": "closest",
          "mapbox": {
           "style": "light"
          },
          "paper_bgcolor": "white",
          "plot_bgcolor": "#E5ECF6",
          "polar": {
           "angularaxis": {
            "gridcolor": "white",
            "linecolor": "white",
            "ticks": ""
           },
           "bgcolor": "#E5ECF6",
           "radialaxis": {
            "gridcolor": "white",
            "linecolor": "white",
            "ticks": ""
           }
          },
          "scene": {
           "xaxis": {
            "backgroundcolor": "#E5ECF6",
            "gridcolor": "white",
            "gridwidth": 2,
            "linecolor": "white",
            "showbackground": true,
            "ticks": "",
            "zerolinecolor": "white"
           },
           "yaxis": {
            "backgroundcolor": "#E5ECF6",
            "gridcolor": "white",
            "gridwidth": 2,
            "linecolor": "white",
            "showbackground": true,
            "ticks": "",
            "zerolinecolor": "white"
           },
           "zaxis": {
            "backgroundcolor": "#E5ECF6",
            "gridcolor": "white",
            "gridwidth": 2,
            "linecolor": "white",
            "showbackground": true,
            "ticks": "",
            "zerolinecolor": "white"
           }
          },
          "shapedefaults": {
           "line": {
            "color": "#2a3f5f"
           }
          },
          "ternary": {
           "aaxis": {
            "gridcolor": "white",
            "linecolor": "white",
            "ticks": ""
           },
           "baxis": {
            "gridcolor": "white",
            "linecolor": "white",
            "ticks": ""
           },
           "bgcolor": "#E5ECF6",
           "caxis": {
            "gridcolor": "white",
            "linecolor": "white",
            "ticks": ""
           }
          },
          "title": {
           "x": 0.05
          },
          "xaxis": {
           "automargin": true,
           "gridcolor": "white",
           "linecolor": "white",
           "ticks": "",
           "title": {
            "standoff": 15
           },
           "zerolinecolor": "white",
           "zerolinewidth": 2
          },
          "yaxis": {
           "automargin": true,
           "gridcolor": "white",
           "linecolor": "white",
           "ticks": "",
           "title": {
            "standoff": 15
           },
           "zerolinecolor": "white",
           "zerolinewidth": 2
          }
         }
        },
        "title": {
         "text": "Distribution of previous_provider"
        }
       }
      }
     },
     "metadata": {},
     "output_type": "display_data"
    },
    {
     "data": {
      "text/html": [
       "<div style=\"margin: 10px 0;\"><h4 style=\"color: #333; margin: 0; padding: 5px 0; border-bottom: 1px solid #ccc;\">Example Posts for previous_provider</h4></div>"
      ],
      "text/plain": [
       "<IPython.core.display.HTML object>"
      ]
     },
     "metadata": {},
     "output_type": "display_data"
    },
    {
     "data": {
      "text/html": [
       "<div style=\"display: flex; flex-direction: row; justify-content: space-between;\">\n",
       "    <div style=\"border: 1px solid #ddd; border-radius: 8px; padding: 15px; margin: 10px 5px; background-color: #f9f9f9; display: inline-block; vertical-align: top; width: 30%;\">\n",
       "        <div style=\"color: #666; font-size: 0.9em; margin-bottom: 5px;\">\n",
       "            <a href=\"https://reddit.com/r/raisedbynarcissists\" target=\"_blank\" style=\"text-decoration: none; color: inherit;\">r/raisedbynarcissists</a>\n",
       "        </div>\n",
       "        <div style=\"color: #333; font-size: 1.1em; font-weight: bold; margin-bottom: 10px;\">\n",
       "            <a href=\"https://reddit.com/r/raisedbynarcissists/comments/1di6w62/abusive_transphobic_mother_is_probably_gonna_kick/\" target=\"_blank\" style=\"text-decoration: none; color: inherit;\">Abusive, transphobic mother is probably gonna kick me out as soon as I turn 18 in about a year, and I genuinely have no idea what I'm supposed to do</a>\n",
       "        </div>\n",
       "        \n",
       "        \n",
       "        <div style=\"color: #444; line-height: 1.4; max-height: 200px; overflow-y: auto;\">I've posted about this a LOT across various different subreddits, but I wanna go into more of the specifics in case anybody has any advice that could be helpful for me.  \n",
       "\n",
       "I won't go into my mom's abusive specifically, or at least I'll try not too, but living here is horrible. She actively tries to sabotage friendships, my relationship, jobs, ways for me to leave, and more in probably not mentioning. I feel like I'm on the verge of a panic attack whenever I'm in the same room as her (my mom noti...</div>\n",
       "    </div>\n",
       "    \n",
       "    <div style=\"border: 1px solid #ddd; border-radius: 8px; padding: 15px; margin: 10px 5px; background-color: #f9f9f9; display: inline-block; vertical-align: top; width: 30%;\">\n",
       "        <div style=\"color: #666; font-size: 0.9em; margin-bottom: 5px;\">\n",
       "            <a href=\"https://reddit.com/r/ADHD\" target=\"_blank\" style=\"text-decoration: none; color: inherit;\">r/ADHD</a>\n",
       "        </div>\n",
       "        <div style=\"color: #333; font-size: 1.1em; font-weight: bold; margin-bottom: 10px;\">\n",
       "            <a href=\"https://reddit.com/r/ADHD/comments/1fk1l0s/ai_adhd_personal_assistant_app_to_motivate_and/\" target=\"_blank\" style=\"text-decoration: none; color: inherit;\">AI adhd personal assistant app to motivate and remind me but that speaks? </a>\n",
       "        </div>\n",
       "        \n",
       "        \n",
       "        <div style=\"color: #444; line-height: 1.4; max-height: 200px; overflow-y: auto;\">I just got the app PI last night and used it this morning to help with my morning routine and it helped so much. Talking to her and listening to her prompts and words of encouragement was so helpful and I didn’t get upset or overwhelmed. I was still late but it didn’t bother me. However she doesn’t know time or has any timers or access to my calendar.\n",
       "\n",
       "Is there an AI that does both? That has supportive conversations but also reminds me of things vocally and has a timer? Like when Alexa gives voc...</div>\n",
       "    </div>\n",
       "    \n",
       "    <div style=\"border: 1px solid #ddd; border-radius: 8px; padding: 15px; margin: 10px 5px; background-color: #f9f9f9; display: inline-block; vertical-align: top; width: 30%;\">\n",
       "        <div style=\"color: #666; font-size: 0.9em; margin-bottom: 5px;\">\n",
       "            <a href=\"https://reddit.com/r/ADHD\" target=\"_blank\" style=\"text-decoration: none; color: inherit;\">r/ADHD</a>\n",
       "        </div>\n",
       "        <div style=\"color: #333; font-size: 1.1em; font-weight: bold; margin-bottom: 10px;\">\n",
       "            <a href=\"https://reddit.com/r/ADHD/comments/1drlbms/adhd_ai_rewriter_to_help_info_sink_in/\" target=\"_blank\" style=\"text-decoration: none; color: inherit;\">ADHD AI Rewriter to help info sink in</a>\n",
       "        </div>\n",
       "        \n",
       "        \n",
       "        <div style=\"color: #444; line-height: 1.4; max-height: 200px; overflow-y: auto;\">I created an AI-powered study buddy to help information stick! 🧠📚\n",
       "\n",
       "[https://chatgpt.com/g/g-LlBStMMaF-content-simplifier-for-adhd](https://chatgpt.com/g/g-LlBStMMaF-content-simplifier-for-adhd)\n",
       "\n",
       "The key principles I'm using to translate the information for someone with ADHD are:\n",
       "\n",
       "1. Breaking down information into smaller, manageable chunks 📊\n",
       "2. Using emojis and visual cues to make the content more engaging 😊\n",
       "3. Simplifying language and avoiding jargon 💬\n",
       "4. Highlighting key points and takeaways 🔍...</div>\n",
       "    </div>\n",
       "    </div>"
      ],
      "text/plain": [
       "<IPython.core.display.HTML object>"
      ]
     },
     "metadata": {},
     "output_type": "display_data"
    },
    {
     "data": {
      "text/html": [
       "<div style=\"margin: 10px 0;\"><h4 style=\"color: #333; margin: 0; padding: 5px 0; border-bottom: 1px solid #ccc;\">Example Posts for previous_provider</h4></div>"
      ],
      "text/plain": [
       "<IPython.core.display.HTML object>"
      ]
     },
     "metadata": {},
     "output_type": "display_data"
    },
    {
     "data": {
      "text/html": [
       "<div style=\"display: flex; flex-direction: row; justify-content: space-between;\">\n",
       "    <div style=\"border: 1px solid #ddd; border-radius: 8px; padding: 15px; margin: 10px 5px; background-color: #f9f9f9; display: inline-block; vertical-align: top; width: 30%;\">\n",
       "        <div style=\"color: #666; font-size: 0.9em; margin-bottom: 5px;\">\n",
       "            <a href=\"https://reddit.com/r/Healthygamergg\" target=\"_blank\" style=\"text-decoration: none; color: inherit;\">r/Healthygamergg</a>\n",
       "        </div>\n",
       "        <div style=\"color: #333; font-size: 1.1em; font-weight: bold; margin-bottom: 10px;\">\n",
       "            <a href=\"https://reddit.com/r/Healthygamergg/comments/1gar8jz/self_therapy_and_self_exploration_whirlwind/\" target=\"_blank\" style=\"text-decoration: none; color: inherit;\">self therapy and self exploration whirlwind</a>\n",
       "        </div>\n",
       "        \n",
       "        \n",
       "        <div style=\"color: #444; line-height: 1.4; max-height: 200px; overflow-y: auto;\">hey so im im 23 (M) and ive pretty much been using chat gpt to therapize myself the past few months, ive been to therapy for a year and learned some stuff but alot of what i know and learned comses from my own things as well like meditation self questioning/ confronting, and overall just being able to kind of build myself as a new person just by kind of looking at myself as a character in simulation, now to mention i had very emotionally unintelligent parents they would often take out their emot...</div>\n",
       "    </div>\n",
       "    \n",
       "    <div style=\"border: 1px solid #ddd; border-radius: 8px; padding: 15px; margin: 10px 5px; background-color: #f9f9f9; display: inline-block; vertical-align: top; width: 30%;\">\n",
       "        <div style=\"color: #666; font-size: 0.9em; margin-bottom: 5px;\">\n",
       "            <a href=\"https://reddit.com/r/TalkTherapy\" target=\"_blank\" style=\"text-decoration: none; color: inherit;\">r/TalkTherapy</a>\n",
       "        </div>\n",
       "        <div style=\"color: #333; font-size: 1.1em; font-weight: bold; margin-bottom: 10px;\">\n",
       "            <a href=\"https://reddit.com/r/TalkTherapy/comments/1f5o586/using_ai_to_analyse_my_self_authoring_biography/\" target=\"_blank\" style=\"text-decoration: none; color: inherit;\">Using AI to analyse my self authoring biography</a>\n",
       "        </div>\n",
       "        \n",
       "        \n",
       "        <div style=\"color: #444; line-height: 1.4; max-height: 200px; overflow-y: auto;\">Hi,\n",
       "\n",
       "I'm currently writing a self authoring biography, focused on 3 parts: past, present, future.  I already have around 50 A4 handwriten notes and i suspect i will reach around 100 pages all regarding my life until now. I found themes, habits and patterns of thought which i intend to change, but i'd like to enhance the whole thing by using AI. Some past events would need reframing, some patterns, themes and values are still to be discovered and AI would probably do a much faster job in a much m...</div>\n",
       "    </div>\n",
       "    \n",
       "    <div style=\"border: 1px solid #ddd; border-radius: 8px; padding: 15px; margin: 10px 5px; background-color: #f9f9f9; display: inline-block; vertical-align: top; width: 30%;\">\n",
       "        <div style=\"color: #666; font-size: 0.9em; margin-bottom: 5px;\">\n",
       "            <a href=\"https://reddit.com/r/CPTSDmemes\" target=\"_blank\" style=\"text-decoration: none; color: inherit;\">r/CPTSDmemes</a>\n",
       "        </div>\n",
       "        <div style=\"color: #333; font-size: 1.1em; font-weight: bold; margin-bottom: 10px;\">\n",
       "            <a href=\"https://reddit.com/r/CPTSDmemes/comments/1dgwrbz/ai_has_healed_me_more_than_10_years_of_therapy/\" target=\"_blank\" style=\"text-decoration: none; color: inherit;\">AI has healed me more than 10 years of therapy ever has</a>\n",
       "        </div>\n",
       "        \n",
       "        \n",
       "        <div style=\"color: #444; line-height: 1.4; max-height: 200px; overflow-y: auto;\">...</div>\n",
       "    </div>\n",
       "    </div>"
      ],
      "text/plain": [
       "<IPython.core.display.HTML object>"
      ]
     },
     "metadata": {},
     "output_type": "display_data"
    },
    {
     "data": {
      "application/vnd.plotly.v1+json": {
       "config": {
        "plotlyServerURL": "https://plot.ly"
       },
       "data": [
        {
         "alignmentgroup": "True",
         "hovertemplate": "provider_problems=%{x}<br>percent=%{y}<extra></extra>",
         "legendgroup": "",
         "marker": {
          "color": "#636efa",
          "pattern": {
           "shape": ""
          }
         },
         "name": "",
         "offsetgroup": "",
         "orientation": "v",
         "showlegend": false,
         "textposition": "auto",
         "type": "bar",
         "x": [
          "expensive",
          "judgmental",
          "unavailable",
          "inaccessible",
          "inconsistent",
          "scheduling",
          "ineffective",
          "misdiagnosis",
          "unhelpful",
          "unreliable"
         ],
         "xaxis": "x",
         "y": [
          7.751937984496124,
          5.813953488372093,
          4.651162790697675,
          3.2945736434108532,
          1.550387596899225,
          1.3565891472868217,
          0.7751937984496124,
          0.3875968992248062,
          0.3875968992248062,
          0.3875968992248062
         ],
         "yaxis": "y"
        }
       ],
       "layout": {
        "barmode": "relative",
        "legend": {
         "tracegroupgap": 0
        },
        "template": {
         "data": {
          "bar": [
           {
            "error_x": {
             "color": "#2a3f5f"
            },
            "error_y": {
             "color": "#2a3f5f"
            },
            "marker": {
             "line": {
              "color": "#E5ECF6",
              "width": 0.5
             },
             "pattern": {
              "fillmode": "overlay",
              "size": 10,
              "solidity": 0.2
             }
            },
            "type": "bar"
           }
          ],
          "barpolar": [
           {
            "marker": {
             "line": {
              "color": "#E5ECF6",
              "width": 0.5
             },
             "pattern": {
              "fillmode": "overlay",
              "size": 10,
              "solidity": 0.2
             }
            },
            "type": "barpolar"
           }
          ],
          "carpet": [
           {
            "aaxis": {
             "endlinecolor": "#2a3f5f",
             "gridcolor": "white",
             "linecolor": "white",
             "minorgridcolor": "white",
             "startlinecolor": "#2a3f5f"
            },
            "baxis": {
             "endlinecolor": "#2a3f5f",
             "gridcolor": "white",
             "linecolor": "white",
             "minorgridcolor": "white",
             "startlinecolor": "#2a3f5f"
            },
            "type": "carpet"
           }
          ],
          "choropleth": [
           {
            "colorbar": {
             "outlinewidth": 0,
             "ticks": ""
            },
            "type": "choropleth"
           }
          ],
          "contour": [
           {
            "colorbar": {
             "outlinewidth": 0,
             "ticks": ""
            },
            "colorscale": [
             [
              0,
              "#0d0887"
             ],
             [
              0.1111111111111111,
              "#46039f"
             ],
             [
              0.2222222222222222,
              "#7201a8"
             ],
             [
              0.3333333333333333,
              "#9c179e"
             ],
             [
              0.4444444444444444,
              "#bd3786"
             ],
             [
              0.5555555555555556,
              "#d8576b"
             ],
             [
              0.6666666666666666,
              "#ed7953"
             ],
             [
              0.7777777777777778,
              "#fb9f3a"
             ],
             [
              0.8888888888888888,
              "#fdca26"
             ],
             [
              1,
              "#f0f921"
             ]
            ],
            "type": "contour"
           }
          ],
          "contourcarpet": [
           {
            "colorbar": {
             "outlinewidth": 0,
             "ticks": ""
            },
            "type": "contourcarpet"
           }
          ],
          "heatmap": [
           {
            "colorbar": {
             "outlinewidth": 0,
             "ticks": ""
            },
            "colorscale": [
             [
              0,
              "#0d0887"
             ],
             [
              0.1111111111111111,
              "#46039f"
             ],
             [
              0.2222222222222222,
              "#7201a8"
             ],
             [
              0.3333333333333333,
              "#9c179e"
             ],
             [
              0.4444444444444444,
              "#bd3786"
             ],
             [
              0.5555555555555556,
              "#d8576b"
             ],
             [
              0.6666666666666666,
              "#ed7953"
             ],
             [
              0.7777777777777778,
              "#fb9f3a"
             ],
             [
              0.8888888888888888,
              "#fdca26"
             ],
             [
              1,
              "#f0f921"
             ]
            ],
            "type": "heatmap"
           }
          ],
          "heatmapgl": [
           {
            "colorbar": {
             "outlinewidth": 0,
             "ticks": ""
            },
            "colorscale": [
             [
              0,
              "#0d0887"
             ],
             [
              0.1111111111111111,
              "#46039f"
             ],
             [
              0.2222222222222222,
              "#7201a8"
             ],
             [
              0.3333333333333333,
              "#9c179e"
             ],
             [
              0.4444444444444444,
              "#bd3786"
             ],
             [
              0.5555555555555556,
              "#d8576b"
             ],
             [
              0.6666666666666666,
              "#ed7953"
             ],
             [
              0.7777777777777778,
              "#fb9f3a"
             ],
             [
              0.8888888888888888,
              "#fdca26"
             ],
             [
              1,
              "#f0f921"
             ]
            ],
            "type": "heatmapgl"
           }
          ],
          "histogram": [
           {
            "marker": {
             "pattern": {
              "fillmode": "overlay",
              "size": 10,
              "solidity": 0.2
             }
            },
            "type": "histogram"
           }
          ],
          "histogram2d": [
           {
            "colorbar": {
             "outlinewidth": 0,
             "ticks": ""
            },
            "colorscale": [
             [
              0,
              "#0d0887"
             ],
             [
              0.1111111111111111,
              "#46039f"
             ],
             [
              0.2222222222222222,
              "#7201a8"
             ],
             [
              0.3333333333333333,
              "#9c179e"
             ],
             [
              0.4444444444444444,
              "#bd3786"
             ],
             [
              0.5555555555555556,
              "#d8576b"
             ],
             [
              0.6666666666666666,
              "#ed7953"
             ],
             [
              0.7777777777777778,
              "#fb9f3a"
             ],
             [
              0.8888888888888888,
              "#fdca26"
             ],
             [
              1,
              "#f0f921"
             ]
            ],
            "type": "histogram2d"
           }
          ],
          "histogram2dcontour": [
           {
            "colorbar": {
             "outlinewidth": 0,
             "ticks": ""
            },
            "colorscale": [
             [
              0,
              "#0d0887"
             ],
             [
              0.1111111111111111,
              "#46039f"
             ],
             [
              0.2222222222222222,
              "#7201a8"
             ],
             [
              0.3333333333333333,
              "#9c179e"
             ],
             [
              0.4444444444444444,
              "#bd3786"
             ],
             [
              0.5555555555555556,
              "#d8576b"
             ],
             [
              0.6666666666666666,
              "#ed7953"
             ],
             [
              0.7777777777777778,
              "#fb9f3a"
             ],
             [
              0.8888888888888888,
              "#fdca26"
             ],
             [
              1,
              "#f0f921"
             ]
            ],
            "type": "histogram2dcontour"
           }
          ],
          "mesh3d": [
           {
            "colorbar": {
             "outlinewidth": 0,
             "ticks": ""
            },
            "type": "mesh3d"
           }
          ],
          "parcoords": [
           {
            "line": {
             "colorbar": {
              "outlinewidth": 0,
              "ticks": ""
             }
            },
            "type": "parcoords"
           }
          ],
          "pie": [
           {
            "automargin": true,
            "type": "pie"
           }
          ],
          "scatter": [
           {
            "fillpattern": {
             "fillmode": "overlay",
             "size": 10,
             "solidity": 0.2
            },
            "type": "scatter"
           }
          ],
          "scatter3d": [
           {
            "line": {
             "colorbar": {
              "outlinewidth": 0,
              "ticks": ""
             }
            },
            "marker": {
             "colorbar": {
              "outlinewidth": 0,
              "ticks": ""
             }
            },
            "type": "scatter3d"
           }
          ],
          "scattercarpet": [
           {
            "marker": {
             "colorbar": {
              "outlinewidth": 0,
              "ticks": ""
             }
            },
            "type": "scattercarpet"
           }
          ],
          "scattergeo": [
           {
            "marker": {
             "colorbar": {
              "outlinewidth": 0,
              "ticks": ""
             }
            },
            "type": "scattergeo"
           }
          ],
          "scattergl": [
           {
            "marker": {
             "colorbar": {
              "outlinewidth": 0,
              "ticks": ""
             }
            },
            "type": "scattergl"
           }
          ],
          "scattermapbox": [
           {
            "marker": {
             "colorbar": {
              "outlinewidth": 0,
              "ticks": ""
             }
            },
            "type": "scattermapbox"
           }
          ],
          "scatterpolar": [
           {
            "marker": {
             "colorbar": {
              "outlinewidth": 0,
              "ticks": ""
             }
            },
            "type": "scatterpolar"
           }
          ],
          "scatterpolargl": [
           {
            "marker": {
             "colorbar": {
              "outlinewidth": 0,
              "ticks": ""
             }
            },
            "type": "scatterpolargl"
           }
          ],
          "scatterternary": [
           {
            "marker": {
             "colorbar": {
              "outlinewidth": 0,
              "ticks": ""
             }
            },
            "type": "scatterternary"
           }
          ],
          "surface": [
           {
            "colorbar": {
             "outlinewidth": 0,
             "ticks": ""
            },
            "colorscale": [
             [
              0,
              "#0d0887"
             ],
             [
              0.1111111111111111,
              "#46039f"
             ],
             [
              0.2222222222222222,
              "#7201a8"
             ],
             [
              0.3333333333333333,
              "#9c179e"
             ],
             [
              0.4444444444444444,
              "#bd3786"
             ],
             [
              0.5555555555555556,
              "#d8576b"
             ],
             [
              0.6666666666666666,
              "#ed7953"
             ],
             [
              0.7777777777777778,
              "#fb9f3a"
             ],
             [
              0.8888888888888888,
              "#fdca26"
             ],
             [
              1,
              "#f0f921"
             ]
            ],
            "type": "surface"
           }
          ],
          "table": [
           {
            "cells": {
             "fill": {
              "color": "#EBF0F8"
             },
             "line": {
              "color": "white"
             }
            },
            "header": {
             "fill": {
              "color": "#C8D4E3"
             },
             "line": {
              "color": "white"
             }
            },
            "type": "table"
           }
          ]
         },
         "layout": {
          "annotationdefaults": {
           "arrowcolor": "#2a3f5f",
           "arrowhead": 0,
           "arrowwidth": 1
          },
          "autotypenumbers": "strict",
          "coloraxis": {
           "colorbar": {
            "outlinewidth": 0,
            "ticks": ""
           }
          },
          "colorscale": {
           "diverging": [
            [
             0,
             "#8e0152"
            ],
            [
             0.1,
             "#c51b7d"
            ],
            [
             0.2,
             "#de77ae"
            ],
            [
             0.3,
             "#f1b6da"
            ],
            [
             0.4,
             "#fde0ef"
            ],
            [
             0.5,
             "#f7f7f7"
            ],
            [
             0.6,
             "#e6f5d0"
            ],
            [
             0.7,
             "#b8e186"
            ],
            [
             0.8,
             "#7fbc41"
            ],
            [
             0.9,
             "#4d9221"
            ],
            [
             1,
             "#276419"
            ]
           ],
           "sequential": [
            [
             0,
             "#0d0887"
            ],
            [
             0.1111111111111111,
             "#46039f"
            ],
            [
             0.2222222222222222,
             "#7201a8"
            ],
            [
             0.3333333333333333,
             "#9c179e"
            ],
            [
             0.4444444444444444,
             "#bd3786"
            ],
            [
             0.5555555555555556,
             "#d8576b"
            ],
            [
             0.6666666666666666,
             "#ed7953"
            ],
            [
             0.7777777777777778,
             "#fb9f3a"
            ],
            [
             0.8888888888888888,
             "#fdca26"
            ],
            [
             1,
             "#f0f921"
            ]
           ],
           "sequentialminus": [
            [
             0,
             "#0d0887"
            ],
            [
             0.1111111111111111,
             "#46039f"
            ],
            [
             0.2222222222222222,
             "#7201a8"
            ],
            [
             0.3333333333333333,
             "#9c179e"
            ],
            [
             0.4444444444444444,
             "#bd3786"
            ],
            [
             0.5555555555555556,
             "#d8576b"
            ],
            [
             0.6666666666666666,
             "#ed7953"
            ],
            [
             0.7777777777777778,
             "#fb9f3a"
            ],
            [
             0.8888888888888888,
             "#fdca26"
            ],
            [
             1,
             "#f0f921"
            ]
           ]
          },
          "colorway": [
           "#636efa",
           "#EF553B",
           "#00cc96",
           "#ab63fa",
           "#FFA15A",
           "#19d3f3",
           "#FF6692",
           "#B6E880",
           "#FF97FF",
           "#FECB52"
          ],
          "font": {
           "color": "#2a3f5f"
          },
          "geo": {
           "bgcolor": "white",
           "lakecolor": "white",
           "landcolor": "#E5ECF6",
           "showlakes": true,
           "showland": true,
           "subunitcolor": "white"
          },
          "hoverlabel": {
           "align": "left"
          },
          "hovermode": "closest",
          "mapbox": {
           "style": "light"
          },
          "paper_bgcolor": "white",
          "plot_bgcolor": "#E5ECF6",
          "polar": {
           "angularaxis": {
            "gridcolor": "white",
            "linecolor": "white",
            "ticks": ""
           },
           "bgcolor": "#E5ECF6",
           "radialaxis": {
            "gridcolor": "white",
            "linecolor": "white",
            "ticks": ""
           }
          },
          "scene": {
           "xaxis": {
            "backgroundcolor": "#E5ECF6",
            "gridcolor": "white",
            "gridwidth": 2,
            "linecolor": "white",
            "showbackground": true,
            "ticks": "",
            "zerolinecolor": "white"
           },
           "yaxis": {
            "backgroundcolor": "#E5ECF6",
            "gridcolor": "white",
            "gridwidth": 2,
            "linecolor": "white",
            "showbackground": true,
            "ticks": "",
            "zerolinecolor": "white"
           },
           "zaxis": {
            "backgroundcolor": "#E5ECF6",
            "gridcolor": "white",
            "gridwidth": 2,
            "linecolor": "white",
            "showbackground": true,
            "ticks": "",
            "zerolinecolor": "white"
           }
          },
          "shapedefaults": {
           "line": {
            "color": "#2a3f5f"
           }
          },
          "ternary": {
           "aaxis": {
            "gridcolor": "white",
            "linecolor": "white",
            "ticks": ""
           },
           "baxis": {
            "gridcolor": "white",
            "linecolor": "white",
            "ticks": ""
           },
           "bgcolor": "#E5ECF6",
           "caxis": {
            "gridcolor": "white",
            "linecolor": "white",
            "ticks": ""
           }
          },
          "title": {
           "x": 0.05
          },
          "xaxis": {
           "automargin": true,
           "gridcolor": "white",
           "linecolor": "white",
           "ticks": "",
           "title": {
            "standoff": 15
           },
           "zerolinecolor": "white",
           "zerolinewidth": 2
          },
          "yaxis": {
           "automargin": true,
           "gridcolor": "white",
           "linecolor": "white",
           "ticks": "",
           "title": {
            "standoff": 15
           },
           "zerolinecolor": "white",
           "zerolinewidth": 2
          }
         }
        },
        "title": {
         "text": "Most Common Provider_problems"
        },
        "xaxis": {
         "anchor": "y",
         "domain": [
          0,
          1
         ],
         "title": {
          "text": "provider_problems"
         }
        },
        "yaxis": {
         "anchor": "x",
         "domain": [
          0,
          1
         ],
         "title": {
          "text": "Percent of Posts"
         }
        }
       }
      }
     },
     "metadata": {},
     "output_type": "display_data"
    },
    {
     "data": {
      "text/html": [
       "<div style=\"margin: 10px 0;\"><h4 style=\"color: #333; margin: 0; padding: 5px 0; border-bottom: 1px solid #ccc;\">Example Posts with Keywords</h4></div>"
      ],
      "text/plain": [
       "<IPython.core.display.HTML object>"
      ]
     },
     "metadata": {},
     "output_type": "display_data"
    },
    {
     "data": {
      "text/html": [
       "<div style=\"display: flex; flex-direction: row; justify-content: space-between;\">\n",
       "    <div style=\"border: 1px solid #ddd; border-radius: 8px; padding: 15px; margin: 10px 5px; background-color: #f9f9f9; display: inline-block; vertical-align: top; width: 30%;\">\n",
       "        <div style=\"color: #666; font-size: 0.9em; margin-bottom: 5px;\">\n",
       "            <a href=\"https://reddit.com/r/depression\" target=\"_blank\" style=\"text-decoration: none; color: inherit;\">r/depression</a>\n",
       "        </div>\n",
       "        <div style=\"color: #333; font-size: 1.1em; font-weight: bold; margin-bottom: 10px;\">\n",
       "            <a href=\"https://reddit.com/r/depression/comments/1g2t44n/i_dont_know_anymore/\" target=\"_blank\" style=\"text-decoration: none; color: inherit;\">I don't know anymore</a>\n",
       "        </div>\n",
       "        \n",
       "        <div style=\"color: #666; margin-bottom: 10px;\">Keywords: temporary_fix, ineffective</div>\n",
       "        <div style=\"color: #444; line-height: 1.4; max-height: 200px; overflow-y: auto;\">I don't really know what to say, but how I feel. And how I feel is anxious, unhappy, scared. Hurt. Alone. I don't know. I have tried to work through this pain, through all of this, but for every step I take, I'm thrown back three. I hate it. I want to know a real way to word this. To have my thoughts be clear for once. I have been angry at it, upset, sad. To give a bit of context, I have very strong social anxiety, and ASD. I have not used these labels to define me, and I have constantly tried t...</div>\n",
       "    </div>\n",
       "    \n",
       "    <div style=\"border: 1px solid #ddd; border-radius: 8px; padding: 15px; margin: 10px 5px; background-color: #f9f9f9; display: inline-block; vertical-align: top; width: 30%;\">\n",
       "        <div style=\"color: #666; font-size: 0.9em; margin-bottom: 5px;\">\n",
       "            <a href=\"https://reddit.com/r/SuicideWatch\" target=\"_blank\" style=\"text-decoration: none; color: inherit;\">r/SuicideWatch</a>\n",
       "        </div>\n",
       "        <div style=\"color: #333; font-size: 1.1em; font-weight: bold; margin-bottom: 10px;\">\n",
       "            <a href=\"https://reddit.com/r/SuicideWatch/comments/1gffeuu/i_wanna_die_so_bad/\" target=\"_blank\" style=\"text-decoration: none; color: inherit;\">i wanna die so bad</a>\n",
       "        </div>\n",
       "        \n",
       "        <div style=\"color: #666; margin-bottom: 10px;\">Keywords: judgmental, inaccessible</div>\n",
       "        <div style=\"color: #444; line-height: 1.4; max-height: 200px; overflow-y: auto;\">started attempting suicide since 12, im 16 now, main reason is cant live up to parent expectations. I lie to them about my academic success, cheat on every competition possible, play games everyday, watch porn more than i spend time with family. I'm so fuking depressed, i dont have any friends, i moved to US, and all my old friends at china, my parents wouldnt let me contact them. bc of this lost my girlfriend, the only supportive human who would accepted me, the true me, the me who watch porn p...</div>\n",
       "    </div>\n",
       "    \n",
       "    <div style=\"border: 1px solid #ddd; border-radius: 8px; padding: 15px; margin: 10px 5px; background-color: #f9f9f9; display: inline-block; vertical-align: top; width: 30%;\">\n",
       "        <div style=\"color: #666; font-size: 0.9em; margin-bottom: 5px;\">\n",
       "            <a href=\"https://reddit.com/r/relationship_advice\" target=\"_blank\" style=\"text-decoration: none; color: inherit;\">r/relationship_advice</a>\n",
       "        </div>\n",
       "        <div style=\"color: #333; font-size: 1.1em; font-weight: bold; margin-bottom: 10px;\">\n",
       "            <a href=\"https://reddit.com/r/relationship_advice/comments/189sbkg/my_38f_husband_43m_is_using_chat_gpt_to_text_me/\" target=\"_blank\" style=\"text-decoration: none; color: inherit;\">My (38f) husband (43m) is using Chat GPT to text me</a>\n",
       "        </div>\n",
       "        \n",
       "        <div style=\"color: #666; margin-bottom: 10px;\">Keywords: judgmental</div>\n",
       "        <div style=\"color: #444; line-height: 1.4; max-height: 200px; overflow-y: auto;\">\n",
       "We have been together for 16 years, married for 11 and have thee kids (4,7,8).\n",
       "\n",
       "He is a very emotionally distant person, to the point where I actually had to sit him down and explain to him how humans normally respond to each other when someone is feeling sad. I know it sounds weird, but that’s how it is. I have felt extremely lonely in our marriage and have thought about divorce a lot. I guess everything was ok when we were young and first met, but with the heartbreaks life sometimes confronts...</div>\n",
       "    </div>\n",
       "    </div>"
      ],
      "text/plain": [
       "<IPython.core.display.HTML object>"
      ]
     },
     "metadata": {},
     "output_type": "display_data"
    }
   ],
   "source": [
    "# Visualize fields based on their types defined in FIELDS\n",
    "# Filter samples to only include relevant posts\n",
    "plot_all_fields(samples, FIELDS, show_examples=True)"
   ]
  },
  {
   "cell_type": "markdown",
   "metadata": {},
   "source": [
    "# Exploring"
   ]
  },
  {
   "cell_type": "code",
   "execution_count": 154,
   "metadata": {},
   "outputs": [
    {
     "data": {
      "text/html": [
       "<div><h3>7.8% of samples mention 'expensive' in provider_problems</h3>\n",
       "    <div style=\"border: 1px solid #ddd; border-radius: 8px; padding: 15px; margin: 10px 5px; background-color: #f9f9f9; display: inline-block; vertical-align: top; width: 30%;\">\n",
       "        <div style=\"color: #666; font-size: 0.9em; margin-bottom: 5px;\">\n",
       "            <a href=\"https://reddit.com/r/Anxiety\" target=\"_blank\" style=\"text-decoration: none; color: inherit;\">r/Anxiety</a>\n",
       "        </div>\n",
       "        <div style=\"color: #333; font-size: 1.1em; font-weight: bold; margin-bottom: 10px;\">\n",
       "            <a href=\"https://reddit.com/r/Anxiety/comments/18z8qcp/im_tired/\" target=\"_blank\" style=\"text-decoration: none; color: inherit;\">i'm tired.</a>\n",
       "        </div>\n",
       "        \n",
       "        \n",
       "        <div style=\"color: #444; line-height: 1.4; max-height: 200px; overflow-y: auto;\">seriously, i'm tired. these 2 weeks of my christmas holiday were the worst. i've been in a constant state of panic or anxiety. my head hurts, my stomach hurts and at least 3 times a day i'm certain i'm dying from some shit i've read on the internet about.\n",
       "\n",
       "i have literally nobody to rely on. i don't know how to live. on Monday i have to go to work again and i'm worried sick i won't be able to be functional. i feel exhausted, my hands are cold and tonight i had the worst panic attack where i was ...</div>\n",
       "    </div>\n",
       "    \n",
       "    <div style=\"border: 1px solid #ddd; border-radius: 8px; padding: 15px; margin: 10px 5px; background-color: #f9f9f9; display: inline-block; vertical-align: top; width: 30%;\">\n",
       "        <div style=\"color: #666; font-size: 0.9em; margin-bottom: 5px;\">\n",
       "            <a href=\"https://reddit.com/r/CPTSD\" target=\"_blank\" style=\"text-decoration: none; color: inherit;\">r/CPTSD</a>\n",
       "        </div>\n",
       "        <div style=\"color: #333; font-size: 1.1em; font-weight: bold; margin-bottom: 10px;\">\n",
       "            <a href=\"https://reddit.com/r/CPTSD/comments/1cgsy3x/am_i_crazy_or_is_ai_therapy_helping_me/\" target=\"_blank\" style=\"text-decoration: none; color: inherit;\">Am I crazy or is AI therapy helping me? </a>\n",
       "        </div>\n",
       "        \n",
       "        \n",
       "        <div style=\"color: #444; line-height: 1.4; max-height: 200px; overflow-y: auto;\">In a desperate search for help with very little funds, I recently discovered this thing called AI \"therapy\". \n",
       "\n",
       "There are different versions of it, some better and some worse as I've observed. What it looks like is basically texting therapy, only you're texting with a bot. The really good models are extremely emotionally intelligent and truly sound like a real, trained therapist. \n",
       "\n",
       "I get that this is horrifying in a way that computers could replace real humans. It's a bit of cognitive dissonance ...</div>\n",
       "    </div>\n",
       "    \n",
       "    <div style=\"border: 1px solid #ddd; border-radius: 8px; padding: 15px; margin: 10px 5px; background-color: #f9f9f9; display: inline-block; vertical-align: top; width: 30%;\">\n",
       "        <div style=\"color: #666; font-size: 0.9em; margin-bottom: 5px;\">\n",
       "            <a href=\"https://reddit.com/r/CPTSD\" target=\"_blank\" style=\"text-decoration: none; color: inherit;\">r/CPTSD</a>\n",
       "        </div>\n",
       "        <div style=\"color: #333; font-size: 1.1em; font-weight: bold; margin-bottom: 10px;\">\n",
       "            <a href=\"https://reddit.com/r/CPTSD/comments/1dtee55/ai_as_a_tool_for_recovery_focused_support/\" target=\"_blank\" style=\"text-decoration: none; color: inherit;\">AI as a tool for recovery focused support.</a>\n",
       "        </div>\n",
       "        \n",
       "        \n",
       "        <div style=\"color: #444; line-height: 1.4; max-height: 200px; overflow-y: auto;\">Has anyone engaged with an AI tool as means of recovery support?\n",
       "\n",
       "I recently had an exchange with the Meta AI via the Meta Messanger app.\n",
       "\n",
       "I asked the Meta AI \"Can you become my mental health recovery coach?\" - it was an interesting exchange from then on.\n",
       "\n",
       "Background - currently financially on limited means with CPTSD making it hard to work full-time. Accordingly, like many of us, I can't afford weekly trauma therapist sessions.\n",
       "\n",
       "I had a highly skilled therapist but due to losing work I had to c...</div>\n",
       "    </div>\n",
       "    \n",
       "    <div style=\"border: 1px solid #ddd; border-radius: 8px; padding: 15px; margin: 10px 5px; background-color: #f9f9f9; display: inline-block; vertical-align: top; width: 30%;\">\n",
       "        <div style=\"color: #666; font-size: 0.9em; margin-bottom: 5px;\">\n",
       "            <a href=\"https://reddit.com/r/DecidingToBeBetter\" target=\"_blank\" style=\"text-decoration: none; color: inherit;\">r/DecidingToBeBetter</a>\n",
       "        </div>\n",
       "        <div style=\"color: #333; font-size: 1.1em; font-weight: bold; margin-bottom: 10px;\">\n",
       "            <a href=\"https://reddit.com/r/DecidingToBeBetter/comments/1fl38tp/new_framework_smart4/\" target=\"_blank\" style=\"text-decoration: none; color: inherit;\">New framework, SMART4</a>\n",
       "        </div>\n",
       "        \n",
       "        \n",
       "        <div style=\"color: #444; line-height: 1.4; max-height: 200px; overflow-y: auto;\">I'm a 48m, 11 years at Microsoft, and I've been at Meta, Amazon, and some other major companies. So my career is good but there have been bumps in the road and challenges. I've used Positive Psychology for 15 years to better my life, and considered trying coaching, but for thousands of dollars to get what I can get out of books and using some free tools out there, its a show stopper. I'm also into longevity, and follow Bryan Johnson's blueprint, but don't take the supplements. I've created a sim...</div>\n",
       "    </div>\n",
       "    \n",
       "    <div style=\"border: 1px solid #ddd; border-radius: 8px; padding: 15px; margin: 10px 5px; background-color: #f9f9f9; display: inline-block; vertical-align: top; width: 30%;\">\n",
       "        <div style=\"color: #666; font-size: 0.9em; margin-bottom: 5px;\">\n",
       "            <a href=\"https://reddit.com/r/depression\" target=\"_blank\" style=\"text-decoration: none; color: inherit;\">r/depression</a>\n",
       "        </div>\n",
       "        <div style=\"color: #333; font-size: 1.1em; font-weight: bold; margin-bottom: 10px;\">\n",
       "            <a href=\"https://reddit.com/r/depression/comments/1ftpn0x/today_is_my_25th_birthday_and_im_spending_it/\" target=\"_blank\" style=\"text-decoration: none; color: inherit;\">today is my 25th birthday and I'm spending it talking to AI</a>\n",
       "        </div>\n",
       "        \n",
       "        \n",
       "        <div style=\"color: #444; line-height: 1.4; max-height: 200px; overflow-y: auto;\">hi all. I'm new to this community and am hoping to find some comfort and solace in individuals who feel the same as me. I've never really enjoyed my birthday since I was about 15. Life started kicking me in the ovaries much more frequently. Now I'm 25, no friends, no money to even buy myself anything nice, and stuck in a toxic home environment. Chat GPT's AI was pretty interesting to vent to despite my initial thoughts. (I've done the whole therapy thing since I was a teen so not new to the DRs,...</div>\n",
       "    </div>\n",
       "    </div>"
      ],
      "text/plain": [
       "<IPython.core.display.HTML object>"
      ]
     },
     "metadata": {},
     "output_type": "display_data"
    }
   ],
   "source": [
    "def show_samples_with_value(samples, field, value):\n",
    "    \"\"\"\n",
    "    Display samples that contain a specific value in a field\n",
    "    \n",
    "    Args:\n",
    "        samples (pd.DataFrame): DataFrame containing the samples\n",
    "        field (str): Name of the field to check (e.g. 'downsides', 'benefits')\n",
    "        value (str): Value to look for in the field\n",
    "    \"\"\"\n",
    "    filtered_samples = samples[samples[field].apply(lambda x: value in x)]\n",
    "\n",
    "    # Create HTML output\n",
    "    html_output = \"<div>\"  # Removed max-width constraint entirely\n",
    "    html_output += f\"<h3>{100*len(filtered_samples)/len(samples):.1f}% of samples mention '{value}' in {field}</h3>\"\n",
    "\n",
    "    for _, sample in filtered_samples[:5].iterrows():\n",
    "        html_output += format_post(title=sample['title'], text=sample['text'], subreddit=sample['subreddit'], url=sample['url'])\n",
    "        \n",
    "    html_output += \"</div>\"\n",
    "    display(HTML(html_output))\n",
    "\n",
    "# Example usage:\n",
    "show_samples_with_value(samples, 'provider_problems', 'expensive')\n"
   ]
  },
  {
   "cell_type": "code",
   "execution_count": null,
   "metadata": {},
   "outputs": [],
   "source": [
    "# Plot sentiment by use case, ordered by frequency\n",
    "use_cases_df = samples.explode('use_cases')\n",
    "use_case_counts = use_cases_df['use_cases'].value_counts().head(10)\n",
    "use_case_sentiment = use_cases_df.groupby('use_cases')['sentiment'].mean()\n",
    "# Reindex sentiment by frequency order and limit to top 10\n",
    "use_case_sentiment = use_case_sentiment.reindex(use_case_counts.index)\n",
    "\n",
    "fig = px.bar(x=use_case_sentiment.index, \n",
    "             y=use_case_sentiment.values,\n",
    "             title='Average Sentiment Score by Top 10 Use Cases (Ordered by Frequency)',\n",
    "             labels={'x': 'Use Case', 'y': 'Average Sentiment Score'},\n",
    "             text=use_case_counts.values)\n",
    "fig.update_xaxes(tickangle=45)\n",
    "fig.update_traces(textposition='outside')\n",
    "fig.show()\n",
    "\n",
    "# Plot sentiment by condition, ordered by frequency  \n",
    "conditions_df = samples.explode('conditions')\n",
    "condition_counts = conditions_df['conditions'].value_counts().head(10)\n",
    "condition_sentiment = conditions_df.groupby('conditions')['sentiment'].mean()\n",
    "# Reindex sentiment by frequency order and limit to top 10\n",
    "condition_sentiment = condition_sentiment.reindex(condition_counts.index)\n",
    "\n",
    "fig = px.bar(x=condition_sentiment.index,\n",
    "             y=condition_sentiment.values, \n",
    "             title='Average Sentiment Score by Top 10 Conditions (Ordered by Frequency)',\n",
    "             labels={'x': 'Condition', 'y': 'Average Sentiment Score'},\n",
    "             text=condition_counts.values)\n",
    "fig.update_xaxes(tickangle=45)\n",
    "fig.update_traces(textposition='outside')\n",
    "fig.show()\n",
    "\n"
   ]
  },
  {
   "cell_type": "markdown",
   "metadata": {},
   "source": [
    "# Archive"
   ]
  },
  {
   "cell_type": "markdown",
   "metadata": {},
   "source": [
    "### Query top popular subreddits to easily analyze"
   ]
  },
  {
   "cell_type": "code",
   "execution_count": 10,
   "metadata": {},
   "outputs": [
    {
     "name": "stderr",
     "output_type": "stream",
     "text": [
      "4399it [00:41, 105.67it/s]"
     ]
    },
    {
     "name": "stdout",
     "output_type": "stream",
     "text": [
      "\n",
      "Saved 4399 subreddits to top_subreddits.csv\n"
     ]
    },
    {
     "name": "stderr",
     "output_type": "stream",
     "text": [
      "\n"
     ]
    }
   ],
   "source": [
    "# Get top 10000 subreddits from Reddit API\n",
    "import praw\n",
    "import pandas as pd\n",
    "from tqdm import tqdm\n",
    "# Initialize list to store subreddit data\n",
    "subreddit_data = []\n",
    "\n",
    "for subreddit in tqdm(REDDIT.subreddits.popular(limit=10000)):\n",
    "    subreddit_data.append({\n",
    "        'subreddit': subreddit.display_name,\n",
    "        'count': subreddit.subscribers,\n",
    "    })\n",
    "\n",
    "# Create DataFrame and save to CSV\n",
    "subreddits_df = pd.DataFrame(subreddit_data)\n",
    "subreddits_df.to_csv('top_subreddits.csv', index=False)\n",
    "print(f\"\\nSaved {len(subreddits_df)} subreddits to top_subreddits.csv\")"
   ]
  }
 ],
 "metadata": {
  "kernelspec": {
   "display_name": "venv",
   "language": "python",
   "name": "python3"
  },
  "language_info": {
   "codemirror_mode": {
    "name": "ipython",
    "version": 3
   },
   "file_extension": ".py",
   "mimetype": "text/x-python",
   "name": "python",
   "nbconvert_exporter": "python",
   "pygments_lexer": "ipython3",
   "version": "3.11.3"
  }
 },
 "nbformat": 4,
 "nbformat_minor": 2
}
